{
 "cells": [
  {
   "attachments": {},
   "cell_type": "markdown",
   "metadata": {},
   "source": [
    "## Prototype 3\n",
    "\n",
    "Note: this final prototype consists of only the most effective model (RFC), and featureset (Combination). To see the results of comparative testing between models and featuresets, please see Prototype 2\n",
    "\n",
    "### 1. Preliminary Data Preperation\n",
    "\n",
    "##### 1.1 Data Import and Cleaning\n",
    "\n",
    "The data cleaning and data reshape portions will be the same as prototype 2\n",
    "\n",
    "First, install the neccesary libraries and import modules"
   ]
  },
  {
   "cell_type": "code",
   "execution_count": null,
   "metadata": {},
   "outputs": [],
   "source": [
    "# !pip install pandas\n",
    "# !pip install numpy\n",
    "# !pip install textblob\n",
    "# !pip install nltk"
   ]
  },
  {
   "cell_type": "code",
   "execution_count": 1,
   "metadata": {},
   "outputs": [],
   "source": [
    "import pandas as pd\n",
    "import json"
   ]
  },
  {
   "attachments": {},
   "cell_type": "markdown",
   "metadata": {},
   "source": [
    "Read the input jsonl file to an intermediate dataframe. \n",
    "\n",
    "This time, we will read the entire HC3 dataset"
   ]
  },
  {
   "cell_type": "code",
   "execution_count": 2,
   "metadata": {},
   "outputs": [],
   "source": [
    "# convert jsonl to dataframe\n",
    "with open('all.jsonl', encoding='utf8') as f:\n",
    "    # read lines from jsonl into an intermediate df\n",
    "    lines = f.read().splitlines()\n",
    "    df_inter = pd.DataFrame(lines)\n",
    "    df_inter.columns = ['json_element']"
   ]
  },
  {
   "cell_type": "code",
   "execution_count": 3,
   "metadata": {},
   "outputs": [
    {
     "data": {
      "text/html": [
       "<div>\n",
       "<style scoped>\n",
       "    .dataframe tbody tr th:only-of-type {\n",
       "        vertical-align: middle;\n",
       "    }\n",
       "\n",
       "    .dataframe tbody tr th {\n",
       "        vertical-align: top;\n",
       "    }\n",
       "\n",
       "    .dataframe thead th {\n",
       "        text-align: right;\n",
       "    }\n",
       "</style>\n",
       "<table border=\"1\" class=\"dataframe\">\n",
       "  <thead>\n",
       "    <tr style=\"text-align: right;\">\n",
       "      <th></th>\n",
       "      <th>json_element</th>\n",
       "    </tr>\n",
       "  </thead>\n",
       "  <tbody>\n",
       "    <tr>\n",
       "      <th>18385</th>\n",
       "      <td>{\"question\":\"Please explain what is \\\"Multimod...</td>\n",
       "    </tr>\n",
       "    <tr>\n",
       "      <th>11325</th>\n",
       "      <td>{\"question\":\"How can you explain that intellig...</td>\n",
       "    </tr>\n",
       "    <tr>\n",
       "      <th>7848</th>\n",
       "      <td>{\"question\":\"Why do we forget our dreams ? I '...</td>\n",
       "    </tr>\n",
       "  </tbody>\n",
       "</table>\n",
       "</div>"
      ],
      "text/plain": [
       "                                            json_element\n",
       "18385  {\"question\":\"Please explain what is \\\"Multimod...\n",
       "11325  {\"question\":\"How can you explain that intellig...\n",
       "7848   {\"question\":\"Why do we forget our dreams ? I '..."
      ]
     },
     "execution_count": 3,
     "metadata": {},
     "output_type": "execute_result"
    }
   ],
   "source": [
    "df_inter.sample(3)"
   ]
  },
  {
   "attachments": {},
   "cell_type": "markdown",
   "metadata": {},
   "source": [
    "Next, split the dataframe into its respective columns"
   ]
  },
  {
   "cell_type": "code",
   "execution_count": 4,
   "metadata": {},
   "outputs": [],
   "source": [
    "#normalise the intermediate dataframe to seperate the data into columns\n",
    "df = pd.json_normalize(df_inter['json_element'].apply(json.loads))"
   ]
  },
  {
   "cell_type": "code",
   "execution_count": 5,
   "metadata": {},
   "outputs": [
    {
     "data": {
      "text/html": [
       "<div>\n",
       "<style scoped>\n",
       "    .dataframe tbody tr th:only-of-type {\n",
       "        vertical-align: middle;\n",
       "    }\n",
       "\n",
       "    .dataframe tbody tr th {\n",
       "        vertical-align: top;\n",
       "    }\n",
       "\n",
       "    .dataframe thead th {\n",
       "        text-align: right;\n",
       "    }\n",
       "</style>\n",
       "<table border=\"1\" class=\"dataframe\">\n",
       "  <thead>\n",
       "    <tr style=\"text-align: right;\">\n",
       "      <th></th>\n",
       "      <th>question</th>\n",
       "      <th>human_answers</th>\n",
       "      <th>chatgpt_answers</th>\n",
       "      <th>index</th>\n",
       "      <th>source</th>\n",
       "    </tr>\n",
       "  </thead>\n",
       "  <tbody>\n",
       "    <tr>\n",
       "      <th>9916</th>\n",
       "      <td>Richard Sherman I keep hearing about this guy ...</td>\n",
       "      <td>[He saved the NFC championship after being goo...</td>\n",
       "      <td>[Richard Sherman is a professional American fo...</td>\n",
       "      <td>NaN</td>\n",
       "      <td>reddit_eli5</td>\n",
       "    </tr>\n",
       "    <tr>\n",
       "      <th>21695</th>\n",
       "      <td>What to consider before buying (exercising) a ...</td>\n",
       "      <td>[The company may not permit a transfer of thes...</td>\n",
       "      <td>[There are several things to consider before b...</td>\n",
       "      <td>NaN</td>\n",
       "      <td>finance</td>\n",
       "    </tr>\n",
       "    <tr>\n",
       "      <th>14995</th>\n",
       "      <td>What causes wind ? I checked out the Wikipedia...</td>\n",
       "      <td>[Basically heat rises . When air gets hot it e...</td>\n",
       "      <td>[Wind is caused by the movement of air. When t...</td>\n",
       "      <td>NaN</td>\n",
       "      <td>reddit_eli5</td>\n",
       "    </tr>\n",
       "  </tbody>\n",
       "</table>\n",
       "</div>"
      ],
      "text/plain": [
       "                                                question  \\\n",
       "9916   Richard Sherman I keep hearing about this guy ...   \n",
       "21695  What to consider before buying (exercising) a ...   \n",
       "14995  What causes wind ? I checked out the Wikipedia...   \n",
       "\n",
       "                                           human_answers  \\\n",
       "9916   [He saved the NFC championship after being goo...   \n",
       "21695  [The company may not permit a transfer of thes...   \n",
       "14995  [Basically heat rises . When air gets hot it e...   \n",
       "\n",
       "                                         chatgpt_answers  index       source  \n",
       "9916   [Richard Sherman is a professional American fo...    NaN  reddit_eli5  \n",
       "21695  [There are several things to consider before b...    NaN      finance  \n",
       "14995  [Wind is caused by the movement of air. When t...    NaN  reddit_eli5  "
      ]
     },
     "execution_count": 5,
     "metadata": {},
     "output_type": "execute_result"
    }
   ],
   "source": [
    "df.sample(3)"
   ]
  },
  {
   "attachments": {},
   "cell_type": "markdown",
   "metadata": {},
   "source": [
    "Due to formatting issues (this category has a large amount of wikipedia formatting tags that vary greatly in format), we will also drop any rows that belong to the Computer Science Wikipedia Articles category (842 rows)."
   ]
  },
  {
   "cell_type": "code",
   "execution_count": 6,
   "metadata": {},
   "outputs": [
    {
     "data": {
      "text/plain": [
       "24322"
      ]
     },
     "execution_count": 6,
     "metadata": {},
     "output_type": "execute_result"
    }
   ],
   "source": [
    "prev_len = len(df) #find the current length of the dataframe before removal\n",
    "prev_len"
   ]
  },
  {
   "cell_type": "code",
   "execution_count": 7,
   "metadata": {},
   "outputs": [],
   "source": [
    "df = df[df.source != 'wiki_csai'] #remove the wiki_csai rows\n",
    "df.reset_index(inplace=True, drop=True) #also reset the indexes of the dataframe"
   ]
  },
  {
   "cell_type": "code",
   "execution_count": 8,
   "metadata": {},
   "outputs": [
    {
     "data": {
      "text/plain": [
       "842"
      ]
     },
     "execution_count": 8,
     "metadata": {},
     "output_type": "execute_result"
    }
   ],
   "source": [
    "cur_len = len(df) \n",
    "prev_len - cur_len #check to make sure the correct number of rows was removed"
   ]
  },
  {
   "cell_type": "code",
   "execution_count": 9,
   "metadata": {},
   "outputs": [
    {
     "data": {
      "text/html": [
       "<div>\n",
       "<style scoped>\n",
       "    .dataframe tbody tr th:only-of-type {\n",
       "        vertical-align: middle;\n",
       "    }\n",
       "\n",
       "    .dataframe tbody tr th {\n",
       "        vertical-align: top;\n",
       "    }\n",
       "\n",
       "    .dataframe thead th {\n",
       "        text-align: right;\n",
       "    }\n",
       "</style>\n",
       "<table border=\"1\" class=\"dataframe\">\n",
       "  <thead>\n",
       "    <tr style=\"text-align: right;\">\n",
       "      <th></th>\n",
       "      <th>question</th>\n",
       "      <th>human_answers</th>\n",
       "      <th>chatgpt_answers</th>\n",
       "      <th>index</th>\n",
       "      <th>source</th>\n",
       "    </tr>\n",
       "  </thead>\n",
       "  <tbody>\n",
       "    <tr>\n",
       "      <th>1781</th>\n",
       "      <td>Why does cars need petrol / gas in order to fu...</td>\n",
       "      <td>[They can . Gas is one of the most efficient a...</td>\n",
       "      <td>[Cars need gasoline (also called petrol) to fu...</td>\n",
       "      <td>174.0</td>\n",
       "      <td>reddit_eli5</td>\n",
       "    </tr>\n",
       "    <tr>\n",
       "      <th>12741</th>\n",
       "      <td>Why when I press on my skin it leaves a white ...</td>\n",
       "      <td>[You have tiny blood vessels near the surface ...</td>\n",
       "      <td>[Pressing on your skin can cause a temporary c...</td>\n",
       "      <td>NaN</td>\n",
       "      <td>reddit_eli5</td>\n",
       "    </tr>\n",
       "    <tr>\n",
       "      <th>10666</th>\n",
       "      <td>When I open a PC application with notepad , wh...</td>\n",
       "      <td>[Because Notepad is used to reading the 0 's a...</td>\n",
       "      <td>[When you open a PC application with a text ed...</td>\n",
       "      <td>NaN</td>\n",
       "      <td>reddit_eli5</td>\n",
       "    </tr>\n",
       "  </tbody>\n",
       "</table>\n",
       "</div>"
      ],
      "text/plain": [
       "                                                question  \\\n",
       "1781   Why does cars need petrol / gas in order to fu...   \n",
       "12741  Why when I press on my skin it leaves a white ...   \n",
       "10666  When I open a PC application with notepad , wh...   \n",
       "\n",
       "                                           human_answers  \\\n",
       "1781   [They can . Gas is one of the most efficient a...   \n",
       "12741  [You have tiny blood vessels near the surface ...   \n",
       "10666  [Because Notepad is used to reading the 0 's a...   \n",
       "\n",
       "                                         chatgpt_answers  index       source  \n",
       "1781   [Cars need gasoline (also called petrol) to fu...  174.0  reddit_eli5  \n",
       "12741  [Pressing on your skin can cause a temporary c...    NaN  reddit_eli5  \n",
       "10666  [When you open a PC application with a text ed...    NaN  reddit_eli5  "
      ]
     },
     "execution_count": 9,
     "metadata": {},
     "output_type": "execute_result"
    }
   ],
   "source": [
    "df.sample(3)"
   ]
  },
  {
   "attachments": {},
   "cell_type": "markdown",
   "metadata": {},
   "source": [
    "Now that we have removed the wiki_csai category, we can also drop the 'index' and 'source' columns, as they will not be used."
   ]
  },
  {
   "cell_type": "code",
   "execution_count": 10,
   "metadata": {},
   "outputs": [],
   "source": [
    "df.drop(['index', 'source'], axis=1, inplace=True) # drop index and source columns"
   ]
  },
  {
   "attachments": {},
   "cell_type": "markdown",
   "metadata": {},
   "source": [
    "Next, we can inspect the data for missing values."
   ]
  },
  {
   "cell_type": "code",
   "execution_count": 11,
   "metadata": {},
   "outputs": [
    {
     "data": {
      "text/plain": [
       "question           0\n",
       "human_answers      0\n",
       "chatgpt_answers    0\n",
       "dtype: int64"
      ]
     },
     "execution_count": 11,
     "metadata": {},
     "output_type": "execute_result"
    }
   ],
   "source": [
    "# find any missing/NA values\n",
    "df.isna().sum()"
   ]
  },
  {
   "attachments": {},
   "cell_type": "markdown",
   "metadata": {},
   "source": [
    "No missing values were found.\n",
    "\n",
    "Since each answer is a list, a list containing just empty strings, or an empty list will not be considered by panda's isna() function as a NA value. Thus, we will also inspect the dataframe for empty strings.\n",
    "\n",
    "Some empty strings were found. Since these empty strings make up an insignificant portion of the dataset (~2%), they can be removed without significantly changing the makeup of the dataset."
   ]
  },
  {
   "cell_type": "code",
   "execution_count": 12,
   "metadata": {},
   "outputs": [
    {
     "name": "stdout",
     "output_type": "stream",
     "text": [
      "dropped 470 rows\n"
     ]
    }
   ],
   "source": [
    "#check for empty strings\n",
    "drop_cntr = 0\n",
    "for i in range(len(df)):\n",
    "    human_ans = df.at[i, 'human_answers']\n",
    "    gpt_ans = df.at[i, 'chatgpt_answers']\n",
    "    # if the answers are an empty string, or an empty list,\n",
    "    if '' in human_ans or '' in gpt_ans or len(human_ans) == 0 or len(gpt_ans) == 0:\n",
    "        #drop the row\n",
    "        df.drop(i, axis=0, inplace=True)\n",
    "        drop_cntr += 1\n",
    "#print drop counter        \n",
    "print(f'dropped {drop_cntr} rows')"
   ]
  },
  {
   "attachments": {},
   "cell_type": "markdown",
   "metadata": {},
   "source": [
    "Next, reset the indexes of the dataset without the removed rows (so that it can be iterated over later)"
   ]
  },
  {
   "cell_type": "code",
   "execution_count": 13,
   "metadata": {},
   "outputs": [],
   "source": [
    "df.reset_index(inplace=True)\n",
    "df.drop(df.columns[0], axis=1, inplace=True)"
   ]
  },
  {
   "attachments": {},
   "cell_type": "markdown",
   "metadata": {},
   "source": [
    "We will describe the dataset to inspect the values contained within"
   ]
  },
  {
   "cell_type": "code",
   "execution_count": 14,
   "metadata": {},
   "outputs": [
    {
     "data": {
      "text/html": [
       "<div>\n",
       "<style scoped>\n",
       "    .dataframe tbody tr th:only-of-type {\n",
       "        vertical-align: middle;\n",
       "    }\n",
       "\n",
       "    .dataframe tbody tr th {\n",
       "        vertical-align: top;\n",
       "    }\n",
       "\n",
       "    .dataframe thead th {\n",
       "        text-align: right;\n",
       "    }\n",
       "</style>\n",
       "<table border=\"1\" class=\"dataframe\">\n",
       "  <thead>\n",
       "    <tr style=\"text-align: right;\">\n",
       "      <th></th>\n",
       "      <th>question</th>\n",
       "      <th>human_answers</th>\n",
       "      <th>chatgpt_answers</th>\n",
       "    </tr>\n",
       "  </thead>\n",
       "  <tbody>\n",
       "    <tr>\n",
       "      <th>count</th>\n",
       "      <td>23010</td>\n",
       "      <td>23010</td>\n",
       "      <td>23010</td>\n",
       "    </tr>\n",
       "    <tr>\n",
       "      <th>unique</th>\n",
       "      <td>22482</td>\n",
       "      <td>21508</td>\n",
       "      <td>22447</td>\n",
       "    </tr>\n",
       "    <tr>\n",
       "      <th>top</th>\n",
       "      <td>Why we learned to cover our private parts with...</td>\n",
       "      <td>[The attack on Pearl Harbor (called Hawaii Ope...</td>\n",
       "      <td>[!Only one message at a time. Please allow any...</td>\n",
       "    </tr>\n",
       "    <tr>\n",
       "      <th>freq</th>\n",
       "      <td>2</td>\n",
       "      <td>3</td>\n",
       "      <td>14</td>\n",
       "    </tr>\n",
       "  </tbody>\n",
       "</table>\n",
       "</div>"
      ],
      "text/plain": [
       "                                                 question  \\\n",
       "count                                               23010   \n",
       "unique                                              22482   \n",
       "top     Why we learned to cover our private parts with...   \n",
       "freq                                                    2   \n",
       "\n",
       "                                            human_answers  \\\n",
       "count                                               23010   \n",
       "unique                                              21508   \n",
       "top     [The attack on Pearl Harbor (called Hawaii Ope...   \n",
       "freq                                                    3   \n",
       "\n",
       "                                          chatgpt_answers  \n",
       "count                                               23010  \n",
       "unique                                              22447  \n",
       "top     [!Only one message at a time. Please allow any...  \n",
       "freq                                                   14  "
      ]
     },
     "execution_count": 14,
     "metadata": {},
     "output_type": "execute_result"
    }
   ],
   "source": [
    "df.describe(include='all')"
   ]
  },
  {
   "attachments": {},
   "cell_type": "markdown",
   "metadata": {},
   "source": [
    "We have also found some duplicate values, including duplicate questions, human answers, and chatgpt answers (which seems to be an error message)\n",
    "\n",
    "These rows will be removed once the dataframe has been processed further (as it will be easier to remove them after the dataframe is converted to strings)\n",
    "\n",
    "Next, we will inspect the dataframe's data types"
   ]
  },
  {
   "cell_type": "code",
   "execution_count": 16,
   "metadata": {},
   "outputs": [
    {
     "data": {
      "text/plain": [
       "question           object\n",
       "human_answers      object\n",
       "chatgpt_answers    object\n",
       "dtype: object"
      ]
     },
     "execution_count": 16,
     "metadata": {},
     "output_type": "execute_result"
    }
   ],
   "source": [
    "# check datatypes\n",
    "df.dtypes"
   ]
  },
  {
   "attachments": {},
   "cell_type": "markdown",
   "metadata": {},
   "source": [
    "The dataframe will be converted to the string datatype."
   ]
  },
  {
   "cell_type": "code",
   "execution_count": 17,
   "metadata": {},
   "outputs": [],
   "source": [
    "#convert to string\n",
    "df = df.astype(str)"
   ]
  },
  {
   "attachments": {},
   "cell_type": "markdown",
   "metadata": {},
   "source": [
    "Next, we will need to strip the trailing/leading square brackets from the answers, and remove any newline characters (\\n). We will also remove some Reddit text formatting tags and syntaxes."
   ]
  },
  {
   "cell_type": "code",
   "execution_count": 28,
   "metadata": {},
   "outputs": [],
   "source": [
    "# define a function to strip formatting from answers\n",
    "def strip_formatting(answer):\n",
    "    # strip leading/trailing square brackets and quotation marks\n",
    "    answer = answer.lstrip('[\\'\\\"') \n",
    "    answer = answer.rstrip(']\\'\\\"')\n",
    "    answer = answer.replace('\\\\n', \"\") # remove all newline chars\n",
    "    answer = answer.replace('\\\\r', \"\") # remove all carraige return chars\n",
    "    answer = answer.replace('*', \"\") # remove reddit formatting *\n",
    "    answer = answer.replace('[', \"\") # remove reddit formatting square brackets\n",
    "    answer = answer.replace(']', \"\") # strip other square brackets\n",
    "\n",
    "    return answer"
   ]
  },
  {
   "cell_type": "code",
   "execution_count": 18,
   "metadata": {},
   "outputs": [],
   "source": [
    "for i in range(len(df)):\n",
    "    human_ans = df.at[i, 'human_answers']\n",
    "    gpt_ans = df.at[i, 'chatgpt_answers']\n",
    "\n",
    "    df.at[i, 'human_answers'] = strip_formatting(human_ans)\n",
    "    df.at[i, 'chatgpt_answers'] = strip_formatting(gpt_ans)"
   ]
  },
  {
   "cell_type": "code",
   "execution_count": 19,
   "metadata": {},
   "outputs": [
    {
     "data": {
      "text/html": [
       "<div>\n",
       "<style scoped>\n",
       "    .dataframe tbody tr th:only-of-type {\n",
       "        vertical-align: middle;\n",
       "    }\n",
       "\n",
       "    .dataframe tbody tr th {\n",
       "        vertical-align: top;\n",
       "    }\n",
       "\n",
       "    .dataframe thead th {\n",
       "        text-align: right;\n",
       "    }\n",
       "</style>\n",
       "<table border=\"1\" class=\"dataframe\">\n",
       "  <thead>\n",
       "    <tr style=\"text-align: right;\">\n",
       "      <th></th>\n",
       "      <th>question</th>\n",
       "      <th>human_answers</th>\n",
       "      <th>chatgpt_answers</th>\n",
       "    </tr>\n",
       "  </thead>\n",
       "  <tbody>\n",
       "    <tr>\n",
       "      <th>count</th>\n",
       "      <td>23010</td>\n",
       "      <td>23010</td>\n",
       "      <td>23010</td>\n",
       "    </tr>\n",
       "    <tr>\n",
       "      <th>unique</th>\n",
       "      <td>22482</td>\n",
       "      <td>21508</td>\n",
       "      <td>22445</td>\n",
       "    </tr>\n",
       "    <tr>\n",
       "      <th>top</th>\n",
       "      <td>Why we learned to cover our private parts with...</td>\n",
       "      <td>The attack on Pearl Harbor (called Hawaii Oper...</td>\n",
       "      <td>!Only one message at a time. Please allow any ...</td>\n",
       "    </tr>\n",
       "    <tr>\n",
       "      <th>freq</th>\n",
       "      <td>2</td>\n",
       "      <td>3</td>\n",
       "      <td>17</td>\n",
       "    </tr>\n",
       "  </tbody>\n",
       "</table>\n",
       "</div>"
      ],
      "text/plain": [
       "                                                 question  \\\n",
       "count                                               23010   \n",
       "unique                                              22482   \n",
       "top     Why we learned to cover our private parts with...   \n",
       "freq                                                    2   \n",
       "\n",
       "                                            human_answers  \\\n",
       "count                                               23010   \n",
       "unique                                              21508   \n",
       "top     The attack on Pearl Harbor (called Hawaii Oper...   \n",
       "freq                                                    3   \n",
       "\n",
       "                                          chatgpt_answers  \n",
       "count                                               23010  \n",
       "unique                                              22445  \n",
       "top     !Only one message at a time. Please allow any ...  \n",
       "freq                                                   17  "
      ]
     },
     "execution_count": 19,
     "metadata": {},
     "output_type": "execute_result"
    }
   ],
   "source": [
    "df.describe(include='all')"
   ]
  },
  {
   "attachments": {},
   "cell_type": "markdown",
   "metadata": {},
   "source": [
    "Now that the dataframe has been converted to strings, we can easily remove the rows containing the chatgpt error messages"
   ]
  },
  {
   "cell_type": "code",
   "execution_count": 20,
   "metadata": {},
   "outputs": [],
   "source": [
    "df = df[df['chatgpt_answers'].str.contains('There was an error generating a response') == False]"
   ]
  },
  {
   "attachments": {},
   "cell_type": "markdown",
   "metadata": {},
   "source": [
    "We will also remove the duplicate questions and answers."
   ]
  },
  {
   "cell_type": "code",
   "execution_count": 21,
   "metadata": {},
   "outputs": [],
   "source": [
    "df.drop_duplicates(subset = ['human_answers'], inplace=True)\n",
    "df.drop_duplicates(subset = ['chatgpt_answers'], inplace=True)\n",
    "df.drop_duplicates(subset = ['question'], inplace=True)"
   ]
  },
  {
   "cell_type": "code",
   "execution_count": 22,
   "metadata": {},
   "outputs": [
    {
     "data": {
      "text/html": [
       "<div>\n",
       "<style scoped>\n",
       "    .dataframe tbody tr th:only-of-type {\n",
       "        vertical-align: middle;\n",
       "    }\n",
       "\n",
       "    .dataframe tbody tr th {\n",
       "        vertical-align: top;\n",
       "    }\n",
       "\n",
       "    .dataframe thead th {\n",
       "        text-align: right;\n",
       "    }\n",
       "</style>\n",
       "<table border=\"1\" class=\"dataframe\">\n",
       "  <thead>\n",
       "    <tr style=\"text-align: right;\">\n",
       "      <th></th>\n",
       "      <th>question</th>\n",
       "      <th>human_answers</th>\n",
       "      <th>chatgpt_answers</th>\n",
       "    </tr>\n",
       "  </thead>\n",
       "  <tbody>\n",
       "    <tr>\n",
       "      <th>count</th>\n",
       "      <td>21398</td>\n",
       "      <td>21398</td>\n",
       "      <td>21398</td>\n",
       "    </tr>\n",
       "    <tr>\n",
       "      <th>unique</th>\n",
       "      <td>21398</td>\n",
       "      <td>21398</td>\n",
       "      <td>21398</td>\n",
       "    </tr>\n",
       "    <tr>\n",
       "      <th>top</th>\n",
       "      <td>Why is every book I hear about a \" NY Times # ...</td>\n",
       "      <td>Basically there are many categories of \" Best ...</td>\n",
       "      <td>There are many different best seller lists tha...</td>\n",
       "    </tr>\n",
       "    <tr>\n",
       "      <th>freq</th>\n",
       "      <td>1</td>\n",
       "      <td>1</td>\n",
       "      <td>1</td>\n",
       "    </tr>\n",
       "  </tbody>\n",
       "</table>\n",
       "</div>"
      ],
      "text/plain": [
       "                                                 question  \\\n",
       "count                                               21398   \n",
       "unique                                              21398   \n",
       "top     Why is every book I hear about a \" NY Times # ...   \n",
       "freq                                                    1   \n",
       "\n",
       "                                            human_answers  \\\n",
       "count                                               21398   \n",
       "unique                                              21398   \n",
       "top     Basically there are many categories of \" Best ...   \n",
       "freq                                                    1   \n",
       "\n",
       "                                          chatgpt_answers  \n",
       "count                                               21398  \n",
       "unique                                              21398  \n",
       "top     There are many different best seller lists tha...  \n",
       "freq                                                    1  "
      ]
     },
     "execution_count": 22,
     "metadata": {},
     "output_type": "execute_result"
    }
   ],
   "source": [
    "df.describe(include ='all')"
   ]
  },
  {
   "cell_type": "markdown",
   "metadata": {},
   "source": [
    "Additionally, the HC3 dataset covers both Chinese and English answers. Though we only imported the English portion of the dataset, it would be advisable to ensure all answers are actually in English.\n",
    "\n",
    "\n",
    "This check will be carried out using the langdetect python package, which is a Python port of Google's language detection library.\n",
    "\n",
    "First, install and import langdetect"
   ]
  },
  {
   "cell_type": "code",
   "execution_count": 23,
   "metadata": {},
   "outputs": [],
   "source": [
    "#!pip install langdetect"
   ]
  },
  {
   "cell_type": "code",
   "execution_count": 24,
   "metadata": {},
   "outputs": [],
   "source": [
    "from langdetect import detect"
   ]
  },
  {
   "cell_type": "markdown",
   "metadata": {},
   "source": [
    "Next, define a function to detect if the text is english."
   ]
  },
  {
   "cell_type": "code",
   "execution_count": 25,
   "metadata": {},
   "outputs": [],
   "source": [
    "def detect_english(answer):\n",
    "    # detects if the given answer is in English\n",
    "    if (detect(answer) == 'en') == False: \n",
    "        raise Exception() #detects if the"
   ]
  },
  {
   "cell_type": "markdown",
   "metadata": {},
   "source": [
    "We will also reset the indexes of the dataframe so we can iterate through it"
   ]
  },
  {
   "cell_type": "code",
   "execution_count": 26,
   "metadata": {},
   "outputs": [],
   "source": [
    "df.reset_index(inplace=True)"
   ]
  },
  {
   "cell_type": "markdown",
   "metadata": {},
   "source": [
    "Call the detect_english method on both the human and chatgpt answers to remove any non-English answers. Once again, this makes up an extremely small portion of the entire dataset"
   ]
  },
  {
   "cell_type": "code",
   "execution_count": 27,
   "metadata": {},
   "outputs": [
    {
     "name": "stdout",
     "output_type": "stream",
     "text": [
      "non-english answer at f15520\n",
      "non-english answer at f15908\n",
      "non-english answer at f17052\n",
      "non-english answer at f20613\n",
      "non-english answer at f20659\n",
      "non-english answer at f20681\n",
      "dropped 6 rows\n"
     ]
    }
   ],
   "source": [
    "drop_cntr = 0 # counter for number of rows dropped\n",
    "for i in range(0, len(df)):\n",
    "    # extract human and gpt answers\n",
    "    human_ans = df.at[i, 'human_answers']\n",
    "    gpt_ans = df.at[i, 'chatgpt_answers']\n",
    "    \n",
    "    try:\n",
    "        # try to call detect_english on both answers\n",
    "        detect_english(human_ans)\n",
    "        detect_english(gpt_ans)\n",
    "    except:\n",
    "        # print error message if either answer raises an exception\n",
    "        print(f'non-english answer at f{i}')\n",
    "        # drop the row\n",
    "        df.drop(i, axis=0, inplace=True)\n",
    "        drop_cntr += 1\n",
    "\n",
    "# print total rows dropped\n",
    "print(f'dropped {drop_cntr} rows')"
   ]
  },
  {
   "attachments": {},
   "cell_type": "markdown",
   "metadata": {},
   "source": [
    "This results in a cleaned dataset that is about 88% the size of the original dataset. In our opinion, the majority of the original dataset is preserved, and the cleaning is unlikely to significantly affect our results."
   ]
  },
  {
   "attachments": {},
   "cell_type": "markdown",
   "metadata": {},
   "source": [
    "##### 1.2 Data Reshape\n",
    "\n",
    "We will also need to reshape the dataframe to seperate human and chatgpt answers into distinct rows.\n",
    "\n",
    "First, we will seperate the dataframe into 2 seperate dataframes, each containing only 1 type of answer.\n",
    "\n",
    "We will also add an additional 'is_human' column to each dataframe, indicating if the answer was generated by a human"
   ]
  },
  {
   "cell_type": "code",
   "execution_count": 31,
   "metadata": {},
   "outputs": [
    {
     "data": {
      "text/html": [
       "<div>\n",
       "<style scoped>\n",
       "    .dataframe tbody tr th:only-of-type {\n",
       "        vertical-align: middle;\n",
       "    }\n",
       "\n",
       "    .dataframe tbody tr th {\n",
       "        vertical-align: top;\n",
       "    }\n",
       "\n",
       "    .dataframe thead th {\n",
       "        text-align: right;\n",
       "    }\n",
       "</style>\n",
       "<table border=\"1\" class=\"dataframe\">\n",
       "  <thead>\n",
       "    <tr style=\"text-align: right;\">\n",
       "      <th></th>\n",
       "      <th>question</th>\n",
       "      <th>answer</th>\n",
       "      <th>is_human</th>\n",
       "    </tr>\n",
       "  </thead>\n",
       "  <tbody>\n",
       "    <tr>\n",
       "      <th>4410</th>\n",
       "      <td>How does Polysporin work ? It says on the tube...</td>\n",
       "      <td>Polysporin is just antibiotic ointment . There...</td>\n",
       "      <td>1</td>\n",
       "    </tr>\n",
       "    <tr>\n",
       "      <th>1012</th>\n",
       "      <td>Postmodernism Please explain what postmodernis...</td>\n",
       "      <td>It \\'s been used a lot in recent history , so ...</td>\n",
       "      <td>1</td>\n",
       "    </tr>\n",
       "    <tr>\n",
       "      <th>3107</th>\n",
       "      <td>The process and significance of \" making partn...</td>\n",
       "      <td>It takes anywhere from 2 to 10 years to make p...</td>\n",
       "      <td>1</td>\n",
       "    </tr>\n",
       "  </tbody>\n",
       "</table>\n",
       "</div>"
      ],
      "text/plain": [
       "                                               question  \\\n",
       "4410  How does Polysporin work ? It says on the tube...   \n",
       "1012  Postmodernism Please explain what postmodernis...   \n",
       "3107  The process and significance of \" making partn...   \n",
       "\n",
       "                                                 answer  is_human  \n",
       "4410  Polysporin is just antibiotic ointment . There...         1  \n",
       "1012  It \\'s been used a lot in recent history , so ...         1  \n",
       "3107  It takes anywhere from 2 to 10 years to make p...         1  "
      ]
     },
     "execution_count": 31,
     "metadata": {},
     "output_type": "execute_result"
    }
   ],
   "source": [
    "# retrieve human answers\n",
    "df_human = df[['question', 'human_answers']].copy() #copy the question and human answers\n",
    "df_human['is_human'] = 1 #set a column indicating if the answer is human\n",
    "df_human.rename(columns = {'human_answers':'answer'}, inplace = True) # rename column to answer\n",
    "df_human.sample(3)"
   ]
  },
  {
   "cell_type": "code",
   "execution_count": 32,
   "metadata": {},
   "outputs": [
    {
     "data": {
      "text/html": [
       "<div>\n",
       "<style scoped>\n",
       "    .dataframe tbody tr th:only-of-type {\n",
       "        vertical-align: middle;\n",
       "    }\n",
       "\n",
       "    .dataframe tbody tr th {\n",
       "        vertical-align: top;\n",
       "    }\n",
       "\n",
       "    .dataframe thead th {\n",
       "        text-align: right;\n",
       "    }\n",
       "</style>\n",
       "<table border=\"1\" class=\"dataframe\">\n",
       "  <thead>\n",
       "    <tr style=\"text-align: right;\">\n",
       "      <th></th>\n",
       "      <th>question</th>\n",
       "      <th>answer</th>\n",
       "      <th>is_human</th>\n",
       "    </tr>\n",
       "  </thead>\n",
       "  <tbody>\n",
       "    <tr>\n",
       "      <th>565</th>\n",
       "      <td>What exactly causes the feeling of \" pins and ...</td>\n",
       "      <td>The feeling of \"pins and needles\" or tingling ...</td>\n",
       "      <td>0</td>\n",
       "    </tr>\n",
       "    <tr>\n",
       "      <th>2775</th>\n",
       "      <td>will someone please\" dues ex machina \" I do n'...</td>\n",
       "      <td>Deus ex machina is a Latin phrase that means \"...</td>\n",
       "      <td>0</td>\n",
       "    </tr>\n",
       "    <tr>\n",
       "      <th>13985</th>\n",
       "      <td>Reddit , why does America use the A , B , C gr...</td>\n",
       "      <td>The A, B, C grading system is used in America ...</td>\n",
       "      <td>0</td>\n",
       "    </tr>\n",
       "  </tbody>\n",
       "</table>\n",
       "</div>"
      ],
      "text/plain": [
       "                                                question  \\\n",
       "565    What exactly causes the feeling of \" pins and ...   \n",
       "2775   will someone please\" dues ex machina \" I do n'...   \n",
       "13985  Reddit , why does America use the A , B , C gr...   \n",
       "\n",
       "                                                  answer  is_human  \n",
       "565    The feeling of \"pins and needles\" or tingling ...         0  \n",
       "2775   Deus ex machina is a Latin phrase that means \"...         0  \n",
       "13985  The A, B, C grading system is used in America ...         0  "
      ]
     },
     "execution_count": 32,
     "metadata": {},
     "output_type": "execute_result"
    }
   ],
   "source": [
    "# do the same for chatgpt answers\n",
    "df_gpt = df[['question', 'chatgpt_answers']].copy()\n",
    "df_gpt['is_human'] = 0\n",
    "df_gpt.rename(columns = {'chatgpt_answers':'answer'}, inplace = True)\n",
    "df_gpt.sample(3)"
   ]
  },
  {
   "attachments": {},
   "cell_type": "markdown",
   "metadata": {},
   "source": [
    "Next, both dataframes will be concatenated to join them together into a cleaned dataframe"
   ]
  },
  {
   "cell_type": "code",
   "execution_count": 33,
   "metadata": {},
   "outputs": [
    {
     "data": {
      "text/html": [
       "<div>\n",
       "<style scoped>\n",
       "    .dataframe tbody tr th:only-of-type {\n",
       "        vertical-align: middle;\n",
       "    }\n",
       "\n",
       "    .dataframe tbody tr th {\n",
       "        vertical-align: top;\n",
       "    }\n",
       "\n",
       "    .dataframe thead th {\n",
       "        text-align: right;\n",
       "    }\n",
       "</style>\n",
       "<table border=\"1\" class=\"dataframe\">\n",
       "  <thead>\n",
       "    <tr style=\"text-align: right;\">\n",
       "      <th></th>\n",
       "      <th>question</th>\n",
       "      <th>answer</th>\n",
       "      <th>is_human</th>\n",
       "    </tr>\n",
       "  </thead>\n",
       "  <tbody>\n",
       "    <tr>\n",
       "      <th>20192</th>\n",
       "      <td>Suggest remedy for low grade fever, hot and co...</td>\n",
       "      <td>I'm sorry to hear that you're feeling sick. It...</td>\n",
       "      <td>0</td>\n",
       "    </tr>\n",
       "    <tr>\n",
       "      <th>17472</th>\n",
       "      <td>What's a Letter of Credit? Are funds held in m...</td>\n",
       "      <td>A letter of credit is a financial instrument t...</td>\n",
       "      <td>0</td>\n",
       "    </tr>\n",
       "    <tr>\n",
       "      <th>11418</th>\n",
       "      <td>What happens when a person goes to the hospita...</td>\n",
       "      <td>If a person goes to the hospital because they ...</td>\n",
       "      <td>0</td>\n",
       "    </tr>\n",
       "  </tbody>\n",
       "</table>\n",
       "</div>"
      ],
      "text/plain": [
       "                                                question  \\\n",
       "20192  Suggest remedy for low grade fever, hot and co...   \n",
       "17472  What's a Letter of Credit? Are funds held in m...   \n",
       "11418  What happens when a person goes to the hospita...   \n",
       "\n",
       "                                                  answer  is_human  \n",
       "20192  I'm sorry to hear that you're feeling sick. It...         0  \n",
       "17472  A letter of credit is a financial instrument t...         0  \n",
       "11418  If a person goes to the hospital because they ...         0  "
      ]
     },
     "execution_count": 33,
     "metadata": {},
     "output_type": "execute_result"
    }
   ],
   "source": [
    "# concat both dataframes\n",
    "df_cleaned = pd.concat([df_human, df_gpt])\n",
    "df_cleaned.sample(3)"
   ]
  },
  {
   "attachments": {},
   "cell_type": "markdown",
   "metadata": {},
   "source": [
    "We will also use the panda's value_counts function to ensure that there is the expected number of each type of answer"
   ]
  },
  {
   "cell_type": "code",
   "execution_count": 34,
   "metadata": {},
   "outputs": [
    {
     "data": {
      "text/plain": [
       "is_human\n",
       "1    21392\n",
       "0    21392\n",
       "Name: count, dtype: int64"
      ]
     },
     "execution_count": 34,
     "metadata": {},
     "output_type": "execute_result"
    }
   ],
   "source": [
    "# sum is_human to ensure there is a 50:50 split of answers\n",
    "df_cleaned['is_human'].value_counts()"
   ]
  },
  {
   "attachments": {},
   "cell_type": "markdown",
   "metadata": {},
   "source": [
    "Lastly, we will shuffle the order of the answers"
   ]
  },
  {
   "cell_type": "code",
   "execution_count": 35,
   "metadata": {},
   "outputs": [],
   "source": [
    "# shuffle human and chatgpt generated answers\n",
    "df_cleaned = df_cleaned.sample(frac = 1).reset_index(drop=True)"
   ]
  },
  {
   "cell_type": "code",
   "execution_count": 36,
   "metadata": {},
   "outputs": [
    {
     "data": {
      "text/html": [
       "<div>\n",
       "<style scoped>\n",
       "    .dataframe tbody tr th:only-of-type {\n",
       "        vertical-align: middle;\n",
       "    }\n",
       "\n",
       "    .dataframe tbody tr th {\n",
       "        vertical-align: top;\n",
       "    }\n",
       "\n",
       "    .dataframe thead th {\n",
       "        text-align: right;\n",
       "    }\n",
       "</style>\n",
       "<table border=\"1\" class=\"dataframe\">\n",
       "  <thead>\n",
       "    <tr style=\"text-align: right;\">\n",
       "      <th></th>\n",
       "      <th>question</th>\n",
       "      <th>answer</th>\n",
       "      <th>is_human</th>\n",
       "    </tr>\n",
       "  </thead>\n",
       "  <tbody>\n",
       "    <tr>\n",
       "      <th>14089</th>\n",
       "      <td>How come almost every time I cook eggs , that ...</td>\n",
       "      <td>The film you see on the edges of your cooked e...</td>\n",
       "      <td>0</td>\n",
       "    </tr>\n",
       "    <tr>\n",
       "      <th>38818</th>\n",
       "      <td>what do hard drugs do that cause a permanent c...</td>\n",
       "      <td>For one thing , they rob you of nutrition beca...</td>\n",
       "      <td>1</td>\n",
       "    </tr>\n",
       "    <tr>\n",
       "      <th>23538</th>\n",
       "      <td>Suggest alternative medicine for ciplatrimI wa...</td>\n",
       "      <td>I'm sorry to hear that you have been prescribe...</td>\n",
       "      <td>0</td>\n",
       "    </tr>\n",
       "  </tbody>\n",
       "</table>\n",
       "</div>"
      ],
      "text/plain": [
       "                                                question  \\\n",
       "14089  How come almost every time I cook eggs , that ...   \n",
       "38818  what do hard drugs do that cause a permanent c...   \n",
       "23538  Suggest alternative medicine for ciplatrimI wa...   \n",
       "\n",
       "                                                  answer  is_human  \n",
       "14089  The film you see on the edges of your cooked e...         0  \n",
       "38818  For one thing , they rob you of nutrition beca...         1  \n",
       "23538  I'm sorry to hear that you have been prescribe...         0  "
      ]
     },
     "execution_count": 36,
     "metadata": {},
     "output_type": "execute_result"
    }
   ],
   "source": [
    "df_cleaned.sample(3)"
   ]
  },
  {
   "attachments": {},
   "cell_type": "markdown",
   "metadata": {},
   "source": [
    "##### 1.3 Lemmatisation\n",
    "\n",
    "We will also create both a lemmatised, and a filtered (both lemmatised, and stopword-removed) version of each answer for later usage in some methods, such as sentiment analysis. \n",
    "\n",
    "\n",
    "Compared to stemming, lemmatisation preserves the context and meaning of a word whe converting it to its base form. Preserving the context and meaning of each word will allow for a more accurate sentiment analysis\n",
    "\n",
    "First, download NLTK packages, and import the required modules."
   ]
  },
  {
   "cell_type": "code",
   "execution_count": 40,
   "metadata": {},
   "outputs": [
    {
     "name": "stderr",
     "output_type": "stream",
     "text": [
      "[nltk_data] Downloading package stopwords to\n",
      "[nltk_data]     C:\\Users\\Admin\\AppData\\Roaming\\nltk_data...\n",
      "[nltk_data]   Package stopwords is already up-to-date!\n",
      "[nltk_data] Downloading package punkt to\n",
      "[nltk_data]     C:\\Users\\Admin\\AppData\\Roaming\\nltk_data...\n",
      "[nltk_data]   Package punkt is already up-to-date!\n"
     ]
    },
    {
     "data": {
      "text/plain": [
       "True"
      ]
     },
     "execution_count": 40,
     "metadata": {},
     "output_type": "execute_result"
    }
   ],
   "source": [
    "import nltk\n",
    "from nltk.corpus import stopwords\n",
    "from nltk.stem import WordNetLemmatizer\n",
    "from nltk.tokenize import word_tokenize\n",
    "\n",
    "# Also download NLTK packages\n",
    "nltk.download('stopwords')\n",
    "nltk.download('punkt')"
   ]
  },
  {
   "cell_type": "markdown",
   "metadata": {},
   "source": [
    "Next, initialise the lemmatiser, and the corpus of stopwords. The stopword corpus used will be NLTK's general English stopword corpus."
   ]
  },
  {
   "cell_type": "code",
   "execution_count": 41,
   "metadata": {},
   "outputs": [],
   "source": [
    "# init lemmatiser and stopwords\n",
    "lemmatizer = WordNetLemmatizer()\n",
    "stopwords = stopwords.words('english')\n",
    "\n",
    "# also create empty columns for filtered/lemmatised answers\n",
    "df_cleaned['filtered_answer'] = \"\"\n",
    "df_cleaned['lemmatised_answer'] = \"\""
   ]
  },
  {
   "attachments": {},
   "cell_type": "markdown",
   "metadata": {},
   "source": [
    "Next, iterate through each answer, processing each answer by either:\n",
    "\n",
    "1) just lemmatising the answer, or\n",
    "2) both removing stopwords and lemmatising the answer."
   ]
  },
  {
   "cell_type": "code",
   "execution_count": 42,
   "metadata": {},
   "outputs": [],
   "source": [
    "for i in range(len(df_cleaned)):\n",
    "\n",
    "    answer = df_cleaned.at[i, 'answer'] #retrieve answer text from df\n",
    "    tokens = word_tokenize(answer) # tokenise the answer\n",
    "\n",
    "    # lemmatise answer\n",
    "    lemmatised_tokens = [lemmatizer.lemmatize(token) for token in tokens]\n",
    "    # reconstruct the answer as a string, and store lemmatised answer in column\n",
    "    df_cleaned.at[i, 'lemmatised_answer'] = ' '.join(lemmatised_tokens)\n",
    "\n",
    "    # remove stopwords\n",
    "    tokens_no_stopwords = [token for token in tokens if token not in stopwords]\n",
    "    # lemmatise stopword-removed answer\n",
    "    lemmatised_tokens_no_stopwords = [lemmatizer.lemmatize(token) for token in tokens_no_stopwords]\n",
    "    \n",
    "    # reconstruct the answer as a string, and store filtered answer in column\n",
    "    df_cleaned.at[i, 'filtered_answer'] = ' '.join(lemmatised_tokens_no_stopwords)"
   ]
  },
  {
   "cell_type": "code",
   "execution_count": 43,
   "metadata": {},
   "outputs": [
    {
     "data": {
      "text/html": [
       "<div>\n",
       "<style scoped>\n",
       "    .dataframe tbody tr th:only-of-type {\n",
       "        vertical-align: middle;\n",
       "    }\n",
       "\n",
       "    .dataframe tbody tr th {\n",
       "        vertical-align: top;\n",
       "    }\n",
       "\n",
       "    .dataframe thead th {\n",
       "        text-align: right;\n",
       "    }\n",
       "</style>\n",
       "<table border=\"1\" class=\"dataframe\">\n",
       "  <thead>\n",
       "    <tr style=\"text-align: right;\">\n",
       "      <th></th>\n",
       "      <th>question</th>\n",
       "      <th>answer</th>\n",
       "      <th>is_human</th>\n",
       "      <th>filtered_answer</th>\n",
       "      <th>lemmatised_answer</th>\n",
       "    </tr>\n",
       "  </thead>\n",
       "  <tbody>\n",
       "    <tr>\n",
       "      <th>4194</th>\n",
       "      <td>\" Floating Point \" Numbers I tried looking at ...</td>\n",
       "      <td>When programming , if you need a number , like...</td>\n",
       "      <td>1</td>\n",
       "      <td>When programming , need number , like 2 27 -3 ...</td>\n",
       "      <td>When programming , if you need a number , like...</td>\n",
       "    </tr>\n",
       "    <tr>\n",
       "      <th>18832</th>\n",
       "      <td>what do movie directors actually do ? What do ...</td>\n",
       "      <td>Movie directors are responsible for overseeing...</td>\n",
       "      <td>0</td>\n",
       "      <td>Movie director responsible overseeing making f...</td>\n",
       "      <td>Movie director are responsible for overseeing ...</td>\n",
       "    </tr>\n",
       "    <tr>\n",
       "      <th>27393</th>\n",
       "      <td>How can animals like bees \" smell your fear \" ...</td>\n",
       "      <td>Bees can\\'t actually \"smell your fear,\" but th...</td>\n",
       "      <td>0</td>\n",
       "      <td>Bees can\\'t actually `` smell fear , '' sense ...</td>\n",
       "      <td>Bees can\\'t actually `` smell your fear , '' b...</td>\n",
       "    </tr>\n",
       "  </tbody>\n",
       "</table>\n",
       "</div>"
      ],
      "text/plain": [
       "                                                question  \\\n",
       "4194   \" Floating Point \" Numbers I tried looking at ...   \n",
       "18832  what do movie directors actually do ? What do ...   \n",
       "27393  How can animals like bees \" smell your fear \" ...   \n",
       "\n",
       "                                                  answer  is_human  \\\n",
       "4194   When programming , if you need a number , like...         1   \n",
       "18832  Movie directors are responsible for overseeing...         0   \n",
       "27393  Bees can\\'t actually \"smell your fear,\" but th...         0   \n",
       "\n",
       "                                         filtered_answer  \\\n",
       "4194   When programming , need number , like 2 27 -3 ...   \n",
       "18832  Movie director responsible overseeing making f...   \n",
       "27393  Bees can\\'t actually `` smell fear , '' sense ...   \n",
       "\n",
       "                                       lemmatised_answer  \n",
       "4194   When programming , if you need a number , like...  \n",
       "18832  Movie director are responsible for overseeing ...  \n",
       "27393  Bees can\\'t actually `` smell your fear , '' b...  "
      ]
     },
     "execution_count": 43,
     "metadata": {},
     "output_type": "execute_result"
    }
   ],
   "source": [
    "df_cleaned.sample(3)"
   ]
  },
  {
   "attachments": {},
   "cell_type": "markdown",
   "metadata": {},
   "source": [
    "### 2. Feature Extraction\n",
    "\n",
    "As discovered in prototype 2, a combination of all 5 features performs better than any individual feature. Thus, we will extract all 5 features.\n",
    "\n",
    "##### 2.1 Basic Textual Features\n",
    "\n",
    "We will extract the word count, sentence count, character count, average word length, and average sentence length."
   ]
  },
  {
   "cell_type": "code",
   "execution_count": 44,
   "metadata": {},
   "outputs": [],
   "source": [
    "# import sentence and word tokenisers\n",
    "from nltk.tokenize import word_tokenize, sent_tokenize "
   ]
  },
  {
   "cell_type": "code",
   "execution_count": 45,
   "metadata": {},
   "outputs": [],
   "source": [
    "#initialise columns for the extracted features\n",
    "df_cleaned['word_count'] = 0\n",
    "df_cleaned['sentence_count'] = 0\n",
    "df_cleaned['char_count'] = 0\n",
    "df_cleaned['avg_sentence_len'] = 0\n",
    "df_cleaned['avg_word_len'] = 0"
   ]
  },
  {
   "attachments": {},
   "cell_type": "markdown",
   "metadata": {},
   "source": [
    "Next, iterate through each answer, extracting the selected features."
   ]
  },
  {
   "cell_type": "code",
   "execution_count": 46,
   "metadata": {},
   "outputs": [],
   "source": [
    "for i in range(len(df_cleaned)):\n",
    "    answer = df_cleaned.at[i, 'answer'] # extract answer text from df\n",
    "    \n",
    "    ans_sent_token = sent_tokenize(answer)# tokenise answer into sentences\n",
    "    sentence_count = len(ans_sent_token)# calculate sentence count\n",
    "    df_cleaned.at[i, 'sentence_count'] = sentence_count\n",
    "\n",
    "    ans_word_token = word_tokenize(answer) # tokenise answer into words\n",
    "    word_count = len(ans_word_token)  # calculate word count\n",
    "    df_cleaned.at[i, 'word_count'] = word_count\n",
    "\n",
    "    char_count = len(answer) # calculate character count\n",
    "    df_cleaned.at[i, 'char_count'] =  char_count\n",
    "\n",
    "    df_cleaned.at[i, 'avg_sentence_len'] = word_count/sentence_count # calculate average sentence length\n",
    "    df_cleaned.at[i, 'avg_word_len'] =  char_count/word_count   # calculate average word length"
   ]
  },
  {
   "cell_type": "code",
   "execution_count": 47,
   "metadata": {},
   "outputs": [
    {
     "data": {
      "text/html": [
       "<div>\n",
       "<style scoped>\n",
       "    .dataframe tbody tr th:only-of-type {\n",
       "        vertical-align: middle;\n",
       "    }\n",
       "\n",
       "    .dataframe tbody tr th {\n",
       "        vertical-align: top;\n",
       "    }\n",
       "\n",
       "    .dataframe thead th {\n",
       "        text-align: right;\n",
       "    }\n",
       "</style>\n",
       "<table border=\"1\" class=\"dataframe\">\n",
       "  <thead>\n",
       "    <tr style=\"text-align: right;\">\n",
       "      <th></th>\n",
       "      <th>question</th>\n",
       "      <th>answer</th>\n",
       "      <th>is_human</th>\n",
       "      <th>filtered_answer</th>\n",
       "      <th>lemmatised_answer</th>\n",
       "      <th>word_count</th>\n",
       "      <th>sentence_count</th>\n",
       "      <th>char_count</th>\n",
       "      <th>avg_sentence_len</th>\n",
       "      <th>avg_word_len</th>\n",
       "    </tr>\n",
       "  </thead>\n",
       "  <tbody>\n",
       "    <tr>\n",
       "      <th>37122</th>\n",
       "      <td>why do wrecking balls , and possibly other wre...</td>\n",
       "      <td>Wrecking balls and other demolition equipment ...</td>\n",
       "      <td>0</td>\n",
       "      <td>Wrecking ball demolition equipment often spray...</td>\n",
       "      <td>Wrecking ball and other demolition equipment o...</td>\n",
       "      <td>164</td>\n",
       "      <td>4</td>\n",
       "      <td>875</td>\n",
       "      <td>41.0</td>\n",
       "      <td>5.335366</td>\n",
       "    </tr>\n",
       "    <tr>\n",
       "      <th>36710</th>\n",
       "      <td>Retired, want to buy a mobile home; how to fin...</td>\n",
       "      <td>There are a few different options for financin...</td>\n",
       "      <td>0</td>\n",
       "      <td>There different option financing mobile home ,...</td>\n",
       "      <td>There are a few different option for financing...</td>\n",
       "      <td>352</td>\n",
       "      <td>8</td>\n",
       "      <td>1910</td>\n",
       "      <td>44.0</td>\n",
       "      <td>5.426136</td>\n",
       "    </tr>\n",
       "    <tr>\n",
       "      <th>35709</th>\n",
       "      <td>Why are flying planes louder when it is cloudy...</td>\n",
       "      <td>Sound travels better through humid air than dr...</td>\n",
       "      <td>1</td>\n",
       "      <td>Sound travel better humid air dry air . This h...</td>\n",
       "      <td>Sound travel better through humid air than dry...</td>\n",
       "      <td>351</td>\n",
       "      <td>15</td>\n",
       "      <td>1807</td>\n",
       "      <td>23.4</td>\n",
       "      <td>5.148148</td>\n",
       "    </tr>\n",
       "  </tbody>\n",
       "</table>\n",
       "</div>"
      ],
      "text/plain": [
       "                                                question  \\\n",
       "37122  why do wrecking balls , and possibly other wre...   \n",
       "36710  Retired, want to buy a mobile home; how to fin...   \n",
       "35709  Why are flying planes louder when it is cloudy...   \n",
       "\n",
       "                                                  answer  is_human  \\\n",
       "37122  Wrecking balls and other demolition equipment ...         0   \n",
       "36710  There are a few different options for financin...         0   \n",
       "35709  Sound travels better through humid air than dr...         1   \n",
       "\n",
       "                                         filtered_answer  \\\n",
       "37122  Wrecking ball demolition equipment often spray...   \n",
       "36710  There different option financing mobile home ,...   \n",
       "35709  Sound travel better humid air dry air . This h...   \n",
       "\n",
       "                                       lemmatised_answer  word_count  \\\n",
       "37122  Wrecking ball and other demolition equipment o...         164   \n",
       "36710  There are a few different option for financing...         352   \n",
       "35709  Sound travel better through humid air than dry...         351   \n",
       "\n",
       "       sentence_count  char_count  avg_sentence_len  avg_word_len  \n",
       "37122               4         875              41.0      5.335366  \n",
       "36710               8        1910              44.0      5.426136  \n",
       "35709              15        1807              23.4      5.148148  "
      ]
     },
     "execution_count": 47,
     "metadata": {},
     "output_type": "execute_result"
    }
   ],
   "source": [
    "df_cleaned.sample(3)"
   ]
  },
  {
   "attachments": {},
   "cell_type": "markdown",
   "metadata": {},
   "source": [
    "##### 2.2 Sentiment Analysis\n",
    "\n",
    "4 metrics will be assessed – negativity, neutrality, subjectivity, and overall polarity. <br><br>\n",
    "\n",
    "To calculate overall polarity, we will use 2 analysers - NLTK's VADER and TextBlob. This will allow us to obtain a secondary opinion, and provide a more accurate compound score. <br><br>\n",
    " \n",
    "The rest of the metrics will be extracted using only 1 analyser, as each analyser supports a different set of metrics. Negativity and neutrality will be extracted using VADER, and subjectivity will be extracted by Textblob.\n",
    "\n",
    "\n",
    "\n",
    "First, import the required modules and download the required VADER NLTK package."
   ]
  },
  {
   "cell_type": "code",
   "execution_count": 48,
   "metadata": {},
   "outputs": [],
   "source": [
    "from nltk.sentiment import SentimentIntensityAnalyzer\n",
    "from textblob import TextBlob"
   ]
  },
  {
   "cell_type": "code",
   "execution_count": 49,
   "metadata": {},
   "outputs": [
    {
     "name": "stderr",
     "output_type": "stream",
     "text": [
      "[nltk_data] Downloading package vader_lexicon to\n",
      "[nltk_data]     C:\\Users\\Admin\\AppData\\Roaming\\nltk_data...\n",
      "[nltk_data]   Package vader_lexicon is already up-to-date!\n"
     ]
    },
    {
     "data": {
      "text/plain": [
       "True"
      ]
     },
     "execution_count": 49,
     "metadata": {},
     "output_type": "execute_result"
    }
   ],
   "source": [
    "nltk.download('vader_lexicon')"
   ]
  },
  {
   "cell_type": "markdown",
   "metadata": {},
   "source": [
    "We will also initialise empty columns for the extracted features."
   ]
  },
  {
   "cell_type": "code",
   "execution_count": 50,
   "metadata": {},
   "outputs": [],
   "source": [
    "# initialise columns for the extracted features\n",
    "df_cleaned['polarity'] = 0\n",
    "df_cleaned['negativity'] = 0\n",
    "df_cleaned['neutrality'] = 0\n",
    "df_cleaned['subjectivity'] = 0"
   ]
  },
  {
   "attachments": {},
   "cell_type": "markdown",
   "metadata": {},
   "source": [
    "Next, initialise the NLTK VADER sentiment analyser (TextBlob does not need to be initialised using a constructor)"
   ]
  },
  {
   "cell_type": "code",
   "execution_count": 51,
   "metadata": {},
   "outputs": [],
   "source": [
    "analyser = SentimentIntensityAnalyzer()"
   ]
  },
  {
   "attachments": {},
   "cell_type": "markdown",
   "metadata": {},
   "source": [
    "Next, iterate through each filtered answer (lemmatised + stopwords removed), extracting the negativity (NLTK only), neutrality (NLTK only), polarity (both), and subjectivity (TextBlob only) of each answer."
   ]
  },
  {
   "cell_type": "code",
   "execution_count": 52,
   "metadata": {},
   "outputs": [],
   "source": [
    "for i in range(len(df_cleaned)):\n",
    "    answer = df_cleaned.at[i, 'filtered_answer']\n",
    "    #analyse filetered answers\n",
    "    nltk_scores = analyser.polarity_scores(answer)\n",
    "    textblob_scores = TextBlob(answer).sentiment\n",
    "\n",
    "    # extract neg and neu using nltk\n",
    "    df_cleaned.at[i, 'negativity'] = nltk_scores['neg']\n",
    "    df_cleaned.at[i, 'neutrality'] = nltk_scores['neu']\n",
    "\n",
    "    # calculate average polarity by using results from both analysers\n",
    "    df_cleaned.at[i, 'polarity'] = (nltk_scores['compound'] + textblob_scores.polarity)/2\n",
    "\n",
    "    # extract subjectivity using textblob\n",
    "    df_cleaned.at[i, 'subjectivity'] = textblob_scores.subjectivity"
   ]
  },
  {
   "cell_type": "code",
   "execution_count": 53,
   "metadata": {},
   "outputs": [
    {
     "data": {
      "text/html": [
       "<div>\n",
       "<style scoped>\n",
       "    .dataframe tbody tr th:only-of-type {\n",
       "        vertical-align: middle;\n",
       "    }\n",
       "\n",
       "    .dataframe tbody tr th {\n",
       "        vertical-align: top;\n",
       "    }\n",
       "\n",
       "    .dataframe thead th {\n",
       "        text-align: right;\n",
       "    }\n",
       "</style>\n",
       "<table border=\"1\" class=\"dataframe\">\n",
       "  <thead>\n",
       "    <tr style=\"text-align: right;\">\n",
       "      <th></th>\n",
       "      <th>question</th>\n",
       "      <th>answer</th>\n",
       "      <th>is_human</th>\n",
       "      <th>filtered_answer</th>\n",
       "      <th>lemmatised_answer</th>\n",
       "      <th>word_count</th>\n",
       "      <th>sentence_count</th>\n",
       "      <th>char_count</th>\n",
       "      <th>avg_sentence_len</th>\n",
       "      <th>avg_word_len</th>\n",
       "      <th>polarity</th>\n",
       "      <th>negativity</th>\n",
       "      <th>neutrality</th>\n",
       "      <th>subjectivity</th>\n",
       "    </tr>\n",
       "  </thead>\n",
       "  <tbody>\n",
       "    <tr>\n",
       "      <th>8098</th>\n",
       "      <td>Why does the exchange rate between countries f...</td>\n",
       "      <td>Exchange rates fluctuate because they are dete...</td>\n",
       "      <td>0</td>\n",
       "      <td>Exchange rate fluctuate determined supply dema...</td>\n",
       "      <td>Exchange rate fluctuate because they are deter...</td>\n",
       "      <td>251</td>\n",
       "      <td>12</td>\n",
       "      <td>1304</td>\n",
       "      <td>20.916667</td>\n",
       "      <td>5.195219</td>\n",
       "      <td>0.543355</td>\n",
       "      <td>0.1</td>\n",
       "      <td>0.655</td>\n",
       "      <td>0.421905</td>\n",
       "    </tr>\n",
       "    <tr>\n",
       "      <th>9426</th>\n",
       "      <td>when was srv born</td>\n",
       "      <td>Stephen \"Stevie\" Ray Vaughan (October 3, 1954 ...</td>\n",
       "      <td>1</td>\n",
       "      <td>Stephen `` Stevie '' Ray Vaughan ( October 3 ,...</td>\n",
       "      <td>Stephen `` Stevie '' Ray Vaughan ( October 3 ,...</td>\n",
       "      <td>28</td>\n",
       "      <td>1</td>\n",
       "      <td>131</td>\n",
       "      <td>28.000000</td>\n",
       "      <td>4.678571</td>\n",
       "      <td>0.000000</td>\n",
       "      <td>0.0</td>\n",
       "      <td>1.000</td>\n",
       "      <td>0.000000</td>\n",
       "    </tr>\n",
       "    <tr>\n",
       "      <th>24378</th>\n",
       "      <td>Why ca n't we just boil sea water to solve the...</td>\n",
       "      <td>Boiling water takes a ton of energy . Most of ...</td>\n",
       "      <td>1</td>\n",
       "      <td>Boiling water take ton energy . Most time 's f...</td>\n",
       "      <td>Boiling water take a ton of energy . Most of t...</td>\n",
       "      <td>109</td>\n",
       "      <td>7</td>\n",
       "      <td>532</td>\n",
       "      <td>15.571429</td>\n",
       "      <td>4.880734</td>\n",
       "      <td>0.410117</td>\n",
       "      <td>0.0</td>\n",
       "      <td>0.884</td>\n",
       "      <td>0.449524</td>\n",
       "    </tr>\n",
       "  </tbody>\n",
       "</table>\n",
       "</div>"
      ],
      "text/plain": [
       "                                                question  \\\n",
       "8098   Why does the exchange rate between countries f...   \n",
       "9426                                   when was srv born   \n",
       "24378  Why ca n't we just boil sea water to solve the...   \n",
       "\n",
       "                                                  answer  is_human  \\\n",
       "8098   Exchange rates fluctuate because they are dete...         0   \n",
       "9426   Stephen \"Stevie\" Ray Vaughan (October 3, 1954 ...         1   \n",
       "24378  Boiling water takes a ton of energy . Most of ...         1   \n",
       "\n",
       "                                         filtered_answer  \\\n",
       "8098   Exchange rate fluctuate determined supply dema...   \n",
       "9426   Stephen `` Stevie '' Ray Vaughan ( October 3 ,...   \n",
       "24378  Boiling water take ton energy . Most time 's f...   \n",
       "\n",
       "                                       lemmatised_answer  word_count  \\\n",
       "8098   Exchange rate fluctuate because they are deter...         251   \n",
       "9426   Stephen `` Stevie '' Ray Vaughan ( October 3 ,...          28   \n",
       "24378  Boiling water take a ton of energy . Most of t...         109   \n",
       "\n",
       "       sentence_count  char_count  avg_sentence_len  avg_word_len  polarity  \\\n",
       "8098               12        1304         20.916667      5.195219  0.543355   \n",
       "9426                1         131         28.000000      4.678571  0.000000   \n",
       "24378               7         532         15.571429      4.880734  0.410117   \n",
       "\n",
       "       negativity  neutrality  subjectivity  \n",
       "8098          0.1       0.655      0.421905  \n",
       "9426          0.0       1.000      0.000000  \n",
       "24378         0.0       0.884      0.449524  "
      ]
     },
     "execution_count": 53,
     "metadata": {},
     "output_type": "execute_result"
    }
   ],
   "source": [
    "df_cleaned.sample(3)"
   ]
  },
  {
   "attachments": {},
   "cell_type": "markdown",
   "metadata": {},
   "source": [
    "##### 2.3 Syntactic and Lexical Density\n",
    "\n",
    "##### 2.3.1 Lexical Density\n",
    "\n",
    "First, we will extract the lexical density of each answer. This will involve counting the number of lexical terms in each answer (nouns/proper nouns, adjectives, verbs, prepositions, and adverbs), and dividing them by the total number of words in the answer.\n",
    "\n",
    "First, install and import spaCy, and download the pre-trained en_core_web_sm model, which is optimised for CPU processing."
   ]
  },
  {
   "cell_type": "code",
   "execution_count": 53,
   "metadata": {},
   "outputs": [],
   "source": [
    "#!pip install spacy\n",
    "#!python -m spacy download en_core_web_sm"
   ]
  },
  {
   "cell_type": "code",
   "execution_count": 54,
   "metadata": {},
   "outputs": [],
   "source": [
    "import spacy"
   ]
  },
  {
   "cell_type": "markdown",
   "metadata": {},
   "source": [
    "Also, create an empty column for the lexical density feature"
   ]
  },
  {
   "cell_type": "code",
   "execution_count": 55,
   "metadata": {},
   "outputs": [],
   "source": [
    "df_cleaned['lexical_density'] = 0 # create an empty column for lexical density"
   ]
  },
  {
   "cell_type": "markdown",
   "metadata": {},
   "source": [
    "Load the spacy en_core_web_sm model, and a list of POS tags that denote lexical words"
   ]
  },
  {
   "cell_type": "code",
   "execution_count": 56,
   "metadata": {},
   "outputs": [],
   "source": [
    "nlp = spacy.load(\"en_core_web_sm\") # load spacy model\n",
    "tags = ['PROPN', 'ADJ', 'NOUN', 'VERB', 'ADP', 'ADV'] # load list of desired lexical word tags"
   ]
  },
  {
   "cell_type": "markdown",
   "metadata": {},
   "source": [
    "Finally, iterate through every row and count the number of lexical words. Then, divide the number of lexical words by the total word count to calculate the lexical density of each answer."
   ]
  },
  {
   "cell_type": "code",
   "execution_count": 57,
   "metadata": {},
   "outputs": [],
   "source": [
    "for i in range(len(df_cleaned)):\n",
    "    \n",
    "    answer = df_cleaned.at[i, 'answer'] #extract the answer text\n",
    "    word_count = df_cleaned.at[i, 'word_count'] #extract word count\n",
    "\n",
    "    lexical_word_cntr  = 0 #initialise counter for lexical words\n",
    "    ans_pos = nlp(answer) # analyse answer text using model\n",
    "\n",
    "    # for each word in the analysed answer\n",
    "    for token in ans_pos:\n",
    "        # check if it is a lexical word (POS tag is in the list of desired tags)\n",
    "        if token.pos_ in tags:\n",
    "            lexical_word_cntr += 1\n",
    "    \n",
    "    df_cleaned.at[i, 'lexical_density'] = lexical_word_cntr/word_count # calculate lexical density"
   ]
  },
  {
   "attachments": {},
   "cell_type": "markdown",
   "metadata": {},
   "source": [
    "##### 2.3.2 Named Entity Count\n",
    "\n",
    "Next, we will extract the named entity features. The count of named entities will be extracted using spaCy."
   ]
  },
  {
   "cell_type": "code",
   "execution_count": 58,
   "metadata": {},
   "outputs": [],
   "source": [
    "df_cleaned['NE_count'] = 0"
   ]
  },
  {
   "cell_type": "code",
   "execution_count": 59,
   "metadata": {},
   "outputs": [],
   "source": [
    "for i in range(len(df_cleaned)):\n",
    "    answer = df_cleaned.at[i, 'answer'] #extract the answer text\n",
    "    ans_NE = nlp(answer) # analyse answer text using the spaCy model\n",
    "    df_cleaned['NE_count'] = len(ans_NE.ents) #retrieve the NE count for each answer"
   ]
  },
  {
   "cell_type": "code",
   "execution_count": 60,
   "metadata": {},
   "outputs": [
    {
     "data": {
      "text/html": [
       "<div>\n",
       "<style scoped>\n",
       "    .dataframe tbody tr th:only-of-type {\n",
       "        vertical-align: middle;\n",
       "    }\n",
       "\n",
       "    .dataframe tbody tr th {\n",
       "        vertical-align: top;\n",
       "    }\n",
       "\n",
       "    .dataframe thead th {\n",
       "        text-align: right;\n",
       "    }\n",
       "</style>\n",
       "<table border=\"1\" class=\"dataframe\">\n",
       "  <thead>\n",
       "    <tr style=\"text-align: right;\">\n",
       "      <th></th>\n",
       "      <th>question</th>\n",
       "      <th>answer</th>\n",
       "      <th>is_human</th>\n",
       "      <th>filtered_answer</th>\n",
       "      <th>lemmatised_answer</th>\n",
       "      <th>word_count</th>\n",
       "      <th>sentence_count</th>\n",
       "      <th>char_count</th>\n",
       "      <th>avg_sentence_len</th>\n",
       "      <th>avg_word_len</th>\n",
       "      <th>polarity</th>\n",
       "      <th>negativity</th>\n",
       "      <th>neutrality</th>\n",
       "      <th>subjectivity</th>\n",
       "      <th>lexical_density</th>\n",
       "      <th>NE_count</th>\n",
       "    </tr>\n",
       "  </thead>\n",
       "  <tbody>\n",
       "    <tr>\n",
       "      <th>25422</th>\n",
       "      <td>Can everyday people profit from unexpected wor...</td>\n",
       "      <td>It is possible for everyday people to profit f...</td>\n",
       "      <td>0</td>\n",
       "      <td>It possible everyday people profit unexpected ...</td>\n",
       "      <td>It is possible for everyday people to profit f...</td>\n",
       "      <td>140</td>\n",
       "      <td>4</td>\n",
       "      <td>738</td>\n",
       "      <td>35.000000</td>\n",
       "      <td>5.271429</td>\n",
       "      <td>0.093230</td>\n",
       "      <td>0.193</td>\n",
       "      <td>0.613</td>\n",
       "      <td>0.685220</td>\n",
       "      <td>0.550000</td>\n",
       "      <td>5</td>\n",
       "    </tr>\n",
       "    <tr>\n",
       "      <th>27460</th>\n",
       "      <td>Is it legal to create copies of consoles such ...</td>\n",
       "      <td>The patents on the original NES expired in 200...</td>\n",
       "      <td>1</td>\n",
       "      <td>The patent original NES expired 2005 , 's lega...</td>\n",
       "      <td>The patent on the original NES expired in 2005...</td>\n",
       "      <td>121</td>\n",
       "      <td>7</td>\n",
       "      <td>601</td>\n",
       "      <td>17.285714</td>\n",
       "      <td>4.966942</td>\n",
       "      <td>0.478475</td>\n",
       "      <td>0.076</td>\n",
       "      <td>0.728</td>\n",
       "      <td>0.612500</td>\n",
       "      <td>0.512397</td>\n",
       "      <td>5</td>\n",
       "    </tr>\n",
       "    <tr>\n",
       "      <th>16351</th>\n",
       "      <td>Pleasewhy does it take my printer a full 5 min...</td>\n",
       "      <td>I 'm sure there 's a technical answer , but th...</td>\n",
       "      <td>1</td>\n",
       "      <td>I 'm sure 's technical answer , long short pri...</td>\n",
       "      <td>I 'm sure there 's a technical answer , but th...</td>\n",
       "      <td>362</td>\n",
       "      <td>14</td>\n",
       "      <td>1766</td>\n",
       "      <td>25.857143</td>\n",
       "      <td>4.878453</td>\n",
       "      <td>-0.384482</td>\n",
       "      <td>0.125</td>\n",
       "      <td>0.774</td>\n",
       "      <td>0.537831</td>\n",
       "      <td>0.533149</td>\n",
       "      <td>5</td>\n",
       "    </tr>\n",
       "  </tbody>\n",
       "</table>\n",
       "</div>"
      ],
      "text/plain": [
       "                                                question  \\\n",
       "25422  Can everyday people profit from unexpected wor...   \n",
       "27460  Is it legal to create copies of consoles such ...   \n",
       "16351  Pleasewhy does it take my printer a full 5 min...   \n",
       "\n",
       "                                                  answer  is_human  \\\n",
       "25422  It is possible for everyday people to profit f...         0   \n",
       "27460  The patents on the original NES expired in 200...         1   \n",
       "16351  I 'm sure there 's a technical answer , but th...         1   \n",
       "\n",
       "                                         filtered_answer  \\\n",
       "25422  It possible everyday people profit unexpected ...   \n",
       "27460  The patent original NES expired 2005 , 's lega...   \n",
       "16351  I 'm sure 's technical answer , long short pri...   \n",
       "\n",
       "                                       lemmatised_answer  word_count  \\\n",
       "25422  It is possible for everyday people to profit f...         140   \n",
       "27460  The patent on the original NES expired in 2005...         121   \n",
       "16351  I 'm sure there 's a technical answer , but th...         362   \n",
       "\n",
       "       sentence_count  char_count  avg_sentence_len  avg_word_len  polarity  \\\n",
       "25422               4         738         35.000000      5.271429  0.093230   \n",
       "27460               7         601         17.285714      4.966942  0.478475   \n",
       "16351              14        1766         25.857143      4.878453 -0.384482   \n",
       "\n",
       "       negativity  neutrality  subjectivity  lexical_density  NE_count  \n",
       "25422       0.193       0.613      0.685220         0.550000         5  \n",
       "27460       0.076       0.728      0.612500         0.512397         5  \n",
       "16351       0.125       0.774      0.537831         0.533149         5  "
      ]
     },
     "execution_count": 60,
     "metadata": {},
     "output_type": "execute_result"
    }
   ],
   "source": [
    "df_cleaned.sample(3)"
   ]
  },
  {
   "cell_type": "markdown",
   "metadata": {},
   "source": [
    "Since this feature takes a significant time to extract, we will save the current data to a csv file. \n",
    "\n",
    "This avoids the need to re-run the entire code again when refreshing the jupyter kernel/restarting the notebook."
   ]
  },
  {
   "cell_type": "code",
   "execution_count": 61,
   "metadata": {},
   "outputs": [],
   "source": [
    "df_cleaned.to_csv('intermediate_data_1.csv', mode='w')"
   ]
  },
  {
   "cell_type": "markdown",
   "metadata": {},
   "source": [
    "##### 2.3.3 Coreference Cluster Features\n",
    "\n",
    "\n",
    "Next, we will also extract the Coreference Cluster features - average coreference cluster length, and number of coreference clusters.\n",
    "\n",
    "This will be extracted using a pre-trained en_coreference_web_trf model from SpaCy's experimental package.\n",
    "\n",
    "First, we will need to install spacy-experimental, and download the pre-trained coreference cluster model. \n",
    "\n",
    "We will also install the tqdm package to print out a progress bar, so we can visualise the progress of the coreference cluster feature extraction (as coreference cluster extraction takes roughly 11-12 hours for the entire dataset)\n",
    "\n",
    "\n",
    "First, install the required packages and import modules"
   ]
  },
  {
   "cell_type": "code",
   "execution_count": 62,
   "metadata": {},
   "outputs": [],
   "source": [
    "#!pip install spacy-experimental\n",
    "#!pip install https://github.com/explosion/spacy-experimental/releases/download/v0.6.1/en_coreference_web_trf-3.4.0a2-py3-none-any.whl\n",
    "#!pip install tqdm"
   ]
  },
  {
   "cell_type": "code",
   "execution_count": 62,
   "metadata": {},
   "outputs": [],
   "source": [
    "import spacy\n",
    "import spacy_transformers\n",
    "from tqdm import tqdm"
   ]
  },
  {
   "cell_type": "markdown",
   "metadata": {},
   "source": [
    "Load the pretrained model, and read in the data from the intermediate csv file we saved earlier"
   ]
  },
  {
   "cell_type": "code",
   "execution_count": 63,
   "metadata": {},
   "outputs": [
    {
     "name": "stderr",
     "output_type": "stream",
     "text": [
      "c:\\Users\\Admin\\OneDrive - Microsoft 365\\Desktop\\Prototype 2\\.venv\\Lib\\site-packages\\spacy\\util.py:910: UserWarning: [W095] Model 'en_coreference_web_trf' (3.4.0a2) was trained with spaCy v3.3.0 and may not be 100% compatible with the current version (3.6.1). If you see errors or degraded performance, download a newer compatible model or retrain your custom model with the current spaCy version. For more details and available updates, run: python -m spacy validate\n",
      "  warnings.warn(warn_msg)\n"
     ]
    }
   ],
   "source": [
    "coref = spacy.load(\"en_coreference_web_trf\")"
   ]
  },
  {
   "cell_type": "code",
   "execution_count": 64,
   "metadata": {},
   "outputs": [],
   "source": [
    "df_cleaned = pd.read_csv('intermediate_data_1.csv')"
   ]
  },
  {
   "cell_type": "markdown",
   "metadata": {},
   "source": [
    "Also, create empty columns for the coreference cluster features"
   ]
  },
  {
   "cell_type": "code",
   "execution_count": 65,
   "metadata": {},
   "outputs": [],
   "source": [
    " # create empty columns for the coreference features\n",
    "df_cleaned['coref_count'] = 0\n",
    "df_cleaned['avg_coref_len'] = 0"
   ]
  },
  {
   "cell_type": "markdown",
   "metadata": {},
   "source": [
    "Next, iterate over all rows in the dataframe, and extract the coreference spans (clusters). \n",
    "\n",
    "This will allow us to count the number of coreference clusters, and calculate the average length of each cluster,"
   ]
  },
  {
   "cell_type": "code",
   "execution_count": 67,
   "metadata": {},
   "outputs": [
    {
     "name": "stderr",
     "output_type": "stream",
     "text": [
      "  3%|▎         | 1074/42780 [18:40<9:24:31,  1.23it/s] Token indices sequence length is longer than the specified maximum sequence length for this model (527 > 512). Running this sequence through the model will result in indexing errors\n",
      "100%|██████████| 42780/42780 [12:31:01<00:00,  1.05s/it]   \n"
     ]
    }
   ],
   "source": [
    "for i in tqdm(range(0, len(df_cleaned))):\n",
    "        answer = df_cleaned.at[i, 'answer'] #retrieve answer from df\n",
    "        doc = coref(answer) # analyse answer using pretrained coref model\n",
    "\n",
    "        coref_count = len(doc.spans) #get number of coref spans (clusters)\n",
    "\n",
    "        # skip answer if no coref spans detected, since no clusters results in a 0 coref cluster count and 0 avg coref length\n",
    "        # avoids div by 0 error\n",
    "        if coref_count == 0: \n",
    "            continue\n",
    "        \n",
    "        # initialise counter for total length of all coref spans\n",
    "        total_span_len = 0\n",
    "        # iterate over all spans, and add their length to the counter\n",
    "        for span in doc.spans:\n",
    "            total_span_len += len(doc.spans[span])\n",
    "\n",
    "        avg_span_len = total_span_len/coref_count #calcuate average span length\n",
    "\n",
    "        # set values in df\n",
    "        df_cleaned.at[i, 'avg_coref_len'] = avg_span_len\n",
    "        df_cleaned.at[i, 'coref_count'] = coref_count\n"
   ]
  },
  {
   "attachments": {},
   "cell_type": "markdown",
   "metadata": {},
   "source": [
    "Once again, we will save this to an intermediate csv file to avoid having to rerun this extraction again."
   ]
  },
  {
   "cell_type": "code",
   "execution_count": 68,
   "metadata": {},
   "outputs": [],
   "source": [
    "df_cleaned.to_csv('intermediate_data_2.csv', mode='w')"
   ]
  },
  {
   "cell_type": "markdown",
   "metadata": {},
   "source": [
    "##### 2.4 Frequency\n",
    "\n",
    "We will also be extracting 3 frequency features:\n",
    "\n",
    "1) Zipfian distribution difference\n",
    "2) Unique word count\n",
    "3) Stop word count"
   ]
  },
  {
   "cell_type": "markdown",
   "metadata": {},
   "source": [
    "##### 2.4.1 Zipfian Difference\n",
    "\n",
    "We will extract the difference between the text's Zipfian distribution line, and the Zipf's law line. (which we will refer to as Zipfian Difference)\n",
    "\n",
    "First, install matplotlib, which will be used to assist in visualising this method. \n",
    "\n",
    "Also, import the neccessary modules"
   ]
  },
  {
   "cell_type": "code",
   "execution_count": null,
   "metadata": {},
   "outputs": [],
   "source": [
    "# !pip install matplotlib"
   ]
  },
  {
   "cell_type": "code",
   "execution_count": 66,
   "metadata": {},
   "outputs": [],
   "source": [
    "import string\n",
    "import collections\n",
    "import pandas as pd\n",
    "import nltk\n",
    "from nltk import word_tokenize\n",
    "import matplotlib.pyplot as plt\n",
    "import numpy as np\n",
    "from tqdm import tqdm"
   ]
  },
  {
   "cell_type": "markdown",
   "metadata": {},
   "source": [
    "We will also read in the csv file saved in the last step"
   ]
  },
  {
   "cell_type": "code",
   "execution_count": 67,
   "metadata": {},
   "outputs": [],
   "source": [
    "df_cleaned = pd.read_csv('intermediate_data_2.csv')"
   ]
  },
  {
   "cell_type": "code",
   "execution_count": 68,
   "metadata": {},
   "outputs": [
    {
     "data": {
      "text/html": [
       "<div>\n",
       "<style scoped>\n",
       "    .dataframe tbody tr th:only-of-type {\n",
       "        vertical-align: middle;\n",
       "    }\n",
       "\n",
       "    .dataframe tbody tr th {\n",
       "        vertical-align: top;\n",
       "    }\n",
       "\n",
       "    .dataframe thead th {\n",
       "        text-align: right;\n",
       "    }\n",
       "</style>\n",
       "<table border=\"1\" class=\"dataframe\">\n",
       "  <thead>\n",
       "    <tr style=\"text-align: right;\">\n",
       "      <th></th>\n",
       "      <th>Unnamed: 0.1</th>\n",
       "      <th>Unnamed: 0</th>\n",
       "      <th>question</th>\n",
       "      <th>answer</th>\n",
       "      <th>is_human</th>\n",
       "      <th>filtered_answer</th>\n",
       "      <th>lemmatised_answer</th>\n",
       "      <th>word_count</th>\n",
       "      <th>sentence_count</th>\n",
       "      <th>char_count</th>\n",
       "      <th>avg_sentence_len</th>\n",
       "      <th>avg_word_len</th>\n",
       "      <th>polarity</th>\n",
       "      <th>negativity</th>\n",
       "      <th>neutrality</th>\n",
       "      <th>subjectivity</th>\n",
       "      <th>lexical_density</th>\n",
       "      <th>NE_count</th>\n",
       "      <th>coref_count</th>\n",
       "      <th>avg_coref_len</th>\n",
       "    </tr>\n",
       "  </thead>\n",
       "  <tbody>\n",
       "    <tr>\n",
       "      <th>13787</th>\n",
       "      <td>13787</td>\n",
       "      <td>13787</td>\n",
       "      <td>Himalayas So the Indian plate is colliding int...</td>\n",
       "      <td>Eventually , it will be under the Eurasian pla...</td>\n",
       "      <td>1</td>\n",
       "      <td>Eventually , Eurasian plate . Parts scrape ont...</td>\n",
       "      <td>Eventually , it will be under the Eurasian pla...</td>\n",
       "      <td>309</td>\n",
       "      <td>11</td>\n",
       "      <td>1559</td>\n",
       "      <td>28.090909</td>\n",
       "      <td>5.045307</td>\n",
       "      <td>0.325575</td>\n",
       "      <td>0.035</td>\n",
       "      <td>0.907</td>\n",
       "      <td>0.327083</td>\n",
       "      <td>0.550162</td>\n",
       "      <td>4</td>\n",
       "      <td>10</td>\n",
       "      <td>2.800</td>\n",
       "    </tr>\n",
       "    <tr>\n",
       "      <th>20002</th>\n",
       "      <td>20002</td>\n",
       "      <td>20002</td>\n",
       "      <td>How does alcohol disinfect a wound or a given ...</td>\n",
       "      <td>Alcohol is a very effective disinfectant becau...</td>\n",
       "      <td>0</td>\n",
       "      <td>Alcohol effective disinfectant able kill wide ...</td>\n",
       "      <td>Alcohol is a very effective disinfectant becau...</td>\n",
       "      <td>209</td>\n",
       "      <td>8</td>\n",
       "      <td>1182</td>\n",
       "      <td>26.125000</td>\n",
       "      <td>5.655502</td>\n",
       "      <td>0.422867</td>\n",
       "      <td>0.104</td>\n",
       "      <td>0.719</td>\n",
       "      <td>0.553125</td>\n",
       "      <td>0.569378</td>\n",
       "      <td>4</td>\n",
       "      <td>8</td>\n",
       "      <td>3.125</td>\n",
       "    </tr>\n",
       "    <tr>\n",
       "      <th>30410</th>\n",
       "      <td>30410</td>\n",
       "      <td>30410</td>\n",
       "      <td>Why is making a nuclear bomb so hard ? Why is ...</td>\n",
       "      <td>Making a nuclear bomb is difficult for several...</td>\n",
       "      <td>0</td>\n",
       "      <td>Making nuclear bomb difficult several reason ....</td>\n",
       "      <td>Making a nuclear bomb is difficult for several...</td>\n",
       "      <td>172</td>\n",
       "      <td>10</td>\n",
       "      <td>964</td>\n",
       "      <td>17.200000</td>\n",
       "      <td>5.604651</td>\n",
       "      <td>-0.495338</td>\n",
       "      <td>0.259</td>\n",
       "      <td>0.658</td>\n",
       "      <td>0.504339</td>\n",
       "      <td>0.563953</td>\n",
       "      <td>4</td>\n",
       "      <td>4</td>\n",
       "      <td>3.000</td>\n",
       "    </tr>\n",
       "  </tbody>\n",
       "</table>\n",
       "</div>"
      ],
      "text/plain": [
       "       Unnamed: 0.1  Unnamed: 0  \\\n",
       "13787         13787       13787   \n",
       "20002         20002       20002   \n",
       "30410         30410       30410   \n",
       "\n",
       "                                                question  \\\n",
       "13787  Himalayas So the Indian plate is colliding int...   \n",
       "20002  How does alcohol disinfect a wound or a given ...   \n",
       "30410  Why is making a nuclear bomb so hard ? Why is ...   \n",
       "\n",
       "                                                  answer  is_human  \\\n",
       "13787  Eventually , it will be under the Eurasian pla...         1   \n",
       "20002  Alcohol is a very effective disinfectant becau...         0   \n",
       "30410  Making a nuclear bomb is difficult for several...         0   \n",
       "\n",
       "                                         filtered_answer  \\\n",
       "13787  Eventually , Eurasian plate . Parts scrape ont...   \n",
       "20002  Alcohol effective disinfectant able kill wide ...   \n",
       "30410  Making nuclear bomb difficult several reason ....   \n",
       "\n",
       "                                       lemmatised_answer  word_count  \\\n",
       "13787  Eventually , it will be under the Eurasian pla...         309   \n",
       "20002  Alcohol is a very effective disinfectant becau...         209   \n",
       "30410  Making a nuclear bomb is difficult for several...         172   \n",
       "\n",
       "       sentence_count  char_count  avg_sentence_len  avg_word_len  polarity  \\\n",
       "13787              11        1559         28.090909      5.045307  0.325575   \n",
       "20002               8        1182         26.125000      5.655502  0.422867   \n",
       "30410              10         964         17.200000      5.604651 -0.495338   \n",
       "\n",
       "       negativity  neutrality  subjectivity  lexical_density  NE_count  \\\n",
       "13787       0.035       0.907      0.327083         0.550162         4   \n",
       "20002       0.104       0.719      0.553125         0.569378         4   \n",
       "30410       0.259       0.658      0.504339         0.563953         4   \n",
       "\n",
       "       coref_count  avg_coref_len  \n",
       "13787           10          2.800  \n",
       "20002            8          3.125  \n",
       "30410            4          3.000  "
      ]
     },
     "execution_count": 68,
     "metadata": {},
     "output_type": "execute_result"
    }
   ],
   "source": [
    "df_cleaned.sample(3)"
   ]
  },
  {
   "cell_type": "markdown",
   "metadata": {},
   "source": [
    "In order to better illustrate this method, we will show the entire process on a random sample answer, before applying it to the entire text.\n",
    "\n",
    "To start, we will extract the lemmatised answer (inclusive of stopwords) from the dataframe, and strip its punctuation. The lemmatised answer is used to reduce each word to its base form for counting (e.g., jump, jumped, jumping should all be reduced to 'jump' for counting)"
   ]
  },
  {
   "cell_type": "code",
   "execution_count": 74,
   "metadata": {},
   "outputs": [],
   "source": [
    "answer = df_cleaned.at[np.random.randint(0, high = len(df_cleaned)), 'lemmatised_answer'] #extract lemmatised answer\n",
    "answer = answer.translate(str.maketrans('', '', string.punctuation)) # strip punctuation"
   ]
  },
  {
   "cell_type": "markdown",
   "metadata": {},
   "source": [
    "Next, we will tokenise the answer, and convert it to a frequency distribution"
   ]
  },
  {
   "cell_type": "code",
   "execution_count": 75,
   "metadata": {},
   "outputs": [
    {
     "data": {
      "text/plain": [
       "FreqDist({'is': 15, 'a': 14, 'of': 12, 'to': 10, 'the': 10, 'energy': 9, 'it': 7, 'transfer': 6, 'and': 6, 'device': 5, ...})"
      ]
     },
     "execution_count": 75,
     "metadata": {},
     "output_type": "execute_result"
    }
   ],
   "source": [
    "tokens = word_tokenize(answer) #tokenise answer\n",
    "freq_dist = nltk.FreqDist(tokens) # create freqdist\n",
    "freq_dist"
   ]
  },
  {
   "cell_type": "markdown",
   "metadata": {},
   "source": [
    "Next, we will convert the frequency distribution to a ordered dictionary, sorted in descending order of word frequency. \n",
    "\n",
    "This is so we can preseve the order of the dictionary, which will be used to plotting later on."
   ]
  },
  {
   "cell_type": "code",
   "execution_count": 76,
   "metadata": {},
   "outputs": [
    {
     "name": "stdout",
     "output_type": "stream",
     "text": [
      "OrderedDict([('is', 15), ('a', 14), ('of', 12), ('to', 10), ('the', 10), ('energy', 9), ('it', 7), ('transfer', 6), ('and', 6), ('device', 5), ('can', 5), ('through', 5), ('electromagnetic', 4), ('type', 4), ('that', 4), ('which', 3), ('are', 3), ('be', 3), ('or', 3), ('other', 3), ('This', 3), ('for', 3), ('way', 3), ('wirelessly', 3), ('use', 3), ('field', 3), ('this', 3), ('Wireless', 2), ('data', 2), ('possible', 2), ('wave', 2), ('transmit', 2), ('information', 2), ('from', 2), ('one', 2), ('another', 2), ('air', 2), ('on', 2), ('transmitting', 2), ('without', 2), ('scientist', 2), ('there', 2), ('One', 2), ('wireless', 2), ('called', 2), ('Tesla', 2), ('However', 2), ('not', 2), ('area', 2), ('in', 2), ('because', 1), ('us', 1), ('These', 1), ('sent', 1), ('material', 1), ('such', 1), ('water', 1), ('glass', 1), ('hand', 1), ('process', 1), ('electrical', 1), ('place', 1), ('using', 1), ('wire', 1), ('something', 1), ('engineer', 1), ('have', 1), ('been', 1), ('working', 1), ('long', 1), ('time', 1), ('few', 1), ('different', 1), ('done', 1), ('similar', 1), ('how', 1), ('transferred', 1), ('but', 1), ('instead', 1), ('goal', 1), ('example', 1), ('charging', 1), ('pad', 1), ('charge', 1), ('electronic', 1), ('like', 1), ('smartphones', 1), ('tablet', 1), ('need', 1), ('physical', 1), ('connection', 1), ('Another', 1), ('coil', 1), ('highvoltage', 1), ('transformer', 1), ('invented', 1), ('by', 1), ('Nikola', 1), ('able', 1), ('produce', 1), ('powerful', 1), ('very', 1), ('practical', 1), ('everyday', 1), ('requires', 1), ('lot', 1), ('power', 1), ('dangerous', 1), ('if', 1), ('used', 1), ('carefully', 1), ('Overall', 1), ('while', 1), ('still', 1), ('an', 1), ('active', 1), ('research', 1), ('development', 1), ('many', 1), ('challenge', 1), ('overcome', 1), ('before', 1), ('becomes', 1), ('widespread', 1), ('technology', 1), ('our', 1), ('understanding', 1), ('improves', 1), ('likely', 1), ('we', 1), ('will', 1), ('see', 1), ('more', 1), ('progress', 1), ('future', 1)])\n"
     ]
    }
   ],
   "source": [
    "freq_dict = dict([(m, n) for m, n in freq_dist.items()]) # create dictionary from frequecy distribution\n",
    "freq_dict = collections.OrderedDict(dict(sorted(freq_dict.items(), key=lambda item: item[1], reverse=True))) # sort the items, and create an ordered dictionary \n",
    "print(freq_dict)"
   ]
  },
  {
   "cell_type": "markdown",
   "metadata": {},
   "source": [
    "Next, we will need to change the key from a word to its frequency rank (e.g., 1st, 2nd, 3rd most frequent word) using a counter.\n",
    "\n",
    "As ordered dictionaries are immutable, we will instead use a new dictionary, final_freq_dict, and add each item in freq_dict to this dictionary. "
   ]
  },
  {
   "cell_type": "code",
   "execution_count": 77,
   "metadata": {},
   "outputs": [
    {
     "name": "stdout",
     "output_type": "stream",
     "text": [
      "OrderedDict([(1, 15), (2, 14), (3, 12), (4, 10), (5, 10), (6, 9), (7, 7), (8, 6), (9, 6), (10, 5), (11, 5), (12, 5), (13, 4), (14, 4), (15, 4), (16, 3), (17, 3), (18, 3), (19, 3), (20, 3), (21, 3), (22, 3), (23, 3), (24, 3), (25, 3), (26, 3), (27, 3), (28, 2), (29, 2), (30, 2), (31, 2), (32, 2), (33, 2), (34, 2), (35, 2), (36, 2), (37, 2), (38, 2), (39, 2), (40, 2), (41, 2), (42, 2), (43, 2), (44, 2), (45, 2), (46, 2), (47, 2), (48, 2), (49, 2), (50, 2), (51, 1), (52, 1), (53, 1), (54, 1), (55, 1), (56, 1), (57, 1), (58, 1), (59, 1), (60, 1), (61, 1), (62, 1), (63, 1), (64, 1), (65, 1), (66, 1), (67, 1), (68, 1), (69, 1), (70, 1), (71, 1), (72, 1), (73, 1), (74, 1), (75, 1), (76, 1), (77, 1), (78, 1), (79, 1), (80, 1), (81, 1), (82, 1), (83, 1), (84, 1), (85, 1), (86, 1), (87, 1), (88, 1), (89, 1), (90, 1), (91, 1), (92, 1), (93, 1), (94, 1), (95, 1), (96, 1), (97, 1), (98, 1), (99, 1), (100, 1), (101, 1), (102, 1), (103, 1), (104, 1), (105, 1), (106, 1), (107, 1), (108, 1), (109, 1), (110, 1), (111, 1), (112, 1), (113, 1), (114, 1), (115, 1), (116, 1), (117, 1), (118, 1), (119, 1), (120, 1), (121, 1), (122, 1), (123, 1), (124, 1), (125, 1), (126, 1), (127, 1), (128, 1), (129, 1), (130, 1), (131, 1), (132, 1), (133, 1), (134, 1), (135, 1)])\n"
     ]
    }
   ],
   "source": [
    "cntr = 1 #initialise counter\n",
    "final_freq_dict = collections.OrderedDict() #initliase final frequency dict\n",
    "\n",
    "for key in freq_dict.keys():\n",
    "    final_freq_dict[cntr] = freq_dict[key] # add each item to final_freq_dict, and change the key to the frequency rank\n",
    "    cntr += 1 #increment counter\n",
    "\n",
    "print(final_freq_dict)"
   ]
  },
  {
   "cell_type": "markdown",
   "metadata": {},
   "source": [
    "Next, we will plot the scatter plot, and its best fit line on a log-log scale."
   ]
  },
  {
   "cell_type": "code",
   "execution_count": 78,
   "metadata": {},
   "outputs": [
    {
     "data": {
      "image/png": "[encoded data removed]",
      "text/plain": [
       "<Figure size 900x600 with 1 Axes>"
      ]
     },
     "metadata": {},
     "output_type": "display_data"
    }
   ],
   "source": [
    "x = np.array([int(i) for i in final_freq_dict.keys()]) # frequency rank as x axis\n",
    "y = np.array([int(i) for i in final_freq_dict.values()]) # frequency percentage as y axis\n",
    "\n",
    "fig, ax = plt.subplots(figsize = (9, 6))\n",
    "\n",
    "# change scale to log-log\n",
    "ax.set_yscale(\"log\")\n",
    "ax.set_xscale(\"log\")\n",
    "\n",
    "#set x and y labels\n",
    "plt.xlabel('log rank')\n",
    "plt.ylabel('log frequency')\n",
    "\n",
    "#add plot scatter plot\n",
    "ax.scatter(x, y)\n",
    "\n",
    "# calcuate best fit line on a log-log scale (referenced from Craig [2017])\n",
    "slope, intercept = np.polyfit(np.log(x), np.log(y), 1) # fit log(y) = m*log(x) + c\n",
    "y_fit = np.exp(slope * np.log(x) + intercept) # calculate the fitted values of y \n",
    "ax.plot(x, y_fit)\n",
    "\n",
    "plt.show()"
   ]
  },
  {
   "cell_type": "markdown",
   "metadata": {},
   "source": [
    "In order to calcuate the difference between the text' Zipfian Difference, we will use the absolute difference in the gradient between the plotted line, and the Zipf's law line (which has a gradient of -1 on a log-log scale)"
   ]
  },
  {
   "cell_type": "code",
   "execution_count": 79,
   "metadata": {},
   "outputs": [
    {
     "name": "stdout",
     "output_type": "stream",
     "text": [
      "The line gradient is: -0.6848123376016977\n",
      "The difference between the line and Zipf's law is 0.3151876623983023\n"
     ]
    }
   ],
   "source": [
    "print(f'The line gradient is: {slope}')\n",
    "print(f'The difference between the line and Zipf\\'s law is {np.absolute(-1 - slope)}')"
   ]
  },
  {
   "cell_type": "markdown",
   "metadata": {},
   "source": [
    "Next, we will gather the above method into a function (minus the line plotting code, as we only need the gradient of the line, and do not need to plot and show the actual graph) called calc_zipfian_diff, so we can call it on each row of the dataframe."
   ]
  },
  {
   "cell_type": "code",
   "execution_count": 80,
   "metadata": {},
   "outputs": [],
   "source": [
    "def calc_zipfian_diff(row):\n",
    "    answer = df_cleaned.at[row, 'lemmatised_answer'] #extract answer\n",
    "    answer = answer.translate(str.maketrans('', '', string.punctuation)) # strip punctuation\n",
    "    tokens = word_tokenize(answer) #tokenise answer\n",
    "    freq_dist = nltk.FreqDist(tokens) # create freqdist\n",
    "    \n",
    "    freq_dict = dict([(m, n) for m, n in freq_dist.items()]) # create dictionary from frequecy distribution\n",
    "    freq_dict = collections.OrderedDict(dict(sorted(freq_dict.items(), key=lambda item: item[1], reverse=True))) # sort the items, and create an ordered dictionary\n",
    "\n",
    "    cntr = 1 #initialise counter\n",
    "    final_freq_dict = collections.OrderedDict() #initliase final frequency dict\n",
    "\n",
    "    for key in freq_dict.keys():\n",
    "        final_freq_dict[cntr] = freq_dict[key] # add each item to final_freq_dict, and change the key to the frequency rank\n",
    "        cntr += 1 #increment counter\n",
    "\n",
    "    x = np.array([int(i) for i in final_freq_dict.keys()]) # frequency rank as x axis\n",
    "    y = np.array([int(i) for i in final_freq_dict.values()]) # frequency percentage as y axis\n",
    "\n",
    "    # calcuate best fit line on a log-log scale (referenced from https://stackoverflow.com/questions/43837179/best-fit-line-on-log-log-scales-in-python-2-7)\n",
    "    slope, intercept = np.polyfit(np.log(x), np.log(y), 1) # fit log(y) = m*log(x) + c\n",
    "\n",
    "\n",
    "    zipfian_diff = np.absolute(-1 - slope) # get absolute difference between the gradient and Zipf's Law line\n",
    "\n",
    "    return zipfian_diff"
   ]
  },
  {
   "cell_type": "markdown",
   "metadata": {},
   "source": [
    "Next, we can call the function on each row to find the Zipfian Difference for each answer."
   ]
  },
  {
   "cell_type": "code",
   "execution_count": 81,
   "metadata": {},
   "outputs": [],
   "source": [
    "df_cleaned['zipfian_difference'] = 0 #initalise empty column for zipfian difference"
   ]
  },
  {
   "cell_type": "code",
   "execution_count": 82,
   "metadata": {},
   "outputs": [],
   "source": [
    "for i in range(0, len(df_cleaned)):\n",
    "    df_cleaned.at[i, 'zipfian_difference'] = calc_zipfian_diff(i)"
   ]
  },
  {
   "cell_type": "code",
   "execution_count": 83,
   "metadata": {},
   "outputs": [
    {
     "data": {
      "text/html": [
       "<div>\n",
       "<style scoped>\n",
       "    .dataframe tbody tr th:only-of-type {\n",
       "        vertical-align: middle;\n",
       "    }\n",
       "\n",
       "    .dataframe tbody tr th {\n",
       "        vertical-align: top;\n",
       "    }\n",
       "\n",
       "    .dataframe thead th {\n",
       "        text-align: right;\n",
       "    }\n",
       "</style>\n",
       "<table border=\"1\" class=\"dataframe\">\n",
       "  <thead>\n",
       "    <tr style=\"text-align: right;\">\n",
       "      <th></th>\n",
       "      <th>Unnamed: 0.1</th>\n",
       "      <th>Unnamed: 0</th>\n",
       "      <th>question</th>\n",
       "      <th>answer</th>\n",
       "      <th>is_human</th>\n",
       "      <th>filtered_answer</th>\n",
       "      <th>lemmatised_answer</th>\n",
       "      <th>word_count</th>\n",
       "      <th>sentence_count</th>\n",
       "      <th>char_count</th>\n",
       "      <th>...</th>\n",
       "      <th>avg_word_len</th>\n",
       "      <th>polarity</th>\n",
       "      <th>negativity</th>\n",
       "      <th>neutrality</th>\n",
       "      <th>subjectivity</th>\n",
       "      <th>lexical_density</th>\n",
       "      <th>NE_count</th>\n",
       "      <th>coref_count</th>\n",
       "      <th>avg_coref_len</th>\n",
       "      <th>zipfian_difference</th>\n",
       "    </tr>\n",
       "  </thead>\n",
       "  <tbody>\n",
       "    <tr>\n",
       "      <th>35174</th>\n",
       "      <td>35174</td>\n",
       "      <td>35174</td>\n",
       "      <td>Why are circles exactly 360 degrees ? Why are ...</td>\n",
       "      <td>Circles are 360 degrees because that's just ho...</td>\n",
       "      <td>0</td>\n",
       "      <td>Circles 360 degree 's 's always done ! People ...</td>\n",
       "      <td>Circles are 360 degree because that 's just ho...</td>\n",
       "      <td>204</td>\n",
       "      <td>8</td>\n",
       "      <td>908</td>\n",
       "      <td>...</td>\n",
       "      <td>4.450980</td>\n",
       "      <td>0.523800</td>\n",
       "      <td>0.000</td>\n",
       "      <td>0.816</td>\n",
       "      <td>0.371667</td>\n",
       "      <td>0.465686</td>\n",
       "      <td>4</td>\n",
       "      <td>5</td>\n",
       "      <td>3.000</td>\n",
       "      <td>0.391630</td>\n",
       "    </tr>\n",
       "    <tr>\n",
       "      <th>20792</th>\n",
       "      <td>20792</td>\n",
       "      <td>20792</td>\n",
       "      <td>Why do two negative numbers yield a positive n...</td>\n",
       "      <td>Great question! When we multiply two negative ...</td>\n",
       "      <td>0</td>\n",
       "      <td>Great question ! When multiply two negative nu...</td>\n",
       "      <td>Great question ! When we multiply two negative...</td>\n",
       "      <td>151</td>\n",
       "      <td>7</td>\n",
       "      <td>784</td>\n",
       "      <td>...</td>\n",
       "      <td>5.192053</td>\n",
       "      <td>-0.513620</td>\n",
       "      <td>0.277</td>\n",
       "      <td>0.532</td>\n",
       "      <td>0.400994</td>\n",
       "      <td>0.503311</td>\n",
       "      <td>4</td>\n",
       "      <td>2</td>\n",
       "      <td>6.500</td>\n",
       "      <td>0.351628</td>\n",
       "    </tr>\n",
       "    <tr>\n",
       "      <th>41728</th>\n",
       "      <td>41728</td>\n",
       "      <td>41728</td>\n",
       "      <td>Does food sit normally in your stomach in spac...</td>\n",
       "      <td>In space, food can behave a bit differently th...</td>\n",
       "      <td>0</td>\n",
       "      <td>In space , food behave bit differently Earth ....</td>\n",
       "      <td>In space , food can behave a bit differently t...</td>\n",
       "      <td>196</td>\n",
       "      <td>7</td>\n",
       "      <td>936</td>\n",
       "      <td>...</td>\n",
       "      <td>4.775510</td>\n",
       "      <td>-0.106007</td>\n",
       "      <td>0.073</td>\n",
       "      <td>0.874</td>\n",
       "      <td>0.521429</td>\n",
       "      <td>0.525510</td>\n",
       "      <td>4</td>\n",
       "      <td>8</td>\n",
       "      <td>3.125</td>\n",
       "      <td>0.359051</td>\n",
       "    </tr>\n",
       "  </tbody>\n",
       "</table>\n",
       "<p>3 rows × 21 columns</p>\n",
       "</div>"
      ],
      "text/plain": [
       "       Unnamed: 0.1  Unnamed: 0  \\\n",
       "35174         35174       35174   \n",
       "20792         20792       20792   \n",
       "41728         41728       41728   \n",
       "\n",
       "                                                question  \\\n",
       "35174  Why are circles exactly 360 degrees ? Why are ...   \n",
       "20792  Why do two negative numbers yield a positive n...   \n",
       "41728  Does food sit normally in your stomach in spac...   \n",
       "\n",
       "                                                  answer  is_human  \\\n",
       "35174  Circles are 360 degrees because that's just ho...         0   \n",
       "20792  Great question! When we multiply two negative ...         0   \n",
       "41728  In space, food can behave a bit differently th...         0   \n",
       "\n",
       "                                         filtered_answer  \\\n",
       "35174  Circles 360 degree 's 's always done ! People ...   \n",
       "20792  Great question ! When multiply two negative nu...   \n",
       "41728  In space , food behave bit differently Earth ....   \n",
       "\n",
       "                                       lemmatised_answer  word_count  \\\n",
       "35174  Circles are 360 degree because that 's just ho...         204   \n",
       "20792  Great question ! When we multiply two negative...         151   \n",
       "41728  In space , food can behave a bit differently t...         196   \n",
       "\n",
       "       sentence_count  char_count  ...  avg_word_len  polarity  negativity  \\\n",
       "35174               8         908  ...      4.450980  0.523800       0.000   \n",
       "20792               7         784  ...      5.192053 -0.513620       0.277   \n",
       "41728               7         936  ...      4.775510 -0.106007       0.073   \n",
       "\n",
       "       neutrality  subjectivity  lexical_density  NE_count  coref_count  \\\n",
       "35174       0.816      0.371667         0.465686         4            5   \n",
       "20792       0.532      0.400994         0.503311         4            2   \n",
       "41728       0.874      0.521429         0.525510         4            8   \n",
       "\n",
       "       avg_coref_len  zipfian_difference  \n",
       "35174          3.000            0.391630  \n",
       "20792          6.500            0.351628  \n",
       "41728          3.125            0.359051  \n",
       "\n",
       "[3 rows x 21 columns]"
      ]
     },
     "execution_count": 83,
     "metadata": {},
     "output_type": "execute_result"
    }
   ],
   "source": [
    "df_cleaned.sample(3)"
   ]
  },
  {
   "cell_type": "markdown",
   "metadata": {},
   "source": [
    "##### 2.4.2 Unique Word Count and Stopword Count\n",
    "\n",
    "We will also extract the unique word proportion and stopword proportion for each text.\n",
    "\n",
    "We will quantify this by:\n",
    "\n",
    "1) extracting the proportion of unique words in each answer, divided over the length of the entire answer\n",
    "2) extracting the proportion of the answer that is made up of stopwords"
   ]
  },
  {
   "cell_type": "code",
   "execution_count": 84,
   "metadata": {},
   "outputs": [],
   "source": [
    "from nltk import word_tokenize\n",
    "from nltk.corpus import stopwords"
   ]
  },
  {
   "cell_type": "code",
   "execution_count": 88,
   "metadata": {},
   "outputs": [],
   "source": [
    "df_cleaned['unique_word_proportion'] = 0\n",
    "df_cleaned['stopword_proportion'] = 0"
   ]
  },
  {
   "cell_type": "code",
   "execution_count": 89,
   "metadata": {},
   "outputs": [],
   "source": [
    "for i in range(0, len(df_cleaned)):\n",
    "    answer = df_cleaned.at[i, 'answer'] #retrieve answer from df\n",
    "    word_count = df_cleaned.at[i, 'word_count'] #extract word count from df\n",
    "\n",
    "    tokens = word_tokenize(answer) # tokenise answer\n",
    "    \n",
    "    unique_word_count = len(set(tokens)) # get number of unique words \n",
    "\n",
    "    tokens_no_stopwords = [token for token in tokens if token not in stopwords] # create a list of tokens without stopwords\n",
    "    stopword_count = word_count - len(tokens_no_stopwords) # calculate number of stopwords\n",
    "\n",
    "    df_cleaned.at[i, 'unique_word_proportion'] = (unique_word_count/word_count) #calcuate unique word proportion\n",
    "    df_cleaned.at[i, 'stopword_proportion'] = (stopword_count/word_count) # calculate stopword proportion"
   ]
  },
  {
   "cell_type": "code",
   "execution_count": 90,
   "metadata": {},
   "outputs": [
    {
     "data": {
      "text/html": [
       "<div>\n",
       "<style scoped>\n",
       "    .dataframe tbody tr th:only-of-type {\n",
       "        vertical-align: middle;\n",
       "    }\n",
       "\n",
       "    .dataframe tbody tr th {\n",
       "        vertical-align: top;\n",
       "    }\n",
       "\n",
       "    .dataframe thead th {\n",
       "        text-align: right;\n",
       "    }\n",
       "</style>\n",
       "<table border=\"1\" class=\"dataframe\">\n",
       "  <thead>\n",
       "    <tr style=\"text-align: right;\">\n",
       "      <th></th>\n",
       "      <th>Unnamed: 0.1</th>\n",
       "      <th>Unnamed: 0</th>\n",
       "      <th>question</th>\n",
       "      <th>answer</th>\n",
       "      <th>is_human</th>\n",
       "      <th>filtered_answer</th>\n",
       "      <th>lemmatised_answer</th>\n",
       "      <th>word_count</th>\n",
       "      <th>sentence_count</th>\n",
       "      <th>char_count</th>\n",
       "      <th>...</th>\n",
       "      <th>negativity</th>\n",
       "      <th>neutrality</th>\n",
       "      <th>subjectivity</th>\n",
       "      <th>lexical_density</th>\n",
       "      <th>NE_count</th>\n",
       "      <th>coref_count</th>\n",
       "      <th>avg_coref_len</th>\n",
       "      <th>zipfian_difference</th>\n",
       "      <th>unique_word_proportion</th>\n",
       "      <th>stopword_proportion</th>\n",
       "    </tr>\n",
       "  </thead>\n",
       "  <tbody>\n",
       "    <tr>\n",
       "      <th>37284</th>\n",
       "      <td>37284</td>\n",
       "      <td>37284</td>\n",
       "      <td>Why are there no drugs that make us dramatical...</td>\n",
       "      <td>There 's a million ways to break a car , rangi...</td>\n",
       "      <td>1</td>\n",
       "      <td>There 's million way break car , ranging baseb...</td>\n",
       "      <td>There 's a million way to break a car , rangin...</td>\n",
       "      <td>440</td>\n",
       "      <td>15</td>\n",
       "      <td>2388</td>\n",
       "      <td>...</td>\n",
       "      <td>0.054</td>\n",
       "      <td>0.687</td>\n",
       "      <td>0.444821</td>\n",
       "      <td>0.572727</td>\n",
       "      <td>4</td>\n",
       "      <td>5</td>\n",
       "      <td>2.8</td>\n",
       "      <td>0.439770</td>\n",
       "      <td>0.538636</td>\n",
       "      <td>0.300000</td>\n",
       "    </tr>\n",
       "    <tr>\n",
       "      <th>12540</th>\n",
       "      <td>12540</td>\n",
       "      <td>12540</td>\n",
       "      <td>Why are imported chinese products of such low ...</td>\n",
       "      <td>Because you usually do n't know its from China...</td>\n",
       "      <td>1</td>\n",
       "      <td>Because usually n't know China high quality . ...</td>\n",
       "      <td>Because you usually do n't know it from China ...</td>\n",
       "      <td>149</td>\n",
       "      <td>9</td>\n",
       "      <td>762</td>\n",
       "      <td>...</td>\n",
       "      <td>0.027</td>\n",
       "      <td>0.856</td>\n",
       "      <td>0.383846</td>\n",
       "      <td>0.489933</td>\n",
       "      <td>4</td>\n",
       "      <td>5</td>\n",
       "      <td>2.6</td>\n",
       "      <td>0.476817</td>\n",
       "      <td>0.597315</td>\n",
       "      <td>0.409396</td>\n",
       "    </tr>\n",
       "    <tr>\n",
       "      <th>15387</th>\n",
       "      <td>15387</td>\n",
       "      <td>15387</td>\n",
       "      <td>Can I get my property taxes lowered?</td>\n",
       "      <td>It is possible to get your property taxes lowe...</td>\n",
       "      <td>0</td>\n",
       "      <td>It possible get property tax lowered , process...</td>\n",
       "      <td>It is possible to get your property tax lowere...</td>\n",
       "      <td>384</td>\n",
       "      <td>12</td>\n",
       "      <td>2088</td>\n",
       "      <td>...</td>\n",
       "      <td>0.081</td>\n",
       "      <td>0.752</td>\n",
       "      <td>0.344700</td>\n",
       "      <td>0.565104</td>\n",
       "      <td>4</td>\n",
       "      <td>5</td>\n",
       "      <td>2.2</td>\n",
       "      <td>0.260105</td>\n",
       "      <td>0.424479</td>\n",
       "      <td>0.429688</td>\n",
       "    </tr>\n",
       "  </tbody>\n",
       "</table>\n",
       "<p>3 rows × 23 columns</p>\n",
       "</div>"
      ],
      "text/plain": [
       "       Unnamed: 0.1  Unnamed: 0  \\\n",
       "37284         37284       37284   \n",
       "12540         12540       12540   \n",
       "15387         15387       15387   \n",
       "\n",
       "                                                question  \\\n",
       "37284  Why are there no drugs that make us dramatical...   \n",
       "12540  Why are imported chinese products of such low ...   \n",
       "15387               Can I get my property taxes lowered?   \n",
       "\n",
       "                                                  answer  is_human  \\\n",
       "37284  There 's a million ways to break a car , rangi...         1   \n",
       "12540  Because you usually do n't know its from China...         1   \n",
       "15387  It is possible to get your property taxes lowe...         0   \n",
       "\n",
       "                                         filtered_answer  \\\n",
       "37284  There 's million way break car , ranging baseb...   \n",
       "12540  Because usually n't know China high quality . ...   \n",
       "15387  It possible get property tax lowered , process...   \n",
       "\n",
       "                                       lemmatised_answer  word_count  \\\n",
       "37284  There 's a million way to break a car , rangin...         440   \n",
       "12540  Because you usually do n't know it from China ...         149   \n",
       "15387  It is possible to get your property tax lowere...         384   \n",
       "\n",
       "       sentence_count  char_count  ...  negativity  neutrality  subjectivity  \\\n",
       "37284              15        2388  ...       0.054       0.687      0.444821   \n",
       "12540               9         762  ...       0.027       0.856      0.383846   \n",
       "15387              12        2088  ...       0.081       0.752      0.344700   \n",
       "\n",
       "       lexical_density  NE_count  coref_count  avg_coref_len  \\\n",
       "37284         0.572727         4            5            2.8   \n",
       "12540         0.489933         4            5            2.6   \n",
       "15387         0.565104         4            5            2.2   \n",
       "\n",
       "       zipfian_difference  unique_word_proportion  stopword_proportion  \n",
       "37284            0.439770                0.538636             0.300000  \n",
       "12540            0.476817                0.597315             0.409396  \n",
       "15387            0.260105                0.424479             0.429688  \n",
       "\n",
       "[3 rows x 23 columns]"
      ]
     },
     "execution_count": 90,
     "metadata": {},
     "output_type": "execute_result"
    }
   ],
   "source": [
    "df_cleaned.sample(3)"
   ]
  },
  {
   "cell_type": "markdown",
   "metadata": {},
   "source": [
    "We will save this to an intermediate csv file"
   ]
  },
  {
   "cell_type": "code",
   "execution_count": 109,
   "metadata": {},
   "outputs": [],
   "source": [
    "df_cleaned.to_csv('intermediate_data_3.csv', mode='w')"
   ]
  },
  {
   "cell_type": "markdown",
   "metadata": {},
   "source": [
    "##### 2.5 Complex Phrase Features\n",
    "\n",
    "We will also be extracting the count of 2 different types of complex phrases - Ancient phrases and Cliches. \n",
    "\n",
    "This will be done by comparing the answer to reference lists of each type of phrase, which have been compiled and cleaned from 2 online sources.\n",
    "\n",
    "First, we will import the required modules and read in the intermediate csv from the last step"
   ]
  },
  {
   "cell_type": "code",
   "execution_count": 2,
   "metadata": {},
   "outputs": [],
   "source": [
    "import pandas as pd\n",
    "import csv"
   ]
  },
  {
   "cell_type": "code",
   "execution_count": 3,
   "metadata": {},
   "outputs": [
    {
     "data": {
      "text/html": [
       "<div>\n",
       "<style scoped>\n",
       "    .dataframe tbody tr th:only-of-type {\n",
       "        vertical-align: middle;\n",
       "    }\n",
       "\n",
       "    .dataframe tbody tr th {\n",
       "        vertical-align: top;\n",
       "    }\n",
       "\n",
       "    .dataframe thead th {\n",
       "        text-align: right;\n",
       "    }\n",
       "</style>\n",
       "<table border=\"1\" class=\"dataframe\">\n",
       "  <thead>\n",
       "    <tr style=\"text-align: right;\">\n",
       "      <th></th>\n",
       "      <th>Unnamed: 0.2</th>\n",
       "      <th>Unnamed: 0.1</th>\n",
       "      <th>Unnamed: 0</th>\n",
       "      <th>question</th>\n",
       "      <th>answer</th>\n",
       "      <th>is_human</th>\n",
       "      <th>filtered_answer</th>\n",
       "      <th>lemmatised_answer</th>\n",
       "      <th>word_count</th>\n",
       "      <th>sentence_count</th>\n",
       "      <th>...</th>\n",
       "      <th>negativity</th>\n",
       "      <th>neutrality</th>\n",
       "      <th>subjectivity</th>\n",
       "      <th>lexical_density</th>\n",
       "      <th>NE_count</th>\n",
       "      <th>coref_count</th>\n",
       "      <th>avg_coref_len</th>\n",
       "      <th>zipfian_difference</th>\n",
       "      <th>unique_word_proportion</th>\n",
       "      <th>stopword_proportion</th>\n",
       "    </tr>\n",
       "  </thead>\n",
       "  <tbody>\n",
       "    <tr>\n",
       "      <th>8512</th>\n",
       "      <td>8512</td>\n",
       "      <td>8512</td>\n",
       "      <td>8512</td>\n",
       "      <td>how much does a gold bar weigh</td>\n",
       "      <td>The standard gold bar held as gold reserves by...</td>\n",
       "      <td>1</td>\n",
       "      <td>The standard gold bar held gold reserve centra...</td>\n",
       "      <td>The standard gold bar held a gold reserve by c...</td>\n",
       "      <td>57</td>\n",
       "      <td>1</td>\n",
       "      <td>...</td>\n",
       "      <td>0.000</td>\n",
       "      <td>0.917</td>\n",
       "      <td>0.295833</td>\n",
       "      <td>0.614035</td>\n",
       "      <td>4</td>\n",
       "      <td>0</td>\n",
       "      <td>0.000000</td>\n",
       "      <td>0.666493</td>\n",
       "      <td>0.807018</td>\n",
       "      <td>0.333333</td>\n",
       "    </tr>\n",
       "    <tr>\n",
       "      <th>34724</th>\n",
       "      <td>34724</td>\n",
       "      <td>34724</td>\n",
       "      <td>34724</td>\n",
       "      <td>Why certain prescriptions take so long to fill...</td>\n",
       "      <td>There are a few reasons why some prescriptions...</td>\n",
       "      <td>0</td>\n",
       "      <td>There reason prescription may take longer fill...</td>\n",
       "      <td>There are a few reason why some prescription m...</td>\n",
       "      <td>219</td>\n",
       "      <td>5</td>\n",
       "      <td>...</td>\n",
       "      <td>0.074</td>\n",
       "      <td>0.872</td>\n",
       "      <td>0.525952</td>\n",
       "      <td>0.506849</td>\n",
       "      <td>4</td>\n",
       "      <td>9</td>\n",
       "      <td>2.333333</td>\n",
       "      <td>0.386939</td>\n",
       "      <td>0.538813</td>\n",
       "      <td>0.447489</td>\n",
       "    </tr>\n",
       "    <tr>\n",
       "      <th>10594</th>\n",
       "      <td>10594</td>\n",
       "      <td>10594</td>\n",
       "      <td>10594</td>\n",
       "      <td>What are the tiny worm like thing on my neck, ...</td>\n",
       "      <td>This content may violate our content policy. I...</td>\n",
       "      <td>0</td>\n",
       "      <td>This content may violate content policy . If b...</td>\n",
       "      <td>This content may violate our content policy . ...</td>\n",
       "      <td>261</td>\n",
       "      <td>10</td>\n",
       "      <td>...</td>\n",
       "      <td>0.170</td>\n",
       "      <td>0.600</td>\n",
       "      <td>0.601754</td>\n",
       "      <td>0.513410</td>\n",
       "      <td>4</td>\n",
       "      <td>3</td>\n",
       "      <td>4.333333</td>\n",
       "      <td>0.408308</td>\n",
       "      <td>0.544061</td>\n",
       "      <td>0.440613</td>\n",
       "    </tr>\n",
       "  </tbody>\n",
       "</table>\n",
       "<p>3 rows × 24 columns</p>\n",
       "</div>"
      ],
      "text/plain": [
       "       Unnamed: 0.2  Unnamed: 0.1  Unnamed: 0  \\\n",
       "8512           8512          8512        8512   \n",
       "34724         34724         34724       34724   \n",
       "10594         10594         10594       10594   \n",
       "\n",
       "                                                question  \\\n",
       "8512                      how much does a gold bar weigh   \n",
       "34724  Why certain prescriptions take so long to fill...   \n",
       "10594  What are the tiny worm like thing on my neck, ...   \n",
       "\n",
       "                                                  answer  is_human  \\\n",
       "8512   The standard gold bar held as gold reserves by...         1   \n",
       "34724  There are a few reasons why some prescriptions...         0   \n",
       "10594  This content may violate our content policy. I...         0   \n",
       "\n",
       "                                         filtered_answer  \\\n",
       "8512   The standard gold bar held gold reserve centra...   \n",
       "34724  There reason prescription may take longer fill...   \n",
       "10594  This content may violate content policy . If b...   \n",
       "\n",
       "                                       lemmatised_answer  word_count  \\\n",
       "8512   The standard gold bar held a gold reserve by c...          57   \n",
       "34724  There are a few reason why some prescription m...         219   \n",
       "10594  This content may violate our content policy . ...         261   \n",
       "\n",
       "       sentence_count  ...  negativity  neutrality  subjectivity  \\\n",
       "8512                1  ...       0.000       0.917      0.295833   \n",
       "34724               5  ...       0.074       0.872      0.525952   \n",
       "10594              10  ...       0.170       0.600      0.601754   \n",
       "\n",
       "       lexical_density  NE_count  coref_count  avg_coref_len  \\\n",
       "8512          0.614035         4            0       0.000000   \n",
       "34724         0.506849         4            9       2.333333   \n",
       "10594         0.513410         4            3       4.333333   \n",
       "\n",
       "       zipfian_difference  unique_word_proportion  stopword_proportion  \n",
       "8512             0.666493                0.807018             0.333333  \n",
       "34724            0.386939                0.538813             0.447489  \n",
       "10594            0.408308                0.544061             0.440613  \n",
       "\n",
       "[3 rows x 24 columns]"
      ]
     },
     "execution_count": 3,
     "metadata": {},
     "output_type": "execute_result"
    }
   ],
   "source": [
    "df_cleaned = pd.read_csv('intermediate_data_3.csv')\n",
    "df_cleaned.sample(3)"
   ]
  },
  {
   "cell_type": "markdown",
   "metadata": {},
   "source": [
    "Next, read in the 2 reference lists from their respective csv files into python lists.\n",
    "\n",
    "First, we will define a function to convert a csv file to a list"
   ]
  },
  {
   "cell_type": "code",
   "execution_count": 4,
   "metadata": {},
   "outputs": [],
   "source": [
    "def csv_to_list(filepath):\n",
    "    # open csv file\n",
    "    with open(filepath, 'r') as file:\n",
    "        reader = csv.reader(file) # read csv file\n",
    "        data = []\n",
    "        for row in reader:\n",
    "            data.append(row[0]) # append each row to data list\n",
    "    return data"
   ]
  },
  {
   "cell_type": "markdown",
   "metadata": {},
   "source": [
    "and call it on the two reference csv files."
   ]
  },
  {
   "cell_type": "code",
   "execution_count": 5,
   "metadata": {},
   "outputs": [
    {
     "name": "stdout",
     "output_type": "stream",
     "text": [
      "['ace in the hole', 'ace up your sleeve', 'acid test', 'airing dirty laundry', \"all in a day's work\", 'all talk', 'all booster', 'all hat', 'all foam', 'all hammer', 'all icing', 'all lime and salt', 'all missile', 'all shot', 'all sizzle', 'all wax and no wick', 'all that and a bag of chips', 'all thumbs', 'all wet', \"all's fair in love and war\", 'almighty dollar', 'always a bridesmaid', 'ambulance chaser', 'another day', 'ants in your pants', 'apple-pie order', 'arm and a leg', 'armchair quarterback', 'army brat', 'art imitates life', 'artsy-craftsy', 'artsy-fartsy', 'as luck would have it', 'as old as time', 'at loggerheads', 'calm before the storm', 'candle at both ends', \"can't cut the mustard\", 'case of mistaken identity', 'cat out of the bag', 'cat got your tongue', 'caught red-handed', 'chapter and verse', 'checkered career', 'chickens come home to', 'roost', 'chomping at the bit', 'cleanliness is next to', 'godliness', 'clear as a bell', 'clear as mud', 'cold shoulder', 'E-ticket', 'ear to the ground', 'early bird catches the worm', 'easier said than done', 'easy as 1-2-3', 'easy as pie', 'eat crow', 'eat humble pie', 'enough already', 'even money', 'every dog has its day', 'every fiber of my being', 'everything but the kitchen sink', 'evil twin', 'existential angst', 'experts agreeï¿½', 'eye for an eye', 'hair of the dog', 'hard to believe', 'have a nice day', 'head honcho', \"heart's content\", 'hell-bent for leather', 'hidden agenda', 'high and the mighty (the)', 'high on the hog', 'hold a candle to', 'hold your horses', 'hold your tongue', 'hook or by crook', 'horse of a different color', 'hot knife through butter', 'how goes the battle?', 'keep an eye on you', 'keep it down', 'keep it simple', 'keep up with the Joneses', 'keep your cards close to vestï¿½', 'keep your chin up', 'keep your fingers crossed', 'keep your powder dry', 'kick ass', 'kickbutt', 'kick the bucket', 'kick up your heels', 'kick you to the curb', 'kick your feet up', 'kid in a candy store', 'kill two birds with one stone', \"life's a bitch\", 'lighten up', 'lights out', 'like a sore thumb', 'like butter', 'like the plague', \"like there's no tomorrow\", \"lion's share\", 'litmus test', 'little black book', 'live and learn', 'long and short of it', 'long lost love', 'look before you leap', 'lounge lizard', 'loved and lost', 'low man on the totem pole', 'luck of the draw', 'luck of the Irish', 'off the wagon', 'old college try', 'old meets new', 'older and wiser', 'older than dirt', 'older than Methuselah', 'on the bandwagon', 'on the nose', 'on the wagon', 'on thin ice', 'one born every minute', 'one foot in the grave', 'one in a million', 'only game in town', 'only to be met', 'out of pocket', 'out of the frying pan', 'out on a limb', 'safe than sorry', 'salt of the earth', 'save face', 'scared stiff', 'scared to death', \"school's out\", 'screaming meemies', 'senses reel', 'set the record straight', 'shake a stick should of', 'shoulder to the wheel', 'shouldered his way', 'shut your trap', 'sigh of relief', 'significant other', 'silence is golden', 'take one for the team', 'take the bull by the horns', 'take the plunge', 'takes one to know one', 'talk turkey', 'ten foot pole', 'the earth moved', 'the final analysis', 'the real McCoy', 'the same old story', 'these things happen', 'thick as thieves', 'think outside of the box', \"third time's the charm\", 'under the gun', 'under the same roof', 'understated elegance', 'unexpected twist', 'until the cows come home', 'up his sleeve', 'up the creek', 'up the wrong tree', 'very real concern', 'view with alarm', 'babe in the woods', 'back against the wall', 'back in the saddle', 'back to square one', 'back to the drawing board', 'bad to the bone', 'badge of honor', 'Badonkadonk', 'ballpark figure', 'balls to the wall', 'baptism of fire', 'bare bones', 'bark is worse than the bite', 'bark up the wrong tree', 'bat out of hell', 'bats in the belfry', 'battle royal', 'beat around the bush', 'beat the bushes', 'beats me', 'behind the eight ball', 'bent out of shape', 'best foot forward', 'bet your bottom dollar', 'better half', 'better late than never', 'better mousetrap', 'better safe than sorry', 'better than ever', 'better the Devil you know', 'between a rock and a hard place', 'beyond the pale', 'bib and tucker', 'big as life', 'big fish in a small pond', 'big man on campus', 'bigger they are', 'communist conspiracy', 'conniption fit', 'could care less', \"couldn't care less\", \"couldn't get to first base\", 'count your blessings', 'countless hours', 'creature comfort', 'crime in the street', 'curiosity killed the cat', 'curry favor', 'cut a fine figure', 'cut and dried', 'cut to the chase', 'cut to the quick', 'cute as a button', 'facts of life', 'fair-haired one', 'fair weather friend', 'fall off of a turnip truck', 'fat slob', 'favor us with a song', 'fear and loathing', 'feather your nest', 'fellow traveler', 'few and far between', 'field this one', 'fifteen minutes of fame', 'fish nor fowl', 'fly by night', 'fly the coop', 'for the birds', 'fox in the henhouse', 'freudian slip', 'fun and games', 'fun in the sun', 'I beg to differ', 'if the shoe fits', \"I'm okay\", 'in a nutshell', 'in a pinch', 'in a wink', \"in harm's way\", 'in the tank', 'in your dreams', 'in your face', 'inexorably drawn', 'info dump', 'influence peddling', 'intents and purposes', 'it was a dark and stormy night', \"it won't fly\", \"King's English\", \"king's ransom\", 'kiss and tell', 'kiss ass', 'kiss of death', 'kit and kaboodle', 'knee-high to a grasshopper', 'knock it out of the park', 'knock on wood', 'knock your socks off', 'knocked up', 'know him from Adam', 'know the ropes', 'know the score', 'knuckle down', 'knuckle sandwich', 'knuckle under', 'make my day', 'male chauvinist', \"man's best friend\", 'many moons', 'many-splendored thing', 'mark my words', 'meaningful relationship', 'mellow out', 'moment of glory', \"moment's respite\", 'Monday morning quarterback', 'monkey suit', 'monkey see', 'motherhood and apple pie', 'movers and shakers', 'moving experience', 'my two cents', \"p's and q's\", 'pain and suffering', 'panic button', 'party pooper', 'patter of little feet', 'pass the sniff test', 'pay through the nose', 'peas in a pod', 'perfect storm', 'pig in a poke', 'pillar of society', 'pinko', 'plenty of fish in the sea', 'poison pen', 'poor as a churchmouse', 'poor excuse for', 'pot calling the kettle black', 'proud possessor', 'put my foot down', 'put your foot down', 'quick as a bunny', 'quick and the dead', 'slept like a log', 'small world', 'snake in the grass', 'snow job', 'snug as a bug', 'some of my best friends', 'something the cat dragged in', 'spade a spade', 'spare the rod', 'spitting image', 'spring to life', 'this day and age', 'this point in time', \"three strikes and you're out\", 'through the grapevine', 'throw in the towel', 'tiger by the tail', 'till the fat lady sings', 'time and time again', 'time is of the essense', 'tip of the iceberg', \"'tis the season\", 'to err is human', 'to the best of my knowledge', 'wakeup call', 'was my face red', 'watch your tongue', 'web of intrigue', 'week of sundays', 'what a bummer', 'what comes around', 'what the cat dragged in', 'what the dickens', 'what the heck', 'what the hell', 'what you see is what you get', \"what's not to like\", 'wheeler-dealer', 'when in doubt', 'when push comes to shove', 'when rubber meets the road', \"when the cat's away\", 'when the going gets tough', 'bird in the hand', 'birds and the bees', 'birds of the feather', 'bite the dust', 'bite your tongue', 'bitter disappointment', 'black as coal', 'blast from the past', 'bleeding heart', 'blind as a bat', 'blood is thicker than water', 'blood money', 'blood on your hands', 'blood sweat and tears', 'blow this pop stand', 'blow this joint', 'blushing bride', 'boil it down to', 'bone of contention', 'booze and broads', 'bored to tears', 'born and raised', 'born with a silver spoon in your mouth', 'born yesterday', 'bottom line', 'brain drain', 'brain dump', 'brass tacks', 'bring home the bacon', 'broken record', \"brother's keeper\", 'bull by the horns', 'bull in a china shop', 'bump in the night', 'busy as a bee', 'but seriously', 'by and large', 'darkest before the dawn', 'dead as a doornail', 'death and destruction', 'death and taxes', \"death's doorstep\", 'devil is in the details', 'dim view', 'dog days', 'dog in the manger', \"don't count your chickens before they're hatched\", \"don't do the crime if you can't do the time\", 'doubting Thomas', 'down and dirty', 'down in the dumps', 'down pat', 'down the toilet', 'down the drain', 'down the hatch', 'down to earth', 'drive you up a wall', 'dutch uncle', 'dyed in the wool', 'garbage in', 'get the sack', 'get your groove back', 'gets my goat', 'gift horse in the mouth', 'gilding the lily', 'give a damn', 'give me a break', 'gives me the creeps', 'go him one better', 'goes without saying', 'good deed for the day', 'good time was had by all', 'greek to me', 'green thumb', 'green-eyed monster', 'grist for the mill', 'guiding light', 'Jack of all trades', 'jockey for position', 'Johnny-come-lately', 'joined at the hip', 'jump down your throat', 'jump in with both feet', 'jump on the bandwagon', 'jump the gun', 'jump his bones', 'jump her bones', 'junk in the trunk', 'jury is still out', 'justice is blind', 'labor of love', 'lap of luxury', 'last but not least', 'last-ditch effort', 'last hurrah', 'law of the jungle', 'law of the land', 'lay down the law', 'leaps and bounds', 'let sleeping dogs lie', 'let the cat out of the bag', \"let's split\", 'liberal media', 'lie like a rug', 'life and limb', 'life imitates art', 'neat as a pin', 'needless to say', 'nip it in the bud', 'no guts', 'no love lost', 'no pain', 'no stone unturned', 'no time like the present', 'nose to the grindstone', 'not in my back yard', 'not on your tintype', 'number one fan', 'numerous to mention', 'radical chic', 'rags to riches', 'raining buckets', 'raining cats and dogs', 'rank and file', 'read my lips', 'red herring', 'redheaded stepchild', 'reign supreme', 'remember the alamo', 'road to hell is paved with good intentions', 'rob Peter to pay Paul', 'rock and a hard place', 'rocket scientist', 'rocket science', 'rope a dope', 'run it up the flagpole', 'running dog lackey', 'squeaky wheel gets the oil', 'squeaky wheel gets the grease', 'start from scratch', 'stick in the mud', 'stick in your craw', 'still waters run deep', 'stop and smell the roses', 'store bought', 'stranger than fiction', \"straw that broke the camel's back\", 'stubborn as a mule', 'stuff that dreams are made of', 'stuffed shirt', 'tongue-in-cheek', 'too hot to handle', 'touch of blarney', 'tough as nails', 'tough luck', 'tough row to hoe', 'traditional family values', 'trials and tribulations', 'tried and true', 'trip down memory lane', 'true blue', 'turn your smile upside-down', 'turn your frown upside-down', 'twist of fate', 'twists and turns', 'two to tango', 'who has everything', 'whole ball of wax', 'whole hog', 'whole nine yards', 'whole other story', 'wild goose chase', 'wild oats', 'will wonders never cease', 'wimp', 'win friends and influence', 'people', 'win one for the Gipper', 'wnning is everything', 'wisdom of the ages', 'without benefit of clergy', 'wolf at the door', 'words fail', 'work like a dog', 'worst nightmare', 'wrong side of the bed']\n",
      "['abodement', 'abram', 'abroach', 'abrook', 'absey-book', 'aby', 'accdant', 'accite', 'accomplement', 'accompt', 'accouter', 'accoutre', 'Acheron', 'acknow', 'aconitum', 'acquittance', 'acture', 'Actus Primus', 'Actus Quartus', 'Actus Quintus', 'Actus Secundus', 'Actus Tertius', 'addle', 'adieu', 'adoptious', 'advocation', 'aery', 'afeared', 'affiance', 'affined', 'affy', 'agate', 'agazed', 'aglet', 'agood', 'ague', 'aiery', 'alack', 'alarum', 'Albion', 'alderliefest', 'alder-liefest', 'alder-lievest', 'alewife', 'ale-wife', 'allayment', 'allegiant', 'allottery', 'Almain', 'alms drink', 'almsdrink', 'almshouse', 'amain', 'amerce', 'ames-ace', 'amort', 'anatomize', 'ancient', 'a-night', 'annexment', 'anon', 'antagonist', 'antechamber', 'Anthropophagi', 'Anthropophaginian', 'antic', 'antick', 'anticked', 'antre', 'appeach', 'appellant', 'apperil', 'apple-john', 'approof', 'apricock', 'aqua vitae', 'aqua-vitae', 'argal', 'Argier', 'argosy', 'aright', 'armigero', 'aroint', 'a-row', 'arrant', 'arras', 'aside', 'asinego', 'assay', 'assemblance', 'assinego', 'assubjugate', 'atomies', 'attaint', 'attainture', 'atwain', 'a-twain', 'audit', 'auld', 'avaunt', 'avouch', 'aye', 'bacare', 'baccare', 'bacchanal', 'backare', 'baffle', 'baggage', 'Bajazet', 'balcony in a Shakespearean theater', 'ballow', 'balsamum', 'ban', 'bandog', 'ban-dog', 'banns', 'Barbary', 'Barbason', 'barbermonger', 'barber-monger', 'barm', 'barnes', 'barricado', 'basilisk', 'basta', 'bastard', 'bastardy', 'bastinado', 'bate', 'bat-fowling', 'batler', 'batlet', 'battaille', 'battalia', 'bavin', 'bawbling', 'bawcock', 'bawdry', 'beadsman', 'beam', 'bearing cloth', 'bearing-cloth', 'beaver', 'bed of Ware', 'bed-hangings', 'bedlam', 'beetle', 'befall', 'begirt', 'behoveful', 'beldam', 'belike', 'bemadding', 'bemete', 'be-mete', 'bemoil', 'be-moil', 'be-netted', 'benison', 'Bergomask', 'bescreened', 'be-screened', 'beseech', 'beshrew', 'beslubber', 'besort', 'bespake', 'bespeak', 'bespoke', 'bestraught', 'betake', 'beteem', 'betid', 'betide', 'betimes', 'betossed', 'betwixt', 'bewray', 'bezonian', 'biding', 'biggen', 'bilberry', 'bilbo', 'bill', 'birdbolt', 'bird-bolt', 'bisson', 'blench', 'bob', 'bodement', 'bodge', 'Bodkin', 'boÓtier vert', 'bolster', 'bolted', 'bolter', 'bolting hutch', 'bolting-hutch', 'bombard', 'bona roba', 'bona-roba', 'bondman', 'bonny', 'boot', 'bootless', 'bosky', 'botcher', 'bots', 'bottled spider', 'bounden', 'bourn', 'brabble', 'brach', 'brainish', 'brainpan', 'brain-pan', 'brake', 'bravery', 'breese', 'Bretagne', 'brinded', 'brinish', 'Britaine', 'Brittany', 'brock', 'brogue', 'bruit', 'bubukle', 'buckler', 'buckram', 'bum', 'bung', 'burden as a music term', 'burgonet', 'burthen', 'buskin', 'busky', 'buss', 'buzzer', 'by-room', 'cacodaemon', 'cacodemon', 'caddis', 'caitiff', 'Calipolis', 'caliver', 'callat', 'callet', 'Cam', 'cambric', 'camlet', 'canakin', 'canary', 'canis', 'cannikin', 'canzonet', 'cap-a-pie', 'capon', 'carbuncle', 'carcanet', 'cardmaker', 'carlot', 'carract', 'cart', 'carviare', 'casing', 'casque', 'cataplasm', 'catch', 'catchword', 'cater', 'cater-cousin', 'caterwauling', 'cautel', 'cautelous', 'caviary', 'cavil', 'cellarage', 'cellar-age', 'century', 'cerecloth', 'cerement', 'certes', 'chace', 'champain', 'chanticleer', 'chantry', 'chape', 'chapfallen', \"chap-fall'n\", 'chapless', 'chapman', 'chapt', 'charactery', 'charneco', 'charnel house', 'charnel-house', 'cheveril', 'chid', 'chine', 'chirurgeon', 'chopine', 'chorus', 'chough', 'chuck', 'cicatrice', 'cinque-pace', 'Cinque-ports', 'circummure', 'civet', 'clackdish', 'clack-dish', 'clepe', 'clept', 'clew', 'climature', 'clinquant', 'clog', 'cloistress', 'clotpoll', 'clout', 'clouted brogues', 'clovest', 'cloyless', 'cockatrice', \"cockerel's stone\", 'cockle', 'cockle hat', 'cockleshell', 'cockney', 'cock-shut time', 'codpiece', 'coffer', 'cog', 'cogging', 'coign', 'coil', 'collop', 'combinate', 'complice', 'complot', 'compulsative', 'con', 'concernancy', 'concupy', 'condign', 'coney', 'confixed', \"conge'd\", 'congeed', 'conger', 'congied', 'conjunctive', 'conjurations', 'conserve', 'consort', 'conspectuity', \"constring'd\", 'constringed', 'contemn', 'continuate', 'contumeliously', 'conventicle', 'convive', 'cony', \"copp'd\", 'copped', 'coppice', 'coram', 'coranto', 'coronal', 'corse', 'corselet', 'costard', 'costermonger', 'cotquean', 'coulter', 'couplement', 'covert', 'coy', 'coystril', 'coystrill', 'coz', 'cozen', 'cozenage', 'cozier', 'crare', 'crescive', 'crotchets', 'crown', 'crownet', 'crupper', 'crusado', 'cruzado', 'cubiculo', 'cuckold', 'cuckoo flower', 'cullion', 'dace', 'daff', 'dam', 'damosella', 'damson', 'Danskers', 'darnel', 'darraign', 'daubery', 'dauphin', 'debile', 'debosh', 'defeature', 'deflower', 'defunct', 'delated', 'delation', 'demi-wolf', 'denay', 'denier', 'denotement', 'depute', 'descant', 'designments', 'despatch', 'despite', 'determinate', 'diadem', 'dialogue', 'diaper', 'dich', 'dirge', 'disannul', 'disme', 'dispark', 'dispatch', 'disprized', 'disproperty', 'disquantity', 'dissentious', 'distaff', 'distained', 'distemperature', 'distract', 'distrain', 'ditch-dog', 'dive-dapper', 'divers', 'doit', 'dole', 'dormouse', 'dotant', 'doublet', 'dout', 'dower', 'dowlas', 'dowle', 'down-gyved', 'Downs', 'drab', 'drachma', 'draff', 'dram', 'dramatis personae', 'drave', 'drawer', 'drossy', 'drumble', 'dry-beat', 'dryfoot', 'dudgeon', 'duello', 'dug', 'dump', 'dup', 'durance', 'durst', 'eale', 'eaning', 'eftest', 'eftsoons', 'eisel', 'eld', 'embarquement', 'embassage', 'emblaze', 'embossed', 'embowel', 'embracement', 'empiricutic', 'emulous', 'encave', 'enchase', 'encloud', 'encompassment', 'enfeoff', 'engirt', 'englut', 'enmew', 'enow', 'enrank', 'enroot', 'enround', 'entail', 'enter', 'enwombed', 'epilogue', 'epitheton', 'equipage', 'ere', 'erewhile', 'errant', 'erst', 'escot', 'esperance', 'espial', 'essay', 'estridge', 'eterne', 'Ethiop', 'Ethiope', 'ever yet', 'everyet', 'exchequer', 'excursion', 'exeunt', 'exion', 'exit', 'exposture', 'exsufflicate', 'extirp', 'extraught', 'eyas', 'eyne', 'eyrie', 'facinorous', 'factionary', 'fadge', 'fain', 'fait', 'falchion', 'fallow', 'falsing', 'fap', 'farced', 'fardel', 'farthing', 'fatigate', 'fay', 'fealty', 'feat', 'fecks', 'federary', \"fee'd\", 'feeder', 'fee-grief', 'Fee-simple', 'felly', 'feodary', 'fere', 'festinately', 'fico', 'fie', 'fillip', 'filly foal', 'fine sovereign', 'firago', 'firk', 'fitchew', 'flapdragon', 'fleer', 'fleshment', 'flews', 'flexure', 'flirt-gill', 'flock', 'fob', 'fob off', 'foh', 'foil', 'foin', 'foison', 'fool', 'foot', 'footboy', 'foot-cloth mule', 'footing', 'fordo', 'forsooth', 'fortnight', 'fosset', 'foughten', 'foul papers', 'foxship', 'fracted', 'frank', 'fraught', 'fraughtage', 'frippery', 'frontlet', 'froward', 'frush', 'fullam', 'fumiter', 'fumitory', 'fust', 'fustilarian', 'gaberdine', 'gad', 'gage', 'gainsay', 'gallery', 'galliard', 'galliass', 'galloglasses', 'gallow', 'gallowglasses', 'gamesome', 'gammon', 'gaoler', 'garboil', 'garner', 'gaskins', 'gasted', 'gawd', 'geck', 'gentle', 'gest', 'gib', 'giglot', 'gimmal', 'gimmer', 'gimmor', 'ging', 'gird', 'Gis', 'glaive', 'glanders', 'glave', 'gleek', 'glister', 'glose', 'glow-worm', 'gloze', 'go to the world', 'gobbet', 'goblin', 'godwit', 'good den', 'good-year', 'gorbellied', 'gord', 'gourd', 'gramercy', 'gratis', 'graymalkin', 'greave', 'greenly', 'gripe', 'grise', 'grize', 'groat', 'guardant', 'gudgeon', 'guerdon', 'gules', 'gull', 'gyve', 'habiliment', 'habitude', 'haggard', 'hale', 'half-crown', 'halfpenny', 'halidom', 'halter', 'handsaw', 'hap', \"ha'penny\", 'hapless', 'haply', 'hard-handed', 'hardiment', 'harebell', 'hare-bell', 'harlock', 'harrow', 'hasle', 'haste-post-haste', 'hatchment', 'haught', 'hautbois', 'hautboy', 'haviour', 'head', 'head-lugged', 'hebona', 'hectic', 'hedge', 'hedge-pig', 'hedgepriest', 'heft', 'hefted', 'heigh', 'helm', 'hempen', 'henchman', 'hent', 'hest', 'hewgh', 'Hiems', 'high cross', 'high-cross', 'hight', 'hilding', 'hindmost', 'hither', 'hizz', 'hodge pudding', 'hodge-pudding', 'hoise', 'holidame', 'holla', 'hollaing', 'holp', 'holy-ales', 'honey-stalks', 'honorificabilitudinitatibus', 'hornbook', 'horn-mad', 'horologe', 'hothouse', 'hot-house', 'house of resort', 'howbeit', 'hox', 'hoy', 'huggermugger', 'hull', 'hurly', 'hurricano', 'hurtle', 'husband', 'huswife', 'hyen', 'Hyrcanian beast', 'I wis', 'ignomy', \"'ild\", 'illume', 'imbar', 'imbare', 'imbrue', 'immanity', 'immoment', 'imp', 'impartment', 'impasted', 'impawn', 'imperceiverant', 'impeticos', 'impleached', 'implorator', 'impone', 'importunacy', 'imposthume', 'imprese', 'impressure', 'imputation', 'incarnadine', 'incensement', 'incertain', 'inchmeal', 'inch-meal', 'inclip', 'incony', 'incorpsed', 'increase', 'indent', 'indifferency', 'indigest', 'indign', 'indue', 'indurance', 'infamonize', 'inferreth', 'infortunate', 'inhearse', 'Inhoop', 'injointed', 'inkhorn', 'inkle', 'inscroll', \"insculp'd\", 'insculped', 'insculpted', 'insculpture', \"insinew'd\", 'insinewed', 'insisture', \"insteep'd\", 'insteeped', 'intelligencer', 'intendment', 'intenible', 'intrinse', 'inventorially', 'iron crow', 'irregulous', 'issue', 'iwis', 'jack-a-lent', 'jacks', 'jade', 'jakes', 'jar', 'jaunce', 'jerkin', 'jester', 'jet', 'jocund', 'John-a-dreams', 'joint-ring', 'jordan', 'jot', 'jutty', 'juvenal', 'kam', 'kecksy', 'keech', 'keel', 'Keisar', 'ken', 'keptst', 'kern', 'kersey', 'kibe', 'kicky-wicky', 'kine', 'kirtle', 'knack', 'knap', 'knight-errant', 'la', 'labras', 'lakin', 'Lammas', 'Lammas-tide', 'lampass', 'lank', 'lanthorn', 'lapwing', 'lass-lorn', 'lated', 'latten', 'laund', 'lazar', 'leagued', 'leather coat', 'leather-coat', 'leathern', 'leaves', 'lees', 'leet', 'legerity', 'leiger', 'leman', \"l'envoy\", 'levy', 'libbard', 'lict', 'lief', 'liege', 'liegeman', 'lifeling', 'limbeck', 'Limbo', 'lime', 'lineal', 'lineament', 'linstock', 'list', 'lists', 'lither', 'loach', 'loaden', 'lob', 'lockram', 'lodestar', 'lode-star', 'loggat', 'loggats', 'loof', 'lour', 'lout', 'lown', 'lowt', 'lozel', 'lubber', 'luce', 'lune', 'lustihood', 'lym', 'maggot-pie', 'magnifico', 'Mahu', 'main', 'mained', 'makeless', 'malapert', 'malkin', 'malmsey', 'malt worm', 'mammer', 'mammet', 'mammock', 'manakin', 'mandragora', 'manikin', 'Manningtree', 'marchpane', 'marish', 'marl', 'Marry', 'mart', 'martinmas', 'martlemas', 'martlet', 'Mary-buds', 'masque', 'matin', 'maugre', 'maw', 'mazzard', 'meacock', 'measles', 'medlar', 'meed', 'meetest', 'meetness', 'mehercle', 'meiny', 'mell', 'mercatante', 'mered', 'mete-yard', 'metheglin', 'methinks', 'mew', 'mickle', 'milch', 'milkpaps', 'minikin', 'minim', 'minimus', 'mirable', 'miscarry', 'misconster', 'misprise', 'misproud', 'missingly', 'mis-tempered', 'mobled', 'Modo', 'moe', 'moiety', 'moldwarp', 'mome', 'momentany', 'monstruosity', 'montant', 'mooncalf', 'Morisco', 'morris', 'morris-pike', 'morrow', 'mote', 'mow', 'mummy', 'muniment', 'mure', 'murrain', 'murther', 'musk rose', 'musk-rose', 'mutine', 'nayward', 'nayword', 'neaf', 'near-legged', 'neat', 'needly', 'neeld', 'neeze', 'neif', 'netherstocks', 'nether-stocks', 'noddle', 'nonce', 'nose', \"not'st\", 'nousle', 'novum', 'nowl', 'noyance', 'nuncle', 'nuthook', 'obsequies', 'oeilliade', 'oeilliades', \"o'ercrow\", \"o'erleaven\", \"o'er-leaven\", \"o'er-raught\", \"o'er-read\", \"o'erskip\", \"o'ertrip\", 'oneyer', 'ope', 'oppugnancy', 'orange-wife', 'ordinant', 'orgulous', 'orison', 'orthographer', 'ostler', 'ouph', 'ouphe', 'ousel-cock', 'outface', 'outsport', 'outwall', 'out-wall', 'overborne', 'overcrow', 'overglance', 'overleather', 'overleaven', 'over-raught', 'overread', 'overskip', 'overtrip', 'overweening', 'over-weening', 'paction', 'paddock', 'pajock', 'pale', 'pall', 'palliament', 'palmy', 'palter', 'paly', 'pantler', 'panyn', 'panynæ', 'pap', 'paraquito', 'parcel', 'pardonnez-moi', \"'parit\", 'parle', 'parling', 'parmaceti', 'Parthia', 'partisan', 'partizan', 'pash', 'passado', 'passymeasure', 'passy-measure', 'pastern', 'patch', 'patine', 'pauca', 'pavan', 'pavane', 'pavin', 'peat', 'pedascule', 'peise', 'pell-mell', 'penny', 'pennyworth', 'penny-worth', 'peradventure', 'perdie', 'perdona-mi', 'perdu', 'perdurable', 'perdy', 'periapt', 'perpend', 'persever', 'perspective', 'pestiferous', 'petar', 'petard', 'pettish', 'pew-fellow', 'pheeze', 'Phoebe', 'physic', 'Picht-hatch', 'pickthank', 'pick-thank', 'Pickt-hatch', 'pight', 'pilchard', 'pill', 'pinfold', 'pinnace', \"pin's fee\", 'pioned', 'pioner', 'pippin', 'pish', 'pismire', 'pittikin', 'placket', 'plain', 'plaining', 'planched', 'plats', 'plausive', 'pleached', 'pleb', 'plebeii', 'plurisy', 'poesy', 'point-device', 'poise', 'poke', 'politic', 'politicly', 'poll', 'polled', 'pomewater', 'poniard', 'pontifical', 'poor John', 'poperin', 'popinjay', 'porpentine', 'porringer', 'portance', 'posset', 'post horse', 'postern', 'post-horse', 'potation', 'potch', 'potting', 'pottle', 'poulter', 'pouncet box', 'pouncet-box', 'pound', 'power', 'practisant', 'pratest', \"prat'st\", 'preceptial', 'prejudicate', 'prenominate', 'prentice', \"'prentice\", 'cardecu', 'coif', 'quait', \"quart d'?cu\", 'quat', 'quatch', 'quean', 'quern', 'questant', 'questrist', 'quiddit', 'quillet', 'quintain', 'quire', 'quittance', 'quiver', 'quoif', 'quoits', 'quondam', 'quotha', 'quoth-a', 'quotidian', 'rabato', 'rabbit-sucker', 'rack', 'rampallian', 'raught', 'ravin', 'rearmouse', 'rear-mouse', 'reave', 'rebato', 'recheat', 'reck', 'recordation', 'recreant', 'red plague', 'rede', 'reechy', 'reel', 'refel', 'reft', 'reguerdon', 'rejourn', 'relique', 'remember', 'remembrancer', 'remotion', 'repair', 'repugn', 'reputeless', 'reremouse', 'rere-mouse', 'reverb', 'Rhenish', 'rheum', 'rial', 'rib', 'riband', 'riggish', 'rigol', 'rivality', 'robustious', 'roe', 'roist', 'romage', 'ronyon', 'rood', 'rooky', 'ropery', 'roundure', 'rowel', 'royal', 'roynish', 'rub', 'ruddock', 'rudesby', 'ruff', 'runagate', 'rushling', 'ruth', 'ryal', 'sackbut', 'sacring bell', 'sain', \"Saint Colme's Inch\", 'saith', 'Sala', 'Salique Law', 'sallet', 'sanctuarize', 'sans', 'savour', 'saw', 'scab', 'scaffoldage', 'scald', 'scambling', 'scamel', 'scant', 'scantling', 'scape', \"'scape\", 'scarf up', 'scarfed', 'scathful', 'sconce', 'scotch', 'scrimer', 'scrip', 'scrowl', 'scroyle', 'scull', 'scullion', 'scurril', 'scutch', 'sea gown', 'sea-gown', 'sea-mark', 'seel', 'self', 'semblable', 'semblative', 'sennet', 'senseless-obstinate', 'sequent', 'sequester', 'serpigo', 'sessa', 'Setebos', 'setter', 'several', 'shale', 'shards', \"shark'd\", 'sharked', 'shealed', 'shelvy', 'shent', \"sheriff's post\", 'shilling', 'shive', 'shoon', 'shotten', 'shough', 'shovel board', 'shovel-board', 'shrieve', 'shrift', 'shrive', 'shunless', 'sicle', 'signiory', 'signory', 'simples', 'simular', 'sirrah', 'sith', 'sithence', 'sixpence', 'skainsmates', 'skains-mates', 'skeins-mates', 'skimble-skamble', 'skinker', 'skirr', 'sleided', 'sleight', 'sliding', 'slips', 'slops', 'slovenry', 'sluttish', 'smatch', 'smilets', 'smit', 'smooth', 'smoothing', 'Smulkin', 'smutch', 'sneap', 'sneaping', 'sneck up', 'snuff', 'soft', 'soilure', 'solidare', 'sonties', 'sooth', 'sortance', 'souse', 'sowl', 'sowle', 'spavin', 'speken', 'sperr', 'spilth', 'spirt', 'spital', 'splenitive', 'spongy', 'springe', 'springhalt', 'squier', 'squiny', 'stale', 'startingly', 'statist', 'statua', 'staves', 'stell', 'stile', 'stillitory', 'stilly', 'stoccado', 'stomacher', 'stonebow', 'stone-bow', 'stoup', 'strappado', 'straw', 'strond', 'strucken', 'strumpet', 'subscription', 'succour', 'sumpter', 'superflux', 'supervise', 'suppliance', 'supportance', 'supposal', 'sur-', 'surance', 'surplice', 'suspire', 'suum cuique', 'swag', 'swain', 'swashing', 'sweeting', 'Switzer', 'swound', 'tabor', 'tabour', 'tainture', 'tallow', 'tang', 'tanned', 'targe', 'Tarpeian', 'tarre', 'tarry', 'teem', 'tench', 'tendance', 'tent', 'Termagant', 'teston', 'testoon', 'tetter', 'Tewkesbury mustard', 'thane', 'tharborough', 'Thassos', 'theorick', 'thereunto', 'therewithal', 'thews', 'thine', 'thither', 'thorough', 'thou', \"thou'dst\", 'thraldom', 'thrall', 'thrasonical', 'three-man beetle', 'threepence', 'threne', 'thrum', 'thrummed hat', 'thy', 'thy', 'thyself', 'tilt', 'tilter', 'tiltyard', 'tilt-yard', 'tirrit', 'tortive', 'touse', 'toy', 'traject', 'trencher', 'trollmydames', 'troll-my-dames', 'troth', 'trow', 'Troyan', 'truckle-bed', 'truepenny', 'trull', 'truncheon', 'trundle-tail', 'tuck', 'tucket', 'tun', 'tundish', 'tup', 'Turlygood', 'twangling', 'twelvemonth', 'twiggen', 'twilled', 'twink', 'twire', 'twit', 'twopence', \"unanel'd\", 'unaneled', 'unbarbed', 'unbated', 'unbodied', 'unbolted', 'unbreathed', 'uncape', 'unclew', 'uncoined', 'uncurrent', 'underfiends', 'underskinker', 'under-wrought', 'uneath', 'unfeigned', 'ungenitured', 'ungravely', 'unhatched', \"unhousel'd\", 'unhouseled', 'unlineal', 'unmanned', 'unmuzzle', 'unparagoned', 'unpossessing', 'unprizable', 'unprizeable', 'unproperly', 'unseminared', \"unseminar'd\", 'unsifted', 'unsinewed', \"unsinew'd\", 'unsisting', 'unstanched', 'unstaunched', 'untemper', 'untempering', 'unthrift', 'upspring reel', 'usance', 'utis', 'vade', 'vail', 'vantbrace', 'varlet', 'vassalage', 'vastidity', 'vault', 'vault', 'vault', 'vault', 'vaultage', 'vaulty', 'vaunt-courier', 'vaward', 'vegetives', 'velure', 'vendible', 'venew', 'veney', 'ventage', 'verger', 'verily', 'vesper', 'vesture', 'via', 'viands', 'victuals', 'videlicet', 'viewless', 'villany', 'vinewedst', 'vinnewed', 'vinewed', 'virginalling', 'vizament', 'vizard', 'votary', 'vouchsafe', 'waftage', 'wafture', 'waggoner', 'wailful', 'wainropes', 'wain ropes', 'wall-eyed', 'wall-newt', 'Walloon', 'wanion', 'wanned', 'wappened', 'wannion', \"wann'd\", \"wappen'd\", 'warrantise', 'water-galls', 'water-rug', 'water-work', 'weal', 'wealsman', 'weeds', 'weet', 'welkin', 'Welsh hook', 'westward-ho!', 'wezand', 'wesand', 'weasand', 'wheaten', 'Wheeson', 'whelk', 'whence', \"wh'er\", \"whe'r\", 'wherefore', 'wheyface', 'whey-face', 'whiffler', 'while-ere', 'whiles', 'whimple', 'whipstock', 'whist', 'whiting', 'whitster', 'whittle', 'whoo-bub', 'whoobub', 'wight', 'willow garland', 'window-bars', 'windring', 'winter-ground', 'wis', 'wistly', 'withal', 'wittol', 'womby', 'wont', 'wont', 'wonted', 'woodbine', 'woodcock', 'woolward', 'wot', 'wrack', 'wrackful', 'writhled', 'wroth', 'yare', 'y-clad', 'yclept', 'yclad', 'ycleped', 'yellows', 'yeoman', 'yeoman', 'yeoman', 'yerk', 'yesty', 'yond', 'younker', 'zounds']\n"
     ]
    }
   ],
   "source": [
    "cliches = csv_to_list('phrases/cliches.csv')\n",
    "ancient_phrases = csv_to_list('phrases/ancient_phrases.csv')\n",
    "print(cliches)\n",
    "print(ancient_phrases)"
   ]
  },
  {
   "cell_type": "markdown",
   "metadata": {},
   "source": [
    "Next, we will also need to lemmatise all the phrases in each phrase list for comparison (as the answers will also be lemmatised)\n",
    "\n",
    "First, we will define a function to lemmatise all phrases in a phrase list and call it on the phrase lists"
   ]
  },
  {
   "cell_type": "code",
   "execution_count": 6,
   "metadata": {},
   "outputs": [],
   "source": [
    "def lemmatise_phrase_list(phrase_list):\n",
    "    output_list = []\n",
    "    lemmatizer = WordNetLemmatizer()\n",
    "    for phrase in phrase_list:\n",
    "        tokens = word_tokenize(phrase)\n",
    "        lemmatised_tokens = [lemmatizer.lemmatize(token) for token in tokens]\n",
    "        output_list.append(' '.join(lemmatised_tokens))\n",
    "        \n",
    "    return output_list"
   ]
  },
  {
   "cell_type": "code",
   "execution_count": 7,
   "metadata": {},
   "outputs": [
    {
     "name": "stdout",
     "output_type": "stream",
     "text": [
      "['ace in the hole', 'ace up your sleeve', 'acid test', 'airing dirty laundry', \"all in a day 's work\", 'all talk', 'all booster', 'all hat', 'all foam', 'all hammer', 'all icing', 'all lime and salt', 'all missile', 'all shot', 'all sizzle', 'all wax and no wick', 'all that and a bag of chip', 'all thumb', 'all wet', \"all 's fair in love and war\", 'almighty dollar', 'always a bridesmaid', 'ambulance chaser', 'another day', 'ant in your pant', 'apple-pie order', 'arm and a leg', 'armchair quarterback', 'army brat', 'art imitates life', 'artsy-craftsy', 'artsy-fartsy', 'a luck would have it', 'a old a time', 'at loggerhead', 'calm before the storm', 'candle at both end', \"ca n't cut the mustard\", 'case of mistaken identity', 'cat out of the bag', 'cat got your tongue', 'caught red-handed', 'chapter and verse', 'checkered career', 'chicken come home to', 'roost', 'chomping at the bit', 'cleanliness is next to', 'godliness', 'clear a a bell', 'clear a mud', 'cold shoulder', 'E-ticket', 'ear to the ground', 'early bird catch the worm', 'easier said than done', 'easy a 1-2-3', 'easy a pie', 'eat crow', 'eat humble pie', 'enough already', 'even money', 'every dog ha it day', 'every fiber of my being', 'everything but the kitchen sink', 'evil twin', 'existential angst', 'expert agreeï¿½', 'eye for an eye', 'hair of the dog', 'hard to believe', 'have a nice day', 'head honcho', \"heart 's content\", 'hell-bent for leather', 'hidden agenda', 'high and the mighty ( the )', 'high on the hog', 'hold a candle to', 'hold your horse', 'hold your tongue', 'hook or by crook', 'horse of a different color', 'hot knife through butter', 'how go the battle ?', 'keep an eye on you', 'keep it down', 'keep it simple', 'keep up with the Joneses', 'keep your card close to vestï¿½', 'keep your chin up', 'keep your finger crossed', 'keep your powder dry', 'kick as', 'kickbutt', 'kick the bucket', 'kick up your heel', 'kick you to the curb', 'kick your foot up', 'kid in a candy store', 'kill two bird with one stone', \"life 's a bitch\", 'lighten up', 'light out', 'like a sore thumb', 'like butter', 'like the plague', \"like there 's no tomorrow\", \"lion 's share\", 'litmus test', 'little black book', 'live and learn', 'long and short of it', 'long lost love', 'look before you leap', 'lounge lizard', 'loved and lost', 'low man on the totem pole', 'luck of the draw', 'luck of the Irish', 'off the wagon', 'old college try', 'old meet new', 'older and wiser', 'older than dirt', 'older than Methuselah', 'on the bandwagon', 'on the nose', 'on the wagon', 'on thin ice', 'one born every minute', 'one foot in the grave', 'one in a million', 'only game in town', 'only to be met', 'out of pocket', 'out of the frying pan', 'out on a limb', 'safe than sorry', 'salt of the earth', 'save face', 'scared stiff', 'scared to death', \"school 's out\", 'screaming meemies', 'sens reel', 'set the record straight', 'shake a stick should of', 'shoulder to the wheel', 'shouldered his way', 'shut your trap', 'sigh of relief', 'significant other', 'silence is golden', 'take one for the team', 'take the bull by the horn', 'take the plunge', 'take one to know one', 'talk turkey', 'ten foot pole', 'the earth moved', 'the final analysis', 'the real McCoy', 'the same old story', 'these thing happen', 'thick a thief', 'think outside of the box', \"third time 's the charm\", 'under the gun', 'under the same roof', 'understated elegance', 'unexpected twist', 'until the cow come home', 'up his sleeve', 'up the creek', 'up the wrong tree', 'very real concern', 'view with alarm', 'babe in the wood', 'back against the wall', 'back in the saddle', 'back to square one', 'back to the drawing board', 'bad to the bone', 'badge of honor', 'Badonkadonk', 'ballpark figure', 'ball to the wall', 'baptism of fire', 'bare bone', 'bark is worse than the bite', 'bark up the wrong tree', 'bat out of hell', 'bat in the belfry', 'battle royal', 'beat around the bush', 'beat the bush', 'beat me', 'behind the eight ball', 'bent out of shape', 'best foot forward', 'bet your bottom dollar', 'better half', 'better late than never', 'better mousetrap', 'better safe than sorry', 'better than ever', 'better the Devil you know', 'between a rock and a hard place', 'beyond the pale', 'bib and tucker', 'big a life', 'big fish in a small pond', 'big man on campus', 'bigger they are', 'communist conspiracy', 'conniption fit', 'could care le', \"could n't care le\", \"could n't get to first base\", 'count your blessing', 'countless hour', 'creature comfort', 'crime in the street', 'curiosity killed the cat', 'curry favor', 'cut a fine figure', 'cut and dried', 'cut to the chase', 'cut to the quick', 'cute a a button', 'fact of life', 'fair-haired one', 'fair weather friend', 'fall off of a turnip truck', 'fat slob', 'favor u with a song', 'fear and loathing', 'feather your nest', 'fellow traveler', 'few and far between', 'field this one', 'fifteen minute of fame', 'fish nor fowl', 'fly by night', 'fly the coop', 'for the bird', 'fox in the henhouse', 'freudian slip', 'fun and game', 'fun in the sun', 'I beg to differ', 'if the shoe fit', \"I 'm okay\", 'in a nutshell', 'in a pinch', 'in a wink', \"in harm 's way\", 'in the tank', 'in your dream', 'in your face', 'inexorably drawn', 'info dump', 'influence peddling', 'intent and purpose', 'it wa a dark and stormy night', \"it wo n't fly\", \"King 's English\", \"king 's ransom\", 'kiss and tell', 'kiss as', 'kiss of death', 'kit and kaboodle', 'knee-high to a grasshopper', 'knock it out of the park', 'knock on wood', 'knock your sock off', 'knocked up', 'know him from Adam', 'know the rope', 'know the score', 'knuckle down', 'knuckle sandwich', 'knuckle under', 'make my day', 'male chauvinist', \"man 's best friend\", 'many moon', 'many-splendored thing', 'mark my word', 'meaningful relationship', 'mellow out', 'moment of glory', \"moment 's respite\", 'Monday morning quarterback', 'monkey suit', 'monkey see', 'motherhood and apple pie', 'mover and shaker', 'moving experience', 'my two cent', \"p 's and q 's\", 'pain and suffering', 'panic button', 'party pooper', 'patter of little foot', 'pas the sniff test', 'pay through the nose', 'pea in a pod', 'perfect storm', 'pig in a poke', 'pillar of society', 'pinko', 'plenty of fish in the sea', 'poison pen', 'poor a a churchmouse', 'poor excuse for', 'pot calling the kettle black', 'proud possessor', 'put my foot down', 'put your foot down', 'quick a a bunny', 'quick and the dead', 'slept like a log', 'small world', 'snake in the grass', 'snow job', 'snug a a bug', 'some of my best friend', 'something the cat dragged in', 'spade a spade', 'spare the rod', 'spitting image', 'spring to life', 'this day and age', 'this point in time', \"three strike and you 're out\", 'through the grapevine', 'throw in the towel', 'tiger by the tail', 'till the fat lady sings', 'time and time again', 'time is of the essense', 'tip of the iceberg', \"'t is the season\", 'to err is human', 'to the best of my knowledge', 'wakeup call', 'wa my face red', 'watch your tongue', 'web of intrigue', 'week of sunday', 'what a bummer', 'what come around', 'what the cat dragged in', 'what the dickens', 'what the heck', 'what the hell', 'what you see is what you get', \"what 's not to like\", 'wheeler-dealer', 'when in doubt', 'when push come to shove', 'when rubber meet the road', \"when the cat 's away\", 'when the going get tough', 'bird in the hand', 'bird and the bee', 'bird of the feather', 'bite the dust', 'bite your tongue', 'bitter disappointment', 'black a coal', 'blast from the past', 'bleeding heart', 'blind a a bat', 'blood is thicker than water', 'blood money', 'blood on your hand', 'blood sweat and tear', 'blow this pop stand', 'blow this joint', 'blushing bride', 'boil it down to', 'bone of contention', 'booze and broad', 'bored to tear', 'born and raised', 'born with a silver spoon in your mouth', 'born yesterday', 'bottom line', 'brain drain', 'brain dump', 'brass tack', 'bring home the bacon', 'broken record', \"brother 's keeper\", 'bull by the horn', 'bull in a china shop', 'bump in the night', 'busy a a bee', 'but seriously', 'by and large', 'darkest before the dawn', 'dead a a doornail', 'death and destruction', 'death and tax', \"death 's doorstep\", 'devil is in the detail', 'dim view', 'dog day', 'dog in the manger', \"do n't count your chicken before they 're hatched\", \"do n't do the crime if you ca n't do the time\", 'doubting Thomas', 'down and dirty', 'down in the dump', 'down pat', 'down the toilet', 'down the drain', 'down the hatch', 'down to earth', 'drive you up a wall', 'dutch uncle', 'dyed in the wool', 'garbage in', 'get the sack', 'get your groove back', 'get my goat', 'gift horse in the mouth', 'gilding the lily', 'give a damn', 'give me a break', 'give me the creep', 'go him one better', 'go without saying', 'good deed for the day', 'good time wa had by all', 'greek to me', 'green thumb', 'green-eyed monster', 'grist for the mill', 'guiding light', 'Jack of all trade', 'jockey for position', 'Johnny-come-lately', 'joined at the hip', 'jump down your throat', 'jump in with both foot', 'jump on the bandwagon', 'jump the gun', 'jump his bone', 'jump her bone', 'junk in the trunk', 'jury is still out', 'justice is blind', 'labor of love', 'lap of luxury', 'last but not least', 'last-ditch effort', 'last hurrah', 'law of the jungle', 'law of the land', 'lay down the law', 'leap and bound', 'let sleeping dog lie', 'let the cat out of the bag', \"let 's split\", 'liberal medium', 'lie like a rug', 'life and limb', 'life imitates art', 'neat a a pin', 'needle to say', 'nip it in the bud', 'no gut', 'no love lost', 'no pain', 'no stone unturned', 'no time like the present', 'nose to the grindstone', 'not in my back yard', 'not on your tintype', 'number one fan', 'numerous to mention', 'radical chic', 'rag to rich', 'raining bucket', 'raining cat and dog', 'rank and file', 'read my lip', 'red herring', 'redheaded stepchild', 'reign supreme', 'remember the alamo', 'road to hell is paved with good intention', 'rob Peter to pay Paul', 'rock and a hard place', 'rocket scientist', 'rocket science', 'rope a dope', 'run it up the flagpole', 'running dog lackey', 'squeaky wheel get the oil', 'squeaky wheel get the grease', 'start from scratch', 'stick in the mud', 'stick in your craw', 'still water run deep', 'stop and smell the rose', 'store bought', 'stranger than fiction', \"straw that broke the camel 's back\", 'stubborn a a mule', 'stuff that dream are made of', 'stuffed shirt', 'tongue-in-cheek', 'too hot to handle', 'touch of blarney', 'tough a nail', 'tough luck', 'tough row to hoe', 'traditional family value', 'trial and tribulation', 'tried and true', 'trip down memory lane', 'true blue', 'turn your smile upside-down', 'turn your frown upside-down', 'twist of fate', 'twist and turn', 'two to tango', 'who ha everything', 'whole ball of wax', 'whole hog', 'whole nine yard', 'whole other story', 'wild goose chase', 'wild oat', 'will wonder never cease', 'wimp', 'win friend and influence', 'people', 'win one for the Gipper', 'wnning is everything', 'wisdom of the age', 'without benefit of clergy', 'wolf at the door', 'word fail', 'work like a dog', 'worst nightmare', 'wrong side of the bed']\n",
      "['abodement', 'abram', 'abroach', 'abrook', 'absey-book', 'aby', 'accdant', 'accite', 'accomplement', 'accompt', 'accouter', 'accoutre', 'Acheron', 'acknow', 'aconitum', 'acquittance', 'acture', 'Actus Primus', 'Actus Quartus', 'Actus Quintus', 'Actus Secundus', 'Actus Tertius', 'addle', 'adieu', 'adoptious', 'advocation', 'aery', 'afeared', 'affiance', 'affined', 'affy', 'agate', 'agazed', 'aglet', 'agood', 'ague', 'aiery', 'alack', 'alarum', 'Albion', 'alderliefest', 'alder-liefest', 'alder-lievest', 'alewife', 'ale-wife', 'allayment', 'allegiant', 'allottery', 'Almain', 'alms drink', 'almsdrink', 'almshouse', 'amain', 'amerce', 'ames-ace', 'amort', 'anatomize', 'ancient', 'a-night', 'annexment', 'anon', 'antagonist', 'antechamber', 'Anthropophagi', 'Anthropophaginian', 'antic', 'antick', 'anticked', 'antre', 'appeach', 'appellant', 'apperil', 'apple-john', 'approof', 'apricock', 'aqua vitae', 'aqua-vitae', 'argal', 'Argier', 'argosy', 'aright', 'armigero', 'aroint', 'a-row', 'arrant', 'arras', 'aside', 'asinego', 'assay', 'assemblance', 'assinego', 'assubjugate', 'atomies', 'attaint', 'attainture', 'atwain', 'a-twain', 'audit', 'auld', 'avaunt', 'avouch', 'aye', 'bacare', 'baccare', 'bacchanal', 'backare', 'baffle', 'baggage', 'Bajazet', 'balcony in a Shakespearean theater', 'ballow', 'balsamum', 'ban', 'bandog', 'ban-dog', 'banns', 'Barbary', 'Barbason', 'barbermonger', 'barber-monger', 'barm', 'barnes', 'barricado', 'basilisk', 'basta', 'bastard', 'bastardy', 'bastinado', 'bate', 'bat-fowling', 'batler', 'batlet', 'battaille', 'battalia', 'bavin', 'bawbling', 'bawcock', 'bawdry', 'beadsman', 'beam', 'bearing cloth', 'bearing-cloth', 'beaver', 'bed of Ware', 'bed-hangings', 'bedlam', 'beetle', 'befall', 'begirt', 'behoveful', 'beldam', 'belike', 'bemadding', 'bemete', 'be-mete', 'bemoil', 'be-moil', 'be-netted', 'benison', 'Bergomask', 'bescreened', 'be-screened', 'beseech', 'beshrew', 'beslubber', 'besort', 'bespake', 'bespeak', 'bespoke', 'bestraught', 'betake', 'beteem', 'betid', 'betide', 'betimes', 'betossed', 'betwixt', 'bewray', 'bezonian', 'biding', 'biggen', 'bilberry', 'bilbo', 'bill', 'birdbolt', 'bird-bolt', 'bisson', 'blench', 'bob', 'bodement', 'bodge', 'Bodkin', 'boÓtier vert', 'bolster', 'bolted', 'bolter', 'bolting hutch', 'bolting-hutch', 'bombard', 'bona roba', 'bona-roba', 'bondman', 'bonny', 'boot', 'bootless', 'bosky', 'botcher', 'bot', 'bottled spider', 'bounden', 'bourn', 'brabble', 'brach', 'brainish', 'brainpan', 'brain-pan', 'brake', 'bravery', 'breese', 'Bretagne', 'brinded', 'brinish', 'Britaine', 'Brittany', 'brock', 'brogue', 'bruit', 'bubukle', 'buckler', 'buckram', 'bum', 'bung', 'burden a a music term', 'burgonet', 'burthen', 'buskin', 'busky', 'bus', 'buzzer', 'by-room', 'cacodaemon', 'cacodemon', 'caddis', 'caitiff', 'Calipolis', 'caliver', 'callat', 'callet', 'Cam', 'cambric', 'camlet', 'canakin', 'canary', 'canis', 'cannikin', 'canzonet', 'cap-a-pie', 'capon', 'carbuncle', 'carcanet', 'cardmaker', 'carlot', 'carract', 'cart', 'carviare', 'casing', 'casque', 'cataplasm', 'catch', 'catchword', 'cater', 'cater-cousin', 'caterwauling', 'cautel', 'cautelous', 'caviary', 'cavil', 'cellarage', 'cellar-age', 'century', 'cerecloth', 'cerement', 'certes', 'chace', 'champain', 'chanticleer', 'chantry', 'chape', 'chapfallen', \"chap-fall'n\", 'chapless', 'chapman', 'chapt', 'charactery', 'charneco', 'charnel house', 'charnel-house', 'cheveril', 'chid', 'chine', 'chirurgeon', 'chopine', 'chorus', 'chough', 'chuck', 'cicatrice', 'cinque-pace', 'Cinque-ports', 'circummure', 'civet', 'clackdish', 'clack-dish', 'clepe', 'clept', 'clew', 'climature', 'clinquant', 'clog', 'cloistress', 'clotpoll', 'clout', 'clouted brogue', 'clovest', 'cloyless', 'cockatrice', \"cockerel 's stone\", 'cockle', 'cockle hat', 'cockleshell', 'cockney', 'cock-shut time', 'codpiece', 'coffer', 'cog', 'cogging', 'coign', 'coil', 'collop', 'combinate', 'complice', 'complot', 'compulsative', 'con', 'concernancy', 'concupy', 'condign', 'coney', 'confixed', \"conge 'd\", 'congeed', 'conger', 'congied', 'conjunctive', 'conjuration', 'conserve', 'consort', 'conspectuity', \"constring 'd\", 'constringed', 'contemn', 'continuate', 'contumeliously', 'conventicle', 'convive', 'cony', \"copp 'd\", 'copped', 'coppice', 'coram', 'coranto', 'coronal', 'corse', 'corselet', 'costard', 'costermonger', 'cotquean', 'coulter', 'couplement', 'covert', 'coy', 'coystril', 'coystrill', 'coz', 'cozen', 'cozenage', 'cozier', 'crare', 'crescive', 'crotchet', 'crown', 'crownet', 'crupper', 'crusado', 'cruzado', 'cubiculo', 'cuckold', 'cuckoo flower', 'cullion', 'dace', 'daff', 'dam', 'damosella', 'damson', 'Danskers', 'darnel', 'darraign', 'daubery', 'dauphin', 'debile', 'debosh', 'defeature', 'deflower', 'defunct', 'delated', 'delation', 'demi-wolf', 'denay', 'denier', 'denotement', 'depute', 'descant', 'designments', 'despatch', 'despite', 'determinate', 'diadem', 'dialogue', 'diaper', 'dich', 'dirge', 'disannul', 'disme', 'dispark', 'dispatch', 'disprized', 'disproperty', 'disquantity', 'dissentious', 'distaff', 'distained', 'distemperature', 'distract', 'distrain', 'ditch-dog', 'dive-dapper', 'diver', 'doit', 'dole', 'dormouse', 'dotant', 'doublet', 'dout', 'dower', 'dowlas', 'dowle', 'down-gyved', 'Downs', 'drab', 'drachma', 'draff', 'dram', 'dramatis persona', 'drave', 'drawer', 'drossy', 'drumble', 'dry-beat', 'dryfoot', 'dudgeon', 'duello', 'dug', 'dump', 'dup', 'durance', 'durst', 'eale', 'eaning', 'eftest', 'eftsoons', 'eisel', 'eld', 'embarquement', 'embassage', 'emblaze', 'embossed', 'embowel', 'embracement', 'empiricutic', 'emulous', 'encave', 'enchase', 'encloud', 'encompassment', 'enfeoff', 'engirt', 'englut', 'enmew', 'enow', 'enrank', 'enroot', 'enround', 'entail', 'enter', 'enwombed', 'epilogue', 'epitheton', 'equipage', 'ere', 'erewhile', 'errant', 'erst', 'escot', 'esperance', 'espial', 'essay', 'estridge', 'eterne', 'Ethiop', 'Ethiope', 'ever yet', 'everyet', 'exchequer', 'excursion', 'exeunt', 'exion', 'exit', 'exposture', 'exsufflicate', 'extirp', 'extraught', 'eyas', 'eyne', 'eyrie', 'facinorous', 'factionary', 'fadge', 'fain', 'fait', 'falchion', 'fallow', 'falsing', 'fap', 'farced', 'fardel', 'farthing', 'fatigate', 'fay', 'fealty', 'feat', 'fecks', 'federary', \"fee 'd\", 'feeder', 'fee-grief', 'Fee-simple', 'felly', 'feodary', 'fere', 'festinately', 'fico', 'fie', 'fillip', 'filly foal', 'fine sovereign', 'firago', 'firk', 'fitchew', 'flapdragon', 'fleer', 'fleshment', 'flews', 'flexure', 'flirt-gill', 'flock', 'fob', 'fob off', 'foh', 'foil', 'foin', 'foison', 'fool', 'foot', 'footboy', 'foot-cloth mule', 'footing', 'fordo', 'forsooth', 'fortnight', 'fosset', 'foughten', 'foul paper', 'foxship', 'fracted', 'frank', 'fraught', 'fraughtage', 'frippery', 'frontlet', 'froward', 'frush', 'fullam', 'fumiter', 'fumitory', 'fust', 'fustilarian', 'gaberdine', 'gad', 'gage', 'gainsay', 'gallery', 'galliard', 'gallia', 'galloglasses', 'gallow', 'gallowglasses', 'gamesome', 'gammon', 'gaoler', 'garboil', 'garner', 'gaskin', 'gasted', 'gawd', 'geck', 'gentle', 'gest', 'gib', 'giglot', 'gimmal', 'gimmer', 'gimmor', 'ging', 'gird', 'Gis', 'glaive', 'glanders', 'glave', 'gleek', 'glister', 'glose', 'glow-worm', 'gloze', 'go to the world', 'gobbet', 'goblin', 'godwit', 'good den', 'good-year', 'gorbellied', 'gord', 'gourd', 'gramercy', 'gratis', 'graymalkin', 'greave', 'greenly', 'gripe', 'grise', 'grize', 'groat', 'guardant', 'gudgeon', 'guerdon', 'gules', 'gull', 'gyve', 'habiliment', 'habitude', 'haggard', 'hale', 'half-crown', 'halfpenny', 'halidom', 'halter', 'handsaw', 'hap', \"ha'penny\", 'hapless', 'haply', 'hard-handed', 'hardiment', 'harebell', 'hare-bell', 'harlock', 'harrow', 'hasle', 'haste-post-haste', 'hatchment', 'haught', 'hautbois', 'hautboy', 'haviour', 'head', 'head-lugged', 'hebona', 'hectic', 'hedge', 'hedge-pig', 'hedgepriest', 'heft', 'hefted', 'heigh', 'helm', 'hempen', 'henchman', 'hent', 'hest', 'hewgh', 'Hiems', 'high cross', 'high-cross', 'hight', 'hilding', 'hindmost', 'hither', 'hizz', 'hodge pudding', 'hodge-pudding', 'hoise', 'holidame', 'holla', 'hollaing', 'holp', 'holy-ales', 'honey-stalks', 'honorificabilitudinitatibus', 'hornbook', 'horn-mad', 'horologe', 'hothouse', 'hot-house', 'house of resort', 'howbeit', 'hox', 'hoy', 'huggermugger', 'hull', 'hurly', 'hurricano', 'hurtle', 'husband', 'huswife', 'hyen', 'Hyrcanian beast', 'I wi', 'ignomy', \"'ild\", 'illume', 'imbar', 'imbare', 'imbrue', 'immanity', 'immoment', 'imp', 'impartment', 'impasted', 'impawn', 'imperceiverant', 'impeticos', 'impleached', 'implorator', 'impone', 'importunacy', 'imposthume', 'imprese', 'impressure', 'imputation', 'incarnadine', 'incensement', 'incertain', 'inchmeal', 'inch-meal', 'inclip', 'incony', 'incorpsed', 'increase', 'indent', 'indifferency', 'indigest', 'indign', 'indue', 'indurance', 'infamonize', 'inferreth', 'infortunate', 'inhearse', 'Inhoop', 'injointed', 'inkhorn', 'inkle', 'inscroll', \"insculp 'd\", 'insculped', 'insculpted', 'insculpture', \"insinew 'd\", 'insinewed', 'insisture', \"insteep 'd\", 'insteeped', 'intelligencer', 'intendment', 'intenible', 'intrinse', 'inventorially', 'iron crow', 'irregulous', 'issue', 'iwis', 'jack-a-lent', 'jack', 'jade', 'jakes', 'jar', 'jaunce', 'jerkin', 'jester', 'jet', 'jocund', 'John-a-dreams', 'joint-ring', 'jordan', 'jot', 'jutty', 'juvenal', 'kam', 'kecksy', 'keech', 'keel', 'Keisar', 'ken', 'keptst', 'kern', 'kersey', 'kibe', 'kicky-wicky', 'kine', 'kirtle', 'knack', 'knap', 'knight-errant', 'la', 'labras', 'lakin', 'Lammas', 'Lammas-tide', 'lampass', 'lank', 'lanthorn', 'lapwing', 'lass-lorn', 'lated', 'latten', 'laund', 'lazar', 'leagued', 'leather coat', 'leather-coat', 'leathern', 'leaf', 'lee', 'leet', 'legerity', 'leiger', 'leman', \"l'envoy\", 'levy', 'libbard', 'lict', 'lief', 'liege', 'liegeman', 'lifeling', 'limbeck', 'Limbo', 'lime', 'lineal', 'lineament', 'linstock', 'list', 'list', 'lither', 'loach', 'loaden', 'lob', 'lockram', 'lodestar', 'lode-star', 'loggat', 'loggats', 'loof', 'lour', 'lout', 'lown', 'lowt', 'lozel', 'lubber', 'luce', 'lune', 'lustihood', 'lym', 'maggot-pie', 'magnifico', 'Mahu', 'main', 'mained', 'makeless', 'malapert', 'malkin', 'malmsey', 'malt worm', 'mammer', 'mammet', 'mammock', 'manakin', 'mandragora', 'manikin', 'Manningtree', 'marchpane', 'marish', 'marl', 'Marry', 'mart', 'martinmas', 'martlemas', 'martlet', 'Mary-buds', 'masque', 'matin', 'maugre', 'maw', 'mazzard', 'meacock', 'measles', 'medlar', 'meed', 'meetest', 'meetness', 'mehercle', 'meiny', 'mell', 'mercatante', 'mered', 'mete-yard', 'metheglin', 'methinks', 'mew', 'mickle', 'milch', 'milkpaps', 'minikin', 'minim', 'minimus', 'mirable', 'miscarry', 'misconster', 'misprise', 'misproud', 'missingly', 'mis-tempered', 'mobled', 'Modo', 'moe', 'moiety', 'moldwarp', 'mome', 'momentany', 'monstruosity', 'montant', 'mooncalf', 'Morisco', 'morris', 'morris-pike', 'morrow', 'mote', 'mow', 'mummy', 'muniment', 'mure', 'murrain', 'murther', 'musk rose', 'musk-rose', 'mutine', 'nayward', 'nayword', 'neaf', 'near-legged', 'neat', 'needly', 'neeld', 'neeze', 'neif', 'netherstocks', 'nether-stocks', 'noddle', 'nonce', 'nose', \"not'st\", 'nousle', 'novum', 'nowl', 'noyance', 'nuncle', 'nuthook', 'obsequies', 'oeilliade', 'oeilliades', \"o'ercrow\", \"o'erleaven\", \"o'er-leaven\", \"o'er-raught\", \"o'er-read\", \"o'erskip\", \"o'ertrip\", 'oneyer', 'ope', 'oppugnancy', 'orange-wife', 'ordinant', 'orgulous', 'orison', 'orthographer', 'ostler', 'ouph', 'ouphe', 'ousel-cock', 'outface', 'outsport', 'outwall', 'out-wall', 'overborne', 'overcrow', 'overglance', 'overleather', 'overleaven', 'over-raught', 'overread', 'overskip', 'overtrip', 'overweening', 'over-weening', 'paction', 'paddock', 'pajock', 'pale', 'pall', 'palliament', 'palmy', 'palter', 'paly', 'pantler', 'panyn', 'panynæ', 'pap', 'paraquito', 'parcel', 'pardonnez-moi', \"'parit\", 'parle', 'parling', 'parmaceti', 'Parthia', 'partisan', 'partizan', 'pash', 'passado', 'passymeasure', 'passy-measure', 'pastern', 'patch', 'patine', 'pauca', 'pavan', 'pavane', 'pavin', 'peat', 'pedascule', 'peise', 'pell-mell', 'penny', 'pennyworth', 'penny-worth', 'peradventure', 'perdie', 'perdona-mi', 'perdu', 'perdurable', 'perdy', 'periapt', 'perpend', 'persever', 'perspective', 'pestiferous', 'petar', 'petard', 'pettish', 'pew-fellow', 'pheeze', 'Phoebe', 'physic', 'Picht-hatch', 'pickthank', 'pick-thank', 'Pickt-hatch', 'pight', 'pilchard', 'pill', 'pinfold', 'pinnace', \"pin 's fee\", 'pioned', 'pioner', 'pippin', 'pish', 'pismire', 'pittikin', 'placket', 'plain', 'plaining', 'planched', 'plat', 'plausive', 'pleached', 'pleb', 'plebeii', 'plurisy', 'poesy', 'point-device', 'poise', 'poke', 'politic', 'politicly', 'poll', 'polled', 'pomewater', 'poniard', 'pontifical', 'poor John', 'poperin', 'popinjay', 'porpentine', 'porringer', 'portance', 'posset', 'post horse', 'postern', 'post-horse', 'potation', 'potch', 'potting', 'pottle', 'poulter', 'pouncet box', 'pouncet-box', 'pound', 'power', 'practisant', 'pratest', \"prat'st\", 'preceptial', 'prejudicate', 'prenominate', 'prentice', \"'prentice\", 'cardecu', 'coif', 'quait', \"quart d ' ? cu\", 'quat', 'quatch', 'quean', 'quern', 'questant', 'questrist', 'quiddit', 'quillet', 'quintain', 'quire', 'quittance', 'quiver', 'quoif', 'quoit', 'quondam', 'quotha', 'quoth-a', 'quotidian', 'rabato', 'rabbit-sucker', 'rack', 'rampallian', 'raught', 'ravin', 'rearmouse', 'rear-mouse', 'reave', 'rebato', 'recheat', 'reck', 'recordation', 'recreant', 'red plague', 'rede', 'reechy', 'reel', 'refel', 'reft', 'reguerdon', 'rejourn', 'relique', 'remember', 'remembrancer', 'remotion', 'repair', 'repugn', 'reputeless', 'reremouse', 'rere-mouse', 'reverb', 'Rhenish', 'rheum', 'rial', 'rib', 'riband', 'riggish', 'rigol', 'rivality', 'robustious', 'roe', 'roist', 'romage', 'ronyon', 'rood', 'rooky', 'ropery', 'roundure', 'rowel', 'royal', 'roynish', 'rub', 'ruddock', 'rudesby', 'ruff', 'runagate', 'rushling', 'ruth', 'ryal', 'sackbut', 'sacring bell', 'sain', \"Saint Colme 's Inch\", 'saith', 'Sala', 'Salique Law', 'sallet', 'sanctuarize', 'sans', 'savour', 'saw', 'scab', 'scaffoldage', 'scald', 'scambling', 'scamel', 'scant', 'scantling', 'scape', \"'scape\", 'scarf up', 'scarfed', 'scathful', 'sconce', 'scotch', 'scrimer', 'scrip', 'scrowl', 'scroyle', 'scull', 'scullion', 'scurril', 'scutch', 'sea gown', 'sea-gown', 'sea-mark', 'seel', 'self', 'semblable', 'semblative', 'sennet', 'senseless-obstinate', 'sequent', 'sequester', 'serpigo', 'sessa', 'Setebos', 'setter', 'several', 'shale', 'shard', \"shark 'd\", 'sharked', 'shealed', 'shelvy', 'shent', \"sheriff 's post\", 'shilling', 'shive', 'shoon', 'shotten', 'shough', 'shovel board', 'shovel-board', 'shrieve', 'shrift', 'shrive', 'shunless', 'sicle', 'signiory', 'signory', 'simple', 'simular', 'sirrah', 'sith', 'sithence', 'sixpence', 'skainsmates', 'skains-mates', 'skeins-mates', 'skimble-skamble', 'skinker', 'skirr', 'sleided', 'sleight', 'sliding', 'slip', 'slop', 'slovenry', 'sluttish', 'smatch', 'smilets', 'smit', 'smooth', 'smoothing', 'Smulkin', 'smutch', 'sneap', 'sneaping', 'sneck up', 'snuff', 'soft', 'soilure', 'solidare', 'sonties', 'sooth', 'sortance', 'souse', 'sowl', 'sowle', 'spavin', 'speken', 'sperr', 'spilth', 'spirt', 'spital', 'splenitive', 'spongy', 'springe', 'springhalt', 'squier', 'squiny', 'stale', 'startingly', 'statist', 'statua', 'stave', 'stell', 'stile', 'stillitory', 'stilly', 'stoccado', 'stomacher', 'stonebow', 'stone-bow', 'stoup', 'strappado', 'straw', 'strond', 'strucken', 'strumpet', 'subscription', 'succour', 'sumpter', 'superflux', 'supervise', 'suppliance', 'supportance', 'supposal', 'sur-', 'surance', 'surplice', 'suspire', 'suum cuique', 'swag', 'swain', 'swashing', 'sweeting', 'Switzer', 'swound', 'tabor', 'tabour', 'tainture', 'tallow', 'tang', 'tanned', 'targe', 'Tarpeian', 'tarre', 'tarry', 'teem', 'tench', 'tendance', 'tent', 'Termagant', 'teston', 'testoon', 'tetter', 'Tewkesbury mustard', 'thane', 'tharborough', 'Thassos', 'theorick', 'thereunto', 'therewithal', 'thews', 'thine', 'thither', 'thorough', 'thou', \"thou'dst\", 'thraldom', 'thrall', 'thrasonical', 'three-man beetle', 'threepence', 'threne', 'thrum', 'thrummed hat', 'thy', 'thy', 'thyself', 'tilt', 'tilter', 'tiltyard', 'tilt-yard', 'tirrit', 'tortive', 'touse', 'toy', 'traject', 'trencher', 'trollmydames', 'troll-my-dames', 'troth', 'trow', 'Troyan', 'truckle-bed', 'truepenny', 'trull', 'truncheon', 'trundle-tail', 'tuck', 'tucket', 'tun', 'tundish', 'tup', 'Turlygood', 'twangling', 'twelvemonth', 'twiggen', 'twilled', 'twink', 'twire', 'twit', 'twopence', \"unanel 'd\", 'unaneled', 'unbarbed', 'unbated', 'unbodied', 'unbolted', 'unbreathed', 'uncape', 'unclew', 'uncoined', 'uncurrent', 'underfiends', 'underskinker', 'under-wrought', 'uneath', 'unfeigned', 'ungenitured', 'ungravely', 'unhatched', \"unhousel 'd\", 'unhouseled', 'unlineal', 'unmanned', 'unmuzzle', 'unparagoned', 'unpossessing', 'unprizable', 'unprizeable', 'unproperly', 'unseminared', \"unseminar 'd\", 'unsifted', 'unsinewed', \"unsinew 'd\", 'unsisting', 'unstanched', 'unstaunched', 'untemper', 'untempering', 'unthrift', 'upspring reel', 'usance', 'utis', 'vade', 'vail', 'vantbrace', 'varlet', 'vassalage', 'vastidity', 'vault', 'vault', 'vault', 'vault', 'vaultage', 'vaulty', 'vaunt-courier', 'vaward', 'vegetives', 'velure', 'vendible', 'venew', 'veney', 'ventage', 'verger', 'verily', 'vesper', 'vesture', 'via', 'viand', 'victual', 'videlicet', 'viewless', 'villany', 'vinewedst', 'vinnewed', 'vinewed', 'virginalling', 'vizament', 'vizard', 'votary', 'vouchsafe', 'waftage', 'wafture', 'waggoner', 'wailful', 'wainropes', 'wain rope', 'wall-eyed', 'wall-newt', 'Walloon', 'wanion', 'wanned', 'wappened', 'wannion', \"wann 'd\", \"wappen 'd\", 'warrantise', 'water-galls', 'water-rug', 'water-work', 'weal', 'wealsman', 'weed', 'weet', 'welkin', 'Welsh hook', 'westward-ho !', 'wezand', 'wesand', 'weasand', 'wheaten', 'Wheeson', 'whelk', 'whence', \"wh'er\", \"whe ' r\", 'wherefore', 'wheyface', 'whey-face', 'whiffler', 'while-ere', 'while', 'whimple', 'whipstock', 'whist', 'whiting', 'whitster', 'whittle', 'whoo-bub', 'whoobub', 'wight', 'willow garland', 'window-bars', 'windring', 'winter-ground', 'wi', 'wistly', 'withal', 'wittol', 'womby', 'wont', 'wont', 'wonted', 'woodbine', 'woodcock', 'woolward', 'wot', 'wrack', 'wrackful', 'writhled', 'wroth', 'yare', 'y-clad', 'yclept', 'yclad', 'ycleped', 'yellow', 'yeoman', 'yeoman', 'yeoman', 'yerk', 'yesty', 'yond', 'younker', 'zounds']\n"
     ]
    }
   ],
   "source": [
    "cliches_lemmatised = lemmatise_phrase_list(cliches)\n",
    "ancient_lemmatised = lemmatise_phrase_list(ancient_phrases)\n",
    "\n",
    "print(cliches_lemmatised)\n",
    "print(ancient_lemmatised)"
   ]
  },
  {
   "cell_type": "markdown",
   "metadata": {},
   "source": [
    "We will also convert all strings to lowercase to ensure that the matching is executed properly"
   ]
  },
  {
   "cell_type": "code",
   "execution_count": 8,
   "metadata": {},
   "outputs": [
    {
     "name": "stdout",
     "output_type": "stream",
     "text": [
      "['ace in the hole', 'ace up your sleeve', 'acid test', 'airing dirty laundry', \"all in a day 's work\", 'all talk', 'all booster', 'all hat', 'all foam', 'all hammer', 'all icing', 'all lime and salt', 'all missile', 'all shot', 'all sizzle', 'all wax and no wick', 'all that and a bag of chip', 'all thumb', 'all wet', \"all 's fair in love and war\", 'almighty dollar', 'always a bridesmaid', 'ambulance chaser', 'another day', 'ant in your pant', 'apple-pie order', 'arm and a leg', 'armchair quarterback', 'army brat', 'art imitates life', 'artsy-craftsy', 'artsy-fartsy', 'a luck would have it', 'a old a time', 'at loggerhead', 'calm before the storm', 'candle at both end', \"ca n't cut the mustard\", 'case of mistaken identity', 'cat out of the bag', 'cat got your tongue', 'caught red-handed', 'chapter and verse', 'checkered career', 'chicken come home to', 'roost', 'chomping at the bit', 'cleanliness is next to', 'godliness', 'clear a a bell', 'clear a mud', 'cold shoulder', 'e-ticket', 'ear to the ground', 'early bird catch the worm', 'easier said than done', 'easy a 1-2-3', 'easy a pie', 'eat crow', 'eat humble pie', 'enough already', 'even money', 'every dog ha it day', 'every fiber of my being', 'everything but the kitchen sink', 'evil twin', 'existential angst', 'expert agreeï¿½', 'eye for an eye', 'hair of the dog', 'hard to believe', 'have a nice day', 'head honcho', \"heart 's content\", 'hell-bent for leather', 'hidden agenda', 'high and the mighty ( the )', 'high on the hog', 'hold a candle to', 'hold your horse', 'hold your tongue', 'hook or by crook', 'horse of a different color', 'hot knife through butter', 'how go the battle ?', 'keep an eye on you', 'keep it down', 'keep it simple', 'keep up with the joneses', 'keep your card close to vestï¿½', 'keep your chin up', 'keep your finger crossed', 'keep your powder dry', 'kick as', 'kickbutt', 'kick the bucket', 'kick up your heel', 'kick you to the curb', 'kick your foot up', 'kid in a candy store', 'kill two bird with one stone', \"life 's a bitch\", 'lighten up', 'light out', 'like a sore thumb', 'like butter', 'like the plague', \"like there 's no tomorrow\", \"lion 's share\", 'litmus test', 'little black book', 'live and learn', 'long and short of it', 'long lost love', 'look before you leap', 'lounge lizard', 'loved and lost', 'low man on the totem pole', 'luck of the draw', 'luck of the irish', 'off the wagon', 'old college try', 'old meet new', 'older and wiser', 'older than dirt', 'older than methuselah', 'on the bandwagon', 'on the nose', 'on the wagon', 'on thin ice', 'one born every minute', 'one foot in the grave', 'one in a million', 'only game in town', 'only to be met', 'out of pocket', 'out of the frying pan', 'out on a limb', 'safe than sorry', 'salt of the earth', 'save face', 'scared stiff', 'scared to death', \"school 's out\", 'screaming meemies', 'sens reel', 'set the record straight', 'shake a stick should of', 'shoulder to the wheel', 'shouldered his way', 'shut your trap', 'sigh of relief', 'significant other', 'silence is golden', 'take one for the team', 'take the bull by the horn', 'take the plunge', 'take one to know one', 'talk turkey', 'ten foot pole', 'the earth moved', 'the final analysis', 'the real mccoy', 'the same old story', 'these thing happen', 'thick a thief', 'think outside of the box', \"third time 's the charm\", 'under the gun', 'under the same roof', 'understated elegance', 'unexpected twist', 'until the cow come home', 'up his sleeve', 'up the creek', 'up the wrong tree', 'very real concern', 'view with alarm', 'babe in the wood', 'back against the wall', 'back in the saddle', 'back to square one', 'back to the drawing board', 'bad to the bone', 'badge of honor', 'badonkadonk', 'ballpark figure', 'ball to the wall', 'baptism of fire', 'bare bone', 'bark is worse than the bite', 'bark up the wrong tree', 'bat out of hell', 'bat in the belfry', 'battle royal', 'beat around the bush', 'beat the bush', 'beat me', 'behind the eight ball', 'bent out of shape', 'best foot forward', 'bet your bottom dollar', 'better half', 'better late than never', 'better mousetrap', 'better safe than sorry', 'better than ever', 'better the devil you know', 'between a rock and a hard place', 'beyond the pale', 'bib and tucker', 'big a life', 'big fish in a small pond', 'big man on campus', 'bigger they are', 'communist conspiracy', 'conniption fit', 'could care le', \"could n't care le\", \"could n't get to first base\", 'count your blessing', 'countless hour', 'creature comfort', 'crime in the street', 'curiosity killed the cat', 'curry favor', 'cut a fine figure', 'cut and dried', 'cut to the chase', 'cut to the quick', 'cute a a button', 'fact of life', 'fair-haired one', 'fair weather friend', 'fall off of a turnip truck', 'fat slob', 'favor u with a song', 'fear and loathing', 'feather your nest', 'fellow traveler', 'few and far between', 'field this one', 'fifteen minute of fame', 'fish nor fowl', 'fly by night', 'fly the coop', 'for the bird', 'fox in the henhouse', 'freudian slip', 'fun and game', 'fun in the sun', 'i beg to differ', 'if the shoe fit', \"i 'm okay\", 'in a nutshell', 'in a pinch', 'in a wink', \"in harm 's way\", 'in the tank', 'in your dream', 'in your face', 'inexorably drawn', 'info dump', 'influence peddling', 'intent and purpose', 'it wa a dark and stormy night', \"it wo n't fly\", \"king 's english\", \"king 's ransom\", 'kiss and tell', 'kiss as', 'kiss of death', 'kit and kaboodle', 'knee-high to a grasshopper', 'knock it out of the park', 'knock on wood', 'knock your sock off', 'knocked up', 'know him from adam', 'know the rope', 'know the score', 'knuckle down', 'knuckle sandwich', 'knuckle under', 'make my day', 'male chauvinist', \"man 's best friend\", 'many moon', 'many-splendored thing', 'mark my word', 'meaningful relationship', 'mellow out', 'moment of glory', \"moment 's respite\", 'monday morning quarterback', 'monkey suit', 'monkey see', 'motherhood and apple pie', 'mover and shaker', 'moving experience', 'my two cent', \"p 's and q 's\", 'pain and suffering', 'panic button', 'party pooper', 'patter of little foot', 'pas the sniff test', 'pay through the nose', 'pea in a pod', 'perfect storm', 'pig in a poke', 'pillar of society', 'pinko', 'plenty of fish in the sea', 'poison pen', 'poor a a churchmouse', 'poor excuse for', 'pot calling the kettle black', 'proud possessor', 'put my foot down', 'put your foot down', 'quick a a bunny', 'quick and the dead', 'slept like a log', 'small world', 'snake in the grass', 'snow job', 'snug a a bug', 'some of my best friend', 'something the cat dragged in', 'spade a spade', 'spare the rod', 'spitting image', 'spring to life', 'this day and age', 'this point in time', \"three strike and you 're out\", 'through the grapevine', 'throw in the towel', 'tiger by the tail', 'till the fat lady sings', 'time and time again', 'time is of the essense', 'tip of the iceberg', \"'t is the season\", 'to err is human', 'to the best of my knowledge', 'wakeup call', 'wa my face red', 'watch your tongue', 'web of intrigue', 'week of sunday', 'what a bummer', 'what come around', 'what the cat dragged in', 'what the dickens', 'what the heck', 'what the hell', 'what you see is what you get', \"what 's not to like\", 'wheeler-dealer', 'when in doubt', 'when push come to shove', 'when rubber meet the road', \"when the cat 's away\", 'when the going get tough', 'bird in the hand', 'bird and the bee', 'bird of the feather', 'bite the dust', 'bite your tongue', 'bitter disappointment', 'black a coal', 'blast from the past', 'bleeding heart', 'blind a a bat', 'blood is thicker than water', 'blood money', 'blood on your hand', 'blood sweat and tear', 'blow this pop stand', 'blow this joint', 'blushing bride', 'boil it down to', 'bone of contention', 'booze and broad', 'bored to tear', 'born and raised', 'born with a silver spoon in your mouth', 'born yesterday', 'bottom line', 'brain drain', 'brain dump', 'brass tack', 'bring home the bacon', 'broken record', \"brother 's keeper\", 'bull by the horn', 'bull in a china shop', 'bump in the night', 'busy a a bee', 'but seriously', 'by and large', 'darkest before the dawn', 'dead a a doornail', 'death and destruction', 'death and tax', \"death 's doorstep\", 'devil is in the detail', 'dim view', 'dog day', 'dog in the manger', \"do n't count your chicken before they 're hatched\", \"do n't do the crime if you ca n't do the time\", 'doubting thomas', 'down and dirty', 'down in the dump', 'down pat', 'down the toilet', 'down the drain', 'down the hatch', 'down to earth', 'drive you up a wall', 'dutch uncle', 'dyed in the wool', 'garbage in', 'get the sack', 'get your groove back', 'get my goat', 'gift horse in the mouth', 'gilding the lily', 'give a damn', 'give me a break', 'give me the creep', 'go him one better', 'go without saying', 'good deed for the day', 'good time wa had by all', 'greek to me', 'green thumb', 'green-eyed monster', 'grist for the mill', 'guiding light', 'jack of all trade', 'jockey for position', 'johnny-come-lately', 'joined at the hip', 'jump down your throat', 'jump in with both foot', 'jump on the bandwagon', 'jump the gun', 'jump his bone', 'jump her bone', 'junk in the trunk', 'jury is still out', 'justice is blind', 'labor of love', 'lap of luxury', 'last but not least', 'last-ditch effort', 'last hurrah', 'law of the jungle', 'law of the land', 'lay down the law', 'leap and bound', 'let sleeping dog lie', 'let the cat out of the bag', \"let 's split\", 'liberal medium', 'lie like a rug', 'life and limb', 'life imitates art', 'neat a a pin', 'needle to say', 'nip it in the bud', 'no gut', 'no love lost', 'no pain', 'no stone unturned', 'no time like the present', 'nose to the grindstone', 'not in my back yard', 'not on your tintype', 'number one fan', 'numerous to mention', 'radical chic', 'rag to rich', 'raining bucket', 'raining cat and dog', 'rank and file', 'read my lip', 'red herring', 'redheaded stepchild', 'reign supreme', 'remember the alamo', 'road to hell is paved with good intention', 'rob peter to pay paul', 'rock and a hard place', 'rocket scientist', 'rocket science', 'rope a dope', 'run it up the flagpole', 'running dog lackey', 'squeaky wheel get the oil', 'squeaky wheel get the grease', 'start from scratch', 'stick in the mud', 'stick in your craw', 'still water run deep', 'stop and smell the rose', 'store bought', 'stranger than fiction', \"straw that broke the camel 's back\", 'stubborn a a mule', 'stuff that dream are made of', 'stuffed shirt', 'tongue-in-cheek', 'too hot to handle', 'touch of blarney', 'tough a nail', 'tough luck', 'tough row to hoe', 'traditional family value', 'trial and tribulation', 'tried and true', 'trip down memory lane', 'true blue', 'turn your smile upside-down', 'turn your frown upside-down', 'twist of fate', 'twist and turn', 'two to tango', 'who ha everything', 'whole ball of wax', 'whole hog', 'whole nine yard', 'whole other story', 'wild goose chase', 'wild oat', 'will wonder never cease', 'wimp', 'win friend and influence', 'people', 'win one for the gipper', 'wnning is everything', 'wisdom of the age', 'without benefit of clergy', 'wolf at the door', 'word fail', 'work like a dog', 'worst nightmare', 'wrong side of the bed']\n",
      "['abodement', 'abram', 'abroach', 'abrook', 'absey-book', 'aby', 'accdant', 'accite', 'accomplement', 'accompt', 'accouter', 'accoutre', 'acheron', 'acknow', 'aconitum', 'acquittance', 'acture', 'actus primus', 'actus quartus', 'actus quintus', 'actus secundus', 'actus tertius', 'addle', 'adieu', 'adoptious', 'advocation', 'aery', 'afeared', 'affiance', 'affined', 'affy', 'agate', 'agazed', 'aglet', 'agood', 'ague', 'aiery', 'alack', 'alarum', 'albion', 'alderliefest', 'alder-liefest', 'alder-lievest', 'alewife', 'ale-wife', 'allayment', 'allegiant', 'allottery', 'almain', 'alms drink', 'almsdrink', 'almshouse', 'amain', 'amerce', 'ames-ace', 'amort', 'anatomize', 'ancient', 'a-night', 'annexment', 'anon', 'antagonist', 'antechamber', 'anthropophagi', 'anthropophaginian', 'antic', 'antick', 'anticked', 'antre', 'appeach', 'appellant', 'apperil', 'apple-john', 'approof', 'apricock', 'aqua vitae', 'aqua-vitae', 'argal', 'argier', 'argosy', 'aright', 'armigero', 'aroint', 'a-row', 'arrant', 'arras', 'aside', 'asinego', 'assay', 'assemblance', 'assinego', 'assubjugate', 'atomies', 'attaint', 'attainture', 'atwain', 'a-twain', 'audit', 'auld', 'avaunt', 'avouch', 'aye', 'bacare', 'baccare', 'bacchanal', 'backare', 'baffle', 'baggage', 'bajazet', 'balcony in a shakespearean theater', 'ballow', 'balsamum', 'ban', 'bandog', 'ban-dog', 'banns', 'barbary', 'barbason', 'barbermonger', 'barber-monger', 'barm', 'barnes', 'barricado', 'basilisk', 'basta', 'bastard', 'bastardy', 'bastinado', 'bate', 'bat-fowling', 'batler', 'batlet', 'battaille', 'battalia', 'bavin', 'bawbling', 'bawcock', 'bawdry', 'beadsman', 'beam', 'bearing cloth', 'bearing-cloth', 'beaver', 'bed of ware', 'bed-hangings', 'bedlam', 'beetle', 'befall', 'begirt', 'behoveful', 'beldam', 'belike', 'bemadding', 'bemete', 'be-mete', 'bemoil', 'be-moil', 'be-netted', 'benison', 'bergomask', 'bescreened', 'be-screened', 'beseech', 'beshrew', 'beslubber', 'besort', 'bespake', 'bespeak', 'bespoke', 'bestraught', 'betake', 'beteem', 'betid', 'betide', 'betimes', 'betossed', 'betwixt', 'bewray', 'bezonian', 'biding', 'biggen', 'bilberry', 'bilbo', 'bill', 'birdbolt', 'bird-bolt', 'bisson', 'blench', 'bob', 'bodement', 'bodge', 'bodkin', 'boótier vert', 'bolster', 'bolted', 'bolter', 'bolting hutch', 'bolting-hutch', 'bombard', 'bona roba', 'bona-roba', 'bondman', 'bonny', 'boot', 'bootless', 'bosky', 'botcher', 'bot', 'bottled spider', 'bounden', 'bourn', 'brabble', 'brach', 'brainish', 'brainpan', 'brain-pan', 'brake', 'bravery', 'breese', 'bretagne', 'brinded', 'brinish', 'britaine', 'brittany', 'brock', 'brogue', 'bruit', 'bubukle', 'buckler', 'buckram', 'bum', 'bung', 'burden a a music term', 'burgonet', 'burthen', 'buskin', 'busky', 'bus', 'buzzer', 'by-room', 'cacodaemon', 'cacodemon', 'caddis', 'caitiff', 'calipolis', 'caliver', 'callat', 'callet', 'cam', 'cambric', 'camlet', 'canakin', 'canary', 'canis', 'cannikin', 'canzonet', 'cap-a-pie', 'capon', 'carbuncle', 'carcanet', 'cardmaker', 'carlot', 'carract', 'cart', 'carviare', 'casing', 'casque', 'cataplasm', 'catch', 'catchword', 'cater', 'cater-cousin', 'caterwauling', 'cautel', 'cautelous', 'caviary', 'cavil', 'cellarage', 'cellar-age', 'century', 'cerecloth', 'cerement', 'certes', 'chace', 'champain', 'chanticleer', 'chantry', 'chape', 'chapfallen', \"chap-fall'n\", 'chapless', 'chapman', 'chapt', 'charactery', 'charneco', 'charnel house', 'charnel-house', 'cheveril', 'chid', 'chine', 'chirurgeon', 'chopine', 'chorus', 'chough', 'chuck', 'cicatrice', 'cinque-pace', 'cinque-ports', 'circummure', 'civet', 'clackdish', 'clack-dish', 'clepe', 'clept', 'clew', 'climature', 'clinquant', 'clog', 'cloistress', 'clotpoll', 'clout', 'clouted brogue', 'clovest', 'cloyless', 'cockatrice', \"cockerel 's stone\", 'cockle', 'cockle hat', 'cockleshell', 'cockney', 'cock-shut time', 'codpiece', 'coffer', 'cog', 'cogging', 'coign', 'coil', 'collop', 'combinate', 'complice', 'complot', 'compulsative', 'con', 'concernancy', 'concupy', 'condign', 'coney', 'confixed', \"conge 'd\", 'congeed', 'conger', 'congied', 'conjunctive', 'conjuration', 'conserve', 'consort', 'conspectuity', \"constring 'd\", 'constringed', 'contemn', 'continuate', 'contumeliously', 'conventicle', 'convive', 'cony', \"copp 'd\", 'copped', 'coppice', 'coram', 'coranto', 'coronal', 'corse', 'corselet', 'costard', 'costermonger', 'cotquean', 'coulter', 'couplement', 'covert', 'coy', 'coystril', 'coystrill', 'coz', 'cozen', 'cozenage', 'cozier', 'crare', 'crescive', 'crotchet', 'crown', 'crownet', 'crupper', 'crusado', 'cruzado', 'cubiculo', 'cuckold', 'cuckoo flower', 'cullion', 'dace', 'daff', 'dam', 'damosella', 'damson', 'danskers', 'darnel', 'darraign', 'daubery', 'dauphin', 'debile', 'debosh', 'defeature', 'deflower', 'defunct', 'delated', 'delation', 'demi-wolf', 'denay', 'denier', 'denotement', 'depute', 'descant', 'designments', 'despatch', 'despite', 'determinate', 'diadem', 'dialogue', 'diaper', 'dich', 'dirge', 'disannul', 'disme', 'dispark', 'dispatch', 'disprized', 'disproperty', 'disquantity', 'dissentious', 'distaff', 'distained', 'distemperature', 'distract', 'distrain', 'ditch-dog', 'dive-dapper', 'diver', 'doit', 'dole', 'dormouse', 'dotant', 'doublet', 'dout', 'dower', 'dowlas', 'dowle', 'down-gyved', 'downs', 'drab', 'drachma', 'draff', 'dram', 'dramatis persona', 'drave', 'drawer', 'drossy', 'drumble', 'dry-beat', 'dryfoot', 'dudgeon', 'duello', 'dug', 'dump', 'dup', 'durance', 'durst', 'eale', 'eaning', 'eftest', 'eftsoons', 'eisel', 'eld', 'embarquement', 'embassage', 'emblaze', 'embossed', 'embowel', 'embracement', 'empiricutic', 'emulous', 'encave', 'enchase', 'encloud', 'encompassment', 'enfeoff', 'engirt', 'englut', 'enmew', 'enow', 'enrank', 'enroot', 'enround', 'entail', 'enter', 'enwombed', 'epilogue', 'epitheton', 'equipage', 'ere', 'erewhile', 'errant', 'erst', 'escot', 'esperance', 'espial', 'essay', 'estridge', 'eterne', 'ethiop', 'ethiope', 'ever yet', 'everyet', 'exchequer', 'excursion', 'exeunt', 'exion', 'exit', 'exposture', 'exsufflicate', 'extirp', 'extraught', 'eyas', 'eyne', 'eyrie', 'facinorous', 'factionary', 'fadge', 'fain', 'fait', 'falchion', 'fallow', 'falsing', 'fap', 'farced', 'fardel', 'farthing', 'fatigate', 'fay', 'fealty', 'feat', 'fecks', 'federary', \"fee 'd\", 'feeder', 'fee-grief', 'fee-simple', 'felly', 'feodary', 'fere', 'festinately', 'fico', 'fie', 'fillip', 'filly foal', 'fine sovereign', 'firago', 'firk', 'fitchew', 'flapdragon', 'fleer', 'fleshment', 'flews', 'flexure', 'flirt-gill', 'flock', 'fob', 'fob off', 'foh', 'foil', 'foin', 'foison', 'fool', 'foot', 'footboy', 'foot-cloth mule', 'footing', 'fordo', 'forsooth', 'fortnight', 'fosset', 'foughten', 'foul paper', 'foxship', 'fracted', 'frank', 'fraught', 'fraughtage', 'frippery', 'frontlet', 'froward', 'frush', 'fullam', 'fumiter', 'fumitory', 'fust', 'fustilarian', 'gaberdine', 'gad', 'gage', 'gainsay', 'gallery', 'galliard', 'gallia', 'galloglasses', 'gallow', 'gallowglasses', 'gamesome', 'gammon', 'gaoler', 'garboil', 'garner', 'gaskin', 'gasted', 'gawd', 'geck', 'gentle', 'gest', 'gib', 'giglot', 'gimmal', 'gimmer', 'gimmor', 'ging', 'gird', 'gis', 'glaive', 'glanders', 'glave', 'gleek', 'glister', 'glose', 'glow-worm', 'gloze', 'go to the world', 'gobbet', 'goblin', 'godwit', 'good den', 'good-year', 'gorbellied', 'gord', 'gourd', 'gramercy', 'gratis', 'graymalkin', 'greave', 'greenly', 'gripe', 'grise', 'grize', 'groat', 'guardant', 'gudgeon', 'guerdon', 'gules', 'gull', 'gyve', 'habiliment', 'habitude', 'haggard', 'hale', 'half-crown', 'halfpenny', 'halidom', 'halter', 'handsaw', 'hap', \"ha'penny\", 'hapless', 'haply', 'hard-handed', 'hardiment', 'harebell', 'hare-bell', 'harlock', 'harrow', 'hasle', 'haste-post-haste', 'hatchment', 'haught', 'hautbois', 'hautboy', 'haviour', 'head', 'head-lugged', 'hebona', 'hectic', 'hedge', 'hedge-pig', 'hedgepriest', 'heft', 'hefted', 'heigh', 'helm', 'hempen', 'henchman', 'hent', 'hest', 'hewgh', 'hiems', 'high cross', 'high-cross', 'hight', 'hilding', 'hindmost', 'hither', 'hizz', 'hodge pudding', 'hodge-pudding', 'hoise', 'holidame', 'holla', 'hollaing', 'holp', 'holy-ales', 'honey-stalks', 'honorificabilitudinitatibus', 'hornbook', 'horn-mad', 'horologe', 'hothouse', 'hot-house', 'house of resort', 'howbeit', 'hox', 'hoy', 'huggermugger', 'hull', 'hurly', 'hurricano', 'hurtle', 'husband', 'huswife', 'hyen', 'hyrcanian beast', 'i wi', 'ignomy', \"'ild\", 'illume', 'imbar', 'imbare', 'imbrue', 'immanity', 'immoment', 'imp', 'impartment', 'impasted', 'impawn', 'imperceiverant', 'impeticos', 'impleached', 'implorator', 'impone', 'importunacy', 'imposthume', 'imprese', 'impressure', 'imputation', 'incarnadine', 'incensement', 'incertain', 'inchmeal', 'inch-meal', 'inclip', 'incony', 'incorpsed', 'increase', 'indent', 'indifferency', 'indigest', 'indign', 'indue', 'indurance', 'infamonize', 'inferreth', 'infortunate', 'inhearse', 'inhoop', 'injointed', 'inkhorn', 'inkle', 'inscroll', \"insculp 'd\", 'insculped', 'insculpted', 'insculpture', \"insinew 'd\", 'insinewed', 'insisture', \"insteep 'd\", 'insteeped', 'intelligencer', 'intendment', 'intenible', 'intrinse', 'inventorially', 'iron crow', 'irregulous', 'issue', 'iwis', 'jack-a-lent', 'jack', 'jade', 'jakes', 'jar', 'jaunce', 'jerkin', 'jester', 'jet', 'jocund', 'john-a-dreams', 'joint-ring', 'jordan', 'jot', 'jutty', 'juvenal', 'kam', 'kecksy', 'keech', 'keel', 'keisar', 'ken', 'keptst', 'kern', 'kersey', 'kibe', 'kicky-wicky', 'kine', 'kirtle', 'knack', 'knap', 'knight-errant', 'la', 'labras', 'lakin', 'lammas', 'lammas-tide', 'lampass', 'lank', 'lanthorn', 'lapwing', 'lass-lorn', 'lated', 'latten', 'laund', 'lazar', 'leagued', 'leather coat', 'leather-coat', 'leathern', 'leaf', 'lee', 'leet', 'legerity', 'leiger', 'leman', \"l'envoy\", 'levy', 'libbard', 'lict', 'lief', 'liege', 'liegeman', 'lifeling', 'limbeck', 'limbo', 'lime', 'lineal', 'lineament', 'linstock', 'list', 'list', 'lither', 'loach', 'loaden', 'lob', 'lockram', 'lodestar', 'lode-star', 'loggat', 'loggats', 'loof', 'lour', 'lout', 'lown', 'lowt', 'lozel', 'lubber', 'luce', 'lune', 'lustihood', 'lym', 'maggot-pie', 'magnifico', 'mahu', 'main', 'mained', 'makeless', 'malapert', 'malkin', 'malmsey', 'malt worm', 'mammer', 'mammet', 'mammock', 'manakin', 'mandragora', 'manikin', 'manningtree', 'marchpane', 'marish', 'marl', 'marry', 'mart', 'martinmas', 'martlemas', 'martlet', 'mary-buds', 'masque', 'matin', 'maugre', 'maw', 'mazzard', 'meacock', 'measles', 'medlar', 'meed', 'meetest', 'meetness', 'mehercle', 'meiny', 'mell', 'mercatante', 'mered', 'mete-yard', 'metheglin', 'methinks', 'mew', 'mickle', 'milch', 'milkpaps', 'minikin', 'minim', 'minimus', 'mirable', 'miscarry', 'misconster', 'misprise', 'misproud', 'missingly', 'mis-tempered', 'mobled', 'modo', 'moe', 'moiety', 'moldwarp', 'mome', 'momentany', 'monstruosity', 'montant', 'mooncalf', 'morisco', 'morris', 'morris-pike', 'morrow', 'mote', 'mow', 'mummy', 'muniment', 'mure', 'murrain', 'murther', 'musk rose', 'musk-rose', 'mutine', 'nayward', 'nayword', 'neaf', 'near-legged', 'neat', 'needly', 'neeld', 'neeze', 'neif', 'netherstocks', 'nether-stocks', 'noddle', 'nonce', 'nose', \"not'st\", 'nousle', 'novum', 'nowl', 'noyance', 'nuncle', 'nuthook', 'obsequies', 'oeilliade', 'oeilliades', \"o'ercrow\", \"o'erleaven\", \"o'er-leaven\", \"o'er-raught\", \"o'er-read\", \"o'erskip\", \"o'ertrip\", 'oneyer', 'ope', 'oppugnancy', 'orange-wife', 'ordinant', 'orgulous', 'orison', 'orthographer', 'ostler', 'ouph', 'ouphe', 'ousel-cock', 'outface', 'outsport', 'outwall', 'out-wall', 'overborne', 'overcrow', 'overglance', 'overleather', 'overleaven', 'over-raught', 'overread', 'overskip', 'overtrip', 'overweening', 'over-weening', 'paction', 'paddock', 'pajock', 'pale', 'pall', 'palliament', 'palmy', 'palter', 'paly', 'pantler', 'panyn', 'panynæ', 'pap', 'paraquito', 'parcel', 'pardonnez-moi', \"'parit\", 'parle', 'parling', 'parmaceti', 'parthia', 'partisan', 'partizan', 'pash', 'passado', 'passymeasure', 'passy-measure', 'pastern', 'patch', 'patine', 'pauca', 'pavan', 'pavane', 'pavin', 'peat', 'pedascule', 'peise', 'pell-mell', 'penny', 'pennyworth', 'penny-worth', 'peradventure', 'perdie', 'perdona-mi', 'perdu', 'perdurable', 'perdy', 'periapt', 'perpend', 'persever', 'perspective', 'pestiferous', 'petar', 'petard', 'pettish', 'pew-fellow', 'pheeze', 'phoebe', 'physic', 'picht-hatch', 'pickthank', 'pick-thank', 'pickt-hatch', 'pight', 'pilchard', 'pill', 'pinfold', 'pinnace', \"pin 's fee\", 'pioned', 'pioner', 'pippin', 'pish', 'pismire', 'pittikin', 'placket', 'plain', 'plaining', 'planched', 'plat', 'plausive', 'pleached', 'pleb', 'plebeii', 'plurisy', 'poesy', 'point-device', 'poise', 'poke', 'politic', 'politicly', 'poll', 'polled', 'pomewater', 'poniard', 'pontifical', 'poor john', 'poperin', 'popinjay', 'porpentine', 'porringer', 'portance', 'posset', 'post horse', 'postern', 'post-horse', 'potation', 'potch', 'potting', 'pottle', 'poulter', 'pouncet box', 'pouncet-box', 'pound', 'power', 'practisant', 'pratest', \"prat'st\", 'preceptial', 'prejudicate', 'prenominate', 'prentice', \"'prentice\", 'cardecu', 'coif', 'quait', \"quart d ' ? cu\", 'quat', 'quatch', 'quean', 'quern', 'questant', 'questrist', 'quiddit', 'quillet', 'quintain', 'quire', 'quittance', 'quiver', 'quoif', 'quoit', 'quondam', 'quotha', 'quoth-a', 'quotidian', 'rabato', 'rabbit-sucker', 'rack', 'rampallian', 'raught', 'ravin', 'rearmouse', 'rear-mouse', 'reave', 'rebato', 'recheat', 'reck', 'recordation', 'recreant', 'red plague', 'rede', 'reechy', 'reel', 'refel', 'reft', 'reguerdon', 'rejourn', 'relique', 'remember', 'remembrancer', 'remotion', 'repair', 'repugn', 'reputeless', 'reremouse', 'rere-mouse', 'reverb', 'rhenish', 'rheum', 'rial', 'rib', 'riband', 'riggish', 'rigol', 'rivality', 'robustious', 'roe', 'roist', 'romage', 'ronyon', 'rood', 'rooky', 'ropery', 'roundure', 'rowel', 'royal', 'roynish', 'rub', 'ruddock', 'rudesby', 'ruff', 'runagate', 'rushling', 'ruth', 'ryal', 'sackbut', 'sacring bell', 'sain', \"saint colme 's inch\", 'saith', 'sala', 'salique law', 'sallet', 'sanctuarize', 'sans', 'savour', 'saw', 'scab', 'scaffoldage', 'scald', 'scambling', 'scamel', 'scant', 'scantling', 'scape', \"'scape\", 'scarf up', 'scarfed', 'scathful', 'sconce', 'scotch', 'scrimer', 'scrip', 'scrowl', 'scroyle', 'scull', 'scullion', 'scurril', 'scutch', 'sea gown', 'sea-gown', 'sea-mark', 'seel', 'self', 'semblable', 'semblative', 'sennet', 'senseless-obstinate', 'sequent', 'sequester', 'serpigo', 'sessa', 'setebos', 'setter', 'several', 'shale', 'shard', \"shark 'd\", 'sharked', 'shealed', 'shelvy', 'shent', \"sheriff 's post\", 'shilling', 'shive', 'shoon', 'shotten', 'shough', 'shovel board', 'shovel-board', 'shrieve', 'shrift', 'shrive', 'shunless', 'sicle', 'signiory', 'signory', 'simple', 'simular', 'sirrah', 'sith', 'sithence', 'sixpence', 'skainsmates', 'skains-mates', 'skeins-mates', 'skimble-skamble', 'skinker', 'skirr', 'sleided', 'sleight', 'sliding', 'slip', 'slop', 'slovenry', 'sluttish', 'smatch', 'smilets', 'smit', 'smooth', 'smoothing', 'smulkin', 'smutch', 'sneap', 'sneaping', 'sneck up', 'snuff', 'soft', 'soilure', 'solidare', 'sonties', 'sooth', 'sortance', 'souse', 'sowl', 'sowle', 'spavin', 'speken', 'sperr', 'spilth', 'spirt', 'spital', 'splenitive', 'spongy', 'springe', 'springhalt', 'squier', 'squiny', 'stale', 'startingly', 'statist', 'statua', 'stave', 'stell', 'stile', 'stillitory', 'stilly', 'stoccado', 'stomacher', 'stonebow', 'stone-bow', 'stoup', 'strappado', 'straw', 'strond', 'strucken', 'strumpet', 'subscription', 'succour', 'sumpter', 'superflux', 'supervise', 'suppliance', 'supportance', 'supposal', 'sur-', 'surance', 'surplice', 'suspire', 'suum cuique', 'swag', 'swain', 'swashing', 'sweeting', 'switzer', 'swound', 'tabor', 'tabour', 'tainture', 'tallow', 'tang', 'tanned', 'targe', 'tarpeian', 'tarre', 'tarry', 'teem', 'tench', 'tendance', 'tent', 'termagant', 'teston', 'testoon', 'tetter', 'tewkesbury mustard', 'thane', 'tharborough', 'thassos', 'theorick', 'thereunto', 'therewithal', 'thews', 'thine', 'thither', 'thorough', 'thou', \"thou'dst\", 'thraldom', 'thrall', 'thrasonical', 'three-man beetle', 'threepence', 'threne', 'thrum', 'thrummed hat', 'thy', 'thy', 'thyself', 'tilt', 'tilter', 'tiltyard', 'tilt-yard', 'tirrit', 'tortive', 'touse', 'toy', 'traject', 'trencher', 'trollmydames', 'troll-my-dames', 'troth', 'trow', 'troyan', 'truckle-bed', 'truepenny', 'trull', 'truncheon', 'trundle-tail', 'tuck', 'tucket', 'tun', 'tundish', 'tup', 'turlygood', 'twangling', 'twelvemonth', 'twiggen', 'twilled', 'twink', 'twire', 'twit', 'twopence', \"unanel 'd\", 'unaneled', 'unbarbed', 'unbated', 'unbodied', 'unbolted', 'unbreathed', 'uncape', 'unclew', 'uncoined', 'uncurrent', 'underfiends', 'underskinker', 'under-wrought', 'uneath', 'unfeigned', 'ungenitured', 'ungravely', 'unhatched', \"unhousel 'd\", 'unhouseled', 'unlineal', 'unmanned', 'unmuzzle', 'unparagoned', 'unpossessing', 'unprizable', 'unprizeable', 'unproperly', 'unseminared', \"unseminar 'd\", 'unsifted', 'unsinewed', \"unsinew 'd\", 'unsisting', 'unstanched', 'unstaunched', 'untemper', 'untempering', 'unthrift', 'upspring reel', 'usance', 'utis', 'vade', 'vail', 'vantbrace', 'varlet', 'vassalage', 'vastidity', 'vault', 'vault', 'vault', 'vault', 'vaultage', 'vaulty', 'vaunt-courier', 'vaward', 'vegetives', 'velure', 'vendible', 'venew', 'veney', 'ventage', 'verger', 'verily', 'vesper', 'vesture', 'via', 'viand', 'victual', 'videlicet', 'viewless', 'villany', 'vinewedst', 'vinnewed', 'vinewed', 'virginalling', 'vizament', 'vizard', 'votary', 'vouchsafe', 'waftage', 'wafture', 'waggoner', 'wailful', 'wainropes', 'wain rope', 'wall-eyed', 'wall-newt', 'walloon', 'wanion', 'wanned', 'wappened', 'wannion', \"wann 'd\", \"wappen 'd\", 'warrantise', 'water-galls', 'water-rug', 'water-work', 'weal', 'wealsman', 'weed', 'weet', 'welkin', 'welsh hook', 'westward-ho !', 'wezand', 'wesand', 'weasand', 'wheaten', 'wheeson', 'whelk', 'whence', \"wh'er\", \"whe ' r\", 'wherefore', 'wheyface', 'whey-face', 'whiffler', 'while-ere', 'while', 'whimple', 'whipstock', 'whist', 'whiting', 'whitster', 'whittle', 'whoo-bub', 'whoobub', 'wight', 'willow garland', 'window-bars', 'windring', 'winter-ground', 'wi', 'wistly', 'withal', 'wittol', 'womby', 'wont', 'wont', 'wonted', 'woodbine', 'woodcock', 'woolward', 'wot', 'wrack', 'wrackful', 'writhled', 'wroth', 'yare', 'y-clad', 'yclept', 'yclad', 'ycleped', 'yellow', 'yeoman', 'yeoman', 'yeoman', 'yerk', 'yesty', 'yond', 'younker', 'zounds']\n"
     ]
    }
   ],
   "source": [
    "cliches_lemmatised= [cliche.lower() for cliche in cliches_lemmatised]\n",
    "ancient_lemmatised = [phrase.lower() for phrase in ancient_lemmatised]\n",
    "\n",
    "print(cliches_lemmatised)\n",
    "print(ancient_lemmatised)"
   ]
  },
  {
   "cell_type": "markdown",
   "metadata": {},
   "source": [
    "Finally, we will carry out the matching on each answer"
   ]
  },
  {
   "cell_type": "code",
   "execution_count": 9,
   "metadata": {},
   "outputs": [],
   "source": [
    "#initialise empty columns for the features\n",
    "df_cleaned['cliche_count'] = 0 \n",
    "df_cleaned['ancient_phrase_count'] = 0"
   ]
  },
  {
   "cell_type": "code",
   "execution_count": 10,
   "metadata": {},
   "outputs": [],
   "source": [
    "for i in range(0, len(df_cleaned)):\n",
    "    answer = df_cleaned.at[i, 'answer'] #retrieve answer from df\n",
    "    answer = answer.lower() # convert the answer to all lower case\n",
    "\n",
    "    cliche_cntr = 0\n",
    "    for cliche in cliches:\n",
    "        if cliche in answer:\n",
    "            cliche_cntr += 1\n",
    "    \n",
    "    ancient_phrase_cntr = 0\n",
    "    for phrase in ancient_phrases:\n",
    "        if phrase in answer:\n",
    "            ancient_phrase_cntr += 1\n",
    "    \n",
    "    df_cleaned.at[i, 'cliche_count'] = cliche_cntr\n",
    "    df_cleaned.at[i, 'ancient_phrase_count'] = ancient_phrase_cntr"
   ]
  },
  {
   "cell_type": "code",
   "execution_count": 11,
   "metadata": {},
   "outputs": [
    {
     "data": {
      "text/html": [
       "<div>\n",
       "<style scoped>\n",
       "    .dataframe tbody tr th:only-of-type {\n",
       "        vertical-align: middle;\n",
       "    }\n",
       "\n",
       "    .dataframe tbody tr th {\n",
       "        vertical-align: top;\n",
       "    }\n",
       "\n",
       "    .dataframe thead th {\n",
       "        text-align: right;\n",
       "    }\n",
       "</style>\n",
       "<table border=\"1\" class=\"dataframe\">\n",
       "  <thead>\n",
       "    <tr style=\"text-align: right;\">\n",
       "      <th></th>\n",
       "      <th>Unnamed: 0.2</th>\n",
       "      <th>Unnamed: 0.1</th>\n",
       "      <th>Unnamed: 0</th>\n",
       "      <th>question</th>\n",
       "      <th>answer</th>\n",
       "      <th>is_human</th>\n",
       "      <th>filtered_answer</th>\n",
       "      <th>lemmatised_answer</th>\n",
       "      <th>word_count</th>\n",
       "      <th>sentence_count</th>\n",
       "      <th>...</th>\n",
       "      <th>subjectivity</th>\n",
       "      <th>lexical_density</th>\n",
       "      <th>NE_count</th>\n",
       "      <th>coref_count</th>\n",
       "      <th>avg_coref_len</th>\n",
       "      <th>zipfian_difference</th>\n",
       "      <th>unique_word_proportion</th>\n",
       "      <th>stopword_proportion</th>\n",
       "      <th>cliche_count</th>\n",
       "      <th>ancient_phrase_count</th>\n",
       "    </tr>\n",
       "  </thead>\n",
       "  <tbody>\n",
       "    <tr>\n",
       "      <th>9377</th>\n",
       "      <td>9377</td>\n",
       "      <td>9377</td>\n",
       "      <td>9377</td>\n",
       "      <td>Is my son having asbugers?what are the symptom...</td>\n",
       "      <td>It is important to note that it is not appropr...</td>\n",
       "      <td>0</td>\n",
       "      <td>It important note appropriate diagnose individ...</td>\n",
       "      <td>It is important to note that it is not appropr...</td>\n",
       "      <td>180</td>\n",
       "      <td>5</td>\n",
       "      <td>...</td>\n",
       "      <td>0.433712</td>\n",
       "      <td>0.511111</td>\n",
       "      <td>4</td>\n",
       "      <td>6</td>\n",
       "      <td>2.666667</td>\n",
       "      <td>0.425451</td>\n",
       "      <td>0.550000</td>\n",
       "      <td>0.438889</td>\n",
       "      <td>0</td>\n",
       "      <td>7</td>\n",
       "    </tr>\n",
       "    <tr>\n",
       "      <th>31003</th>\n",
       "      <td>31003</td>\n",
       "      <td>31003</td>\n",
       "      <td>31003</td>\n",
       "      <td>What causes tiredness and breathlessness after...</td>\n",
       "      <td>Hi thanks for contacting HCM.....Pleuricy mean...</td>\n",
       "      <td>1</td>\n",
       "      <td>Hi thanks contacting HCM ..... Pleuricy mean i...</td>\n",
       "      <td>Hi thanks for contacting HCM ..... Pleuricy me...</td>\n",
       "      <td>95</td>\n",
       "      <td>4</td>\n",
       "      <td>...</td>\n",
       "      <td>0.462500</td>\n",
       "      <td>0.726316</td>\n",
       "      <td>4</td>\n",
       "      <td>2</td>\n",
       "      <td>2.000000</td>\n",
       "      <td>0.806178</td>\n",
       "      <td>0.831579</td>\n",
       "      <td>0.210526</td>\n",
       "      <td>0</td>\n",
       "      <td>9</td>\n",
       "    </tr>\n",
       "    <tr>\n",
       "      <th>14654</th>\n",
       "      <td>14654</td>\n",
       "      <td>14654</td>\n",
       "      <td>14654</td>\n",
       "      <td>How much does taking a Microeconomics course h...</td>\n",
       "      <td>A microeconomics course can help you understan...</td>\n",
       "      <td>0</td>\n",
       "      <td>A microeconomics course help understand fundam...</td>\n",
       "      <td>A microeconomics course can help you understan...</td>\n",
       "      <td>126</td>\n",
       "      <td>5</td>\n",
       "      <td>...</td>\n",
       "      <td>0.423333</td>\n",
       "      <td>0.603175</td>\n",
       "      <td>4</td>\n",
       "      <td>2</td>\n",
       "      <td>2.000000</td>\n",
       "      <td>0.526173</td>\n",
       "      <td>0.611111</td>\n",
       "      <td>0.325397</td>\n",
       "      <td>0</td>\n",
       "      <td>12</td>\n",
       "    </tr>\n",
       "  </tbody>\n",
       "</table>\n",
       "<p>3 rows × 26 columns</p>\n",
       "</div>"
      ],
      "text/plain": [
       "       Unnamed: 0.2  Unnamed: 0.1  Unnamed: 0  \\\n",
       "9377           9377          9377        9377   \n",
       "31003         31003         31003       31003   \n",
       "14654         14654         14654       14654   \n",
       "\n",
       "                                                question  \\\n",
       "9377   Is my son having asbugers?what are the symptom...   \n",
       "31003  What causes tiredness and breathlessness after...   \n",
       "14654  How much does taking a Microeconomics course h...   \n",
       "\n",
       "                                                  answer  is_human  \\\n",
       "9377   It is important to note that it is not appropr...         0   \n",
       "31003  Hi thanks for contacting HCM.....Pleuricy mean...         1   \n",
       "14654  A microeconomics course can help you understan...         0   \n",
       "\n",
       "                                         filtered_answer  \\\n",
       "9377   It important note appropriate diagnose individ...   \n",
       "31003  Hi thanks contacting HCM ..... Pleuricy mean i...   \n",
       "14654  A microeconomics course help understand fundam...   \n",
       "\n",
       "                                       lemmatised_answer  word_count  \\\n",
       "9377   It is important to note that it is not appropr...         180   \n",
       "31003  Hi thanks for contacting HCM ..... Pleuricy me...          95   \n",
       "14654  A microeconomics course can help you understan...         126   \n",
       "\n",
       "       sentence_count  ...  subjectivity  lexical_density  NE_count  \\\n",
       "9377                5  ...      0.433712         0.511111         4   \n",
       "31003               4  ...      0.462500         0.726316         4   \n",
       "14654               5  ...      0.423333         0.603175         4   \n",
       "\n",
       "       coref_count  avg_coref_len  zipfian_difference  unique_word_proportion  \\\n",
       "9377             6       2.666667            0.425451                0.550000   \n",
       "31003            2       2.000000            0.806178                0.831579   \n",
       "14654            2       2.000000            0.526173                0.611111   \n",
       "\n",
       "       stopword_proportion  cliche_count  ancient_phrase_count  \n",
       "9377              0.438889             0                     7  \n",
       "31003             0.210526             0                     9  \n",
       "14654             0.325397             0                    12  \n",
       "\n",
       "[3 rows x 26 columns]"
      ]
     },
     "execution_count": 11,
     "metadata": {},
     "output_type": "execute_result"
    }
   ],
   "source": [
    "df_cleaned.sample(3)"
   ]
  },
  {
   "cell_type": "markdown",
   "metadata": {},
   "source": [
    "We will also save the final dataframe with all extracted features to a csv file"
   ]
  },
  {
   "cell_type": "code",
   "execution_count": 12,
   "metadata": {},
   "outputs": [],
   "source": [
    "df_cleaned.to_csv('final_feature_data.csv')"
   ]
  },
  {
   "attachments": {},
   "cell_type": "markdown",
   "metadata": {},
   "source": [
    "### 3. Classification\n",
    "\n",
    "As we discovered in Prototype 2, the Random Forest Classifier (RFC) trained using a combination of all 5 featuresets was the highest-performing algorithm.\n",
    "\n",
    "Thus, we will be training and using an RFC using all 5 featuresets in this final prototype.\n",
    "\n",
    "First, install scikit-learn and import the neccessary packages and load the csv file of extracted features"
   ]
  },
  {
   "cell_type": "code",
   "execution_count": 13,
   "metadata": {},
   "outputs": [],
   "source": [
    "#!pip install scikit-learn"
   ]
  },
  {
   "cell_type": "code",
   "execution_count": 14,
   "metadata": {},
   "outputs": [],
   "source": [
    "from sklearn.linear_model import SGDClassifier, LogisticRegression\n",
    "from sklearn.ensemble import RandomForestClassifier\n",
    "from sklearn.calibration import CalibratedClassifierCV\n",
    "from sklearn.model_selection import train_test_split\n",
    "from sklearn.preprocessing import StandardScaler"
   ]
  },
  {
   "cell_type": "code",
   "execution_count": 15,
   "metadata": {},
   "outputs": [
    {
     "data": {
      "text/html": [
       "<div>\n",
       "<style scoped>\n",
       "    .dataframe tbody tr th:only-of-type {\n",
       "        vertical-align: middle;\n",
       "    }\n",
       "\n",
       "    .dataframe tbody tr th {\n",
       "        vertical-align: top;\n",
       "    }\n",
       "\n",
       "    .dataframe thead th {\n",
       "        text-align: right;\n",
       "    }\n",
       "</style>\n",
       "<table border=\"1\" class=\"dataframe\">\n",
       "  <thead>\n",
       "    <tr style=\"text-align: right;\">\n",
       "      <th></th>\n",
       "      <th>Unnamed: 0.3</th>\n",
       "      <th>Unnamed: 0.2</th>\n",
       "      <th>Unnamed: 0.1</th>\n",
       "      <th>Unnamed: 0</th>\n",
       "      <th>question</th>\n",
       "      <th>answer</th>\n",
       "      <th>is_human</th>\n",
       "      <th>filtered_answer</th>\n",
       "      <th>lemmatised_answer</th>\n",
       "      <th>word_count</th>\n",
       "      <th>...</th>\n",
       "      <th>subjectivity</th>\n",
       "      <th>lexical_density</th>\n",
       "      <th>NE_count</th>\n",
       "      <th>coref_count</th>\n",
       "      <th>avg_coref_len</th>\n",
       "      <th>zipfian_difference</th>\n",
       "      <th>unique_word_proportion</th>\n",
       "      <th>stopword_proportion</th>\n",
       "      <th>cliche_count</th>\n",
       "      <th>ancient_phrase_count</th>\n",
       "    </tr>\n",
       "  </thead>\n",
       "  <tbody>\n",
       "    <tr>\n",
       "      <th>14750</th>\n",
       "      <td>14750</td>\n",
       "      <td>14750</td>\n",
       "      <td>14750</td>\n",
       "      <td>14750</td>\n",
       "      <td>Where do old blood cells go in our body when t...</td>\n",
       "      <td>Old or damaged red blood cells are removed fro...</td>\n",
       "      <td>0</td>\n",
       "      <td>Old damaged red blood cell removed circulation...</td>\n",
       "      <td>Old or damaged red blood cell are removed from...</td>\n",
       "      <td>149</td>\n",
       "      <td>...</td>\n",
       "      <td>0.317532</td>\n",
       "      <td>0.604027</td>\n",
       "      <td>4</td>\n",
       "      <td>6</td>\n",
       "      <td>3.000000</td>\n",
       "      <td>0.371419</td>\n",
       "      <td>0.510067</td>\n",
       "      <td>0.395973</td>\n",
       "      <td>0</td>\n",
       "      <td>6</td>\n",
       "    </tr>\n",
       "    <tr>\n",
       "      <th>30416</th>\n",
       "      <td>30416</td>\n",
       "      <td>30416</td>\n",
       "      <td>30416</td>\n",
       "      <td>30416</td>\n",
       "      <td>Why do I automatically assume everyone I am ta...</td>\n",
       "      <td>This is a result of a \" male as a normative \" ...</td>\n",
       "      <td>1</td>\n",
       "      <td>This result `` male normative `` theme , summe...</td>\n",
       "      <td>This is a result of a `` male a a normative ``...</td>\n",
       "      <td>236</td>\n",
       "      <td>...</td>\n",
       "      <td>0.161765</td>\n",
       "      <td>0.512712</td>\n",
       "      <td>4</td>\n",
       "      <td>5</td>\n",
       "      <td>2.200000</td>\n",
       "      <td>0.530847</td>\n",
       "      <td>0.580508</td>\n",
       "      <td>0.326271</td>\n",
       "      <td>0</td>\n",
       "      <td>7</td>\n",
       "    </tr>\n",
       "    <tr>\n",
       "      <th>1659</th>\n",
       "      <td>1659</td>\n",
       "      <td>1659</td>\n",
       "      <td>1659</td>\n",
       "      <td>1659</td>\n",
       "      <td>what did isaac newton do</td>\n",
       "      <td>Isaac Newton was an English physicist, mathema...</td>\n",
       "      <td>0</td>\n",
       "      <td>Isaac Newton English physicist , mathematician...</td>\n",
       "      <td>Isaac Newton wa an English physicist , mathema...</td>\n",
       "      <td>740</td>\n",
       "      <td>...</td>\n",
       "      <td>0.420501</td>\n",
       "      <td>0.617568</td>\n",
       "      <td>4</td>\n",
       "      <td>9</td>\n",
       "      <td>5.444444</td>\n",
       "      <td>0.092804</td>\n",
       "      <td>0.267568</td>\n",
       "      <td>0.402703</td>\n",
       "      <td>0</td>\n",
       "      <td>15</td>\n",
       "    </tr>\n",
       "  </tbody>\n",
       "</table>\n",
       "<p>3 rows × 27 columns</p>\n",
       "</div>"
      ],
      "text/plain": [
       "       Unnamed: 0.3  Unnamed: 0.2  Unnamed: 0.1  Unnamed: 0  \\\n",
       "14750         14750         14750         14750       14750   \n",
       "30416         30416         30416         30416       30416   \n",
       "1659           1659          1659          1659        1659   \n",
       "\n",
       "                                                question  \\\n",
       "14750  Where do old blood cells go in our body when t...   \n",
       "30416  Why do I automatically assume everyone I am ta...   \n",
       "1659                            what did isaac newton do   \n",
       "\n",
       "                                                  answer  is_human  \\\n",
       "14750  Old or damaged red blood cells are removed fro...         0   \n",
       "30416  This is a result of a \" male as a normative \" ...         1   \n",
       "1659   Isaac Newton was an English physicist, mathema...         0   \n",
       "\n",
       "                                         filtered_answer  \\\n",
       "14750  Old damaged red blood cell removed circulation...   \n",
       "30416  This result `` male normative `` theme , summe...   \n",
       "1659   Isaac Newton English physicist , mathematician...   \n",
       "\n",
       "                                       lemmatised_answer  word_count  ...  \\\n",
       "14750  Old or damaged red blood cell are removed from...         149  ...   \n",
       "30416  This is a result of a `` male a a normative ``...         236  ...   \n",
       "1659   Isaac Newton wa an English physicist , mathema...         740  ...   \n",
       "\n",
       "       subjectivity  lexical_density  NE_count  coref_count  avg_coref_len  \\\n",
       "14750      0.317532         0.604027         4            6       3.000000   \n",
       "30416      0.161765         0.512712         4            5       2.200000   \n",
       "1659       0.420501         0.617568         4            9       5.444444   \n",
       "\n",
       "       zipfian_difference  unique_word_proportion  stopword_proportion  \\\n",
       "14750            0.371419                0.510067             0.395973   \n",
       "30416            0.530847                0.580508             0.326271   \n",
       "1659             0.092804                0.267568             0.402703   \n",
       "\n",
       "       cliche_count  ancient_phrase_count  \n",
       "14750             0                     6  \n",
       "30416             0                     7  \n",
       "1659              0                    15  \n",
       "\n",
       "[3 rows x 27 columns]"
      ]
     },
     "execution_count": 15,
     "metadata": {},
     "output_type": "execute_result"
    }
   ],
   "source": [
    "df = pd.read_csv('final_feature_data.csv')\n",
    "df.sample(3)"
   ]
  },
  {
   "cell_type": "markdown",
   "metadata": {},
   "source": [
    "We will also drop some of the unused index columns that were created previously when saving the intermediate feature data to csv file"
   ]
  },
  {
   "cell_type": "code",
   "execution_count": 16,
   "metadata": {},
   "outputs": [],
   "source": [
    "df.drop(df.columns[0:4], axis=1, inplace=True)"
   ]
  },
  {
   "cell_type": "code",
   "execution_count": 17,
   "metadata": {},
   "outputs": [
    {
     "data": {
      "text/html": [
       "<div>\n",
       "<style scoped>\n",
       "    .dataframe tbody tr th:only-of-type {\n",
       "        vertical-align: middle;\n",
       "    }\n",
       "\n",
       "    .dataframe tbody tr th {\n",
       "        vertical-align: top;\n",
       "    }\n",
       "\n",
       "    .dataframe thead th {\n",
       "        text-align: right;\n",
       "    }\n",
       "</style>\n",
       "<table border=\"1\" class=\"dataframe\">\n",
       "  <thead>\n",
       "    <tr style=\"text-align: right;\">\n",
       "      <th></th>\n",
       "      <th>question</th>\n",
       "      <th>answer</th>\n",
       "      <th>is_human</th>\n",
       "      <th>filtered_answer</th>\n",
       "      <th>lemmatised_answer</th>\n",
       "      <th>word_count</th>\n",
       "      <th>sentence_count</th>\n",
       "      <th>char_count</th>\n",
       "      <th>avg_sentence_len</th>\n",
       "      <th>avg_word_len</th>\n",
       "      <th>...</th>\n",
       "      <th>subjectivity</th>\n",
       "      <th>lexical_density</th>\n",
       "      <th>NE_count</th>\n",
       "      <th>coref_count</th>\n",
       "      <th>avg_coref_len</th>\n",
       "      <th>zipfian_difference</th>\n",
       "      <th>unique_word_proportion</th>\n",
       "      <th>stopword_proportion</th>\n",
       "      <th>cliche_count</th>\n",
       "      <th>ancient_phrase_count</th>\n",
       "    </tr>\n",
       "  </thead>\n",
       "  <tbody>\n",
       "    <tr>\n",
       "      <th>20847</th>\n",
       "      <td>Who is the husband of Betty Ford</td>\n",
       "      <td>Betty Ford was the wife of Gerald Ford, who wa...</td>\n",
       "      <td>0</td>\n",
       "      <td>Betty Ford wife Gerald Ford , President United...</td>\n",
       "      <td>Betty Ford wa the wife of Gerald Ford , who wa...</td>\n",
       "      <td>260</td>\n",
       "      <td>12</td>\n",
       "      <td>1320</td>\n",
       "      <td>21.666667</td>\n",
       "      <td>5.076923</td>\n",
       "      <td>...</td>\n",
       "      <td>0.324150</td>\n",
       "      <td>0.607692</td>\n",
       "      <td>4</td>\n",
       "      <td>11</td>\n",
       "      <td>4.454545</td>\n",
       "      <td>0.171170</td>\n",
       "      <td>0.342308</td>\n",
       "      <td>0.338462</td>\n",
       "      <td>0</td>\n",
       "      <td>9</td>\n",
       "    </tr>\n",
       "    <tr>\n",
       "      <th>40269</th>\n",
       "      <td>how does a candle burn so long ? Like it 's ju...</td>\n",
       "      <td>\\A candle burns because the heat of the flame ...</td>\n",
       "      <td>0</td>\n",
       "      <td>\\A candle burn heat flame melt wax near wick ....</td>\n",
       "      <td>\\A candle burn because the heat of the flame m...</td>\n",
       "      <td>197</td>\n",
       "      <td>7</td>\n",
       "      <td>889</td>\n",
       "      <td>28.142857</td>\n",
       "      <td>4.512690</td>\n",
       "      <td>...</td>\n",
       "      <td>0.500000</td>\n",
       "      <td>0.558376</td>\n",
       "      <td>4</td>\n",
       "      <td>6</td>\n",
       "      <td>4.833333</td>\n",
       "      <td>0.175424</td>\n",
       "      <td>0.350254</td>\n",
       "      <td>0.451777</td>\n",
       "      <td>0</td>\n",
       "      <td>3</td>\n",
       "    </tr>\n",
       "    <tr>\n",
       "      <th>28109</th>\n",
       "      <td>Why diesel engine can not run on petrol ? And ...</td>\n",
       "      <td>Diesel engines and gasoline engines are design...</td>\n",
       "      <td>0</td>\n",
       "      <td>Diesel engine gasoline engine designed run dif...</td>\n",
       "      <td>Diesel engine and gasoline engine are designed...</td>\n",
       "      <td>289</td>\n",
       "      <td>7</td>\n",
       "      <td>1518</td>\n",
       "      <td>41.285714</td>\n",
       "      <td>5.252595</td>\n",
       "      <td>...</td>\n",
       "      <td>0.567667</td>\n",
       "      <td>0.615917</td>\n",
       "      <td>4</td>\n",
       "      <td>8</td>\n",
       "      <td>2.250000</td>\n",
       "      <td>0.172328</td>\n",
       "      <td>0.290657</td>\n",
       "      <td>0.391003</td>\n",
       "      <td>0</td>\n",
       "      <td>6</td>\n",
       "    </tr>\n",
       "  </tbody>\n",
       "</table>\n",
       "<p>3 rows × 23 columns</p>\n",
       "</div>"
      ],
      "text/plain": [
       "                                                question  \\\n",
       "20847                   Who is the husband of Betty Ford   \n",
       "40269  how does a candle burn so long ? Like it 's ju...   \n",
       "28109  Why diesel engine can not run on petrol ? And ...   \n",
       "\n",
       "                                                  answer  is_human  \\\n",
       "20847  Betty Ford was the wife of Gerald Ford, who wa...         0   \n",
       "40269  \\A candle burns because the heat of the flame ...         0   \n",
       "28109  Diesel engines and gasoline engines are design...         0   \n",
       "\n",
       "                                         filtered_answer  \\\n",
       "20847  Betty Ford wife Gerald Ford , President United...   \n",
       "40269  \\A candle burn heat flame melt wax near wick ....   \n",
       "28109  Diesel engine gasoline engine designed run dif...   \n",
       "\n",
       "                                       lemmatised_answer  word_count  \\\n",
       "20847  Betty Ford wa the wife of Gerald Ford , who wa...         260   \n",
       "40269  \\A candle burn because the heat of the flame m...         197   \n",
       "28109  Diesel engine and gasoline engine are designed...         289   \n",
       "\n",
       "       sentence_count  char_count  avg_sentence_len  avg_word_len  ...  \\\n",
       "20847              12        1320         21.666667      5.076923  ...   \n",
       "40269               7         889         28.142857      4.512690  ...   \n",
       "28109               7        1518         41.285714      5.252595  ...   \n",
       "\n",
       "       subjectivity  lexical_density  NE_count  coref_count  avg_coref_len  \\\n",
       "20847      0.324150         0.607692         4           11       4.454545   \n",
       "40269      0.500000         0.558376         4            6       4.833333   \n",
       "28109      0.567667         0.615917         4            8       2.250000   \n",
       "\n",
       "       zipfian_difference  unique_word_proportion  stopword_proportion  \\\n",
       "20847            0.171170                0.342308             0.338462   \n",
       "40269            0.175424                0.350254             0.451777   \n",
       "28109            0.172328                0.290657             0.391003   \n",
       "\n",
       "       cliche_count  ancient_phrase_count  \n",
       "20847             0                     9  \n",
       "40269             0                     3  \n",
       "28109             0                     6  \n",
       "\n",
       "[3 rows x 23 columns]"
      ]
     },
     "execution_count": 17,
     "metadata": {},
     "output_type": "execute_result"
    }
   ],
   "source": [
    "df.sample(3)"
   ]
  },
  {
   "cell_type": "markdown",
   "metadata": {},
   "source": [
    "Next, we will Split the dataset into independent variables (x) and the dependent (target) variable (y)"
   ]
  },
  {
   "cell_type": "code",
   "execution_count": 18,
   "metadata": {},
   "outputs": [],
   "source": [
    "# split into target and independent variables\n",
    "\n",
    "# select all columns except for the specified ones\n",
    "x = df.loc[:, ~df.columns.isin(['question', 'answer', 'is_human', 'filtered_answer', 'lemmatised_answer'])]\n",
    "\n",
    "#select is_human as target\n",
    "y = df['is_human'] # target"
   ]
  },
  {
   "cell_type": "code",
   "execution_count": 19,
   "metadata": {},
   "outputs": [
    {
     "data": {
      "text/html": [
       "<div>\n",
       "<style scoped>\n",
       "    .dataframe tbody tr th:only-of-type {\n",
       "        vertical-align: middle;\n",
       "    }\n",
       "\n",
       "    .dataframe tbody tr th {\n",
       "        vertical-align: top;\n",
       "    }\n",
       "\n",
       "    .dataframe thead th {\n",
       "        text-align: right;\n",
       "    }\n",
       "</style>\n",
       "<table border=\"1\" class=\"dataframe\">\n",
       "  <thead>\n",
       "    <tr style=\"text-align: right;\">\n",
       "      <th></th>\n",
       "      <th>word_count</th>\n",
       "      <th>sentence_count</th>\n",
       "      <th>char_count</th>\n",
       "      <th>avg_sentence_len</th>\n",
       "      <th>avg_word_len</th>\n",
       "      <th>polarity</th>\n",
       "      <th>negativity</th>\n",
       "      <th>neutrality</th>\n",
       "      <th>subjectivity</th>\n",
       "      <th>lexical_density</th>\n",
       "      <th>NE_count</th>\n",
       "      <th>coref_count</th>\n",
       "      <th>avg_coref_len</th>\n",
       "      <th>zipfian_difference</th>\n",
       "      <th>unique_word_proportion</th>\n",
       "      <th>stopword_proportion</th>\n",
       "      <th>cliche_count</th>\n",
       "      <th>ancient_phrase_count</th>\n",
       "    </tr>\n",
       "  </thead>\n",
       "  <tbody>\n",
       "    <tr>\n",
       "      <th>7290</th>\n",
       "      <td>179</td>\n",
       "      <td>8</td>\n",
       "      <td>893</td>\n",
       "      <td>22.375000</td>\n",
       "      <td>4.988827</td>\n",
       "      <td>-0.335965</td>\n",
       "      <td>0.052</td>\n",
       "      <td>0.924</td>\n",
       "      <td>0.577778</td>\n",
       "      <td>0.519553</td>\n",
       "      <td>4</td>\n",
       "      <td>3</td>\n",
       "      <td>2.0</td>\n",
       "      <td>0.475852</td>\n",
       "      <td>0.603352</td>\n",
       "      <td>0.407821</td>\n",
       "      <td>0</td>\n",
       "      <td>6</td>\n",
       "    </tr>\n",
       "    <tr>\n",
       "      <th>40449</th>\n",
       "      <td>140</td>\n",
       "      <td>9</td>\n",
       "      <td>705</td>\n",
       "      <td>15.555556</td>\n",
       "      <td>5.035714</td>\n",
       "      <td>0.254215</td>\n",
       "      <td>0.101</td>\n",
       "      <td>0.736</td>\n",
       "      <td>0.536554</td>\n",
       "      <td>0.557143</td>\n",
       "      <td>4</td>\n",
       "      <td>5</td>\n",
       "      <td>2.6</td>\n",
       "      <td>0.596449</td>\n",
       "      <td>0.678571</td>\n",
       "      <td>0.357143</td>\n",
       "      <td>1</td>\n",
       "      <td>9</td>\n",
       "    </tr>\n",
       "    <tr>\n",
       "      <th>31166</th>\n",
       "      <td>337</td>\n",
       "      <td>10</td>\n",
       "      <td>1754</td>\n",
       "      <td>33.700000</td>\n",
       "      <td>5.204748</td>\n",
       "      <td>0.593119</td>\n",
       "      <td>0.074</td>\n",
       "      <td>0.662</td>\n",
       "      <td>0.489423</td>\n",
       "      <td>0.513353</td>\n",
       "      <td>4</td>\n",
       "      <td>7</td>\n",
       "      <td>7.0</td>\n",
       "      <td>0.230984</td>\n",
       "      <td>0.394659</td>\n",
       "      <td>0.430267</td>\n",
       "      <td>0</td>\n",
       "      <td>10</td>\n",
       "    </tr>\n",
       "  </tbody>\n",
       "</table>\n",
       "</div>"
      ],
      "text/plain": [
       "       word_count  sentence_count  char_count  avg_sentence_len  avg_word_len  \\\n",
       "7290          179               8         893         22.375000      4.988827   \n",
       "40449         140               9         705         15.555556      5.035714   \n",
       "31166         337              10        1754         33.700000      5.204748   \n",
       "\n",
       "       polarity  negativity  neutrality  subjectivity  lexical_density  \\\n",
       "7290  -0.335965       0.052       0.924      0.577778         0.519553   \n",
       "40449  0.254215       0.101       0.736      0.536554         0.557143   \n",
       "31166  0.593119       0.074       0.662      0.489423         0.513353   \n",
       "\n",
       "       NE_count  coref_count  avg_coref_len  zipfian_difference  \\\n",
       "7290          4            3            2.0            0.475852   \n",
       "40449         4            5            2.6            0.596449   \n",
       "31166         4            7            7.0            0.230984   \n",
       "\n",
       "       unique_word_proportion  stopword_proportion  cliche_count  \\\n",
       "7290                 0.603352             0.407821             0   \n",
       "40449                0.678571             0.357143             1   \n",
       "31166                0.394659             0.430267             0   \n",
       "\n",
       "       ancient_phrase_count  \n",
       "7290                      6  \n",
       "40449                     9  \n",
       "31166                    10  "
      ]
     },
     "execution_count": 19,
     "metadata": {},
     "output_type": "execute_result"
    }
   ],
   "source": [
    "x.sample(3)"
   ]
  },
  {
   "attachments": {},
   "cell_type": "markdown",
   "metadata": {},
   "source": [
    "Additionally, we will also scale the x values using sci-kit's StandardScaler. This scales each x value so that they have the same scale and dimension, which prevents differently-scaled variables from introducting biases into the modelling."
   ]
  },
  {
   "cell_type": "code",
   "execution_count": 20,
   "metadata": {},
   "outputs": [],
   "source": [
    "# initialise scaler\n",
    "scaler = StandardScaler()\n",
    "x_scaled = scaler.fit_transform(x)"
   ]
  },
  {
   "attachments": {},
   "cell_type": "markdown",
   "metadata": {},
   "source": [
    "Next, split the data into testing (20%) and training (80%) sets using sklearn's train_test_split"
   ]
  },
  {
   "cell_type": "code",
   "execution_count": 21,
   "metadata": {},
   "outputs": [],
   "source": [
    "x_train, x_test, y_train, y_test = train_test_split(x_scaled, y, test_size = 0.2, random_state = 42)"
   ]
  },
  {
   "cell_type": "markdown",
   "metadata": {},
   "source": [
    "Initialise the RFC, and fit it on the test data."
   ]
  },
  {
   "cell_type": "code",
   "execution_count": 22,
   "metadata": {},
   "outputs": [
    {
     "data": {
      "text/html": [
       "<style>#sk-container-id-1 {color: black;}#sk-container-id-1 pre{padding: 0;}#sk-container-id-1 div.sk-toggleable {background-color: white;}#sk-container-id-1 label.sk-toggleable__label {cursor: pointer;display: block;width: 100%;margin-bottom: 0;padding: 0.3em;box-sizing: border-box;text-align: center;}#sk-container-id-1 label.sk-toggleable__label-arrow:before {content: \"▸\";float: left;margin-right: 0.25em;color: #696969;}#sk-container-id-1 label.sk-toggleable__label-arrow:hover:before {color: black;}#sk-container-id-1 div.sk-estimator:hover label.sk-toggleable__label-arrow:before {color: black;}#sk-container-id-1 div.sk-toggleable__content {max-height: 0;max-width: 0;overflow: hidden;text-align: left;background-color: #f0f8ff;}#sk-container-id-1 div.sk-toggleable__content pre {margin: 0.2em;color: black;border-radius: 0.25em;background-color: #f0f8ff;}#sk-container-id-1 input.sk-toggleable__control:checked~div.sk-toggleable__content {max-height: 200px;max-width: 100%;overflow: auto;}#sk-container-id-1 input.sk-toggleable__control:checked~label.sk-toggleable__label-arrow:before {content: \"▾\";}#sk-container-id-1 div.sk-estimator input.sk-toggleable__control:checked~label.sk-toggleable__label {background-color: #d4ebff;}#sk-container-id-1 div.sk-label input.sk-toggleable__control:checked~label.sk-toggleable__label {background-color: #d4ebff;}#sk-container-id-1 input.sk-hidden--visually {border: 0;clip: rect(1px 1px 1px 1px);clip: rect(1px, 1px, 1px, 1px);height: 1px;margin: -1px;overflow: hidden;padding: 0;position: absolute;width: 1px;}#sk-container-id-1 div.sk-estimator {font-family: monospace;background-color: #f0f8ff;border: 1px dotted black;border-radius: 0.25em;box-sizing: border-box;margin-bottom: 0.5em;}#sk-container-id-1 div.sk-estimator:hover {background-color: #d4ebff;}#sk-container-id-1 div.sk-parallel-item::after {content: \"\";width: 100%;border-bottom: 1px solid gray;flex-grow: 1;}#sk-container-id-1 div.sk-label:hover label.sk-toggleable__label {background-color: #d4ebff;}#sk-container-id-1 div.sk-serial::before {content: \"\";position: absolute;border-left: 1px solid gray;box-sizing: border-box;top: 0;bottom: 0;left: 50%;z-index: 0;}#sk-container-id-1 div.sk-serial {display: flex;flex-direction: column;align-items: center;background-color: white;padding-right: 0.2em;padding-left: 0.2em;position: relative;}#sk-container-id-1 div.sk-item {position: relative;z-index: 1;}#sk-container-id-1 div.sk-parallel {display: flex;align-items: stretch;justify-content: center;background-color: white;position: relative;}#sk-container-id-1 div.sk-item::before, #sk-container-id-1 div.sk-parallel-item::before {content: \"\";position: absolute;border-left: 1px solid gray;box-sizing: border-box;top: 0;bottom: 0;left: 50%;z-index: -1;}#sk-container-id-1 div.sk-parallel-item {display: flex;flex-direction: column;z-index: 1;position: relative;background-color: white;}#sk-container-id-1 div.sk-parallel-item:first-child::after {align-self: flex-end;width: 50%;}#sk-container-id-1 div.sk-parallel-item:last-child::after {align-self: flex-start;width: 50%;}#sk-container-id-1 div.sk-parallel-item:only-child::after {width: 0;}#sk-container-id-1 div.sk-dashed-wrapped {border: 1px dashed gray;margin: 0 0.4em 0.5em 0.4em;box-sizing: border-box;padding-bottom: 0.4em;background-color: white;}#sk-container-id-1 div.sk-label label {font-family: monospace;font-weight: bold;display: inline-block;line-height: 1.2em;}#sk-container-id-1 div.sk-label-container {text-align: center;}#sk-container-id-1 div.sk-container {/* jupyter's `normalize.less` sets `[hidden] { display: none; }` but bootstrap.min.css set `[hidden] { display: none !important; }` so we also need the `!important` here to be able to override the default hidden behavior on the sphinx rendered scikit-learn.org. See: https://github.com/scikit-learn/scikit-learn/issues/21755 */display: inline-block !important;position: relative;}#sk-container-id-1 div.sk-text-repr-fallback {display: none;}</style><div id=\"sk-container-id-1\" class=\"sk-top-container\"><div class=\"sk-text-repr-fallback\"><pre>RandomForestClassifier()</pre><b>In a Jupyter environment, please rerun this cell to show the HTML representation or trust the notebook. <br />On GitHub, the HTML representation is unable to render, please try loading this page with nbviewer.org.</b></div><div class=\"sk-container\" hidden><div class=\"sk-item\"><div class=\"sk-estimator sk-toggleable\"><input class=\"sk-toggleable__control sk-hidden--visually\" id=\"sk-estimator-id-1\" type=\"checkbox\" checked><label for=\"sk-estimator-id-1\" class=\"sk-toggleable__label sk-toggleable__label-arrow\">RandomForestClassifier</label><div class=\"sk-toggleable__content\"><pre>RandomForestClassifier()</pre></div></div></div></div></div>"
      ],
      "text/plain": [
       "RandomForestClassifier()"
      ]
     },
     "execution_count": 22,
     "metadata": {},
     "output_type": "execute_result"
    }
   ],
   "source": [
    "rfc = RandomForestClassifier()\n",
    "rfc.fit(x_train, y_train) # train RFC"
   ]
  },
  {
   "attachments": {},
   "cell_type": "markdown",
   "metadata": {},
   "source": [
    "Next, generate a prediction using the RFC"
   ]
  },
  {
   "cell_type": "code",
   "execution_count": 23,
   "metadata": {},
   "outputs": [],
   "source": [
    "# generate prediction\n",
    "rfc_predict = rfc.predict(x_test)"
   ]
  },
  {
   "attachments": {},
   "cell_type": "markdown",
   "metadata": {},
   "source": [
    "Also, we will generate the RFC's predicted probability of each class prediction for evaluation using sklearn's predict_proba method."
   ]
  },
  {
   "cell_type": "code",
   "execution_count": 24,
   "metadata": {},
   "outputs": [],
   "source": [
    "rfc_proba = rfc.predict_proba(x_test)\n",
    "rfc_proba = rfc_proba[:, 1] # keep only the probability of the positive class"
   ]
  },
  {
   "attachments": {},
   "cell_type": "markdown",
   "metadata": {},
   "source": [
    "### 4. Evaluation\n",
    "\n",
    "The next step will be to evaluate the performance of the RFC\n",
    "\n",
    "\n",
    "First, we will import the required modules"
   ]
  },
  {
   "cell_type": "code",
   "execution_count": 25,
   "metadata": {},
   "outputs": [],
   "source": [
    "from sklearn.metrics import accuracy_score, confusion_matrix, ConfusionMatrixDisplay, roc_curve, roc_auc_score, RocCurveDisplay, precision_score, recall_score\n",
    "import matplotlib.pyplot as plt\n",
    "import numpy as np"
   ]
  },
  {
   "cell_type": "markdown",
   "metadata": {},
   "source": [
    "Next, we will define some helper functions that will be used to plot confusion matrices, calculate EER, calculate performance stats, and add numerical labels to bar charts."
   ]
  },
  {
   "cell_type": "code",
   "execution_count": 26,
   "metadata": {},
   "outputs": [],
   "source": [
    "# plots a confusion matrix display\n",
    "def plot_con_matrix(y_test, y_predict):\n",
    "    # create confusion matrix\n",
    "    con_matrix = confusion_matrix(y_test, y_predict)\n",
    "    # create confusion matrix display and set labels\n",
    "    cm_display = ConfusionMatrixDisplay(con_matrix, display_labels=['gpt', 'human'])\n",
    "    # plot and show confusion matrix\n",
    "    return cm_display\n",
    "\n",
    "# calculates FPR and TPR\n",
    "def calc_fpr_tpr(y_test, y_predict):\n",
    "\n",
    "    # create confusion matrix\n",
    "    con_matrix = confusion_matrix(y_test, y_predict)\n",
    "    false_pos_rate = con_matrix[0][1] / (con_matrix[0][0] + con_matrix[0][1]) #calculate fpr\n",
    "    true_pos_rate = con_matrix[1][1] / (con_matrix[1][0] + con_matrix[1][1]) #calculate tpr\n",
    "\n",
    "    return false_pos_rate, true_pos_rate\n",
    "\n",
    "# calculates EER\n",
    "# method referenced from James S. [2017].\n",
    "def calc_eer(y_test, y_prob):\n",
    "    # generate roc curve, and fpr, tpr lists and the threshold\n",
    "    fpr, tpr, threshold = roc_curve(y_test, y_prob, pos_label = 1)\n",
    "    # compute false negative rate\n",
    "    fnr = 1 - tpr\n",
    "    # find EER \n",
    "    eer = fpr[np.nanargmin(np.absolute((fnr - fpr)))]\n",
    "\n",
    "    return eer\n",
    "\n",
    "# calculates accuracy, roc, eer, precision, recall\n",
    "def calc_performance_stats(y_test, y_predict, y_prob):\n",
    "    accuracy = accuracy_score(y_test, y_predict) # calculate accuracy\n",
    "    roc_score = roc_auc_score(y_test, y_predict) # calculate ROC\n",
    "    eer = calc_eer(y_test, y_prob) # calculate EER\n",
    "    precision = precision_score(y_test, y_predict) # calculate precision\n",
    "    recall = recall_score(y_test, y_predict) # calculate recall\n",
    "\n",
    "    return accuracy, roc_score, eer, precision, recall\n",
    "\n",
    "# add value labels to bar charts\n",
    "def add_val_labels(x, y, ax):\n",
    "    for i in range(len(x)):\n",
    "        ax.text(x[i], y[i]/3, f'{y[i]:.3f}', ha = 'center') # draw value at 30% height of each bar"
   ]
  },
  {
   "cell_type": "markdown",
   "metadata": {},
   "source": [
    "##### 4.1 Model Evaluation"
   ]
  },
  {
   "attachments": {},
   "cell_type": "markdown",
   "metadata": {},
   "source": [
    "First, to get a brief visual overview of each model's performance, we will plot its confusion matrix and ROC curve.\n",
    "\n",
    "First, we will plot the confusion matrix for each model."
   ]
  },
  {
   "cell_type": "code",
   "execution_count": 27,
   "metadata": {},
   "outputs": [
    {
     "data": {
      "text/plain": [
       "<sklearn.metrics._plot.confusion_matrix.ConfusionMatrixDisplay at 0x1e18fc37c90>"
      ]
     },
     "execution_count": 27,
     "metadata": {},
     "output_type": "execute_result"
    },
    {
     "data": {
      "image/png": "[encoded data removed]",
      "text/plain": [
       "<Figure size 640x480 with 2 Axes>"
      ]
     },
     "metadata": {},
     "output_type": "display_data"
    }
   ],
   "source": [
    "plot_con_matrix(y_test, rfc_predict).plot()"
   ]
  },
  {
   "cell_type": "markdown",
   "metadata": {},
   "source": [
    "A brief look at the RFC's confusion matrix shows that it performs at a high level, with a high proportion of correctly identified human/GPT answers.\n",
    "\n",
    "Next, we will plot its ROC curve."
   ]
  },
  {
   "cell_type": "code",
   "execution_count": 28,
   "metadata": {},
   "outputs": [
    {
     "data": {
      "text/plain": [
       "<matplotlib.lines.Line2D at 0x1e18fd25150>"
      ]
     },
     "execution_count": 28,
     "metadata": {},
     "output_type": "execute_result"
    },
    {
     "data": {
      "image/png": "[encoded data removed]",
      "text/plain": [
       "<Figure size 640x480 with 1 Axes>"
      ]
     },
     "metadata": {},
     "output_type": "display_data"
    }
   ],
   "source": [
    "RocCurveDisplay.from_predictions(y_test, rfc_predict, name = 'RFC')\n",
    "plt.axvline(0.051, color = 'r', linestyle = ':')\n",
    "plt.axhline(0.94, color = 'r', linestyle = ':')"
   ]
  },
  {
   "cell_type": "markdown",
   "metadata": {},
   "source": [
    "Once again, this shows that the RFC performs well (at 0.95 AUC). \n",
    "\n",
    "The curve also shows an inflection point at about 0.051 (Red dotted line) False positive rate (FPR), where the model's True positive rate (TPR) does not improve significantly beyond that point. \n",
    "\n",
    "\n",
    "This raises the possibility of limiting the false positive rate to about 0.051 in instances where false positives are of critical importance (e.g., usage in examination systems). One possible way of achieving this would be using probabilistic classification instead of binary classification. Using the probability weights, along with a set of user-defined scoring rules, could help keep the FPR low, while still maintaining 99% (~0.94 TPR) of the model's performance."
   ]
  },
  {
   "cell_type": "markdown",
   "metadata": {},
   "source": [
    "Next, we will calculate the RFC's:\n",
    "\n",
    "1) Accuracy\n",
    "2) AUROC Score\n",
    "3) Equal Error Rate (EER)\n",
    "4) Precision\n",
    "5) Recall"
   ]
  },
  {
   "cell_type": "code",
   "execution_count": 29,
   "metadata": {},
   "outputs": [
    {
     "name": "stdout",
     "output_type": "stream",
     "text": [
      "Accuracy: 0.9446002805049089, ROC: 0.9446081517035171, EER: 0.05516431924882629, Precision: 0.9467040673211781, Recall: 0.9427374301675978\n"
     ]
    }
   ],
   "source": [
    "# calculate acc, roc, eer, precision, recall\n",
    "rfc_acc, rfc_roc, rfc_eer, rfc_precision, rfc_recall = calc_performance_stats(y_test, rfc_predict, rfc_proba)\n",
    "\n",
    "# print out stats\n",
    "print(f'Accuracy: {rfc_acc}, ROC: {rfc_roc}, EER: {rfc_eer}, Precision: {rfc_precision}, Recall: {rfc_recall}')"
   ]
  },
  {
   "cell_type": "markdown",
   "metadata": {},
   "source": [
    "We will also compare the performance of the RFC against our feature prototype, and results from other literature.\n",
    "\n",
    "First, we will construct lists of the stats, as well as some labels and colours."
   ]
  },
  {
   "cell_type": "code",
   "execution_count": 30,
   "metadata": {},
   "outputs": [],
   "source": [
    "# assemble list of stats\n",
    "accuracies =  [rfc_acc, 0.92727, 0.786, 0.98]\n",
    "rocs = [rfc_roc, 0.92715, 0.862, 0]\n",
    "eers = [rfc_eer, 0.07317, 0, 0.029]\n",
    "\n",
    "\n",
    "# also assemble list of labels and colours\n",
    "labels = ['RFC', 'Feature Prototype', 'Frohling & Zubiaga', 'Nguyen-Son et al.']\n",
    "colors = ['tab:red', 'tab:blue', 'tab:orange', 'tab:green']"
   ]
  },
  {
   "cell_type": "markdown",
   "metadata": {},
   "source": [
    "Finally, we will plot the bar charts (Metrics that are not available in other literature are set to 0)"
   ]
  },
  {
   "cell_type": "code",
   "execution_count": 31,
   "metadata": {},
   "outputs": [
    {
     "data": {
      "image/png": "[encoded data removed]",
      "text/plain": [
       "<Figure size 2000x700 with 3 Axes>"
      ]
     },
     "metadata": {},
     "output_type": "display_data"
    }
   ],
   "source": [
    "fig, axes = plt.subplots(2, 2, figsize = (20, 7))\n",
    "\n",
    "axes[0][0].set_title('Accuracy') # set plot title\n",
    "axes[0][0].bar(labels, accuracies, label = labels, color = colors) # plot barplot\n",
    "axes[0][0].legend() # add legend\n",
    "add_val_labels(labels, accuracies, axes[0][0]) # add value labels\n",
    "\n",
    "axes[0][1].set_title('ROC')\n",
    "axes[0][1].bar(labels, rocs, label = labels, color = colors)\n",
    "axes[0][1].legend()\n",
    "add_val_labels(labels, rocs, axes[0][1])\n",
    "\n",
    "axes[1][0].set_title('EER')\n",
    "axes[1][0].bar(labels, eers, label = labels, color = colors)\n",
    "axes[1][0].legend()\n",
    "add_val_labels(labels, eers, axes[1][0])\n",
    "\n",
    "fig.delaxes(axes[1][1]) # remove last empty plot"
   ]
  },
  {
   "cell_type": "markdown",
   "metadata": {},
   "source": [
    "As expected, our RFC has achieved improved performance from the feature prototype, with improved accuracy, FPR, ROC, and EER.\n",
    "\n",
    "Additionally, we would consider our RFC to have achieved mostly competitive performance against the models in other literature. It has achieved better accuracy and AUROC compared to Fröhling and Zubiaga [2021]'s best model. Its accuracy is also comparable to the model in Nguyen-Son et al. [2017], though its EER remains significantly higher."
   ]
  },
  {
   "cell_type": "markdown",
   "metadata": {},
   "source": [
    "We will also calculate the RFC's FPR and TPR, and visualise it against the performance of the feature prototype."
   ]
  },
  {
   "cell_type": "code",
   "execution_count": 32,
   "metadata": {},
   "outputs": [
    {
     "name": "stdout",
     "output_type": "stream",
     "text": [
      "RFC - FPR: 0.05352112676056338, TPR: 0.9427374301675978\n"
     ]
    }
   ],
   "source": [
    "rfc_fpr, rfc_tpr = calc_fpr_tpr(y_test, rfc_predict)\n",
    "print(f'RFC - FPR: {rfc_fpr}, TPR: {rfc_tpr}')"
   ]
  },
  {
   "cell_type": "code",
   "execution_count": 33,
   "metadata": {},
   "outputs": [],
   "source": [
    "fprs = [rfc_fpr, 0.09350]\n",
    "tprs = [rfc_tpr, 0.94779]"
   ]
  },
  {
   "cell_type": "code",
   "execution_count": 34,
   "metadata": {},
   "outputs": [
    {
     "data": {
      "image/png": "[encoded data removed]",
      "text/plain": [
       "<Figure size 2000x500 with 2 Axes>"
      ]
     },
     "metadata": {},
     "output_type": "display_data"
    }
   ],
   "source": [
    "fig, axes = plt.subplots(1, 2, figsize = (20, 5))\n",
    "\n",
    "axes[0].set_title('FPR') # set plot title\n",
    "axes[0].bar(labels[0:2], fprs, label = labels[0:2], color = colors) # plot barplot\n",
    "axes[0].legend() # add legend\n",
    "add_val_labels(labels[0:2], fprs, axes[0]) # add value labels\n",
    "\n",
    "axes[1].set_title('TPR')\n",
    "axes[1].bar(labels[0:2], tprs, label = labels[0:2], color = colors)\n",
    "axes[1].legend()\n",
    "add_val_labels(labels[0:2], tprs, axes[1])"
   ]
  },
  {
   "cell_type": "markdown",
   "metadata": {},
   "source": [
    "These bar graphs show that the RFC has significantly improved the FPR, which was a point of concern regarding the Feature Prototype's performance."
   ]
  },
  {
   "attachments": {},
   "cell_type": "markdown",
   "metadata": {},
   "source": [
    "#### 5. Conclusions\n",
    "\n",
    "From the testing and evaluation carried out above, we would conclude that our RFC model has achieved the stated goals of:\n",
    "\n",
    "1) Performed better than the baseline of human performance (better than random chance (RFC accuracy is >50%))\n",
    "2) Having competitive/better performance with results from established literature.\n",
    "\n",
    "Thus, we would consider the stated aims for this project to be achieved, and the project to be complete."
   ]
  },
  {
   "cell_type": "markdown",
   "metadata": {},
   "source": [
    "#### 6. Future Work\n",
    "\n",
    "Our model's EER still remains higher than the model in Nguyen-Son et al. [2017]. In this vein, we would consider the earlier possibility of experimenting with probabilistic classification and scoring regimes to be a possible area where the model's FPR (and thus EER) can be improved.\n",
    "\n",
    "Another possibility we would like to explore in the future is using implementing an ensemble classifier, such as the ones found in Fröhling and Zubiaga [2021]. These ensemble classifiers combine multiple classification algorithms to achieve better performance, and is an area we would like to explore further. However, one risk of using ensemble classifiers is that adding poorer performing classifiers may also 'dilute' the better performing ones, damaging performance. \n"
   ]
  },
  {
   "cell_type": "markdown",
   "metadata": {},
   "source": [
    "#### 7. References\n",
    "[1] Lavanya Reddy. 2019. Answer to “AttributeError: probability estimates are not available for loss=’hinge’.” Stack Overflow. Retrieved June 28, 2023 from https://stackoverflow.com/a/57789235\n",
    "\n",
    "[2] Craig. 2017. Answer to “Best Fit Line on Log Log Scales in python 2.7.” Stack Overflow. Retrieved August 18, 2023 from https://stackoverflow.com/a/43838500\n",
    "\n",
    "[3] James S. 2017. Answer to “Equal Error Rate in Python.” Stack Overflow. Retrieved June 7, 2023 from https://stackoverflow.com/a/46026962\n",
    "\n",
    "[4] Leon Fröhling and Arkaitz Zubiaga. 2021. Feature-based detection of automated language models: tackling GPT-2, GPT-3 and Grover. PeerJ Comput Sci 7, (April 2021), e443. DOI:https://doi.org/10.7717/peerj-cs.443\n",
    "\n",
    "[5] Hoang-Quoc Nguyen-Son, Ngoc-Dung T. Tieu, Huy H. Nguyen, Junichi Yamagishi, and Isao Echi Zen. 2017. Identifying computer-generated text using statistical analysis. In 2017 Asia-Pacific Signal and Information Processing Association Annual Summit and Conference (APSIPA ASC), IEEE, Kuala Lumpur, 1504–1511. DOI:https://doi.org/10.1109/APSIPA.2017.8282270"
   ]
  }
 ],
 "metadata": {
  "kernelspec": {
   "display_name": "Python 3 (ipykernel)",
   "language": "python",
   "name": "python3"
  },
  "language_info": {
   "codemirror_mode": {
    "name": "ipython",
    "version": 3
   },
   "file_extension": ".py",
   "mimetype": "text/x-python",
   "name": "python",
   "nbconvert_exporter": "python",
   "pygments_lexer": "ipython3",
   "version": "3.11.4"
  },
  "vscode": {
   "interpreter": {
    "hash": "58546d513022ad8b39bd2c836bc8ffe0e78a94e66309983db95f056cbc01252b"
   }
  }
 },
 "nbformat": 4,
 "nbformat_minor": 2
}
