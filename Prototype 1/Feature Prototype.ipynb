{
 "cells": [
  {
   "cell_type": "markdown",
   "metadata": {},
   "source": [
    "# 1. Data Preperation"
   ]
  },
  {
   "cell_type": "markdown",
   "metadata": {},
   "source": [
    "First, install the neccesary libraries and import modules"
   ]
  },
  {
   "cell_type": "code",
   "execution_count": 30,
   "metadata": {},
   "outputs": [],
   "source": [
    "#!pip install pandas\n",
    "#!pip install numpy\n",
    "#!pip install textblob\n",
    "#!pip install nltk"
   ]
  },
  {
   "cell_type": "code",
   "execution_count": 31,
   "metadata": {},
   "outputs": [],
   "source": [
    "import pandas as pd\n",
    "import json\n",
    "from nltk.corpus import stopwords\n",
    "from nltk.stem import WordNetLemmatizer\n",
    "from nltk.tokenize import word_tokenize"
   ]
  },
  {
   "cell_type": "markdown",
   "metadata": {},
   "source": [
    "Also change the pandas display max column width parameter so the entire output is visible"
   ]
  },
  {
   "cell_type": "code",
   "execution_count": 2,
   "metadata": {},
   "outputs": [],
   "source": [
    "pd.set_option('display.max_colwidth', None)"
   ]
  },
  {
   "cell_type": "markdown",
   "metadata": {},
   "source": [
    "### 1.1 Data Preprocessing\n",
    "\n",
    "Read the input jsonl file to an intermediate dataframe. <br>For this prototype, we will be working with the 'medicine' subset of the entire HC3 dataset. This subset is about 5% of the HC3 dataset."
   ]
  },
  {
   "cell_type": "code",
   "execution_count": 3,
   "metadata": {},
   "outputs": [],
   "source": [
    "# convert jsonl to dataframe\n",
    "with open('medicine.jsonl') as f:\n",
    "    # read lines from jsonl into an intermediate df\n",
    "    lines = f.read().splitlines()\n",
    "    df_inter = pd.DataFrame(lines)\n",
    "    df_inter.columns = ['json_element']"
   ]
  },
  {
   "cell_type": "code",
   "execution_count": 4,
   "metadata": {},
   "outputs": [
    {
     "data": {
      "text/html": [
       "<div>\n",
       "<style scoped>\n",
       "    .dataframe tbody tr th:only-of-type {\n",
       "        vertical-align: middle;\n",
       "    }\n",
       "\n",
       "    .dataframe tbody tr th {\n",
       "        vertical-align: top;\n",
       "    }\n",
       "\n",
       "    .dataframe thead th {\n",
       "        text-align: right;\n",
       "    }\n",
       "</style>\n",
       "<table border=\"1\" class=\"dataframe\">\n",
       "  <thead>\n",
       "    <tr style=\"text-align: right;\">\n",
       "      <th></th>\n",
       "      <th>json_element</th>\n",
       "    </tr>\n",
       "  </thead>\n",
       "  <tbody>\n",
       "    <tr>\n",
       "      <th>575</th>\n",
       "      <td>{\"question\":\"How to treat pain during masturbation?my name is matshepo i was dignosed with endometriosis in 2008 and had a laparotomy done in june of same year.my problem is that the operation didn't help i even had to quit my job,i was told that my bowel is adherent to uterus.i'm 29 and everytime i menstruate is so painful and it becomes worse when a flesh like thing comes out.what can i do to help myself?\",\"human_answers\":[\"Hi, Endometriosis will cause such pain. You may have to be on regular oral contraceptive pills if not married. If married planning for pregnancy is the best solution. Hope I have answered your query. Let me know if I can assist you further. Regards,Dr. B. Radhakrishnan. Nair, OBGYN\"],\"chatgpt_answers\":[\"I'm sorry to hear about the pain you are experiencing. Endometriosis is a condition in which tissue similar to the lining of the uterus grows outside of the uterus, and it can cause pain during menstruation and sexual activity. Masturbation itself should not cause pain, but if you are experiencing pain during masturbation it could be due to the endometriosis or another underlying issue.\\n\\nThere are several things you can try to help manage the pain you are experiencing:\\n\\nTalk to your doctor: It's important to discuss your symptoms with your doctor so they can determine the cause of the pain and recommend appropriate treatment. Your doctor may suggest medication, hormone therapy, or surgery to manage your endometriosis.\\n\\nPractice relaxation techniques: Stress and anxiety can make pain worse, so finding ways to relax and reduce stress can help manage pain. Techniques such as deep breathing, meditation, or yoga may be helpful.\\n\\nUse over-the-counter pain medication: Non-steroidal anti-inflammatory drugs (NSAIDs) such as ibuprofen or naproxen can help relieve pain.\\n\\nUse heat or cold therapy: Applying heat or cold to the painful area may help reduce inflammation and alleviate pain.\\n\\nTry different sexual positions: Some positions may be more comfortable than others, so experimenting with different positions during masturbation or sexual activity may help reduce pain.\\n\\nIt's important to remember that everyone's experience with endometriosis is different, and what works for one person may not work for another. It's important to work with your doctor to determine the best treatment plan for you.\"]}</td>\n",
       "    </tr>\n",
       "    <tr>\n",
       "      <th>170</th>\n",
       "      <td>{\"question\":\"Have nausea, tinnitus, hearing loss. Gall bladder US clear. Any ideas?I have had an endoscopy done last week. Nothing was found. I then had an ultrasound of my gall bladder and all was clear. I still have short bouts of nausea. I do have an inner ear issue with tinnitus and some minor high frequency hearing loss . Any ideas on the nausea? I currently take omeprazole daily and Gaviscon liquid on a needed basis.\",\"human_answers\":[\"Dear  friend, welcome to HCM.it clearly is an inner ear issue. tinnitus, hearing loss, nausea are symptoms of ? labyrinthitis.or other lesionsdo you have imbalance while walking? and giddiness\\/ rotation feeling?i think you should be visiting a good ENT specialist who is good in middle ear and labyrinth problems.you can try labyrinthine sedatives\\/ antiemetics till then.take care and keep me posted on your progress.Good luck !\"],\"chatgpt_answers\":[\"!\\nToo many requests in 1 hour. Try again later.\\n\\n\\n\\nThere was an error generating a response\",\"There are many potential causes of nausea and tinnitus, and it's possible that the two symptoms could be related. It's important to discuss your symptoms with a healthcare provider to determine the cause and receive proper treatment.\\n\\nNausea can be caused by a variety of factors, including digestive issues, motion sickness, certain medications, and anxiety or stress. It's possible that the omeprazole you are taking for acid reflux could be causing the nausea, but it's also possible that it could be caused by something else.\\n\\nTinnitus, or ringing in the ears, can be caused by a variety of factors, including ear infections, excessive earwax, certain medications, and exposure to loud noises. It's also possible that tinnitus could be a symptom of an underlying medical condition, such as high blood pressure or anemia.\\n\\nIf you are experiencing ongoing symptoms of nausea and tinnitus, it's important to see a healthcare provider for further evaluation. They can perform a physical examination, review your medical history, and possibly order additional tests to determine the cause of your symptoms and recommend appropriate treatment.\"]}</td>\n",
       "    </tr>\n",
       "    <tr>\n",
       "      <th>244</th>\n",
       "      <td>{\"question\":\"Suggest treatment for persistent nauseaIve had a mirena iud in place for 5 years. The doctor try to take it out but couldnt grasps the strings. I had went to the doc originally thinking i was preg. My belly looked 2 mths preg. Neg test. He ordered a ultrasound to see where the iud is situated. Been nausea ous for 2 mths. Took laxatives. Belly went away but im still sick. Whats your advice. Ultrasound on the 15 of this mth.\",\"human_answers\":[\"Hallow Dear,Since the threads of Mirena are neither visible nor palpable, it is likely that it has migrated outside the uterine cavity - may be in the peritoneal cavity by perforating the uterine walls. Perforation of intrauterine device, particularly in the abdominal cavity can cause nausea, vomiting, abdominal distension, etc.. You are having these symptoms for about 2 months. Therefore it is likely that Mirena has perforated since that date.  Your doctor therefore has advised you Ultrasonography. It will locate the position of Mirena. If it has perforated the uterine wall - partially or completely, you will need surgical intervention for removing the device. Please follow your doctors religiously. You need Gynaecologist's care. Dr. Nishikant Shrotri\"],\"chatgpt_answers\":[\"I'm sorry to hear that you have been experiencing persistent nausea and difficulty with your Mirena IUD. It's important to speak with your healthcare provider about your symptoms and any concerns you have. They will be able to assess your specific situation and determine the best course of action.\\n\\nIn the meantime, there are a few things you can try to help manage your nausea:\\n\\nEat small, frequent meals throughout the day instead of three large meals.\\n\\nAvoid foods that are spicy, fatty, or high in fiber, as these can contribute to nausea.\\n\\nDrink plenty of fluids, especially water, to help prevent dehydration.\\n\\nAvoid strong odors, as they can trigger nausea.\\n\\nGet plenty of rest and try to relax as much as possible.\\n\\nTry over-the-counter medications, such as ginger or peppermint, which may help to alleviate nausea.\\n\\nIt's important to follow up with your healthcare provider about your symptoms and the difficulty you had with removing the Mirena IUD. They will be able to provide you with more specific guidance and treatment options based on your individual situation.\"]}</td>\n",
       "    </tr>\n",
       "  </tbody>\n",
       "</table>\n",
       "</div>"
      ],
      "text/plain": [
       "                                                                                                                                                                                                                                                                                                                                                                                                                                                                                                                                                                                                                                                                                                                                                                                                                                                                                                                                                                                                                                                                                                                                                                                                                                                                                                                                                                                                                                                                                                                                                                                                                                                                                                                                                                                                                                                                                                                                                                                                                                                                                                                                                                                                                                                                                                                                                                                                                                                    json_element\n",
       "575  {\"question\":\"How to treat pain during masturbation?my name is matshepo i was dignosed with endometriosis in 2008 and had a laparotomy done in june of same year.my problem is that the operation didn't help i even had to quit my job,i was told that my bowel is adherent to uterus.i'm 29 and everytime i menstruate is so painful and it becomes worse when a flesh like thing comes out.what can i do to help myself?\",\"human_answers\":[\"Hi, Endometriosis will cause such pain. You may have to be on regular oral contraceptive pills if not married. If married planning for pregnancy is the best solution. Hope I have answered your query. Let me know if I can assist you further. Regards,Dr. B. Radhakrishnan. Nair, OBGYN\"],\"chatgpt_answers\":[\"I'm sorry to hear about the pain you are experiencing. Endometriosis is a condition in which tissue similar to the lining of the uterus grows outside of the uterus, and it can cause pain during menstruation and sexual activity. Masturbation itself should not cause pain, but if you are experiencing pain during masturbation it could be due to the endometriosis or another underlying issue.\\n\\nThere are several things you can try to help manage the pain you are experiencing:\\n\\nTalk to your doctor: It's important to discuss your symptoms with your doctor so they can determine the cause of the pain and recommend appropriate treatment. Your doctor may suggest medication, hormone therapy, or surgery to manage your endometriosis.\\n\\nPractice relaxation techniques: Stress and anxiety can make pain worse, so finding ways to relax and reduce stress can help manage pain. Techniques such as deep breathing, meditation, or yoga may be helpful.\\n\\nUse over-the-counter pain medication: Non-steroidal anti-inflammatory drugs (NSAIDs) such as ibuprofen or naproxen can help relieve pain.\\n\\nUse heat or cold therapy: Applying heat or cold to the painful area may help reduce inflammation and alleviate pain.\\n\\nTry different sexual positions: Some positions may be more comfortable than others, so experimenting with different positions during masturbation or sexual activity may help reduce pain.\\n\\nIt's important to remember that everyone's experience with endometriosis is different, and what works for one person may not work for another. It's important to work with your doctor to determine the best treatment plan for you.\"]}\n",
       "170                                                                                                                                                                                                                         {\"question\":\"Have nausea, tinnitus, hearing loss. Gall bladder US clear. Any ideas?I have had an endoscopy done last week. Nothing was found. I then had an ultrasound of my gall bladder and all was clear. I still have short bouts of nausea. I do have an inner ear issue with tinnitus and some minor high frequency hearing loss . Any ideas on the nausea? I currently take omeprazole daily and Gaviscon liquid on a needed basis.\",\"human_answers\":[\"Dear  friend, welcome to HCM.it clearly is an inner ear issue. tinnitus, hearing loss, nausea are symptoms of ? labyrinthitis.or other lesionsdo you have imbalance while walking? and giddiness\\/ rotation feeling?i think you should be visiting a good ENT specialist who is good in middle ear and labyrinth problems.you can try labyrinthine sedatives\\/ antiemetics till then.take care and keep me posted on your progress.Good luck !\"],\"chatgpt_answers\":[\"!\\nToo many requests in 1 hour. Try again later.\\n\\n\\n\\nThere was an error generating a response\",\"There are many potential causes of nausea and tinnitus, and it's possible that the two symptoms could be related. It's important to discuss your symptoms with a healthcare provider to determine the cause and receive proper treatment.\\n\\nNausea can be caused by a variety of factors, including digestive issues, motion sickness, certain medications, and anxiety or stress. It's possible that the omeprazole you are taking for acid reflux could be causing the nausea, but it's also possible that it could be caused by something else.\\n\\nTinnitus, or ringing in the ears, can be caused by a variety of factors, including ear infections, excessive earwax, certain medications, and exposure to loud noises. It's also possible that tinnitus could be a symptom of an underlying medical condition, such as high blood pressure or anemia.\\n\\nIf you are experiencing ongoing symptoms of nausea and tinnitus, it's important to see a healthcare provider for further evaluation. They can perform a physical examination, review your medical history, and possibly order additional tests to determine the cause of your symptoms and recommend appropriate treatment.\"]}\n",
       "244                       {\"question\":\"Suggest treatment for persistent nauseaIve had a mirena iud in place for 5 years. The doctor try to take it out but couldnt grasps the strings. I had went to the doc originally thinking i was preg. My belly looked 2 mths preg. Neg test. He ordered a ultrasound to see where the iud is situated. Been nausea ous for 2 mths. Took laxatives. Belly went away but im still sick. Whats your advice. Ultrasound on the 15 of this mth.\",\"human_answers\":[\"Hallow Dear,Since the threads of Mirena are neither visible nor palpable, it is likely that it has migrated outside the uterine cavity - may be in the peritoneal cavity by perforating the uterine walls. Perforation of intrauterine device, particularly in the abdominal cavity can cause nausea, vomiting, abdominal distension, etc.. You are having these symptoms for about 2 months. Therefore it is likely that Mirena has perforated since that date.  Your doctor therefore has advised you Ultrasonography. It will locate the position of Mirena. If it has perforated the uterine wall - partially or completely, you will need surgical intervention for removing the device. Please follow your doctors religiously. You need Gynaecologist's care. Dr. Nishikant Shrotri\"],\"chatgpt_answers\":[\"I'm sorry to hear that you have been experiencing persistent nausea and difficulty with your Mirena IUD. It's important to speak with your healthcare provider about your symptoms and any concerns you have. They will be able to assess your specific situation and determine the best course of action.\\n\\nIn the meantime, there are a few things you can try to help manage your nausea:\\n\\nEat small, frequent meals throughout the day instead of three large meals.\\n\\nAvoid foods that are spicy, fatty, or high in fiber, as these can contribute to nausea.\\n\\nDrink plenty of fluids, especially water, to help prevent dehydration.\\n\\nAvoid strong odors, as they can trigger nausea.\\n\\nGet plenty of rest and try to relax as much as possible.\\n\\nTry over-the-counter medications, such as ginger or peppermint, which may help to alleviate nausea.\\n\\nIt's important to follow up with your healthcare provider about your symptoms and the difficulty you had with removing the Mirena IUD. They will be able to provide you with more specific guidance and treatment options based on your individual situation.\"]}"
      ]
     },
     "execution_count": 4,
     "metadata": {},
     "output_type": "execute_result"
    }
   ],
   "source": [
    "df_inter.sample(3)"
   ]
  },
  {
   "cell_type": "markdown",
   "metadata": {},
   "source": [
    "Next, split the dataframe into its respective columns"
   ]
  },
  {
   "cell_type": "code",
   "execution_count": 5,
   "metadata": {},
   "outputs": [],
   "source": [
    "#normalise the intermediate dataframe to seperate the data into columns\n",
    "df = pd.json_normalize(df_inter['json_element'].apply(json.loads))"
   ]
  },
  {
   "cell_type": "code",
   "execution_count": 6,
   "metadata": {},
   "outputs": [
    {
     "data": {
      "text/html": [
       "<div>\n",
       "<style scoped>\n",
       "    .dataframe tbody tr th:only-of-type {\n",
       "        vertical-align: middle;\n",
       "    }\n",
       "\n",
       "    .dataframe tbody tr th {\n",
       "        vertical-align: top;\n",
       "    }\n",
       "\n",
       "    .dataframe thead th {\n",
       "        text-align: right;\n",
       "    }\n",
       "</style>\n",
       "<table border=\"1\" class=\"dataframe\">\n",
       "  <thead>\n",
       "    <tr style=\"text-align: right;\">\n",
       "      <th></th>\n",
       "      <th>question</th>\n",
       "      <th>human_answers</th>\n",
       "      <th>chatgpt_answers</th>\n",
       "    </tr>\n",
       "  </thead>\n",
       "  <tbody>\n",
       "    <tr>\n",
       "      <th>602</th>\n",
       "      <td>Does Nano-Leo help with sperm morphology and low sperm count?We went for fertility issues. Doctor prescribed me Nano-leo even though I don t have ED problem or low testosterone problem. My issue is more with sperm morphology (2% strict kruger) or lowish count (40m/ml) but according to the info on web Nano-Leo does not help with that. Should I still take it?</td>\n",
       "      <td>[Hello, it is not a good option and thus you need to get proper hormone profile done and then take necessary hormones and drugsIn case you have any questions in future you can contact me directly on http://bit.ly/drmanishajain]</td>\n",
       "      <td>[Nano-Leo is a dietary supplement that contains a combination of ingredients, including L-arginine, which is an amino acid that has been suggested to improve blood flow and circulation. Some people claim that Nano-Leo may help improve fertility and treat erectile dysfunction (ED). However, there is limited scientific evidence to support these claims.\\n\\nIt is important to note that Nano-Leo is not a medication and is not intended to diagnose, treat, cure, or prevent any disease. If you are concerned about fertility issues, it is important to speak with a healthcare professional who can properly diagnose and treat any underlying medical conditions. While supplements like Nano-Leo may be marketed as fertility aids, there is no guarantee that they will be effective, and they may not be suitable for everyone.\\n\\nIf you have been prescribed Nano-Leo by a healthcare professional, it is important to follow their instructions and to discuss any concerns or questions you may have about its use. It is also important to speak with your healthcare professional about the best course of treatment for your specific fertility issues. They may recommend a combination of treatments, such as lifestyle changes, medication, or assisted reproductive technologies, depending on the cause of your fertility issues and your individual circumstances.]</td>\n",
       "    </tr>\n",
       "    <tr>\n",
       "      <th>1047</th>\n",
       "      <td>Q. I had two menstrual cycles in one month. Is it something serious?Hello doctor,I had two menstrual cycles in one month, two weeks apart. I have not had an intercourse for two months. Should I be concerned?</td>\n",
       "      <td>[Hello. For more information consult an obstetrician and gynaecologist online --&gt; https://icliniq.com./ask-a-doctor-online/obstetrician-and-gynaecologist]</td>\n",
       "      <td>[It is not uncommon for women to have irregular menstrual cycles, and having two periods in one month can be a normal occurrence in some cases. However, it is important to pay attention to any changes in your menstrual cycle and to speak with a healthcare provider if you have any concerns.\\n\\nThere are many potential causes of irregular menstrual cycles, including stress, weight changes, certain medications, and underlying health conditions. In some cases, irregular periods may be a sign of a hormonal imbalance or other underlying health issue that may need to be addressed.\\n\\nIf you have not had sexual intercourse for the past two months, it is unlikely that pregnancy is the cause of your irregular menstrual cycles. However, it is still a good idea to speak with a healthcare provider for a proper evaluation and to rule out any other potential causes. They will be able to perform an examination, review your medical history, and possibly order tests to determine the cause of your irregular periods. They can then provide you with appropriate treatment or recommendations as needed.]</td>\n",
       "    </tr>\n",
       "    <tr>\n",
       "      <th>561</th>\n",
       "      <td>Is it dangerous to breastfeed a baby while on Metronidazole?im a lactating mother to a 6month old child. i have been diagnosed w/ amoebiasis and was prescribed with Metronidazole. My child wont accept bottled milk so i am forced to let her still feed through me. Is it risky for my child? what other medicine can replaced Metronidazole that can be good for my child?</td>\n",
       "      <td>[Hi, Welcome to HCM. I have read your question in detail and I know that you are very concerned about your child. Metronidazole doesn't pass through breast milk and will have no effect on baby. You can continue taking metronidazole and also you should continue breastfeeding the baby. There is no need to replace metronidazole. I hope this will help you. Wishing your child good health. Take care.]</td>\n",
       "      <td>[It is generally not recommended to breastfeed while taking metronidazole because it can be passed to the baby through breast milk and may cause harm. The American Academy of Pediatrics (AAP) considers metronidazole to be compatible with breastfeeding, but it is important to weigh the potential risks and benefits with your healthcare provider. If you are taking metronidazole and need to continue breastfeeding, it is important to monitor your baby for any potential side effects, such as irritability, vomiting, diarrhea, or unusual sleepiness.\\n\\nThere are alternative medications that may be used to treat amoebiasis in breastfeeding mothers. These may include other antibiotics, such as paromomycin or tinidazole. It is important to discuss the best treatment options with your healthcare provider, taking into account the specific type and severity of your infection and the potential risks and benefits to you and your baby. Your healthcare provider can help you determine the most appropriate treatment for your specific situation.]</td>\n",
       "    </tr>\n",
       "  </tbody>\n",
       "</table>\n",
       "</div>"
      ],
      "text/plain": [
       "                                                                                                                                                                                                                                                                                                                                                                            question  \\\n",
       "602          Does Nano-Leo help with sperm morphology and low sperm count?We went for fertility issues. Doctor prescribed me Nano-leo even though I don t have ED problem or low testosterone problem. My issue is more with sperm morphology (2% strict kruger) or lowish count (40m/ml) but according to the info on web Nano-Leo does not help with that. Should I still take it?   \n",
       "1047                                                                                                                                                                 Q. I had two menstrual cycles in one month. Is it something serious?Hello doctor,I had two menstrual cycles in one month, two weeks apart. I have not had an intercourse for two months. Should I be concerned?   \n",
       "561   Is it dangerous to breastfeed a baby while on Metronidazole?im a lactating mother to a 6month old child. i have been diagnosed w/ amoebiasis and was prescribed with Metronidazole. My child wont accept bottled milk so i am forced to let her still feed through me. Is it risky for my child? what other medicine can replaced Metronidazole that can be good for my child?   \n",
       "\n",
       "                                                                                                                                                                                                                                                                                                                                                                                                       human_answers  \\\n",
       "602                                                                                                                                                                              [Hello, it is not a good option and thus you need to get proper hormone profile done and then take necessary hormones and drugsIn case you have any questions in future you can contact me directly on http://bit.ly/drmanishajain]   \n",
       "1047                                                                                                                                                                                                                                                      [Hello. For more information consult an obstetrician and gynaecologist online --> https://icliniq.com./ask-a-doctor-online/obstetrician-and-gynaecologist]   \n",
       "561   [Hi, Welcome to HCM. I have read your question in detail and I know that you are very concerned about your child. Metronidazole doesn't pass through breast milk and will have no effect on baby. You can continue taking metronidazole and also you should continue breastfeeding the baby. There is no need to replace metronidazole. I hope this will help you. Wishing your child good health. Take care.]   \n",
       "\n",
       "                                                                                                                                                                                                                                                                                                                                                                                                                                                                                                                                                                                                                                                                                                                                                                                                                                                                                                                                                                                                                                                                                                                                                                                                                                                                                                                                                                                        chatgpt_answers  \n",
       "602   [Nano-Leo is a dietary supplement that contains a combination of ingredients, including L-arginine, which is an amino acid that has been suggested to improve blood flow and circulation. Some people claim that Nano-Leo may help improve fertility and treat erectile dysfunction (ED). However, there is limited scientific evidence to support these claims.\\n\\nIt is important to note that Nano-Leo is not a medication and is not intended to diagnose, treat, cure, or prevent any disease. If you are concerned about fertility issues, it is important to speak with a healthcare professional who can properly diagnose and treat any underlying medical conditions. While supplements like Nano-Leo may be marketed as fertility aids, there is no guarantee that they will be effective, and they may not be suitable for everyone.\\n\\nIf you have been prescribed Nano-Leo by a healthcare professional, it is important to follow their instructions and to discuss any concerns or questions you may have about its use. It is also important to speak with your healthcare professional about the best course of treatment for your specific fertility issues. They may recommend a combination of treatments, such as lifestyle changes, medication, or assisted reproductive technologies, depending on the cause of your fertility issues and your individual circumstances.]  \n",
       "1047                                                                                                                                                                                                                                                           [It is not uncommon for women to have irregular menstrual cycles, and having two periods in one month can be a normal occurrence in some cases. However, it is important to pay attention to any changes in your menstrual cycle and to speak with a healthcare provider if you have any concerns.\\n\\nThere are many potential causes of irregular menstrual cycles, including stress, weight changes, certain medications, and underlying health conditions. In some cases, irregular periods may be a sign of a hormonal imbalance or other underlying health issue that may need to be addressed.\\n\\nIf you have not had sexual intercourse for the past two months, it is unlikely that pregnancy is the cause of your irregular menstrual cycles. However, it is still a good idea to speak with a healthcare provider for a proper evaluation and to rule out any other potential causes. They will be able to perform an examination, review your medical history, and possibly order tests to determine the cause of your irregular periods. They can then provide you with appropriate treatment or recommendations as needed.]  \n",
       "561                                                                                                                                                                                                                                                                                                                   [It is generally not recommended to breastfeed while taking metronidazole because it can be passed to the baby through breast milk and may cause harm. The American Academy of Pediatrics (AAP) considers metronidazole to be compatible with breastfeeding, but it is important to weigh the potential risks and benefits with your healthcare provider. If you are taking metronidazole and need to continue breastfeeding, it is important to monitor your baby for any potential side effects, such as irritability, vomiting, diarrhea, or unusual sleepiness.\\n\\nThere are alternative medications that may be used to treat amoebiasis in breastfeeding mothers. These may include other antibiotics, such as paromomycin or tinidazole. It is important to discuss the best treatment options with your healthcare provider, taking into account the specific type and severity of your infection and the potential risks and benefits to you and your baby. Your healthcare provider can help you determine the most appropriate treatment for your specific situation.]  "
      ]
     },
     "execution_count": 6,
     "metadata": {},
     "output_type": "execute_result"
    }
   ],
   "source": [
    "df.sample(3)"
   ]
  },
  {
   "cell_type": "markdown",
   "metadata": {},
   "source": [
    "### 1.2 Data Cleaning\n",
    "\n",
    "First, inspect the data for missing values."
   ]
  },
  {
   "cell_type": "code",
   "execution_count": 7,
   "metadata": {},
   "outputs": [
    {
     "data": {
      "text/plain": [
       "question           0\n",
       "human_answers      0\n",
       "chatgpt_answers    0\n",
       "dtype: int64"
      ]
     },
     "execution_count": 7,
     "metadata": {},
     "output_type": "execute_result"
    }
   ],
   "source": [
    "# find any missing/NA values\n",
    "df.isna().sum()"
   ]
  },
  {
   "cell_type": "markdown",
   "metadata": {},
   "source": [
    "No missing values were found.\n",
    "\n",
    "Since each answer is a list, a list containing just empty strings will not be considered by panda's isna() function as a NA value. Thus, we will also inspect the dataframe for empty strings."
   ]
  },
  {
   "cell_type": "code",
   "execution_count": 8,
   "metadata": {},
   "outputs": [
    {
     "name": "stdout",
     "output_type": "stream",
     "text": [
      "empty string at 758, dropping row\n",
      "empty string at 946, dropping row\n",
      "empty string at 1209, dropping row\n"
     ]
    }
   ],
   "source": [
    "#check for empty strings\n",
    "for i in range(len(df)):\n",
    "    human_ans = df.at[i, 'human_answers']\n",
    "    gpt_ans = df.at[i, 'chatgpt_answers']\n",
    "    if '' in human_ans or '' in gpt_ans:\n",
    "        print('empty string at ' + str(i) + ', dropping row')\n",
    "        df.drop(i, axis=0, inplace=True)"
   ]
  },
  {
   "cell_type": "markdown",
   "metadata": {},
   "source": [
    "Some empty strings were found. Since these empty strings make up an insignificant portion of the dataset (0.24%), they can be removed without significantly changing the makeup of the dataset.\n",
    "\n",
    "Next, reset the indexes of the dataset without the removed rows (so that it can be iterated over later)"
   ]
  },
  {
   "cell_type": "code",
   "execution_count": 9,
   "metadata": {},
   "outputs": [],
   "source": [
    "df.reset_index(inplace=True)\n",
    "df.drop(df.columns[0], axis=1, inplace=True)"
   ]
  },
  {
   "cell_type": "markdown",
   "metadata": {},
   "source": [
    "We will describe the dataset to inspect the values contained within"
   ]
  },
  {
   "cell_type": "code",
   "execution_count": 10,
   "metadata": {},
   "outputs": [
    {
     "data": {
      "text/html": [
       "<div>\n",
       "<style scoped>\n",
       "    .dataframe tbody tr th:only-of-type {\n",
       "        vertical-align: middle;\n",
       "    }\n",
       "\n",
       "    .dataframe tbody tr th {\n",
       "        vertical-align: top;\n",
       "    }\n",
       "\n",
       "    .dataframe thead th {\n",
       "        text-align: right;\n",
       "    }\n",
       "</style>\n",
       "<table border=\"1\" class=\"dataframe\">\n",
       "  <thead>\n",
       "    <tr style=\"text-align: right;\">\n",
       "      <th></th>\n",
       "      <th>question</th>\n",
       "      <th>human_answers</th>\n",
       "      <th>chatgpt_answers</th>\n",
       "    </tr>\n",
       "  </thead>\n",
       "  <tbody>\n",
       "    <tr>\n",
       "      <th>count</th>\n",
       "      <td>1245</td>\n",
       "      <td>1245</td>\n",
       "      <td>1245</td>\n",
       "    </tr>\n",
       "    <tr>\n",
       "      <th>unique</th>\n",
       "      <td>1245</td>\n",
       "      <td>1243</td>\n",
       "      <td>1237</td>\n",
       "    </tr>\n",
       "    <tr>\n",
       "      <th>top</th>\n",
       "      <td>Does Primolut N taken during pregnancy affect the baby?Hi doctor..I have taken primoult n tablet twice daily for 5 days to delay my periods in the month of march.I was not aware of the pregnancy at that time but now when I tested in April month it is positive in pregnancy.so my question here is does this tablet effect my baby</td>\n",
       "      <td>[Hi...Thank you for consulting in Health Care magic. Skin conditions are best diagnosed only after seeing directly. I suggest you to upload photographs of the same on this website, so that I can guide you scientifically.  Hope my answer was helpful for you.  I am happy to help any time. Further clarifications and consultations on Health care magic are welcome. If you do not have any clarifications, you can close the discussion and rate the answer. Wish your kid good health.Dr. Sumanth MBBS., DCH., DNB (Paed).,]</td>\n",
       "      <td>[!\\nToo many requests in 1 hour. Try again later.\\n\\n\\n\\nThere was an error generating a response]</td>\n",
       "    </tr>\n",
       "    <tr>\n",
       "      <th>freq</th>\n",
       "      <td>1</td>\n",
       "      <td>3</td>\n",
       "      <td>9</td>\n",
       "    </tr>\n",
       "  </tbody>\n",
       "</table>\n",
       "</div>"
      ],
      "text/plain": [
       "                                                                                                                                                                                                                                                                                                                                       question  \\\n",
       "count                                                                                                                                                                                                                                                                                                                                      1245   \n",
       "unique                                                                                                                                                                                                                                                                                                                                     1245   \n",
       "top     Does Primolut N taken during pregnancy affect the baby?Hi doctor..I have taken primoult n tablet twice daily for 5 days to delay my periods in the month of march.I was not aware of the pregnancy at that time but now when I tested in April month it is positive in pregnancy.so my question here is does this tablet effect my baby   \n",
       "freq                                                                                                                                                                                                                                                                                                                                          1   \n",
       "\n",
       "                                                                                                                                                                                                                                                                                                                                                                                                                                                                                                                               human_answers  \\\n",
       "count                                                                                                                                                                                                                                                                                                                                                                                                                                                                                                                                   1245   \n",
       "unique                                                                                                                                                                                                                                                                                                                                                                                                                                                                                                                                  1243   \n",
       "top     [Hi...Thank you for consulting in Health Care magic. Skin conditions are best diagnosed only after seeing directly. I suggest you to upload photographs of the same on this website, so that I can guide you scientifically.  Hope my answer was helpful for you.  I am happy to help any time. Further clarifications and consultations on Health care magic are welcome. If you do not have any clarifications, you can close the discussion and rate the answer. Wish your kid good health.Dr. Sumanth MBBS., DCH., DNB (Paed).,]   \n",
       "freq                                                                                                                                                                                                                                                                                                                                                                                                                                                                                                                                       3   \n",
       "\n",
       "                                                                                           chatgpt_answers  \n",
       "count                                                                                                 1245  \n",
       "unique                                                                                                1237  \n",
       "top     [!\\nToo many requests in 1 hour. Try again later.\\n\\n\\n\\nThere was an error generating a response]  \n",
       "freq                                                                                                     9  "
      ]
     },
     "execution_count": 10,
     "metadata": {},
     "output_type": "execute_result"
    }
   ],
   "source": [
    "df.describe(include='all')"
   ]
  },
  {
   "cell_type": "markdown",
   "metadata": {},
   "source": [
    "There are some duplicated values in the 'human_answers' column.\n",
    "\n",
    "We will explore these duplicated answers further."
   ]
  },
  {
   "cell_type": "code",
   "execution_count": 11,
   "metadata": {},
   "outputs": [
    {
     "data": {
      "text/html": [
       "<div>\n",
       "<style scoped>\n",
       "    .dataframe tbody tr th:only-of-type {\n",
       "        vertical-align: middle;\n",
       "    }\n",
       "\n",
       "    .dataframe tbody tr th {\n",
       "        vertical-align: top;\n",
       "    }\n",
       "\n",
       "    .dataframe thead th {\n",
       "        text-align: right;\n",
       "    }\n",
       "</style>\n",
       "<table border=\"1\" class=\"dataframe\">\n",
       "  <thead>\n",
       "    <tr style=\"text-align: right;\">\n",
       "      <th></th>\n",
       "      <th>question</th>\n",
       "      <th>human_answers</th>\n",
       "      <th>chatgpt_answers</th>\n",
       "    </tr>\n",
       "  </thead>\n",
       "  <tbody>\n",
       "    <tr>\n",
       "      <th>415</th>\n",
       "      <td>Suggest treatment for dermatitis in a 11 years old childMy 11 year old son most likely has perioral dermatitis from over use of steriod on his rash on the sides of his nose, elidel is not helping much and we have been using it for like 6 months...family doctor gave us mipirocin to try but its redder and crusty lookign now.</td>\n",
       "      <td>[Hi...Thank you for consulting in Health Care magic. Skin conditions are best diagnosed only after seeing directly. I suggest you to upload photographs of the same on this website, so that I can guide you scientifically.  Hope my answer was helpful for you.  I am happy to help any time. Further clarifications and consultations on Health care magic are welcome. If you do not have any clarifications, you can close the discussion and rate the answer. Wish your kid good health.Dr. Sumanth MBBS., DCH., DNB (Paed).,]</td>\n",
       "      <td>[I'm sorry to hear that your son is experiencing discomfort and skin irritation. Perioral dermatitis is a type of facial rash that can be caused by a variety of factors, including the use of topical steroids, certain skin care products, and certain medications. It is important to work closely with a healthcare provider to determine the most appropriate treatment for your son's specific case.\\n\\nTreatment for perioral dermatitis may include the following:\\n\\nAvoiding the use of topical steroids and certain skin care products, such as facial cleansers and creams that contain ingredients that can irritate the skin.\\n\\nUsing a mild, non-irritating facial cleanser and moisturizer.\\n\\nApplying a topical antibiotic, such as mupirocin, to the affected area as directed by a healthcare provider.\\n\\nTaking an oral antibiotic if a bacterial infection is present or suspected.\\n\\nUsing a mild corticosteroid cream under the supervision of a healthcare provider.\\n\\nIt is important to follow the treatment plan recommended by your son's healthcare provider, as well as to practice good skin care habits, such as washing the face gently with a mild cleanser and using a non-irritating moisturizer. If the condition does not improve with treatment or if it worsens, it is important to contact a healthcare provider for further evaluation and management.]</td>\n",
       "    </tr>\n",
       "    <tr>\n",
       "      <th>694</th>\n",
       "      <td>What could the bumps on the hip of a child be indicative of?My daughter is 5 years old ans she has like 7 little bumps on the right side of her hip and they are not chicken poxs they are hard kinda and at one point they were red and now they are turning a brown colorcan you tell me what they could possibly be?</td>\n",
       "      <td>[Hi...Thank you for consulting in Health Care magic. Skin conditions are best diagnosed only after seeing directly. I suggest you to upload photographs of the same on this website, so that I can guide you scientifically.  Hope my answer was helpful for you.  I am happy to help any time. Further clarifications and consultations on Health care magic are welcome. If you do not have any clarifications, you can close the discussion and rate the answer. Wish your kid good health.Dr. Sumanth MBBS., DCH., DNB (Paed).,]</td>\n",
       "      <td>[It is not possible for me to accurately diagnose a medical condition without examining the individual and obtaining more information about their symptoms. It is important to consult a healthcare professional if you have concerns about your child's health.\\n\\nThere are many possible causes of bumps on the hip of a child, including infections, allergies, insect bites, and other skin conditions. Some possible causes of bumps on the hip that may be accompanied by redness and swelling include:\\n\\nInsect bites: Bites from insects such as mosquitoes, fleas, or bedbugs can cause bumps on the skin that may be red and swollen.\\n\\nAllergic reactions: Allergic reactions to medications, foods, or other substances can cause hives or other skin bumps.\\n\\nInfections: Bacterial or viral infections, such as impetigo or herpes, can cause bumps on the skin.\\n\\nOther skin conditions: Certain skin conditions, such as eczema or dermatitis, can cause bumps on the skin.\\n\\nAgain, it is important to consult a healthcare professional for a proper diagnosis and treatment plan. They will be able to examine your child and ask about their symptoms in order to determine the cause of the bumps and recommend appropriate treatment.]</td>\n",
       "    </tr>\n",
       "    <tr>\n",
       "      <th>1121</th>\n",
       "      <td>Suggest treatment for pimples on nose in a 10 years old childHi, my 10 years daughter has a pimple on her nose for 4 weeks now. I tried to pop it 2 weeks ago, but i couldn't just looked like blood, made a scab, fall off, and now looks like raised skin-still looks like a pimple in a way. What can i do? Thank you</td>\n",
       "      <td>[Hi...Thank you for consulting in Health Care magic. Skin conditions are best diagnosed only after seeing directly. I suggest you to upload photographs of the same on this website, so that I can guide you scientifically.  Hope my answer was helpful for you.  I am happy to help any time. Further clarifications and consultations on Health care magic are welcome. If you do not have any clarifications, you can close the discussion and rate the answer. Wish your kid good health.Dr. Sumanth MBBS., DCH., DNB (Paed).,]</td>\n",
       "      <td>[It is generally not a good idea to try to pop pimples, as this can lead to further irritation and potentially cause scarring. It is best to leave pimples alone and allow them to heal on their own.\\n\\nTo help manage your daughter's pimple and prevent new ones from forming, you can try the following:\\n\\nKeep the affected area clean: Wash the area with a gentle, oil-free cleanser twice a day. Avoid scrubbing or picking at the pimple.\\n\\nApply a spot treatment: Look for a spot treatment that contains benzoyl peroxide or salicylic acid. These ingredients can help reduce inflammation and kill bacteria. Follow the instructions on the product label carefully.\\n\\nUse a non-comedogenic moisturizer: Choose a moisturizer that is labeled \"non-comedogenic,\" which means it won't clog pores. Moisturizing the skin can help keep it healthy and prevent new pimples from forming.\\n\\nAvoid certain triggers: Some things can make pimples more likely to form, such as squeezing or picking at the skin, using oil-based skin care products, and not removing makeup before bed. Encourage your daughter to avoid these triggers.\\n\\nIt's also a good idea to have your daughter see a dermatologist or healthcare provider if the pimple persists or if you are concerned about her skin in any way. The dermatologist can evaluate the pimple and recommend appropriate treatment.]</td>\n",
       "    </tr>\n",
       "  </tbody>\n",
       "</table>\n",
       "</div>"
      ],
      "text/plain": [
       "                                                                                                                                                                                                                                                                                                                                  question  \\\n",
       "415   Suggest treatment for dermatitis in a 11 years old childMy 11 year old son most likely has perioral dermatitis from over use of steriod on his rash on the sides of his nose, elidel is not helping much and we have been using it for like 6 months...family doctor gave us mipirocin to try but its redder and crusty lookign now.   \n",
       "694                What could the bumps on the hip of a child be indicative of?My daughter is 5 years old ans she has like 7 little bumps on the right side of her hip and they are not chicken poxs they are hard kinda and at one point they were red and now they are turning a brown colorcan you tell me what they could possibly be?   \n",
       "1121              Suggest treatment for pimples on nose in a 10 years old childHi, my 10 years daughter has a pimple on her nose for 4 weeks now. I tried to pop it 2 weeks ago, but i couldn't just looked like blood, made a scab, fall off, and now looks like raised skin-still looks like a pimple in a way. What can i do? Thank you   \n",
       "\n",
       "                                                                                                                                                                                                                                                                                                                                                                                                                                                                                                                             human_answers  \\\n",
       "415   [Hi...Thank you for consulting in Health Care magic. Skin conditions are best diagnosed only after seeing directly. I suggest you to upload photographs of the same on this website, so that I can guide you scientifically.  Hope my answer was helpful for you.  I am happy to help any time. Further clarifications and consultations on Health care magic are welcome. If you do not have any clarifications, you can close the discussion and rate the answer. Wish your kid good health.Dr. Sumanth MBBS., DCH., DNB (Paed).,]   \n",
       "694   [Hi...Thank you for consulting in Health Care magic. Skin conditions are best diagnosed only after seeing directly. I suggest you to upload photographs of the same on this website, so that I can guide you scientifically.  Hope my answer was helpful for you.  I am happy to help any time. Further clarifications and consultations on Health care magic are welcome. If you do not have any clarifications, you can close the discussion and rate the answer. Wish your kid good health.Dr. Sumanth MBBS., DCH., DNB (Paed).,]   \n",
       "1121  [Hi...Thank you for consulting in Health Care magic. Skin conditions are best diagnosed only after seeing directly. I suggest you to upload photographs of the same on this website, so that I can guide you scientifically.  Hope my answer was helpful for you.  I am happy to help any time. Further clarifications and consultations on Health care magic are welcome. If you do not have any clarifications, you can close the discussion and rate the answer. Wish your kid good health.Dr. Sumanth MBBS., DCH., DNB (Paed).,]   \n",
       "\n",
       "                                                                                                                                                                                                                                                                                                                                                                                                                                                                                                                                                                                                                                                                                                                                                                                                                                                                                                                                                                                                                                                                                                                                                                                                                                                                                                                                                                                                   chatgpt_answers  \n",
       "415         [I'm sorry to hear that your son is experiencing discomfort and skin irritation. Perioral dermatitis is a type of facial rash that can be caused by a variety of factors, including the use of topical steroids, certain skin care products, and certain medications. It is important to work closely with a healthcare provider to determine the most appropriate treatment for your son's specific case.\\n\\nTreatment for perioral dermatitis may include the following:\\n\\nAvoiding the use of topical steroids and certain skin care products, such as facial cleansers and creams that contain ingredients that can irritate the skin.\\n\\nUsing a mild, non-irritating facial cleanser and moisturizer.\\n\\nApplying a topical antibiotic, such as mupirocin, to the affected area as directed by a healthcare provider.\\n\\nTaking an oral antibiotic if a bacterial infection is present or suspected.\\n\\nUsing a mild corticosteroid cream under the supervision of a healthcare provider.\\n\\nIt is important to follow the treatment plan recommended by your son's healthcare provider, as well as to practice good skin care habits, such as washing the face gently with a mild cleanser and using a non-irritating moisturizer. If the condition does not improve with treatment or if it worsens, it is important to contact a healthcare provider for further evaluation and management.]  \n",
       "694                                                                                                                                             [It is not possible for me to accurately diagnose a medical condition without examining the individual and obtaining more information about their symptoms. It is important to consult a healthcare professional if you have concerns about your child's health.\\n\\nThere are many possible causes of bumps on the hip of a child, including infections, allergies, insect bites, and other skin conditions. Some possible causes of bumps on the hip that may be accompanied by redness and swelling include:\\n\\nInsect bites: Bites from insects such as mosquitoes, fleas, or bedbugs can cause bumps on the skin that may be red and swollen.\\n\\nAllergic reactions: Allergic reactions to medications, foods, or other substances can cause hives or other skin bumps.\\n\\nInfections: Bacterial or viral infections, such as impetigo or herpes, can cause bumps on the skin.\\n\\nOther skin conditions: Certain skin conditions, such as eczema or dermatitis, can cause bumps on the skin.\\n\\nAgain, it is important to consult a healthcare professional for a proper diagnosis and treatment plan. They will be able to examine your child and ask about their symptoms in order to determine the cause of the bumps and recommend appropriate treatment.]  \n",
       "1121  [It is generally not a good idea to try to pop pimples, as this can lead to further irritation and potentially cause scarring. It is best to leave pimples alone and allow them to heal on their own.\\n\\nTo help manage your daughter's pimple and prevent new ones from forming, you can try the following:\\n\\nKeep the affected area clean: Wash the area with a gentle, oil-free cleanser twice a day. Avoid scrubbing or picking at the pimple.\\n\\nApply a spot treatment: Look for a spot treatment that contains benzoyl peroxide or salicylic acid. These ingredients can help reduce inflammation and kill bacteria. Follow the instructions on the product label carefully.\\n\\nUse a non-comedogenic moisturizer: Choose a moisturizer that is labeled \"non-comedogenic,\" which means it won't clog pores. Moisturizing the skin can help keep it healthy and prevent new pimples from forming.\\n\\nAvoid certain triggers: Some things can make pimples more likely to form, such as squeezing or picking at the skin, using oil-based skin care products, and not removing makeup before bed. Encourage your daughter to avoid these triggers.\\n\\nIt's also a good idea to have your daughter see a dermatologist or healthcare provider if the pimple persists or if you are concerned about her skin in any way. The dermatologist can evaluate the pimple and recommend appropriate treatment.]  "
      ]
     },
     "execution_count": 11,
     "metadata": {},
     "output_type": "execute_result"
    }
   ],
   "source": [
    "df[df['human_answers'].duplicated(keep=False)]"
   ]
  },
  {
   "cell_type": "markdown",
   "metadata": {},
   "source": [
    "These duplicated values are messages asking a patient to visit the doctor for a direct consultation for their skin issue. Since this is considered a valid human reply, we will keep these values.\n",
    "\n",
    "\n",
    "Also, there are 8 rows (0.64%) of chatgpt answers that are duplicate error messages. These rows will be removed once the dataframe has been processed further (as it will be easier to remove them after the dataframe is converted to strings)\n",
    "\n",
    "Next, we will inspect the dataframe's data types"
   ]
  },
  {
   "cell_type": "code",
   "execution_count": 12,
   "metadata": {},
   "outputs": [
    {
     "data": {
      "text/plain": [
       "question           object\n",
       "human_answers      object\n",
       "chatgpt_answers    object\n",
       "dtype: object"
      ]
     },
     "execution_count": 12,
     "metadata": {},
     "output_type": "execute_result"
    }
   ],
   "source": [
    "# check datatypes\n",
    "df.dtypes"
   ]
  },
  {
   "cell_type": "markdown",
   "metadata": {},
   "source": [
    "The dataframe will be converted to the string datatype."
   ]
  },
  {
   "cell_type": "code",
   "execution_count": 13,
   "metadata": {},
   "outputs": [],
   "source": [
    "#convert to string\n",
    "df = df.astype(str)"
   ]
  },
  {
   "cell_type": "markdown",
   "metadata": {},
   "source": [
    "Next, we will need to strip the trailing/leading square brackets from the answers, and remove any newline characters (\\n)."
   ]
  },
  {
   "cell_type": "code",
   "execution_count": 14,
   "metadata": {},
   "outputs": [],
   "source": [
    "# strip leading/trailing square brackets and quotation marks\n",
    "# remove all newline chars\n",
    "for i in range(len(df)):\n",
    "    human_ans = df.at[i, 'human_answers']\n",
    "    human_ans = human_ans.lstrip('[\\'\\\"')\n",
    "    human_ans = human_ans.rstrip(']\\'\\\"')\n",
    "    human_ans = human_ans.replace('\\\\n', \"\")\n",
    "    df.at[i, 'human_answers'] = human_ans\n",
    "\n",
    "    gpt_ans = df.at[i, 'chatgpt_answers']\n",
    "    gpt_ans = gpt_ans.lstrip('[\\'\\\"')\n",
    "    gpt_ans = gpt_ans.rstrip(']\\'\\\"')\n",
    "    gpt_ans = gpt_ans.replace('\\\\n', \"\")\n",
    "    df.at[i, 'chatgpt_answers'] = gpt_ans"
   ]
  },
  {
   "cell_type": "code",
   "execution_count": 15,
   "metadata": {},
   "outputs": [
    {
     "data": {
      "text/html": [
       "<div>\n",
       "<style scoped>\n",
       "    .dataframe tbody tr th:only-of-type {\n",
       "        vertical-align: middle;\n",
       "    }\n",
       "\n",
       "    .dataframe tbody tr th {\n",
       "        vertical-align: top;\n",
       "    }\n",
       "\n",
       "    .dataframe thead th {\n",
       "        text-align: right;\n",
       "    }\n",
       "</style>\n",
       "<table border=\"1\" class=\"dataframe\">\n",
       "  <thead>\n",
       "    <tr style=\"text-align: right;\">\n",
       "      <th></th>\n",
       "      <th>question</th>\n",
       "      <th>human_answers</th>\n",
       "      <th>chatgpt_answers</th>\n",
       "    </tr>\n",
       "  </thead>\n",
       "  <tbody>\n",
       "    <tr>\n",
       "      <th>count</th>\n",
       "      <td>1245</td>\n",
       "      <td>1245</td>\n",
       "      <td>1245</td>\n",
       "    </tr>\n",
       "    <tr>\n",
       "      <th>unique</th>\n",
       "      <td>1245</td>\n",
       "      <td>1243</td>\n",
       "      <td>1237</td>\n",
       "    </tr>\n",
       "    <tr>\n",
       "      <th>top</th>\n",
       "      <td>Does Primolut N taken during pregnancy affect the baby?Hi doctor..I have taken primoult n tablet twice daily for 5 days to delay my periods in the month of march.I was not aware of the pregnancy at that time but now when I tested in April month it is positive in pregnancy.so my question here is does this tablet effect my baby</td>\n",
       "      <td>Hi...Thank you for consulting in Health Care magic. Skin conditions are best diagnosed only after seeing directly. I suggest you to upload photographs of the same on this website, so that I can guide you scientifically.  Hope my answer was helpful for you.  I am happy to help any time. Further clarifications and consultations on Health care magic are welcome. If you do not have any clarifications, you can close the discussion and rate the answer. Wish your kid good health.Dr. Sumanth MBBS., DCH., DNB (Paed).,</td>\n",
       "      <td>!Too many requests in 1 hour. Try again later.There was an error generating a response</td>\n",
       "    </tr>\n",
       "    <tr>\n",
       "      <th>freq</th>\n",
       "      <td>1</td>\n",
       "      <td>3</td>\n",
       "      <td>9</td>\n",
       "    </tr>\n",
       "  </tbody>\n",
       "</table>\n",
       "</div>"
      ],
      "text/plain": [
       "                                                                                                                                                                                                                                                                                                                                       question  \\\n",
       "count                                                                                                                                                                                                                                                                                                                                      1245   \n",
       "unique                                                                                                                                                                                                                                                                                                                                     1245   \n",
       "top     Does Primolut N taken during pregnancy affect the baby?Hi doctor..I have taken primoult n tablet twice daily for 5 days to delay my periods in the month of march.I was not aware of the pregnancy at that time but now when I tested in April month it is positive in pregnancy.so my question here is does this tablet effect my baby   \n",
       "freq                                                                                                                                                                                                                                                                                                                                          1   \n",
       "\n",
       "                                                                                                                                                                                                                                                                                                                                                                                                                                                                                                                             human_answers  \\\n",
       "count                                                                                                                                                                                                                                                                                                                                                                                                                                                                                                                                 1245   \n",
       "unique                                                                                                                                                                                                                                                                                                                                                                                                                                                                                                                                1243   \n",
       "top     Hi...Thank you for consulting in Health Care magic. Skin conditions are best diagnosed only after seeing directly. I suggest you to upload photographs of the same on this website, so that I can guide you scientifically.  Hope my answer was helpful for you.  I am happy to help any time. Further clarifications and consultations on Health care magic are welcome. If you do not have any clarifications, you can close the discussion and rate the answer. Wish your kid good health.Dr. Sumanth MBBS., DCH., DNB (Paed).,   \n",
       "freq                                                                                                                                                                                                                                                                                                                                                                                                                                                                                                                                     3   \n",
       "\n",
       "                                                                               chatgpt_answers  \n",
       "count                                                                                     1245  \n",
       "unique                                                                                    1237  \n",
       "top     !Too many requests in 1 hour. Try again later.There was an error generating a response  \n",
       "freq                                                                                         9  "
      ]
     },
     "execution_count": 15,
     "metadata": {},
     "output_type": "execute_result"
    }
   ],
   "source": [
    "df.describe(include='all')"
   ]
  },
  {
   "cell_type": "markdown",
   "metadata": {},
   "source": [
    "Now that the dataframe has been converted to strings, we can easily remove the rows containing the chatgpt error messages"
   ]
  },
  {
   "cell_type": "code",
   "execution_count": 16,
   "metadata": {},
   "outputs": [],
   "source": [
    "df = df[df['chatgpt_answers'] != '!Too many requests in 1 hour. Try again later.There was an error generating a response']"
   ]
  },
  {
   "cell_type": "code",
   "execution_count": 17,
   "metadata": {},
   "outputs": [
    {
     "data": {
      "text/html": [
       "<div>\n",
       "<style scoped>\n",
       "    .dataframe tbody tr th:only-of-type {\n",
       "        vertical-align: middle;\n",
       "    }\n",
       "\n",
       "    .dataframe tbody tr th {\n",
       "        vertical-align: top;\n",
       "    }\n",
       "\n",
       "    .dataframe thead th {\n",
       "        text-align: right;\n",
       "    }\n",
       "</style>\n",
       "<table border=\"1\" class=\"dataframe\">\n",
       "  <thead>\n",
       "    <tr style=\"text-align: right;\">\n",
       "      <th></th>\n",
       "      <th>question</th>\n",
       "      <th>human_answers</th>\n",
       "      <th>chatgpt_answers</th>\n",
       "    </tr>\n",
       "  </thead>\n",
       "  <tbody>\n",
       "    <tr>\n",
       "      <th>count</th>\n",
       "      <td>1236</td>\n",
       "      <td>1236</td>\n",
       "      <td>1236</td>\n",
       "    </tr>\n",
       "    <tr>\n",
       "      <th>unique</th>\n",
       "      <td>1236</td>\n",
       "      <td>1234</td>\n",
       "      <td>1236</td>\n",
       "    </tr>\n",
       "    <tr>\n",
       "      <th>top</th>\n",
       "      <td>Does Primolut N taken during pregnancy affect the baby?Hi doctor..I have taken primoult n tablet twice daily for 5 days to delay my periods in the month of march.I was not aware of the pregnancy at that time but now when I tested in April month it is positive in pregnancy.so my question here is does this tablet effect my baby</td>\n",
       "      <td>Hi...Thank you for consulting in Health Care magic. Skin conditions are best diagnosed only after seeing directly. I suggest you to upload photographs of the same on this website, so that I can guide you scientifically.  Hope my answer was helpful for you.  I am happy to help any time. Further clarifications and consultations on Health care magic are welcome. If you do not have any clarifications, you can close the discussion and rate the answer. Wish your kid good health.Dr. Sumanth MBBS., DCH., DNB (Paed).,</td>\n",
       "      <td>It is not recommended to use Primolut N during pregnancy, as it can cause harm to the developing baby. Primolut N is a medication that contains the hormone norethisterone, which is used to regulate the menstrual cycle and treat menstrual disorders. When taken during pregnancy, it can interfere with the normal development of the fetus and increase the risk of birth defects. If you are pregnant and have taken Primolut N, it is important to speak with your healthcare provider as soon as possible. They will be able to advise you on the best course of action and provide any necessary medical care to ensure the health and safety of you and your baby.</td>\n",
       "    </tr>\n",
       "    <tr>\n",
       "      <th>freq</th>\n",
       "      <td>1</td>\n",
       "      <td>3</td>\n",
       "      <td>1</td>\n",
       "    </tr>\n",
       "  </tbody>\n",
       "</table>\n",
       "</div>"
      ],
      "text/plain": [
       "                                                                                                                                                                                                                                                                                                                                       question  \\\n",
       "count                                                                                                                                                                                                                                                                                                                                      1236   \n",
       "unique                                                                                                                                                                                                                                                                                                                                     1236   \n",
       "top     Does Primolut N taken during pregnancy affect the baby?Hi doctor..I have taken primoult n tablet twice daily for 5 days to delay my periods in the month of march.I was not aware of the pregnancy at that time but now when I tested in April month it is positive in pregnancy.so my question here is does this tablet effect my baby   \n",
       "freq                                                                                                                                                                                                                                                                                                                                          1   \n",
       "\n",
       "                                                                                                                                                                                                                                                                                                                                                                                                                                                                                                                             human_answers  \\\n",
       "count                                                                                                                                                                                                                                                                                                                                                                                                                                                                                                                                 1236   \n",
       "unique                                                                                                                                                                                                                                                                                                                                                                                                                                                                                                                                1234   \n",
       "top     Hi...Thank you for consulting in Health Care magic. Skin conditions are best diagnosed only after seeing directly. I suggest you to upload photographs of the same on this website, so that I can guide you scientifically.  Hope my answer was helpful for you.  I am happy to help any time. Further clarifications and consultations on Health care magic are welcome. If you do not have any clarifications, you can close the discussion and rate the answer. Wish your kid good health.Dr. Sumanth MBBS., DCH., DNB (Paed).,   \n",
       "freq                                                                                                                                                                                                                                                                                                                                                                                                                                                                                                                                     3   \n",
       "\n",
       "                                                                                                                                                                                                                                                                                                                                                                                                                                                                                                                                                                                                                                                                     chatgpt_answers  \n",
       "count                                                                                                                                                                                                                                                                                                                                                                                                                                                                                                                                                                                                                                                                           1236  \n",
       "unique                                                                                                                                                                                                                                                                                                                                                                                                                                                                                                                                                                                                                                                                          1236  \n",
       "top     It is not recommended to use Primolut N during pregnancy, as it can cause harm to the developing baby. Primolut N is a medication that contains the hormone norethisterone, which is used to regulate the menstrual cycle and treat menstrual disorders. When taken during pregnancy, it can interfere with the normal development of the fetus and increase the risk of birth defects. If you are pregnant and have taken Primolut N, it is important to speak with your healthcare provider as soon as possible. They will be able to advise you on the best course of action and provide any necessary medical care to ensure the health and safety of you and your baby.  \n",
       "freq                                                                                                                                                                                                                                                                                                                                                                                                                                                                                                                                                                                                                                                                               1  "
      ]
     },
     "execution_count": 17,
     "metadata": {},
     "output_type": "execute_result"
    }
   ],
   "source": [
    "df.describe(include='all')"
   ]
  },
  {
   "cell_type": "markdown",
   "metadata": {},
   "source": [
    "### 1.3 Data Reshape\n",
    "\n",
    "We will also need to reshape the dataframe to seperate human and chatgpt answers into distinct rows.\n",
    "\n",
    "First, we will seperate the dataframe into 2 seperate dataframes, each containing only 1 type of answer.\n",
    "\n",
    "We will also add an additional 'is_human' column to each dataframe, indicating if the answer was generated by a human"
   ]
  },
  {
   "cell_type": "code",
   "execution_count": 20,
   "metadata": {},
   "outputs": [
    {
     "data": {
      "text/html": [
       "<div>\n",
       "<style scoped>\n",
       "    .dataframe tbody tr th:only-of-type {\n",
       "        vertical-align: middle;\n",
       "    }\n",
       "\n",
       "    .dataframe tbody tr th {\n",
       "        vertical-align: top;\n",
       "    }\n",
       "\n",
       "    .dataframe thead th {\n",
       "        text-align: right;\n",
       "    }\n",
       "</style>\n",
       "<table border=\"1\" class=\"dataframe\">\n",
       "  <thead>\n",
       "    <tr style=\"text-align: right;\">\n",
       "      <th></th>\n",
       "      <th>question</th>\n",
       "      <th>answer</th>\n",
       "      <th>is_human</th>\n",
       "    </tr>\n",
       "  </thead>\n",
       "  <tbody>\n",
       "    <tr>\n",
       "      <th>471</th>\n",
       "      <td>Suggest treatment for chest and back pain with chillsI was pulling heavy carts at work yesterday when I felt something pop in my chest and immediately started having chest &amp; back pains. My chest still hurts today but my back is in really bad pain. I ve also been getting chills all day but don t know if that has any connections with my injury.. Is there any convention? And should I go to a doctor?</td>\n",
       "      <td>Hi while pulling heavy cart you have started back and chest pain and back hurts more.In my practice , with this pic I would suspect vertebral injury and  go for an x ray of  affected part to rule out any spinal compression fracture . Pain killers , back support , rest and physiotherapy will help relieve the pain and the rest will depend on x rays. Yes you should consult your doctor if the pain does not go away in few days.</td>\n",
       "      <td>1</td>\n",
       "    </tr>\n",
       "    <tr>\n",
       "      <th>366</th>\n",
       "      <td>How to conceive while being treated for Cystitis and bilateral Poly cystic ovary ?Hi there, I m 24 years old and having bilateral PCOS and Cystitis last month. My OB told me not to have my diet since im only 40kgs at 4 11. My OB advise me to take YAZ for 3 mos. Hope you can help, as I want to get pregnant .</td>\n",
       "      <td>Hello dearFirst you check your all hormones level like LH, FSH, PRL, PROGESTRON, AND AMH with a combination of good diet and exercises also reduce the anxiety levelsRegards</td>\n",
       "      <td>1</td>\n",
       "    </tr>\n",
       "  </tbody>\n",
       "</table>\n",
       "</div>"
      ],
      "text/plain": [
       "                                                                                                                                                                                                                                                                                                                                                                                                            question  \\\n",
       "471  Suggest treatment for chest and back pain with chillsI was pulling heavy carts at work yesterday when I felt something pop in my chest and immediately started having chest & back pains. My chest still hurts today but my back is in really bad pain. I ve also been getting chills all day but don t know if that has any connections with my injury.. Is there any convention? And should I go to a doctor?   \n",
       "366                                                                                             How to conceive while being treated for Cystitis and bilateral Poly cystic ovary ?Hi there, I m 24 years old and having bilateral PCOS and Cystitis last month. My OB told me not to have my diet since im only 40kgs at 4 11. My OB advise me to take YAZ for 3 mos. Hope you can help, as I want to get pregnant .   \n",
       "\n",
       "                                                                                                                                                                                                                                                                                                                                                                                                                                         answer  \\\n",
       "471  Hi while pulling heavy cart you have started back and chest pain and back hurts more.In my practice , with this pic I would suspect vertebral injury and  go for an x ray of  affected part to rule out any spinal compression fracture . Pain killers , back support , rest and physiotherapy will help relieve the pain and the rest will depend on x rays. Yes you should consult your doctor if the pain does not go away in few days.   \n",
       "366                                                                                                                                                                                                                                                                Hello dearFirst you check your all hormones level like LH, FSH, PRL, PROGESTRON, AND AMH with a combination of good diet and exercises also reduce the anxiety levelsRegards   \n",
       "\n",
       "     is_human  \n",
       "471         1  \n",
       "366         1  "
      ]
     },
     "execution_count": 20,
     "metadata": {},
     "output_type": "execute_result"
    }
   ],
   "source": [
    "# retrieve human answers\n",
    "df_human = df[['question', 'human_answers']].copy() #copy the question and human answers\n",
    "df_human['is_human'] = 1 #set a column indicating if the answer is human\n",
    "df_human.rename(columns = {'human_answers':'answer'}, inplace = True) # rename column to answer\n",
    "df_human.sample(2)"
   ]
  },
  {
   "cell_type": "code",
   "execution_count": 21,
   "metadata": {},
   "outputs": [
    {
     "data": {
      "text/html": [
       "<div>\n",
       "<style scoped>\n",
       "    .dataframe tbody tr th:only-of-type {\n",
       "        vertical-align: middle;\n",
       "    }\n",
       "\n",
       "    .dataframe tbody tr th {\n",
       "        vertical-align: top;\n",
       "    }\n",
       "\n",
       "    .dataframe thead th {\n",
       "        text-align: right;\n",
       "    }\n",
       "</style>\n",
       "<table border=\"1\" class=\"dataframe\">\n",
       "  <thead>\n",
       "    <tr style=\"text-align: right;\">\n",
       "      <th></th>\n",
       "      <th>question</th>\n",
       "      <th>answer</th>\n",
       "      <th>is_human</th>\n",
       "    </tr>\n",
       "  </thead>\n",
       "  <tbody>\n",
       "    <tr>\n",
       "      <th>799</th>\n",
       "      <td>Have prostrate elongation problem. Suggested renopho, active, nexiron. Possibility of reducing the medicines?hello sir my father is ailing from one of kidney problem (some prostrate elongation problem) blood urea-65mg/l screatinine 4.1 mg and he has been suggested following medics renopho.s, active(2.25), nexiron, aplazar, lezon(5mg), cudoforte capsule. Could you please help me to reduce my medicines if possible. In any way u could help me i will be very grateful to youRegards</td>\n",
       "      <td>I'm sorry to hear about your father's health condition. It is important to note that the treatment for a kidney problem, including the use of medications, will depend on the specific cause and severity of the condition. The medications that your father has been prescribed are likely intended to address his specific health needs and it is not appropriate for me to recommend changes to his treatment plan without a thorough understanding of his medical history and current health status.It is important that your father follows the treatment plan prescribed by his healthcare provider and takes his medications as directed. If you have concerns about the medications he is taking or the treatment plan in general, it is important to discuss these with his healthcare provider. They will be able to provide you with more information and guidance on your father's specific situation.</td>\n",
       "      <td>0</td>\n",
       "    </tr>\n",
       "    <tr>\n",
       "      <th>350</th>\n",
       "      <td>Abdominal pain, prescribed silbostin and BP tablet. Had pain before and diagnosed fatty lever stage-I and curedSir, i feel my upper aqbdoman pain and go to cunsult with doctor doctor advise me to full abdoman ultrasound and fount fatty lever stage -I and after 6 month medicin i got releaf. and now after feeling realif 4 months feeling pain. again i cunsult with doctor he is giving me silbostin tablet. and my BP is also 96 134 he also giving me BP medicin. kindly guide me.</td>\n",
       "      <td>I'm sorry to hear that you are experiencing abdominal pain and have been prescribed Silbostin and a blood pressure medication. It's important to follow your doctor's advice and take your medications as directed.Fatty liver disease, also known as hepatic steatosis, is a condition in which excess fat accumulates in the liver. It can be caused by a variety of factors, including obesity, high cholesterol, and high blood sugar levels. If left untreated, it can lead to more serious liver problems such as cirrhosis or liver failure.Silbostin is a medication that is used to treat certain types of cancer, such as breast cancer and ovarian cancer. It is not typically used to treat fatty liver disease. If you have been prescribed Silbostin, it is important to follow your doctor's instructions and ask any questions you may have about the medication.It is also important to manage any underlying conditions that may be contributing to your abdominal pain, such as high blood pressure. Be sure to follow your doctor's recommendations for managing your blood pressure, including taking your blood pressure medication as directed and making lifestyle changes such as eating a healthy diet, getting regular exercise, and avoiding tobacco and excessive alcohol consumption.If you continue to experience abdominal pain or have any other concerns, it is important to speak with your doctor. They will be able to provide further guidance and help determine the cause of your symptoms.</td>\n",
       "      <td>0</td>\n",
       "    </tr>\n",
       "  </tbody>\n",
       "</table>\n",
       "</div>"
      ],
      "text/plain": [
       "                                                                                                                                                                                                                                                                                                                                                                                                                                                                                              question  \\\n",
       "799  Have prostrate elongation problem. Suggested renopho, active, nexiron. Possibility of reducing the medicines?hello sir my father is ailing from one of kidney problem (some prostrate elongation problem) blood urea-65mg/l screatinine 4.1 mg and he has been suggested following medics renopho.s, active(2.25), nexiron, aplazar, lezon(5mg), cudoforte capsule. Could you please help me to reduce my medicines if possible. In any way u could help me i will be very grateful to youRegards   \n",
       "350       Abdominal pain, prescribed silbostin and BP tablet. Had pain before and diagnosed fatty lever stage-I and curedSir, i feel my upper aqbdoman pain and go to cunsult with doctor doctor advise me to full abdoman ultrasound and fount fatty lever stage -I and after 6 month medicin i got releaf. and now after feeling realif 4 months feeling pain. again i cunsult with doctor he is giving me silbostin tablet. and my BP is also 96 134 he also giving me BP medicin. kindly guide me.   \n",
       "\n",
       "                                                                                                                                                                                                                                                                                                                                                                                                                                                                                                                                                                                                                                                                                                                                                                                                                                                                                                                                                                                                                                                                                                                                                                                                                                                                                                                                                                                                                                                                                                                                  answer  \\\n",
       "799                                                                                                                                                                                                                                                                                                                                                                                                                                                                                                                                                                                                                   I'm sorry to hear about your father's health condition. It is important to note that the treatment for a kidney problem, including the use of medications, will depend on the specific cause and severity of the condition. The medications that your father has been prescribed are likely intended to address his specific health needs and it is not appropriate for me to recommend changes to his treatment plan without a thorough understanding of his medical history and current health status.It is important that your father follows the treatment plan prescribed by his healthcare provider and takes his medications as directed. If you have concerns about the medications he is taking or the treatment plan in general, it is important to discuss these with his healthcare provider. They will be able to provide you with more information and guidance on your father's specific situation.   \n",
       "350  I'm sorry to hear that you are experiencing abdominal pain and have been prescribed Silbostin and a blood pressure medication. It's important to follow your doctor's advice and take your medications as directed.Fatty liver disease, also known as hepatic steatosis, is a condition in which excess fat accumulates in the liver. It can be caused by a variety of factors, including obesity, high cholesterol, and high blood sugar levels. If left untreated, it can lead to more serious liver problems such as cirrhosis or liver failure.Silbostin is a medication that is used to treat certain types of cancer, such as breast cancer and ovarian cancer. It is not typically used to treat fatty liver disease. If you have been prescribed Silbostin, it is important to follow your doctor's instructions and ask any questions you may have about the medication.It is also important to manage any underlying conditions that may be contributing to your abdominal pain, such as high blood pressure. Be sure to follow your doctor's recommendations for managing your blood pressure, including taking your blood pressure medication as directed and making lifestyle changes such as eating a healthy diet, getting regular exercise, and avoiding tobacco and excessive alcohol consumption.If you continue to experience abdominal pain or have any other concerns, it is important to speak with your doctor. They will be able to provide further guidance and help determine the cause of your symptoms.   \n",
       "\n",
       "     is_human  \n",
       "799         0  \n",
       "350         0  "
      ]
     },
     "execution_count": 21,
     "metadata": {},
     "output_type": "execute_result"
    }
   ],
   "source": [
    "# do the same for chatgpt answers\n",
    "df_gpt = df[['question', 'chatgpt_answers']].copy()\n",
    "df_gpt['is_human'] = 0\n",
    "df_gpt.rename(columns = {'chatgpt_answers':'answer'}, inplace = True)\n",
    "df_gpt.sample(2)"
   ]
  },
  {
   "cell_type": "markdown",
   "metadata": {},
   "source": [
    "Next, both dataframes will be concatenated to join them together into a cleaned dataframe"
   ]
  },
  {
   "cell_type": "code",
   "execution_count": 23,
   "metadata": {},
   "outputs": [
    {
     "data": {
      "text/html": [
       "<div>\n",
       "<style scoped>\n",
       "    .dataframe tbody tr th:only-of-type {\n",
       "        vertical-align: middle;\n",
       "    }\n",
       "\n",
       "    .dataframe tbody tr th {\n",
       "        vertical-align: top;\n",
       "    }\n",
       "\n",
       "    .dataframe thead th {\n",
       "        text-align: right;\n",
       "    }\n",
       "</style>\n",
       "<table border=\"1\" class=\"dataframe\">\n",
       "  <thead>\n",
       "    <tr style=\"text-align: right;\">\n",
       "      <th></th>\n",
       "      <th>question</th>\n",
       "      <th>answer</th>\n",
       "      <th>is_human</th>\n",
       "    </tr>\n",
       "  </thead>\n",
       "  <tbody>\n",
       "    <tr>\n",
       "      <th>567</th>\n",
       "      <td>Suggest remedy for fever,cough and stuffy nosemy seven months old girl have fever and then chill only at night time ,it happen on 2 nights( friday. sat).she look tired and sleepy, still eat but less than usual,cough abit and vomit abit when she cough.stuffy nose. my husband is sick,she get it from him,?????what can help her better</td>\n",
       "      <td>Hello, dont worry.its viral fever , give her syp paracetamol 75 mg , solvin cold  Af drops 10  drops three timse a day, normal saline nasal drops for nasal blockage.it may take 5-7 days to recover</td>\n",
       "      <td>1</td>\n",
       "    </tr>\n",
       "    <tr>\n",
       "      <th>765</th>\n",
       "      <td>Feeling of fear on seeing new person, driving, fan movements. No relief with treatment. Cause and remedy?hi i am S.K.NAG from bhubaneswar,i am always feel affraid to see building,new peson ,whn drive bike,when i sleep at room ,to fan movement, when i going on lift ,when i see showroom.i am suffering this since last 1 year,i am consult doctor but i am not ok til now. plase give me information about the problem what can i do .</td>\n",
       "      <td>It sounds like you are experiencing symptoms of anxiety. Anxiety is a normal response to stress and can be beneficial in some situations, but chronic anxiety can interfere with daily life. There are a number of treatment options available for anxiety, including therapy, medication, and self-care strategies.If your symptoms are severe or if you have trouble functioning because of your anxiety, it's important to seek help from a mental health professional. A therapist or counselor can help you identify the causes of your anxiety and develop coping strategies to manage your symptoms. They can also help you learn relaxation techniques, such as deep breathing, progressive muscle relaxation, or mindfulness, which can be helpful in reducing anxiety.Medication can also be an effective treatment for anxiety. Your doctor or a mental health professional can help you determine if medication is appropriate for you and can prescribe a medication that is right for you.In addition to seeking professional help, there are also several self-care strategies that can be helpful in managing anxiety:Exercise regularly, as it can help reduce stress and improve your moodEat a healthy diet and get enough sleepPractice relaxation techniques, such as deep breathing, meditation, or yogaAvoid caffeine and alcohol, as they can increase anxietyConnect with others and engage in activities that you enjoyLimit your exposure to triggers that cause anxiety, such as certain news programs or social mediaIt's important to be patient and consistent in your treatment, as it can take time to see improvement. It's also important to communicate with your therapist or doctor if your symptoms are not improving, as they may need to adjust your treatment plan.</td>\n",
       "      <td>0</td>\n",
       "    </tr>\n",
       "    <tr>\n",
       "      <th>1227</th>\n",
       "      <td>How can I remove dark spots due to skin cell rupture ?sir , i have some injury on my face , which causes my skin cell rupture perhaps , so dark spot come, how can i remove this????????</td>\n",
       "      <td>hiit depend how deep the scar is?better to consult dermatologist.if not then apply HEXILAK cream over it</td>\n",
       "      <td>1</td>\n",
       "    </tr>\n",
       "  </tbody>\n",
       "</table>\n",
       "</div>"
      ],
      "text/plain": [
       "                                                                                                                                                                                                                                                                                                                                                                                                                                          question  \\\n",
       "567                                                                                                   Suggest remedy for fever,cough and stuffy nosemy seven months old girl have fever and then chill only at night time ,it happen on 2 nights( friday. sat).she look tired and sleepy, still eat but less than usual,cough abit and vomit abit when she cough.stuffy nose. my husband is sick,she get it from him,?????what can help her better   \n",
       "765   Feeling of fear on seeing new person, driving, fan movements. No relief with treatment. Cause and remedy?hi i am S.K.NAG from bhubaneswar,i am always feel affraid to see building,new peson ,whn drive bike,when i sleep at room ,to fan movement, when i going on lift ,when i see showroom.i am suffering this since last 1 year,i am consult doctor but i am not ok til now. plase give me information about the problem what can i do .   \n",
       "1227                                                                                                                                                                                                                                                      How can I remove dark spots due to skin cell rupture ?sir , i have some injury on my face , which causes my skin cell rupture perhaps , so dark spot come, how can i remove this????????   \n",
       "\n",
       "                                                                                                                                                                                                                                                                                                                                                                                                                                                                                                                                                                                                                                                                                                                                                                                                                                                                                                                                                                                                                                                                                                                                                                                                                                                                                                                                                                                                                                                                                                                                                                                                                                                                                                                                                                                                             answer  \\\n",
       "567                                                                                                                                                                                                                                                                                                                                                                                                                                                                                                                                                                                                                                                                                                                                                                                                                                                                                                                                                                                                                                                                                                                                                                                                                                                                                                                                                                                                                                                                                                                                                                                                            Hello, dont worry.its viral fever , give her syp paracetamol 75 mg , solvin cold  Af drops 10  drops three timse a day, normal saline nasal drops for nasal blockage.it may take 5-7 days to recover   \n",
       "765   It sounds like you are experiencing symptoms of anxiety. Anxiety is a normal response to stress and can be beneficial in some situations, but chronic anxiety can interfere with daily life. There are a number of treatment options available for anxiety, including therapy, medication, and self-care strategies.If your symptoms are severe or if you have trouble functioning because of your anxiety, it's important to seek help from a mental health professional. A therapist or counselor can help you identify the causes of your anxiety and develop coping strategies to manage your symptoms. They can also help you learn relaxation techniques, such as deep breathing, progressive muscle relaxation, or mindfulness, which can be helpful in reducing anxiety.Medication can also be an effective treatment for anxiety. Your doctor or a mental health professional can help you determine if medication is appropriate for you and can prescribe a medication that is right for you.In addition to seeking professional help, there are also several self-care strategies that can be helpful in managing anxiety:Exercise regularly, as it can help reduce stress and improve your moodEat a healthy diet and get enough sleepPractice relaxation techniques, such as deep breathing, meditation, or yogaAvoid caffeine and alcohol, as they can increase anxietyConnect with others and engage in activities that you enjoyLimit your exposure to triggers that cause anxiety, such as certain news programs or social mediaIt's important to be patient and consistent in your treatment, as it can take time to see improvement. It's also important to communicate with your therapist or doctor if your symptoms are not improving, as they may need to adjust your treatment plan.   \n",
       "1227                                                                                                                                                                                                                                                                                                                                                                                                                                                                                                                                                                                                                                                                                                                                                                                                                                                                                                                                                                                                                                                                                                                                                                                                                                                                                                                                                                                                                                                                                                                                                                                                                                                                                                       hiit depend how deep the scar is?better to consult dermatologist.if not then apply HEXILAK cream over it   \n",
       "\n",
       "      is_human  \n",
       "567          1  \n",
       "765          0  \n",
       "1227         1  "
      ]
     },
     "execution_count": 23,
     "metadata": {},
     "output_type": "execute_result"
    }
   ],
   "source": [
    "# concat both dataframes\n",
    "df_cleaned = pd.concat([df_human, df_gpt])\n",
    "df_cleaned.sample(3)"
   ]
  },
  {
   "cell_type": "markdown",
   "metadata": {},
   "source": [
    "We will also use the panda's value_counts function to ensure that there is the expected number of each type of answer"
   ]
  },
  {
   "cell_type": "code",
   "execution_count": 25,
   "metadata": {},
   "outputs": [
    {
     "data": {
      "text/plain": [
       "1    1236\n",
       "0    1236\n",
       "Name: is_human, dtype: int64"
      ]
     },
     "execution_count": 25,
     "metadata": {},
     "output_type": "execute_result"
    }
   ],
   "source": [
    "# sum is_human to ensure there is a 50:50 split of answers\n",
    "df_cleaned['is_human'].value_counts()"
   ]
  },
  {
   "cell_type": "markdown",
   "metadata": {},
   "source": [
    "Lastly, we will shuffle the order of the answers"
   ]
  },
  {
   "cell_type": "code",
   "execution_count": 26,
   "metadata": {},
   "outputs": [],
   "source": [
    "# shuffle human and chatgpt generated answers\n",
    "df_cleaned = df_cleaned.sample(frac = 1).reset_index(drop=True)"
   ]
  },
  {
   "cell_type": "code",
   "execution_count": 27,
   "metadata": {},
   "outputs": [
    {
     "data": {
      "text/html": [
       "<div>\n",
       "<style scoped>\n",
       "    .dataframe tbody tr th:only-of-type {\n",
       "        vertical-align: middle;\n",
       "    }\n",
       "\n",
       "    .dataframe tbody tr th {\n",
       "        vertical-align: top;\n",
       "    }\n",
       "\n",
       "    .dataframe thead th {\n",
       "        text-align: right;\n",
       "    }\n",
       "</style>\n",
       "<table border=\"1\" class=\"dataframe\">\n",
       "  <thead>\n",
       "    <tr style=\"text-align: right;\">\n",
       "      <th></th>\n",
       "      <th>question</th>\n",
       "      <th>answer</th>\n",
       "      <th>is_human</th>\n",
       "    </tr>\n",
       "  </thead>\n",
       "  <tbody>\n",
       "    <tr>\n",
       "      <th>540</th>\n",
       "      <td>What are the chances of pregnancy in HBV negative wife &amp; HBV positive husband?I have been TTC from past 1.5 years. The blood test resulted all normal for me and for my husband, it is Hepatitis - B positive. Will this is the cause for not getting conceived (Wife being HBV - negative and Husband being HBV - positive) ? What is the solution if we want to conceive?</td>\n",
       "      <td>It is generally safe for an HBV-negative woman to become pregnant with an HBV-positive man. The risk of transmission of HBV from an HBV-positive man to an HBV-negative woman during pregnancy or childbirth is relatively low, and can be further reduced with proper preventive measures.If you and your husband are planning to conceive and you are HBV-negative, it is recommended that you get vaccinated against HBV before becoming pregnant. This will provide you with immunity to the virus and reduce the risk of transmission to you and your baby.If you are unable to get vaccinated before becoming pregnant, you should discuss the options for preventing transmission of HBV with your healthcare provider. This may include receiving immune globulin and/or antiviral medications during pregnancy.It is also important for your husband to manage his HBV infection by taking his medications as prescribed and practicing safe sex to reduce the risk of transmission to you and any children you may have.If you have been trying to conceive for over a year without success, it is important to consult with a healthcare provider to determine the cause and discuss treatment options. There may be other factors contributing to your difficulty conceiving, such as fertility issues or underlying health conditions. A healthcare provider can help you assess your fertility and discuss options for increasing your chances of conceiving.</td>\n",
       "      <td>0</td>\n",
       "    </tr>\n",
       "    <tr>\n",
       "      <th>1094</th>\n",
       "      <td>Is a painful, dry and cracked wart dangerous?I believe I have a wart on my leg, but it has been there for several years. It has actually gotten bigger and now the top is dried and cracked in half. It did not respond to otc medicine and it has became painful. Could it be something besides a wart?</td>\n",
       "      <td>A wart that is painful and has become dry and cracked can be a sign of a more serious issue. It is possible that the wart has become infected or that it is not a wart at all, but rather a different type of growth. It is important to have any unusual growth on your skin checked by a healthcare professional to determine the cause and appropriate treatment. They will be able to examine the growth and determine if it is a wart or something else, and recommend the appropriate course of treatment. It is not recommended to try to treat the growth at home, as this can potentially make the situation worse or lead to further complications.</td>\n",
       "      <td>0</td>\n",
       "    </tr>\n",
       "    <tr>\n",
       "      <th>1373</th>\n",
       "      <td>Noticed pink mucus during periods is it normal ?Yes I didn't have a period for 4 months and on wasn't having sex at the time I started having sex again in dec and I came on my period dec7-dec 13 then again dec23-27 and now today dec 29 when I go to wipe after voiding on the toilet paper it had lite pink mucus like on it ! Can you explain to me what may be happening should I be worried?</td>\n",
       "      <td>Hi,The possible causes for the spotting are :-According to your menstrual history, there is possibility of hormonal imbalance. Hormonal imbalance can lead to intermenstrual spotting, prolonged spotting after cessation of menstrual flow etc symptoms. - Post coital tear- Local lesions like cervical erosion, polyps etc. If the spotting subsides and if you get your next cycle as expected, no need to worry. If the spotting continues or recurs in next menstrual cycles, better to get evaluated. Go for examination, ultrasound and hormonal profile including estrogen, progesterone, LH and FSH. With this workup the possible cause for your problem can be identified and treated. Take care.</td>\n",
       "      <td>1</td>\n",
       "    </tr>\n",
       "  </tbody>\n",
       "</table>\n",
       "</div>"
      ],
      "text/plain": [
       "                                                                                                                                                                                                                                                                                                                                                                                                  question  \\\n",
       "540                            What are the chances of pregnancy in HBV negative wife & HBV positive husband?I have been TTC from past 1.5 years. The blood test resulted all normal for me and for my husband, it is Hepatitis - B positive. Will this is the cause for not getting conceived (Wife being HBV - negative and Husband being HBV - positive) ? What is the solution if we want to conceive?   \n",
       "1094                                                                                              Is a painful, dry and cracked wart dangerous?I believe I have a wart on my leg, but it has been there for several years. It has actually gotten bigger and now the top is dried and cracked in half. It did not respond to otc medicine and it has became painful. Could it be something besides a wart?   \n",
       "1373  Noticed pink mucus during periods is it normal ?Yes I didn't have a period for 4 months and on wasn't having sex at the time I started having sex again in dec and I came on my period dec7-dec 13 then again dec23-27 and now today dec 29 when I go to wipe after voiding on the toilet paper it had lite pink mucus like on it ! Can you explain to me what may be happening should I be worried?   \n",
       "\n",
       "                                                                                                                                                                                                                                                                                                                                                                                                                                                                                                                                                                                                                                                                                                                                                                                                                                                                                                                                                                                                                                                                                                                                                                                                                                                                                                                                                                                                                                                                           answer  \\\n",
       "540   It is generally safe for an HBV-negative woman to become pregnant with an HBV-positive man. The risk of transmission of HBV from an HBV-positive man to an HBV-negative woman during pregnancy or childbirth is relatively low, and can be further reduced with proper preventive measures.If you and your husband are planning to conceive and you are HBV-negative, it is recommended that you get vaccinated against HBV before becoming pregnant. This will provide you with immunity to the virus and reduce the risk of transmission to you and your baby.If you are unable to get vaccinated before becoming pregnant, you should discuss the options for preventing transmission of HBV with your healthcare provider. This may include receiving immune globulin and/or antiviral medications during pregnancy.It is also important for your husband to manage his HBV infection by taking his medications as prescribed and practicing safe sex to reduce the risk of transmission to you and any children you may have.If you have been trying to conceive for over a year without success, it is important to consult with a healthcare provider to determine the cause and discuss treatment options. There may be other factors contributing to your difficulty conceiving, such as fertility issues or underlying health conditions. A healthcare provider can help you assess your fertility and discuss options for increasing your chances of conceiving.   \n",
       "1094                                                                                                                                                                                                                                                                                                                                                                                                                                                                                                                                                                                                                                                                                                                                                                                                                A wart that is painful and has become dry and cracked can be a sign of a more serious issue. It is possible that the wart has become infected or that it is not a wart at all, but rather a different type of growth. It is important to have any unusual growth on your skin checked by a healthcare professional to determine the cause and appropriate treatment. They will be able to examine the growth and determine if it is a wart or something else, and recommend the appropriate course of treatment. It is not recommended to try to treat the growth at home, as this can potentially make the situation worse or lead to further complications.   \n",
       "1373                                                                                                                                                                                                                                                                                                                                                                                                                                                                                                                                                                                                                                                                                                                                                                Hi,The possible causes for the spotting are :-According to your menstrual history, there is possibility of hormonal imbalance. Hormonal imbalance can lead to intermenstrual spotting, prolonged spotting after cessation of menstrual flow etc symptoms. - Post coital tear- Local lesions like cervical erosion, polyps etc. If the spotting subsides and if you get your next cycle as expected, no need to worry. If the spotting continues or recurs in next menstrual cycles, better to get evaluated. Go for examination, ultrasound and hormonal profile including estrogen, progesterone, LH and FSH. With this workup the possible cause for your problem can be identified and treated. Take care.   \n",
       "\n",
       "      is_human  \n",
       "540          0  \n",
       "1094         0  \n",
       "1373         1  "
      ]
     },
     "execution_count": 27,
     "metadata": {},
     "output_type": "execute_result"
    }
   ],
   "source": [
    "df_cleaned.sample(3)"
   ]
  },
  {
   "cell_type": "markdown",
   "metadata": {},
   "source": [
    "### 1.3 Data Construction\n",
    "\n",
    "We will also create a lemmatised, stopword-less version of each answer for later usage.\n",
    "\n",
    "First, initialise the lemmatiser, and the corpus of stopwords. The corpus used will be NLTK's general English stopword corpus."
   ]
  },
  {
   "cell_type": "code",
   "execution_count": 32,
   "metadata": {},
   "outputs": [],
   "source": [
    "# init lemmatiser and stopwords\n",
    "lemmatizer = WordNetLemmatizer()\n",
    "stopwords = stopwords.words('english')\n",
    "# also create empty column for filtered answer\n",
    "df_cleaned['filtered_answer'] = \"\""
   ]
  },
  {
   "cell_type": "markdown",
   "metadata": {},
   "source": [
    "Next, iterate through each answer, removing the stopwords and lemmatising the answer."
   ]
  },
  {
   "cell_type": "code",
   "execution_count": 33,
   "metadata": {},
   "outputs": [],
   "source": [
    "for i in range(len(df_cleaned)):\n",
    "    answer = df_cleaned.at[i, 'answer']\n",
    "    # tokenise the answer\n",
    "    tokens = word_tokenize(answer)\n",
    "    # remove stopwords\n",
    "    tokens_no_stopwords = [token for token in tokens if token not in stopwords]\n",
    "    # lemmatise answer\n",
    "    lemmatised_tokens = [lemmatizer.lemmatize(token) for token in tokens_no_stopwords]\n",
    "    # store filtered answer in new column\n",
    "    df_cleaned.at[i, 'filtered_answer'] = ' '.join(lemmatised_tokens)"
   ]
  },
  {
   "cell_type": "code",
   "execution_count": 34,
   "metadata": {},
   "outputs": [
    {
     "data": {
      "text/html": [
       "<div>\n",
       "<style scoped>\n",
       "    .dataframe tbody tr th:only-of-type {\n",
       "        vertical-align: middle;\n",
       "    }\n",
       "\n",
       "    .dataframe tbody tr th {\n",
       "        vertical-align: top;\n",
       "    }\n",
       "\n",
       "    .dataframe thead th {\n",
       "        text-align: right;\n",
       "    }\n",
       "</style>\n",
       "<table border=\"1\" class=\"dataframe\">\n",
       "  <thead>\n",
       "    <tr style=\"text-align: right;\">\n",
       "      <th></th>\n",
       "      <th>question</th>\n",
       "      <th>answer</th>\n",
       "      <th>is_human</th>\n",
       "      <th>filtered_answer</th>\n",
       "    </tr>\n",
       "  </thead>\n",
       "  <tbody>\n",
       "    <tr>\n",
       "      <th>231</th>\n",
       "      <td>Any suggestion for having SGPT level of 133?My age is 42 and male. I had a dengue fever 10 days back and my platelet count is 95 K. and serum biluribin is .08-1.00. which is in normal lable. . after that one more count of pletelet which is now 1,90,000.00. but my sgpt is quite high is 133. Pls advise.</td>\n",
       "      <td>Elevated levels of SGPT (serum glutamic-pyruvic transaminase), also known as alanine aminotransferase (ALT), can be a sign of liver damage or disease. It is important to consult with a healthcare professional for proper diagnosis and treatment.There are many potential causes of elevated SGPT, including viral infections such as hepatitis, alcohol abuse, and certain medications. In your case, it is possible that the dengue fever you had may have contributed to the elevation in your SGPT level.It is important to follow the advice of your healthcare provider and to undergo further testing to determine the underlying cause of your elevated SGPT. This may include blood tests, imaging studies, and possibly a liver biopsy. Treatment may involve medications, lifestyle changes, or in some cases, surgery.It is also important to maintain a healthy lifestyle, including eating a well-balanced diet, avoiding alcohol or limiting consumption, and exercising regularly to support liver health.</td>\n",
       "      <td>0</td>\n",
       "      <td>Elevated level SGPT ( serum glutamic-pyruvic transaminase ) , also known alanine aminotransferase ( ALT ) , sign liver damage disease . It important consult healthcare professional proper diagnosis treatment.There many potential cause elevated SGPT , including viral infection hepatitis , alcohol abuse , certain medication . In case , possible dengue fever may contributed elevation SGPT level.It important follow advice healthcare provider undergo testing determine underlying cause elevated SGPT . This may include blood test , imaging study , possibly liver biopsy . Treatment may involve medication , lifestyle change , case , surgery.It also important maintain healthy lifestyle , including eating well-balanced diet , avoiding alcohol limiting consumption , exercising regularly support liver health .</td>\n",
       "    </tr>\n",
       "    <tr>\n",
       "      <th>320</th>\n",
       "      <td>Recurring pain in upper left abdomen, occurs on yawning, coughing, shallow breathing. Causes for symptoms?I have been experiencing recurring pain in my upper left abdomen - this is my 3rd attach in 7 weeks. Usually the pain will be severe for the first 2 - 3 days and then will mainly become troublesome when yawning / coughing / deep breathing. There are times when the pain can be bad it prevents me from breathing properly - mainly shallow breathing . Any suggestions of what this could be?</td>\n",
       "      <td>Hi,Thanks for posting your query.With the available described symptoms and location of pain, there appears to be possibilities of left sided chest pathology, splenic flexure (part of large intestine) obstruction, left kidney stones.You should consult with internal medicine specialist/ general surgeon and should go for thorough check up.You should go for ultrasound imaging and chest x ray on preliminary basis.If necessary then you should also go CT abdomen and colonscopy.mean while, you should take antispasmodics along with NSAIDs.You should take soft diet and do bed rest.take care,Dr. Mayank Bhargava</td>\n",
       "      <td>1</td>\n",
       "      <td>Hi , Thanks posting query.With available described symptom location pain , appears possibility left sided chest pathology , splenic flexure ( part large intestine ) obstruction , left kidney stones.You consult internal medicine specialist/ general surgeon go thorough check up.You go ultrasound imaging chest x ray preliminary basis.If necessary also go CT abdomen colonscopy.mean , take antispasmodic along NSAIDs.You take soft diet bed rest.take care , Dr . Mayank Bhargava</td>\n",
       "    </tr>\n",
       "    <tr>\n",
       "      <th>1335</th>\n",
       "      <td>Upper right abdominal pain radiating to back soon after eating food. Ultrasound normal. Suggestions?i get pain in the upper right abdomen which at time moves to the back...i did ultrasound of abdomen and pelvis ..but everything seems to be normal. doctor has now suggested me to have nor metrogyl tablets for 5 days...the pain is subsided a bit..but not completely. i feel pain soon after eating food. what is the next step to be done by me</td>\n",
       "      <td>welcome to hcm,as u have rt upper abd pain no fever &amp; jaundice &amp; usg abdomen normal then u most likely to have peptic ulcer diasease (gastric ulcer)as pain ancreases after taking meal.u should stop taking mirch/masala/alcohol/ciggarette etc,take tab pantop-d 40mg 1 tab 2 times a day 1/2 hr before meal erverything will be all right.</td>\n",
       "      <td>1</td>\n",
       "      <td>welcome hcm , u rt upper abd pain fever &amp; jaundice &amp; usg abdomen normal u likely peptic ulcer diasease ( gastric ulcer ) pain ancreases taking meal.u stop taking mirch/masala/alcohol/ciggarette etc , take tab pantop-d 40mg 1 tab 2 time day 1/2 hr meal erverything right .</td>\n",
       "    </tr>\n",
       "  </tbody>\n",
       "</table>\n",
       "</div>"
      ],
      "text/plain": [
       "                                                                                                                                                                                                                                                                                                                                                                                                                                                                                                           question  \\\n",
       "231                                                                                                                                                                                                  Any suggestion for having SGPT level of 133?My age is 42 and male. I had a dengue fever 10 days back and my platelet count is 95 K. and serum biluribin is .08-1.00. which is in normal lable. . after that one more count of pletelet which is now 1,90,000.00. but my sgpt is quite high is 133. Pls advise.   \n",
       "320   Recurring pain in upper left abdomen, occurs on yawning, coughing, shallow breathing. Causes for symptoms?I have been experiencing recurring pain in my upper left abdomen - this is my 3rd attach in 7 weeks. Usually the pain will be severe for the first 2 - 3 days and then will mainly become troublesome when yawning / coughing / deep breathing. There are times when the pain can be bad it prevents me from breathing properly - mainly shallow breathing . Any suggestions of what this could be?   \n",
       "1335                                                       Upper right abdominal pain radiating to back soon after eating food. Ultrasound normal. Suggestions?i get pain in the upper right abdomen which at time moves to the back...i did ultrasound of abdomen and pelvis ..but everything seems to be normal. doctor has now suggested me to have nor metrogyl tablets for 5 days...the pain is subsided a bit..but not completely. i feel pain soon after eating food. what is the next step to be done by me   \n",
       "\n",
       "                                                                                                                                                                                                                                                                                                                                                                                                                                                                                                                                                                                                                                                                                                                                                                                                                                                                                                                                                                                                                             answer  \\\n",
       "231   Elevated levels of SGPT (serum glutamic-pyruvic transaminase), also known as alanine aminotransferase (ALT), can be a sign of liver damage or disease. It is important to consult with a healthcare professional for proper diagnosis and treatment.There are many potential causes of elevated SGPT, including viral infections such as hepatitis, alcohol abuse, and certain medications. In your case, it is possible that the dengue fever you had may have contributed to the elevation in your SGPT level.It is important to follow the advice of your healthcare provider and to undergo further testing to determine the underlying cause of your elevated SGPT. This may include blood tests, imaging studies, and possibly a liver biopsy. Treatment may involve medications, lifestyle changes, or in some cases, surgery.It is also important to maintain a healthy lifestyle, including eating a well-balanced diet, avoiding alcohol or limiting consumption, and exercising regularly to support liver health.   \n",
       "320                                                                                                                                                                                                                                                                                                                                                                                                 Hi,Thanks for posting your query.With the available described symptoms and location of pain, there appears to be possibilities of left sided chest pathology, splenic flexure (part of large intestine) obstruction, left kidney stones.You should consult with internal medicine specialist/ general surgeon and should go for thorough check up.You should go for ultrasound imaging and chest x ray on preliminary basis.If necessary then you should also go CT abdomen and colonscopy.mean while, you should take antispasmodics along with NSAIDs.You should take soft diet and do bed rest.take care,Dr. Mayank Bhargava   \n",
       "1335                                                                                                                                                                                                                                                                                                                                                                                                                                                                                                                                                                                                                                                                                  welcome to hcm,as u have rt upper abd pain no fever & jaundice & usg abdomen normal then u most likely to have peptic ulcer diasease (gastric ulcer)as pain ancreases after taking meal.u should stop taking mirch/masala/alcohol/ciggarette etc,take tab pantop-d 40mg 1 tab 2 times a day 1/2 hr before meal erverything will be all right.   \n",
       "\n",
       "      is_human  \\\n",
       "231          0   \n",
       "320          1   \n",
       "1335         1   \n",
       "\n",
       "                                                                                                                                                                                                                                                                                                                                                                                                                                                                                                                                                                                                                                                                                                                                                                                                                               filtered_answer  \n",
       "231   Elevated level SGPT ( serum glutamic-pyruvic transaminase ) , also known alanine aminotransferase ( ALT ) , sign liver damage disease . It important consult healthcare professional proper diagnosis treatment.There many potential cause elevated SGPT , including viral infection hepatitis , alcohol abuse , certain medication . In case , possible dengue fever may contributed elevation SGPT level.It important follow advice healthcare provider undergo testing determine underlying cause elevated SGPT . This may include blood test , imaging study , possibly liver biopsy . Treatment may involve medication , lifestyle change , case , surgery.It also important maintain healthy lifestyle , including eating well-balanced diet , avoiding alcohol limiting consumption , exercising regularly support liver health .  \n",
       "320                                                                                                                                                                                                                                                                                                                                                Hi , Thanks posting query.With available described symptom location pain , appears possibility left sided chest pathology , splenic flexure ( part large intestine ) obstruction , left kidney stones.You consult internal medicine specialist/ general surgeon go thorough check up.You go ultrasound imaging chest x ray preliminary basis.If necessary also go CT abdomen colonscopy.mean , take antispasmodic along NSAIDs.You take soft diet bed rest.take care , Dr . Mayank Bhargava  \n",
       "1335                                                                                                                                                                                                                                                                                                                                                                                                                                                                                                                                                           welcome hcm , u rt upper abd pain fever & jaundice & usg abdomen normal u likely peptic ulcer diasease ( gastric ulcer ) pain ancreases taking meal.u stop taking mirch/masala/alcohol/ciggarette etc , take tab pantop-d 40mg 1 tab 2 time day 1/2 hr meal erverything right .  "
      ]
     },
     "execution_count": 34,
     "metadata": {},
     "output_type": "execute_result"
    }
   ],
   "source": [
    "df_cleaned.sample(3)"
   ]
  },
  {
   "cell_type": "markdown",
   "metadata": {},
   "source": [
    "# 2. Feature Extraction"
   ]
  },
  {
   "cell_type": "markdown",
   "metadata": {},
   "source": [
    "### 2.1 Basic Textual Features\n",
    "\n",
    "First, import additional modules and initialise empty columns for the extracted features."
   ]
  },
  {
   "cell_type": "code",
   "execution_count": 35,
   "metadata": {},
   "outputs": [],
   "source": [
    "from nltk.tokenize import sent_tokenize"
   ]
  },
  {
   "cell_type": "code",
   "execution_count": 36,
   "metadata": {},
   "outputs": [],
   "source": [
    "df_cleaned['word_count'] = 0\n",
    "df_cleaned['sentence_count'] = 0\n",
    "df_cleaned['avg_sentence_len'] = 0"
   ]
  },
  {
   "cell_type": "markdown",
   "metadata": {},
   "source": [
    "Next, iterate through each answer, extracting the word count, sentence count, and average sentence length."
   ]
  },
  {
   "cell_type": "code",
   "execution_count": 38,
   "metadata": {},
   "outputs": [],
   "source": [
    "for i in range(len(df_cleaned)):\n",
    "    answer = df_cleaned.at[i, 'answer']\n",
    "    #tokenise answer into sentences\n",
    "    sentence_count = len(sent_tokenize(answer))\n",
    "    #tokenise answer into words\n",
    "    word_count = len(word_tokenize(answer))\n",
    "    #store sentence/word count\n",
    "    df_cleaned.at[i, 'sentence_count'] = sentence_count\n",
    "    df_cleaned.at[i, 'word_count'] = word_count\n",
    "    #compute and store average sentece length\n",
    "    df_cleaned.at[i, 'avg_sentence_len'] = word_count/sentence_count"
   ]
  },
  {
   "cell_type": "code",
   "execution_count": 40,
   "metadata": {},
   "outputs": [
    {
     "data": {
      "text/html": [
       "<div>\n",
       "<style scoped>\n",
       "    .dataframe tbody tr th:only-of-type {\n",
       "        vertical-align: middle;\n",
       "    }\n",
       "\n",
       "    .dataframe tbody tr th {\n",
       "        vertical-align: top;\n",
       "    }\n",
       "\n",
       "    .dataframe thead th {\n",
       "        text-align: right;\n",
       "    }\n",
       "</style>\n",
       "<table border=\"1\" class=\"dataframe\">\n",
       "  <thead>\n",
       "    <tr style=\"text-align: right;\">\n",
       "      <th></th>\n",
       "      <th>question</th>\n",
       "      <th>answer</th>\n",
       "      <th>is_human</th>\n",
       "      <th>filtered_answer</th>\n",
       "      <th>word_count</th>\n",
       "      <th>sentence_count</th>\n",
       "      <th>avg_sentence_len</th>\n",
       "    </tr>\n",
       "  </thead>\n",
       "  <tbody>\n",
       "    <tr>\n",
       "      <th>543</th>\n",
       "      <td>Painful leg and hand cramps, worse at night. Taking chemotherapy for bowel cancer. Treatment?My mother has been having painful foot leg and hand cramps and they are becoming unbearable. She had chemotherpy last year the final dose being december the cancer was of the bowel and her latest 6 month test says she is in remission, would the chemo be responsible for her symptoms and is there anything she can do to relieve them ? they seem to be worse at night.</td>\n",
       "      <td>Your mother is suffering from CIPN meaning chemotherapy induced peripheral neuropathy.Peripheral neuropathy is disorder of nerves apart from the brain and spinal cord. Patients with peripheral neuropathy may have tingling, numbness, unusual sensations, weakness, or burning pain in the affected area. Oftentimes, the symptoms are symmetrical and involve both hands and feet. Because the symptoms are often present in the areas covered by gloves or stockings, peripheral neuropathy is often described as having a “glove and stocking” distribution of symptoms.Chemotherapeutic drugs cause peripheral neuropathy, including the plant alkaloids (vincristine and vinblastine), taxanes (paclitaxel and docetaxel , platinum-based compounds (cisplatin,carboplatin and oxaliplatin).Your mother has bowel cancer and is most probably using chemotherapy drug oxaliplatin which causes the ocuurence of CIPN is as high as 70 to 90%.CIPN takes time to get reduced.It takes about 6 months to 1 year after completion of chemotherapy to get reduced totally.Your mother can take tablet Lyrica 75 mg twice daily after food for 1 month.It contains pregabalin which will help her to reduce her painful condition.</td>\n",
       "      <td>1</td>\n",
       "      <td>Your mother suffering CIPN meaning chemotherapy induced peripheral neuropathy.Peripheral neuropathy disorder nerve apart brain spinal cord . Patients peripheral neuropathy may tingling , numbness , unusual sensation , weakness , burning pain affected area . Oftentimes , symptom symmetrical involve hand foot . Because symptom often present area covered glove stocking , peripheral neuropathy often described “ glove stocking ” distribution symptoms.Chemotherapeutic drug cause peripheral neuropathy , including plant alkaloid ( vincristine vinblastine ) , taxanes ( paclitaxel docetaxel , platinum-based compound ( cisplatin , carboplatin oxaliplatin ) .Your mother bowel cancer probably using chemotherapy drug oxaliplatin cause ocuurence CIPN high 70 90 % .CIPN take time get reduced.It take 6 month 1 year completion chemotherapy get reduced totally.Your mother take tablet Lyrica 75 mg twice daily food 1 month.It contains pregabalin help reduce painful condition .</td>\n",
       "      <td>195</td>\n",
       "      <td>4</td>\n",
       "      <td>48.750000</td>\n",
       "    </tr>\n",
       "    <tr>\n",
       "      <th>1872</th>\n",
       "      <td>What causes tightness around my chest while eating?hiI recently started having tightness around chest while eating food. Yesterday night I felt so full after my regular dinner and tightness in my chest . Let me know what is wrong. Does consuming hot food make this happen? I have thyroid and is the only medication I take. .25mg capsules.</td>\n",
       "      <td>Thanks for your question on Health Care Magic. I can understand your concern. In my opinion, you are mostly having GERD (gastroesophageal reflux disease). It is due to laxity of gastroesophageal sphincter. Because of this the acid of the stomach tends to come up in the esophagus and cause the symptoms of Central chest pain, fullness, chest pressure etc. So better to follow these steps. 1. Avoid stress and tension. 2. Avoid large meals, instead take frequent small meals. Avoid hot and spicy food. Avoid junk food. 3. Start proton pump inhibitors and prokinetic drugs. 4. Go for walk after meals. 5. Keep 2-3 pillows under head in the bed to prevent reflux. 6. Loose weight if you are obese. 7. Quit smoking and alcohol if you have these habits. Don't worry, you will be alright. Hope I have solved your query. Wish you good health. Thanks.</td>\n",
       "      <td>1</td>\n",
       "      <td>Thanks question Health Care Magic . I understand concern . In opinion , mostly GERD ( gastroesophageal reflux disease ) . It due laxity gastroesophageal sphincter . Because acid stomach tends come esophagus cause symptom Central chest pain , fullness , chest pressure etc . So better follow step . 1 . Avoid stress tension . 2 . Avoid large meal , instead take frequent small meal . Avoid hot spicy food . Avoid junk food . 3 . Start proton pump inhibitor prokinetic drug . 4 . Go walk meal . 5 . Keep 2-3 pillow head bed prevent reflux . 6 . Loose weight obese . 7 . Quit smoking alcohol habit . Do n't worry , alright . Hope I solved query . Wish good health . Thanks .</td>\n",
       "      <td>181</td>\n",
       "      <td>26</td>\n",
       "      <td>6.961538</td>\n",
       "    </tr>\n",
       "  </tbody>\n",
       "</table>\n",
       "</div>"
      ],
      "text/plain": [
       "                                                                                                                                                                                                                                                                                                                                                                                                                                                                        question  \\\n",
       "543   Painful leg and hand cramps, worse at night. Taking chemotherapy for bowel cancer. Treatment?My mother has been having painful foot leg and hand cramps and they are becoming unbearable. She had chemotherpy last year the final dose being december the cancer was of the bowel and her latest 6 month test says she is in remission, would the chemo be responsible for her symptoms and is there anything she can do to relieve them ? they seem to be worse at night.   \n",
       "1872                                                                                                                          What causes tightness around my chest while eating?hiI recently started having tightness around chest while eating food. Yesterday night I felt so full after my regular dinner and tightness in my chest . Let me know what is wrong. Does consuming hot food make this happen? I have thyroid and is the only medication I take. .25mg capsules.   \n",
       "\n",
       "                                                                                                                                                                                                                                                                                                                                                                                                                                                                                                                                                                                                                                                                                                                                                                                                                                                                                                                                                                                                                                                                                                                                                                                                                                     answer  \\\n",
       "543   Your mother is suffering from CIPN meaning chemotherapy induced peripheral neuropathy.Peripheral neuropathy is disorder of nerves apart from the brain and spinal cord. Patients with peripheral neuropathy may have tingling, numbness, unusual sensations, weakness, or burning pain in the affected area. Oftentimes, the symptoms are symmetrical and involve both hands and feet. Because the symptoms are often present in the areas covered by gloves or stockings, peripheral neuropathy is often described as having a “glove and stocking” distribution of symptoms.Chemotherapeutic drugs cause peripheral neuropathy, including the plant alkaloids (vincristine and vinblastine), taxanes (paclitaxel and docetaxel , platinum-based compounds (cisplatin,carboplatin and oxaliplatin).Your mother has bowel cancer and is most probably using chemotherapy drug oxaliplatin which causes the ocuurence of CIPN is as high as 70 to 90%.CIPN takes time to get reduced.It takes about 6 months to 1 year after completion of chemotherapy to get reduced totally.Your mother can take tablet Lyrica 75 mg twice daily after food for 1 month.It contains pregabalin which will help her to reduce her painful condition.   \n",
       "1872                                                                                                                                                                                                                                                                                                                                                            Thanks for your question on Health Care Magic. I can understand your concern. In my opinion, you are mostly having GERD (gastroesophageal reflux disease). It is due to laxity of gastroesophageal sphincter. Because of this the acid of the stomach tends to come up in the esophagus and cause the symptoms of Central chest pain, fullness, chest pressure etc. So better to follow these steps. 1. Avoid stress and tension. 2. Avoid large meals, instead take frequent small meals. Avoid hot and spicy food. Avoid junk food. 3. Start proton pump inhibitors and prokinetic drugs. 4. Go for walk after meals. 5. Keep 2-3 pillows under head in the bed to prevent reflux. 6. Loose weight if you are obese. 7. Quit smoking and alcohol if you have these habits. Don't worry, you will be alright. Hope I have solved your query. Wish you good health. Thanks.   \n",
       "\n",
       "      is_human  \\\n",
       "543          1   \n",
       "1872         1   \n",
       "\n",
       "                                                                                                                                                                                                                                                                                                                                                                                                                                                                                                                                                                                                                                                                                                                                                                                                                                                                                                                                                                                                 filtered_answer  \\\n",
       "543   Your mother suffering CIPN meaning chemotherapy induced peripheral neuropathy.Peripheral neuropathy disorder nerve apart brain spinal cord . Patients peripheral neuropathy may tingling , numbness , unusual sensation , weakness , burning pain affected area . Oftentimes , symptom symmetrical involve hand foot . Because symptom often present area covered glove stocking , peripheral neuropathy often described “ glove stocking ” distribution symptoms.Chemotherapeutic drug cause peripheral neuropathy , including plant alkaloid ( vincristine vinblastine ) , taxanes ( paclitaxel docetaxel , platinum-based compound ( cisplatin , carboplatin oxaliplatin ) .Your mother bowel cancer probably using chemotherapy drug oxaliplatin cause ocuurence CIPN high 70 90 % .CIPN take time get reduced.It take 6 month 1 year completion chemotherapy get reduced totally.Your mother take tablet Lyrica 75 mg twice daily food 1 month.It contains pregabalin help reduce painful condition .   \n",
       "1872                                                                                                                                                                                                                                                                                                             Thanks question Health Care Magic . I understand concern . In opinion , mostly GERD ( gastroesophageal reflux disease ) . It due laxity gastroesophageal sphincter . Because acid stomach tends come esophagus cause symptom Central chest pain , fullness , chest pressure etc . So better follow step . 1 . Avoid stress tension . 2 . Avoid large meal , instead take frequent small meal . Avoid hot spicy food . Avoid junk food . 3 . Start proton pump inhibitor prokinetic drug . 4 . Go walk meal . 5 . Keep 2-3 pillow head bed prevent reflux . 6 . Loose weight obese . 7 . Quit smoking alcohol habit . Do n't worry , alright . Hope I solved query . Wish good health . Thanks .   \n",
       "\n",
       "      word_count  sentence_count  avg_sentence_len  \n",
       "543          195               4         48.750000  \n",
       "1872         181              26          6.961538  "
      ]
     },
     "execution_count": 40,
     "metadata": {},
     "output_type": "execute_result"
    }
   ],
   "source": [
    "df_cleaned.sample(2)"
   ]
  },
  {
   "cell_type": "markdown",
   "metadata": {},
   "source": [
    "### 2.2 Sentiment Analysis\n",
    "\n",
    "First, import additional modules and initialise empty columns for the extracted features."
   ]
  },
  {
   "cell_type": "code",
   "execution_count": 41,
   "metadata": {},
   "outputs": [],
   "source": [
    "from nltk.sentiment import SentimentIntensityAnalyzer\n",
    "from textblob import TextBlob"
   ]
  },
  {
   "cell_type": "code",
   "execution_count": 42,
   "metadata": {},
   "outputs": [],
   "source": [
    "df_cleaned['polarity'] = 0\n",
    "df_cleaned['negativity'] = 0\n",
    "df_cleaned['neutrality'] = 0\n",
    "df_cleaned['subjectivity'] = 0"
   ]
  },
  {
   "cell_type": "markdown",
   "metadata": {},
   "source": [
    "Next, initialise the NLTK VADER sentiment analyser"
   ]
  },
  {
   "cell_type": "code",
   "execution_count": null,
   "metadata": {},
   "outputs": [],
   "source": [
    "analyser = SentimentIntensityAnalyzer()"
   ]
  },
  {
   "cell_type": "markdown",
   "metadata": {},
   "source": [
    "Next, iterate through each filtered answer (lemmatised + stopwords removed), extracting the negativity (NLTK only), neutrality (NLTK only), polarity (both), and subjectivity (TextBlob only) of each answer."
   ]
  },
  {
   "cell_type": "code",
   "execution_count": null,
   "metadata": {},
   "outputs": [],
   "source": [
    "for i in range(len(df_cleaned)):\n",
    "    answer = df_cleaned.at[i, 'filtered_answer']\n",
    "    #analyse filetered answers\n",
    "    nltk_scores = analyser.polarity_scores(answer)\n",
    "    textblob_scores = TextBlob(answer).sentiment\n",
    "\n",
    "    # extract neg and neu using nltk\n",
    "    df_cleaned.at[i, 'negativity'] = nltk_scores['neg']\n",
    "    df_cleaned.at[i, 'neutrality'] = nltk_scores['neu']\n",
    "    # compute polarity using both\n",
    "    df_cleaned.at[i, 'polarity'] = (nltk_scores['compound'] + textblob_scores.polarity)/2\n",
    "    # extract subjectivity using textblob\n",
    "    df_cleaned.at[i, 'subjectivity'] = textblob_scores.subjectivity"
   ]
  },
  {
   "cell_type": "code",
   "execution_count": 44,
   "metadata": {},
   "outputs": [
    {
     "data": {
      "text/html": [
       "<div>\n",
       "<style scoped>\n",
       "    .dataframe tbody tr th:only-of-type {\n",
       "        vertical-align: middle;\n",
       "    }\n",
       "\n",
       "    .dataframe tbody tr th {\n",
       "        vertical-align: top;\n",
       "    }\n",
       "\n",
       "    .dataframe thead th {\n",
       "        text-align: right;\n",
       "    }\n",
       "</style>\n",
       "<table border=\"1\" class=\"dataframe\">\n",
       "  <thead>\n",
       "    <tr style=\"text-align: right;\">\n",
       "      <th></th>\n",
       "      <th>question</th>\n",
       "      <th>answer</th>\n",
       "      <th>is_human</th>\n",
       "      <th>filtered_answer</th>\n",
       "      <th>word_count</th>\n",
       "      <th>sentence_count</th>\n",
       "      <th>avg_sentence_len</th>\n",
       "      <th>polarity</th>\n",
       "      <th>negativity</th>\n",
       "      <th>neutrality</th>\n",
       "      <th>subjectivity</th>\n",
       "    </tr>\n",
       "  </thead>\n",
       "  <tbody>\n",
       "    <tr>\n",
       "      <th>1856</th>\n",
       "      <td>Q. I am experiencing heart flutters and skipped beats. Why?Hi doctor,I am a 24 year old male, who is 5.9 feet tall and weighs 160 lbs. I have been experiencing weird heart flutters and skipped beats. It mostly happens when I am at the gym lifting weight, and taking a deep breath in while doing so. I have always exercised without experiencing such feelings. It is very annoying, and I am quite concerned. Hope you can help.</td>\n",
       "      <td>Hello. Hope this helps you and get back if you have any doubts. For more information consult a cardiologist online --&gt; https://www.icliniq.com/ask-a-doctor-online/cardiologist</td>\n",
       "      <td>1</td>\n",
       "      <td>Hello . Hope help get back doubt . For information consult cardiologist online -- &gt; http : //www.icliniq.com/ask-a-doctor-online/cardiologist</td>\n",
       "      <td>27</td>\n",
       "      <td>3</td>\n",
       "      <td>9.0</td>\n",
       "      <td>0</td>\n",
       "      <td>0</td>\n",
       "      <td>0</td>\n",
       "      <td>0</td>\n",
       "    </tr>\n",
       "    <tr>\n",
       "      <th>1201</th>\n",
       "      <td>Is elevated PSA level symptom of cancer?HI I recently finished a 21 day course of cipro for an elevated psa of 4.46 which was discovered in May. The end result was an increase of my psa to over 5. I might add that I am 66 years old and less than a year ago my count was 2.9. I am to have a biopsy done in one weeks time. Does this signal that I have cancer?</td>\n",
       "      <td>High PSA levels can also be due conditions other than prostate cancer like : prostatitis,  enlarged prostate, etc. Clinical examination and imaging studies like Ultrasound may be advised to pinpoint the cause along with biopsy. Examination of tissue under the microscope is always the definitive diagnosis of prostate cancer.</td>\n",
       "      <td>1</td>\n",
       "      <td>High PSA level also due condition prostate cancer like : prostatitis , enlarged prostate , etc . Clinical examination imaging study like Ultrasound may advised pinpoint cause along biopsy . Examination tissue microscope always definitive diagnosis prostate cancer .</td>\n",
       "      <td>54</td>\n",
       "      <td>3</td>\n",
       "      <td>18.0</td>\n",
       "      <td>0</td>\n",
       "      <td>0</td>\n",
       "      <td>0</td>\n",
       "      <td>0</td>\n",
       "    </tr>\n",
       "  </tbody>\n",
       "</table>\n",
       "</div>"
      ],
      "text/plain": [
       "                                                                                                                                                                                                                                                                                                                                                                                                                                      question  \\\n",
       "1856  Q. I am experiencing heart flutters and skipped beats. Why?Hi doctor,I am a 24 year old male, who is 5.9 feet tall and weighs 160 lbs. I have been experiencing weird heart flutters and skipped beats. It mostly happens when I am at the gym lifting weight, and taking a deep breath in while doing so. I have always exercised without experiencing such feelings. It is very annoying, and I am quite concerned. Hope you can help.   \n",
       "1201                                                                     Is elevated PSA level symptom of cancer?HI I recently finished a 21 day course of cipro for an elevated psa of 4.46 which was discovered in May. The end result was an increase of my psa to over 5. I might add that I am 66 years old and less than a year ago my count was 2.9. I am to have a biopsy done in one weeks time. Does this signal that I have cancer?   \n",
       "\n",
       "                                                                                                                                                                                                                                                                                                                                     answer  \\\n",
       "1856                                                                                                                                                        Hello. Hope this helps you and get back if you have any doubts. For more information consult a cardiologist online --> https://www.icliniq.com/ask-a-doctor-online/cardiologist   \n",
       "1201  High PSA levels can also be due conditions other than prostate cancer like : prostatitis,  enlarged prostate, etc. Clinical examination and imaging studies like Ultrasound may be advised to pinpoint the cause along with biopsy. Examination of tissue under the microscope is always the definitive diagnosis of prostate cancer.   \n",
       "\n",
       "      is_human  \\\n",
       "1856         1   \n",
       "1201         1   \n",
       "\n",
       "                                                                                                                                                                                                                                                                filtered_answer  \\\n",
       "1856                                                                                                                              Hello . Hope help get back doubt . For information consult cardiologist online -- > http : //www.icliniq.com/ask-a-doctor-online/cardiologist   \n",
       "1201  High PSA level also due condition prostate cancer like : prostatitis , enlarged prostate , etc . Clinical examination imaging study like Ultrasound may advised pinpoint cause along biopsy . Examination tissue microscope always definitive diagnosis prostate cancer .   \n",
       "\n",
       "      word_count  sentence_count  avg_sentence_len  polarity  negativity  \\\n",
       "1856          27               3               9.0         0           0   \n",
       "1201          54               3              18.0         0           0   \n",
       "\n",
       "      neutrality  subjectivity  \n",
       "1856           0             0  \n",
       "1201           0             0  "
      ]
     },
     "execution_count": 44,
     "metadata": {},
     "output_type": "execute_result"
    }
   ],
   "source": [
    "df_cleaned.sample(2)"
   ]
  },
  {
   "cell_type": "markdown",
   "metadata": {},
   "source": [
    "# 3. Model Training"
   ]
  },
  {
   "cell_type": "markdown",
   "metadata": {},
   "source": [
    "First, install the scikit-learn package, and import modules."
   ]
  },
  {
   "cell_type": "code",
   "execution_count": 45,
   "metadata": {},
   "outputs": [],
   "source": [
    "#!pip install scikit-learn"
   ]
  },
  {
   "cell_type": "code",
   "execution_count": 46,
   "metadata": {},
   "outputs": [],
   "source": [
    "from sklearn.linear_model import LogisticRegression\n",
    "from sklearn.model_selection import train_test_split\n",
    "from sklearn.preprocessing import StandardScaler"
   ]
  },
  {
   "cell_type": "markdown",
   "metadata": {},
   "source": [
    "Split the dataset into independent variables (x) and the dependent (target) variable (y)"
   ]
  },
  {
   "cell_type": "code",
   "execution_count": 48,
   "metadata": {},
   "outputs": [],
   "source": [
    "# split into target and independent variables\n",
    "x = df_cleaned[['word_count', 'sentence_count', 'avg_sentence_len', 'polarity', 'negativity', 'neutrality', 'subjectivity']] # independent\n",
    "y = df_cleaned['is_human'] # target"
   ]
  },
  {
   "cell_type": "markdown",
   "metadata": {},
   "source": [
    "Additionally, we will also scale the x values using sci-kit's StandardScaler. This scales each x value so that they have the same scale and dimension, which prevents differently-scaled variables from introducting biases into the modelling."
   ]
  },
  {
   "cell_type": "code",
   "execution_count": 49,
   "metadata": {},
   "outputs": [],
   "source": [
    "# init scaler\n",
    "scaler = StandardScaler()\n",
    "x_scaled = scaler.fit_transform(x)"
   ]
  },
  {
   "cell_type": "markdown",
   "metadata": {},
   "source": [
    "Split data into testing (20%) and training (80%) sets using sklearn's train_test_split"
   ]
  },
  {
   "cell_type": "code",
   "execution_count": 50,
   "metadata": {},
   "outputs": [],
   "source": [
    "x_train, x_test, y_train, y_test = train_test_split(x_scaled, y, test_size = 0.2, random_state = 42)"
   ]
  },
  {
   "cell_type": "markdown",
   "metadata": {},
   "source": [
    "Initialise a logistic regression model, and train it on the training set"
   ]
  },
  {
   "cell_type": "code",
   "execution_count": 71,
   "metadata": {},
   "outputs": [
    {
     "data": {
      "text/html": [
       "<style>#sk-container-id-3 {color: black;background-color: white;}#sk-container-id-3 pre{padding: 0;}#sk-container-id-3 div.sk-toggleable {background-color: white;}#sk-container-id-3 label.sk-toggleable__label {cursor: pointer;display: block;width: 100%;margin-bottom: 0;padding: 0.3em;box-sizing: border-box;text-align: center;}#sk-container-id-3 label.sk-toggleable__label-arrow:before {content: \"▸\";float: left;margin-right: 0.25em;color: #696969;}#sk-container-id-3 label.sk-toggleable__label-arrow:hover:before {color: black;}#sk-container-id-3 div.sk-estimator:hover label.sk-toggleable__label-arrow:before {color: black;}#sk-container-id-3 div.sk-toggleable__content {max-height: 0;max-width: 0;overflow: hidden;text-align: left;background-color: #f0f8ff;}#sk-container-id-3 div.sk-toggleable__content pre {margin: 0.2em;color: black;border-radius: 0.25em;background-color: #f0f8ff;}#sk-container-id-3 input.sk-toggleable__control:checked~div.sk-toggleable__content {max-height: 200px;max-width: 100%;overflow: auto;}#sk-container-id-3 input.sk-toggleable__control:checked~label.sk-toggleable__label-arrow:before {content: \"▾\";}#sk-container-id-3 div.sk-estimator input.sk-toggleable__control:checked~label.sk-toggleable__label {background-color: #d4ebff;}#sk-container-id-3 div.sk-label input.sk-toggleable__control:checked~label.sk-toggleable__label {background-color: #d4ebff;}#sk-container-id-3 input.sk-hidden--visually {border: 0;clip: rect(1px 1px 1px 1px);clip: rect(1px, 1px, 1px, 1px);height: 1px;margin: -1px;overflow: hidden;padding: 0;position: absolute;width: 1px;}#sk-container-id-3 div.sk-estimator {font-family: monospace;background-color: #f0f8ff;border: 1px dotted black;border-radius: 0.25em;box-sizing: border-box;margin-bottom: 0.5em;}#sk-container-id-3 div.sk-estimator:hover {background-color: #d4ebff;}#sk-container-id-3 div.sk-parallel-item::after {content: \"\";width: 100%;border-bottom: 1px solid gray;flex-grow: 1;}#sk-container-id-3 div.sk-label:hover label.sk-toggleable__label {background-color: #d4ebff;}#sk-container-id-3 div.sk-serial::before {content: \"\";position: absolute;border-left: 1px solid gray;box-sizing: border-box;top: 0;bottom: 0;left: 50%;z-index: 0;}#sk-container-id-3 div.sk-serial {display: flex;flex-direction: column;align-items: center;background-color: white;padding-right: 0.2em;padding-left: 0.2em;position: relative;}#sk-container-id-3 div.sk-item {position: relative;z-index: 1;}#sk-container-id-3 div.sk-parallel {display: flex;align-items: stretch;justify-content: center;background-color: white;position: relative;}#sk-container-id-3 div.sk-item::before, #sk-container-id-3 div.sk-parallel-item::before {content: \"\";position: absolute;border-left: 1px solid gray;box-sizing: border-box;top: 0;bottom: 0;left: 50%;z-index: -1;}#sk-container-id-3 div.sk-parallel-item {display: flex;flex-direction: column;z-index: 1;position: relative;background-color: white;}#sk-container-id-3 div.sk-parallel-item:first-child::after {align-self: flex-end;width: 50%;}#sk-container-id-3 div.sk-parallel-item:last-child::after {align-self: flex-start;width: 50%;}#sk-container-id-3 div.sk-parallel-item:only-child::after {width: 0;}#sk-container-id-3 div.sk-dashed-wrapped {border: 1px dashed gray;margin: 0 0.4em 0.5em 0.4em;box-sizing: border-box;padding-bottom: 0.4em;background-color: white;}#sk-container-id-3 div.sk-label label {font-family: monospace;font-weight: bold;display: inline-block;line-height: 1.2em;}#sk-container-id-3 div.sk-label-container {text-align: center;}#sk-container-id-3 div.sk-container {/* jupyter's `normalize.less` sets `[hidden] { display: none; }` but bootstrap.min.css set `[hidden] { display: none !important; }` so we also need the `!important` here to be able to override the default hidden behavior on the sphinx rendered scikit-learn.org. See: https://github.com/scikit-learn/scikit-learn/issues/21755 */display: inline-block !important;position: relative;}#sk-container-id-3 div.sk-text-repr-fallback {display: none;}</style><div id=\"sk-container-id-3\" class=\"sk-top-container\"><div class=\"sk-text-repr-fallback\"><pre>LogisticRegression(max_iter=10000)</pre><b>In a Jupyter environment, please rerun this cell to show the HTML representation or trust the notebook. <br />On GitHub, the HTML representation is unable to render, please try loading this page with nbviewer.org.</b></div><div class=\"sk-container\" hidden><div class=\"sk-item\"><div class=\"sk-estimator sk-toggleable\"><input class=\"sk-toggleable__control sk-hidden--visually\" id=\"sk-estimator-id-3\" type=\"checkbox\" checked><label for=\"sk-estimator-id-3\" class=\"sk-toggleable__label sk-toggleable__label-arrow\">LogisticRegression</label><div class=\"sk-toggleable__content\"><pre>LogisticRegression(max_iter=10000)</pre></div></div></div></div></div>"
      ],
      "text/plain": [
       "LogisticRegression(max_iter=10000)"
      ]
     },
     "execution_count": 71,
     "metadata": {},
     "output_type": "execute_result"
    }
   ],
   "source": [
    "LR = LogisticRegression(max_iter=10000)\n",
    "LR.fit(x_train, y_train)"
   ]
  },
  {
   "cell_type": "markdown",
   "metadata": {},
   "source": [
    "Use the logistic regression model to predict the target (y) values. \n",
    "\n",
    "Also, we will generate the model's predicted probability of each class prediction"
   ]
  },
  {
   "cell_type": "code",
   "execution_count": 92,
   "metadata": {},
   "outputs": [],
   "source": [
    "# generate prediction\n",
    "y_prediction = LR.predict(x_test)\n",
    "\n",
    "#generate probabilities\n",
    "y_prob = LR.predict_proba(x_test)\n",
    "# keep only the probability of the positive class\n",
    "y_prob = y_prob[:, 1]"
   ]
  },
  {
   "cell_type": "markdown",
   "metadata": {},
   "source": [
    "# 4. Evaluation"
   ]
  },
  {
   "cell_type": "markdown",
   "metadata": {},
   "source": [
    "First, install the matplotlib and numpy packages, and import modules"
   ]
  },
  {
   "cell_type": "code",
   "execution_count": null,
   "metadata": {},
   "outputs": [],
   "source": [
    "# !pip install matplotlib\n",
    "# !pip install numpy"
   ]
  },
  {
   "cell_type": "code",
   "execution_count": 85,
   "metadata": {},
   "outputs": [],
   "source": [
    "from sklearn.metrics import accuracy_score, confusion_matrix, ConfusionMatrixDisplay, roc_curve, roc_auc_score\n",
    "import matplotlib.pyplot as plt\n",
    "import numpy as np"
   ]
  },
  {
   "cell_type": "markdown",
   "metadata": {},
   "source": [
    "### 4.1 False Positive Rate, True Positive Rate, and Equal Error Rate\n",
    "\n",
    "First, we will plot the model's confusion matrix"
   ]
  },
  {
   "cell_type": "code",
   "execution_count": 89,
   "metadata": {},
   "outputs": [
    {
     "data": {
      "image/png": "[encoded data removed]",
      "text/plain": [
       "<Figure size 640x480 with 2 Axes>"
      ]
     },
     "metadata": {},
     "output_type": "display_data"
    }
   ],
   "source": [
    "#create confusion matrix\n",
    "con_matrix = confusion_matrix(y_test, y_prediction)\n",
    "# create confusion matrix display\n",
    "cm_display = ConfusionMatrixDisplay(con_matrix, display_labels=['gpt', 'human'])\n",
    "#plot and show confusion matrix\n",
    "cm_display.plot()\n",
    "plt.show()"
   ]
  },
  {
   "cell_type": "markdown",
   "metadata": {},
   "source": [
    "Next, we will use the values in the confusion matrix to calculate the model's False Positive Rate (FPR) and True Positive Rate (TPR)"
   ]
  },
  {
   "cell_type": "code",
   "execution_count": 90,
   "metadata": {},
   "outputs": [
    {
     "name": "stdout",
     "output_type": "stream",
     "text": [
      "FPR is 9.350%\n",
      "TPR is 94.779%\n"
     ]
    }
   ],
   "source": [
    "# compute FPR and TPR (recall)\n",
    "false_pos_rate = con_matrix[0][1] / (con_matrix[0][0] + con_matrix[0][1])\n",
    "true_pos_rate = con_matrix[1][1] / (con_matrix[1][0] + con_matrix[1][1])\n",
    "\n",
    "print(f'FPR is ' + format(false_pos_rate * 100, '.3f') + '%')\n",
    "print(f'TPR is ' + format(true_pos_rate * 100, '.3f') + '%')"
   ]
  },
  {
   "cell_type": "markdown",
   "metadata": {},
   "source": [
    "Lastly, we will compute the model's Equal Error Rate, using the method proposed in James S. [2017]"
   ]
  },
  {
   "cell_type": "code",
   "execution_count": 94,
   "metadata": {},
   "outputs": [
    {
     "name": "stdout",
     "output_type": "stream",
     "text": [
      "EER is 7.317%\n"
     ]
    }
   ],
   "source": [
    "# generate roc curve, and fpr, tpr lists and the threshold\n",
    "fpr, tpr, threshold = roc_curve(y_test, y_prob, pos_label = 1)\n",
    "# compute false negative rate\n",
    "fnr = 1 - tpr\n",
    "# find the threshold where the EER occurs\n",
    "eer_threshold = threshold[np.nanargmin(np.absolute((fnr - fpr)))]\n",
    "#find EER\n",
    "eer = fpr[np.nanargmin(np.absolute((fnr - fpr)))]\n",
    "\n",
    "print(f'EER is ' + format(eer * 100, '.3f') + '%')"
   ]
  },
  {
   "cell_type": "markdown",
   "metadata": {},
   "source": [
    "### 4.2 Accuracy and ROC Score\n",
    "\n",
    "Use scikit-learn's built-in functions to find the model's accuracy and AUROC score"
   ]
  },
  {
   "cell_type": "code",
   "execution_count": 87,
   "metadata": {},
   "outputs": [],
   "source": [
    "accuracy = accuracy_score(y_test,y_prediction)\n",
    "roc_score = roc_auc_score(y_test,y_prediction)"
   ]
  },
  {
   "cell_type": "code",
   "execution_count": 88,
   "metadata": {},
   "outputs": [
    {
     "name": "stdout",
     "output_type": "stream",
     "text": [
      "Accuracy is 92.727%\n",
      "AUROC score is 92.715%\n"
     ]
    }
   ],
   "source": [
    "print(f'Accuracy is ' + format(accuracy * 100, '.3f') + '%')\n",
    "print(f'AUROC score is ' + format(roc_score * 100, '.3f') + '%')"
   ]
  },
  {
   "cell_type": "markdown",
   "metadata": {},
   "source": [
    "# 5. References\n",
    "\n",
    "[1] James S. 2017. Answer to “Equal Error Rate in Python.” Stack Overflow. Retrieved June 7, 2023 from https://stackoverflow.com/a/46026962\n"
   ]
  }
 ],
 "metadata": {
  "kernelspec": {
   "display_name": "Python 3 (ipykernel)",
   "language": "python",
   "name": "python3"
  },
  "language_info": {
   "codemirror_mode": {
    "name": "ipython",
    "version": 3
   },
   "file_extension": ".py",
   "mimetype": "text/x-python",
   "name": "python",
   "nbconvert_exporter": "python",
   "pygments_lexer": "ipython3",
   "version": "3.9.7"
  },
  "vscode": {
   "interpreter": {
    "hash": "58546d513022ad8b39bd2c836bc8ffe0e78a94e66309983db95f056cbc01252b"
   }
  }
 },
 "nbformat": 4,
 "nbformat_minor": 2
}
